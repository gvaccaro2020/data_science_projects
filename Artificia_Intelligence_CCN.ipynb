{
  "nbformat": 4,
  "nbformat_minor": 0,
  "metadata": {
    "colab": {
      "name": "Final_Assignment.ipynb",
      "provenance": [],
      "collapsed_sections": [],
      "authorship_tag": "ABX9TyM6HRX7yEneWvWYm1IjPV5x",
      "include_colab_link": true
    },
    "kernelspec": {
      "name": "python3",
      "display_name": "Python 3"
    },
    "accelerator": "GPU",
    "widgets": {
      "application/vnd.jupyter.widget-state+json": {
        "8c980e5203324c93b2224b14337a92b7": {
          "model_module": "@jupyter-widgets/controls",
          "model_name": "HBoxModel",
          "state": {
            "_view_name": "HBoxView",
            "_dom_classes": [],
            "_model_name": "HBoxModel",
            "_view_module": "@jupyter-widgets/controls",
            "_model_module_version": "1.5.0",
            "_view_count": null,
            "_view_module_version": "1.5.0",
            "box_style": "",
            "layout": "IPY_MODEL_140d26bdf7704c118b4db205e3070227",
            "_model_module": "@jupyter-widgets/controls",
            "children": [
              "IPY_MODEL_1c34804b5aa945548723c4fd70120c7b",
              "IPY_MODEL_d3e98bf9f11148ee9caf554b75d743c9"
            ]
          }
        },
        "140d26bdf7704c118b4db205e3070227": {
          "model_module": "@jupyter-widgets/base",
          "model_name": "LayoutModel",
          "state": {
            "_view_name": "LayoutView",
            "grid_template_rows": null,
            "right": null,
            "justify_content": null,
            "_view_module": "@jupyter-widgets/base",
            "overflow": null,
            "_model_module_version": "1.2.0",
            "_view_count": null,
            "flex_flow": null,
            "width": null,
            "min_width": null,
            "border": null,
            "align_items": null,
            "bottom": null,
            "_model_module": "@jupyter-widgets/base",
            "top": null,
            "grid_column": null,
            "overflow_y": null,
            "overflow_x": null,
            "grid_auto_flow": null,
            "grid_area": null,
            "grid_template_columns": null,
            "flex": null,
            "_model_name": "LayoutModel",
            "justify_items": null,
            "grid_row": null,
            "max_height": null,
            "align_content": null,
            "visibility": null,
            "align_self": null,
            "height": null,
            "min_height": null,
            "padding": null,
            "grid_auto_rows": null,
            "grid_gap": null,
            "max_width": null,
            "order": null,
            "_view_module_version": "1.2.0",
            "grid_template_areas": null,
            "object_position": null,
            "object_fit": null,
            "grid_auto_columns": null,
            "margin": null,
            "display": null,
            "left": null
          }
        },
        "1c34804b5aa945548723c4fd70120c7b": {
          "model_module": "@jupyter-widgets/controls",
          "model_name": "FloatProgressModel",
          "state": {
            "_view_name": "ProgressView",
            "style": "IPY_MODEL_3cae946b292b47db90f8e204a6c9f17e",
            "_dom_classes": [],
            "description": "",
            "_model_name": "FloatProgressModel",
            "bar_style": "success",
            "max": 1,
            "_view_module": "@jupyter-widgets/controls",
            "_model_module_version": "1.5.0",
            "value": 1,
            "_view_count": null,
            "_view_module_version": "1.5.0",
            "orientation": "horizontal",
            "min": 0,
            "description_tooltip": null,
            "_model_module": "@jupyter-widgets/controls",
            "layout": "IPY_MODEL_bd7830b8e0844f8bbe9f6d4e6d848035"
          }
        },
        "d3e98bf9f11148ee9caf554b75d743c9": {
          "model_module": "@jupyter-widgets/controls",
          "model_name": "HTMLModel",
          "state": {
            "_view_name": "HTMLView",
            "style": "IPY_MODEL_1f1ece6ae5ca4c949defd795a44a4647",
            "_dom_classes": [],
            "description": "",
            "_model_name": "HTMLModel",
            "placeholder": "​",
            "_view_module": "@jupyter-widgets/controls",
            "_model_module_version": "1.5.0",
            "value": " 26427392/? [00:05&lt;00:00, 5191477.87it/s]",
            "_view_count": null,
            "_view_module_version": "1.5.0",
            "description_tooltip": null,
            "_model_module": "@jupyter-widgets/controls",
            "layout": "IPY_MODEL_a2d04471a35d4a6da69e1bcb477b76c8"
          }
        },
        "3cae946b292b47db90f8e204a6c9f17e": {
          "model_module": "@jupyter-widgets/controls",
          "model_name": "ProgressStyleModel",
          "state": {
            "_view_name": "StyleView",
            "_model_name": "ProgressStyleModel",
            "description_width": "initial",
            "_view_module": "@jupyter-widgets/base",
            "_model_module_version": "1.5.0",
            "_view_count": null,
            "_view_module_version": "1.2.0",
            "bar_color": null,
            "_model_module": "@jupyter-widgets/controls"
          }
        },
        "bd7830b8e0844f8bbe9f6d4e6d848035": {
          "model_module": "@jupyter-widgets/base",
          "model_name": "LayoutModel",
          "state": {
            "_view_name": "LayoutView",
            "grid_template_rows": null,
            "right": null,
            "justify_content": null,
            "_view_module": "@jupyter-widgets/base",
            "overflow": null,
            "_model_module_version": "1.2.0",
            "_view_count": null,
            "flex_flow": null,
            "width": null,
            "min_width": null,
            "border": null,
            "align_items": null,
            "bottom": null,
            "_model_module": "@jupyter-widgets/base",
            "top": null,
            "grid_column": null,
            "overflow_y": null,
            "overflow_x": null,
            "grid_auto_flow": null,
            "grid_area": null,
            "grid_template_columns": null,
            "flex": null,
            "_model_name": "LayoutModel",
            "justify_items": null,
            "grid_row": null,
            "max_height": null,
            "align_content": null,
            "visibility": null,
            "align_self": null,
            "height": null,
            "min_height": null,
            "padding": null,
            "grid_auto_rows": null,
            "grid_gap": null,
            "max_width": null,
            "order": null,
            "_view_module_version": "1.2.0",
            "grid_template_areas": null,
            "object_position": null,
            "object_fit": null,
            "grid_auto_columns": null,
            "margin": null,
            "display": null,
            "left": null
          }
        },
        "1f1ece6ae5ca4c949defd795a44a4647": {
          "model_module": "@jupyter-widgets/controls",
          "model_name": "DescriptionStyleModel",
          "state": {
            "_view_name": "StyleView",
            "_model_name": "DescriptionStyleModel",
            "description_width": "",
            "_view_module": "@jupyter-widgets/base",
            "_model_module_version": "1.5.0",
            "_view_count": null,
            "_view_module_version": "1.2.0",
            "_model_module": "@jupyter-widgets/controls"
          }
        },
        "a2d04471a35d4a6da69e1bcb477b76c8": {
          "model_module": "@jupyter-widgets/base",
          "model_name": "LayoutModel",
          "state": {
            "_view_name": "LayoutView",
            "grid_template_rows": null,
            "right": null,
            "justify_content": null,
            "_view_module": "@jupyter-widgets/base",
            "overflow": null,
            "_model_module_version": "1.2.0",
            "_view_count": null,
            "flex_flow": null,
            "width": null,
            "min_width": null,
            "border": null,
            "align_items": null,
            "bottom": null,
            "_model_module": "@jupyter-widgets/base",
            "top": null,
            "grid_column": null,
            "overflow_y": null,
            "overflow_x": null,
            "grid_auto_flow": null,
            "grid_area": null,
            "grid_template_columns": null,
            "flex": null,
            "_model_name": "LayoutModel",
            "justify_items": null,
            "grid_row": null,
            "max_height": null,
            "align_content": null,
            "visibility": null,
            "align_self": null,
            "height": null,
            "min_height": null,
            "padding": null,
            "grid_auto_rows": null,
            "grid_gap": null,
            "max_width": null,
            "order": null,
            "_view_module_version": "1.2.0",
            "grid_template_areas": null,
            "object_position": null,
            "object_fit": null,
            "grid_auto_columns": null,
            "margin": null,
            "display": null,
            "left": null
          }
        },
        "a6e0a8ca275048fd909fd2f14b39921a": {
          "model_module": "@jupyter-widgets/controls",
          "model_name": "HBoxModel",
          "state": {
            "_view_name": "HBoxView",
            "_dom_classes": [],
            "_model_name": "HBoxModel",
            "_view_module": "@jupyter-widgets/controls",
            "_model_module_version": "1.5.0",
            "_view_count": null,
            "_view_module_version": "1.5.0",
            "box_style": "",
            "layout": "IPY_MODEL_344acb96aa0844aaac545dc1a2534a9c",
            "_model_module": "@jupyter-widgets/controls",
            "children": [
              "IPY_MODEL_4306c2f5a71c4e2eb8bf49b8d8dc7eff",
              "IPY_MODEL_6a47c57e54234bef8b56f500b596c351"
            ]
          }
        },
        "344acb96aa0844aaac545dc1a2534a9c": {
          "model_module": "@jupyter-widgets/base",
          "model_name": "LayoutModel",
          "state": {
            "_view_name": "LayoutView",
            "grid_template_rows": null,
            "right": null,
            "justify_content": null,
            "_view_module": "@jupyter-widgets/base",
            "overflow": null,
            "_model_module_version": "1.2.0",
            "_view_count": null,
            "flex_flow": null,
            "width": null,
            "min_width": null,
            "border": null,
            "align_items": null,
            "bottom": null,
            "_model_module": "@jupyter-widgets/base",
            "top": null,
            "grid_column": null,
            "overflow_y": null,
            "overflow_x": null,
            "grid_auto_flow": null,
            "grid_area": null,
            "grid_template_columns": null,
            "flex": null,
            "_model_name": "LayoutModel",
            "justify_items": null,
            "grid_row": null,
            "max_height": null,
            "align_content": null,
            "visibility": null,
            "align_self": null,
            "height": null,
            "min_height": null,
            "padding": null,
            "grid_auto_rows": null,
            "grid_gap": null,
            "max_width": null,
            "order": null,
            "_view_module_version": "1.2.0",
            "grid_template_areas": null,
            "object_position": null,
            "object_fit": null,
            "grid_auto_columns": null,
            "margin": null,
            "display": null,
            "left": null
          }
        },
        "4306c2f5a71c4e2eb8bf49b8d8dc7eff": {
          "model_module": "@jupyter-widgets/controls",
          "model_name": "FloatProgressModel",
          "state": {
            "_view_name": "ProgressView",
            "style": "IPY_MODEL_d75eaf0a939f4d9a90c64e693ed33498",
            "_dom_classes": [],
            "description": "",
            "_model_name": "FloatProgressModel",
            "bar_style": "success",
            "max": 1,
            "_view_module": "@jupyter-widgets/controls",
            "_model_module_version": "1.5.0",
            "value": 1,
            "_view_count": null,
            "_view_module_version": "1.5.0",
            "orientation": "horizontal",
            "min": 0,
            "description_tooltip": null,
            "_model_module": "@jupyter-widgets/controls",
            "layout": "IPY_MODEL_5962e69a50f54e9db2a005f4e55a7690"
          }
        },
        "6a47c57e54234bef8b56f500b596c351": {
          "model_module": "@jupyter-widgets/controls",
          "model_name": "HTMLModel",
          "state": {
            "_view_name": "HTMLView",
            "style": "IPY_MODEL_89ec49a3e24c4a9eac0c57d7e7a821ae",
            "_dom_classes": [],
            "description": "",
            "_model_name": "HTMLModel",
            "placeholder": "​",
            "_view_module": "@jupyter-widgets/controls",
            "_model_module_version": "1.5.0",
            "value": " 32768/? [00:04&lt;00:00, 7242.35it/s]",
            "_view_count": null,
            "_view_module_version": "1.5.0",
            "description_tooltip": null,
            "_model_module": "@jupyter-widgets/controls",
            "layout": "IPY_MODEL_de3f1c20bba74481a0cbe9ff98364d48"
          }
        },
        "d75eaf0a939f4d9a90c64e693ed33498": {
          "model_module": "@jupyter-widgets/controls",
          "model_name": "ProgressStyleModel",
          "state": {
            "_view_name": "StyleView",
            "_model_name": "ProgressStyleModel",
            "description_width": "initial",
            "_view_module": "@jupyter-widgets/base",
            "_model_module_version": "1.5.0",
            "_view_count": null,
            "_view_module_version": "1.2.0",
            "bar_color": null,
            "_model_module": "@jupyter-widgets/controls"
          }
        },
        "5962e69a50f54e9db2a005f4e55a7690": {
          "model_module": "@jupyter-widgets/base",
          "model_name": "LayoutModel",
          "state": {
            "_view_name": "LayoutView",
            "grid_template_rows": null,
            "right": null,
            "justify_content": null,
            "_view_module": "@jupyter-widgets/base",
            "overflow": null,
            "_model_module_version": "1.2.0",
            "_view_count": null,
            "flex_flow": null,
            "width": null,
            "min_width": null,
            "border": null,
            "align_items": null,
            "bottom": null,
            "_model_module": "@jupyter-widgets/base",
            "top": null,
            "grid_column": null,
            "overflow_y": null,
            "overflow_x": null,
            "grid_auto_flow": null,
            "grid_area": null,
            "grid_template_columns": null,
            "flex": null,
            "_model_name": "LayoutModel",
            "justify_items": null,
            "grid_row": null,
            "max_height": null,
            "align_content": null,
            "visibility": null,
            "align_self": null,
            "height": null,
            "min_height": null,
            "padding": null,
            "grid_auto_rows": null,
            "grid_gap": null,
            "max_width": null,
            "order": null,
            "_view_module_version": "1.2.0",
            "grid_template_areas": null,
            "object_position": null,
            "object_fit": null,
            "grid_auto_columns": null,
            "margin": null,
            "display": null,
            "left": null
          }
        },
        "89ec49a3e24c4a9eac0c57d7e7a821ae": {
          "model_module": "@jupyter-widgets/controls",
          "model_name": "DescriptionStyleModel",
          "state": {
            "_view_name": "StyleView",
            "_model_name": "DescriptionStyleModel",
            "description_width": "",
            "_view_module": "@jupyter-widgets/base",
            "_model_module_version": "1.5.0",
            "_view_count": null,
            "_view_module_version": "1.2.0",
            "_model_module": "@jupyter-widgets/controls"
          }
        },
        "de3f1c20bba74481a0cbe9ff98364d48": {
          "model_module": "@jupyter-widgets/base",
          "model_name": "LayoutModel",
          "state": {
            "_view_name": "LayoutView",
            "grid_template_rows": null,
            "right": null,
            "justify_content": null,
            "_view_module": "@jupyter-widgets/base",
            "overflow": null,
            "_model_module_version": "1.2.0",
            "_view_count": null,
            "flex_flow": null,
            "width": null,
            "min_width": null,
            "border": null,
            "align_items": null,
            "bottom": null,
            "_model_module": "@jupyter-widgets/base",
            "top": null,
            "grid_column": null,
            "overflow_y": null,
            "overflow_x": null,
            "grid_auto_flow": null,
            "grid_area": null,
            "grid_template_columns": null,
            "flex": null,
            "_model_name": "LayoutModel",
            "justify_items": null,
            "grid_row": null,
            "max_height": null,
            "align_content": null,
            "visibility": null,
            "align_self": null,
            "height": null,
            "min_height": null,
            "padding": null,
            "grid_auto_rows": null,
            "grid_gap": null,
            "max_width": null,
            "order": null,
            "_view_module_version": "1.2.0",
            "grid_template_areas": null,
            "object_position": null,
            "object_fit": null,
            "grid_auto_columns": null,
            "margin": null,
            "display": null,
            "left": null
          }
        },
        "775a5ba3940d444f8ff4d05ed8bb67c3": {
          "model_module": "@jupyter-widgets/controls",
          "model_name": "HBoxModel",
          "state": {
            "_view_name": "HBoxView",
            "_dom_classes": [],
            "_model_name": "HBoxModel",
            "_view_module": "@jupyter-widgets/controls",
            "_model_module_version": "1.5.0",
            "_view_count": null,
            "_view_module_version": "1.5.0",
            "box_style": "",
            "layout": "IPY_MODEL_5e10f6cd4c104f5f83f9a5710966f82a",
            "_model_module": "@jupyter-widgets/controls",
            "children": [
              "IPY_MODEL_db2a044c9c634df7a035bbd321b3f29c",
              "IPY_MODEL_aab9dea836644f5ab4a8aa95d03b4435"
            ]
          }
        },
        "5e10f6cd4c104f5f83f9a5710966f82a": {
          "model_module": "@jupyter-widgets/base",
          "model_name": "LayoutModel",
          "state": {
            "_view_name": "LayoutView",
            "grid_template_rows": null,
            "right": null,
            "justify_content": null,
            "_view_module": "@jupyter-widgets/base",
            "overflow": null,
            "_model_module_version": "1.2.0",
            "_view_count": null,
            "flex_flow": null,
            "width": null,
            "min_width": null,
            "border": null,
            "align_items": null,
            "bottom": null,
            "_model_module": "@jupyter-widgets/base",
            "top": null,
            "grid_column": null,
            "overflow_y": null,
            "overflow_x": null,
            "grid_auto_flow": null,
            "grid_area": null,
            "grid_template_columns": null,
            "flex": null,
            "_model_name": "LayoutModel",
            "justify_items": null,
            "grid_row": null,
            "max_height": null,
            "align_content": null,
            "visibility": null,
            "align_self": null,
            "height": null,
            "min_height": null,
            "padding": null,
            "grid_auto_rows": null,
            "grid_gap": null,
            "max_width": null,
            "order": null,
            "_view_module_version": "1.2.0",
            "grid_template_areas": null,
            "object_position": null,
            "object_fit": null,
            "grid_auto_columns": null,
            "margin": null,
            "display": null,
            "left": null
          }
        },
        "db2a044c9c634df7a035bbd321b3f29c": {
          "model_module": "@jupyter-widgets/controls",
          "model_name": "FloatProgressModel",
          "state": {
            "_view_name": "ProgressView",
            "style": "IPY_MODEL_39cb78bd3e054ff1a0bbe2ad38c8509e",
            "_dom_classes": [],
            "description": "",
            "_model_name": "FloatProgressModel",
            "bar_style": "success",
            "max": 1,
            "_view_module": "@jupyter-widgets/controls",
            "_model_module_version": "1.5.0",
            "value": 1,
            "_view_count": null,
            "_view_module_version": "1.5.0",
            "orientation": "horizontal",
            "min": 0,
            "description_tooltip": null,
            "_model_module": "@jupyter-widgets/controls",
            "layout": "IPY_MODEL_3d2d0024e082473d9f290f217a49a2bb"
          }
        },
        "aab9dea836644f5ab4a8aa95d03b4435": {
          "model_module": "@jupyter-widgets/controls",
          "model_name": "HTMLModel",
          "state": {
            "_view_name": "HTMLView",
            "style": "IPY_MODEL_62ea0d812eb94b9ca0ac00326b52522f",
            "_dom_classes": [],
            "description": "",
            "_model_name": "HTMLModel",
            "placeholder": "​",
            "_view_module": "@jupyter-widgets/controls",
            "_model_module_version": "1.5.0",
            "value": " 4423680/? [00:03&lt;00:00, 1226094.09it/s]",
            "_view_count": null,
            "_view_module_version": "1.5.0",
            "description_tooltip": null,
            "_model_module": "@jupyter-widgets/controls",
            "layout": "IPY_MODEL_f617b2386f5c40c18d11f8bac521eef5"
          }
        },
        "39cb78bd3e054ff1a0bbe2ad38c8509e": {
          "model_module": "@jupyter-widgets/controls",
          "model_name": "ProgressStyleModel",
          "state": {
            "_view_name": "StyleView",
            "_model_name": "ProgressStyleModel",
            "description_width": "initial",
            "_view_module": "@jupyter-widgets/base",
            "_model_module_version": "1.5.0",
            "_view_count": null,
            "_view_module_version": "1.2.0",
            "bar_color": null,
            "_model_module": "@jupyter-widgets/controls"
          }
        },
        "3d2d0024e082473d9f290f217a49a2bb": {
          "model_module": "@jupyter-widgets/base",
          "model_name": "LayoutModel",
          "state": {
            "_view_name": "LayoutView",
            "grid_template_rows": null,
            "right": null,
            "justify_content": null,
            "_view_module": "@jupyter-widgets/base",
            "overflow": null,
            "_model_module_version": "1.2.0",
            "_view_count": null,
            "flex_flow": null,
            "width": null,
            "min_width": null,
            "border": null,
            "align_items": null,
            "bottom": null,
            "_model_module": "@jupyter-widgets/base",
            "top": null,
            "grid_column": null,
            "overflow_y": null,
            "overflow_x": null,
            "grid_auto_flow": null,
            "grid_area": null,
            "grid_template_columns": null,
            "flex": null,
            "_model_name": "LayoutModel",
            "justify_items": null,
            "grid_row": null,
            "max_height": null,
            "align_content": null,
            "visibility": null,
            "align_self": null,
            "height": null,
            "min_height": null,
            "padding": null,
            "grid_auto_rows": null,
            "grid_gap": null,
            "max_width": null,
            "order": null,
            "_view_module_version": "1.2.0",
            "grid_template_areas": null,
            "object_position": null,
            "object_fit": null,
            "grid_auto_columns": null,
            "margin": null,
            "display": null,
            "left": null
          }
        },
        "62ea0d812eb94b9ca0ac00326b52522f": {
          "model_module": "@jupyter-widgets/controls",
          "model_name": "DescriptionStyleModel",
          "state": {
            "_view_name": "StyleView",
            "_model_name": "DescriptionStyleModel",
            "description_width": "",
            "_view_module": "@jupyter-widgets/base",
            "_model_module_version": "1.5.0",
            "_view_count": null,
            "_view_module_version": "1.2.0",
            "_model_module": "@jupyter-widgets/controls"
          }
        },
        "f617b2386f5c40c18d11f8bac521eef5": {
          "model_module": "@jupyter-widgets/base",
          "model_name": "LayoutModel",
          "state": {
            "_view_name": "LayoutView",
            "grid_template_rows": null,
            "right": null,
            "justify_content": null,
            "_view_module": "@jupyter-widgets/base",
            "overflow": null,
            "_model_module_version": "1.2.0",
            "_view_count": null,
            "flex_flow": null,
            "width": null,
            "min_width": null,
            "border": null,
            "align_items": null,
            "bottom": null,
            "_model_module": "@jupyter-widgets/base",
            "top": null,
            "grid_column": null,
            "overflow_y": null,
            "overflow_x": null,
            "grid_auto_flow": null,
            "grid_area": null,
            "grid_template_columns": null,
            "flex": null,
            "_model_name": "LayoutModel",
            "justify_items": null,
            "grid_row": null,
            "max_height": null,
            "align_content": null,
            "visibility": null,
            "align_self": null,
            "height": null,
            "min_height": null,
            "padding": null,
            "grid_auto_rows": null,
            "grid_gap": null,
            "max_width": null,
            "order": null,
            "_view_module_version": "1.2.0",
            "grid_template_areas": null,
            "object_position": null,
            "object_fit": null,
            "grid_auto_columns": null,
            "margin": null,
            "display": null,
            "left": null
          }
        },
        "efff86b231c74ca0ac1b0c67bf4b736c": {
          "model_module": "@jupyter-widgets/controls",
          "model_name": "HBoxModel",
          "state": {
            "_view_name": "HBoxView",
            "_dom_classes": [],
            "_model_name": "HBoxModel",
            "_view_module": "@jupyter-widgets/controls",
            "_model_module_version": "1.5.0",
            "_view_count": null,
            "_view_module_version": "1.5.0",
            "box_style": "",
            "layout": "IPY_MODEL_6d56e0f3d2b54961ae470df7c49665df",
            "_model_module": "@jupyter-widgets/controls",
            "children": [
              "IPY_MODEL_71e3d8849f7c41989b45e84572678d49",
              "IPY_MODEL_ca7a9cce600d43099ac8b6397c6e06fa"
            ]
          }
        },
        "6d56e0f3d2b54961ae470df7c49665df": {
          "model_module": "@jupyter-widgets/base",
          "model_name": "LayoutModel",
          "state": {
            "_view_name": "LayoutView",
            "grid_template_rows": null,
            "right": null,
            "justify_content": null,
            "_view_module": "@jupyter-widgets/base",
            "overflow": null,
            "_model_module_version": "1.2.0",
            "_view_count": null,
            "flex_flow": null,
            "width": null,
            "min_width": null,
            "border": null,
            "align_items": null,
            "bottom": null,
            "_model_module": "@jupyter-widgets/base",
            "top": null,
            "grid_column": null,
            "overflow_y": null,
            "overflow_x": null,
            "grid_auto_flow": null,
            "grid_area": null,
            "grid_template_columns": null,
            "flex": null,
            "_model_name": "LayoutModel",
            "justify_items": null,
            "grid_row": null,
            "max_height": null,
            "align_content": null,
            "visibility": null,
            "align_self": null,
            "height": null,
            "min_height": null,
            "padding": null,
            "grid_auto_rows": null,
            "grid_gap": null,
            "max_width": null,
            "order": null,
            "_view_module_version": "1.2.0",
            "grid_template_areas": null,
            "object_position": null,
            "object_fit": null,
            "grid_auto_columns": null,
            "margin": null,
            "display": null,
            "left": null
          }
        },
        "71e3d8849f7c41989b45e84572678d49": {
          "model_module": "@jupyter-widgets/controls",
          "model_name": "FloatProgressModel",
          "state": {
            "_view_name": "ProgressView",
            "style": "IPY_MODEL_d41d80d537874eeeb5ee2407af2d7e38",
            "_dom_classes": [],
            "description": "",
            "_model_name": "FloatProgressModel",
            "bar_style": "success",
            "max": 1,
            "_view_module": "@jupyter-widgets/controls",
            "_model_module_version": "1.5.0",
            "value": 1,
            "_view_count": null,
            "_view_module_version": "1.5.0",
            "orientation": "horizontal",
            "min": 0,
            "description_tooltip": null,
            "_model_module": "@jupyter-widgets/controls",
            "layout": "IPY_MODEL_f6802e85b0804d188912a73e63b3c53a"
          }
        },
        "ca7a9cce600d43099ac8b6397c6e06fa": {
          "model_module": "@jupyter-widgets/controls",
          "model_name": "HTMLModel",
          "state": {
            "_view_name": "HTMLView",
            "style": "IPY_MODEL_1536d135d93c43aeae24ba29aa54bc54",
            "_dom_classes": [],
            "description": "",
            "_model_name": "HTMLModel",
            "placeholder": "​",
            "_view_module": "@jupyter-widgets/controls",
            "_model_module_version": "1.5.0",
            "value": " 8192/? [00:00&lt;00:00, 9764.58it/s]",
            "_view_count": null,
            "_view_module_version": "1.5.0",
            "description_tooltip": null,
            "_model_module": "@jupyter-widgets/controls",
            "layout": "IPY_MODEL_a3a81f22a8e948d99f0aaa70b0d99d3d"
          }
        },
        "d41d80d537874eeeb5ee2407af2d7e38": {
          "model_module": "@jupyter-widgets/controls",
          "model_name": "ProgressStyleModel",
          "state": {
            "_view_name": "StyleView",
            "_model_name": "ProgressStyleModel",
            "description_width": "initial",
            "_view_module": "@jupyter-widgets/base",
            "_model_module_version": "1.5.0",
            "_view_count": null,
            "_view_module_version": "1.2.0",
            "bar_color": null,
            "_model_module": "@jupyter-widgets/controls"
          }
        },
        "f6802e85b0804d188912a73e63b3c53a": {
          "model_module": "@jupyter-widgets/base",
          "model_name": "LayoutModel",
          "state": {
            "_view_name": "LayoutView",
            "grid_template_rows": null,
            "right": null,
            "justify_content": null,
            "_view_module": "@jupyter-widgets/base",
            "overflow": null,
            "_model_module_version": "1.2.0",
            "_view_count": null,
            "flex_flow": null,
            "width": null,
            "min_width": null,
            "border": null,
            "align_items": null,
            "bottom": null,
            "_model_module": "@jupyter-widgets/base",
            "top": null,
            "grid_column": null,
            "overflow_y": null,
            "overflow_x": null,
            "grid_auto_flow": null,
            "grid_area": null,
            "grid_template_columns": null,
            "flex": null,
            "_model_name": "LayoutModel",
            "justify_items": null,
            "grid_row": null,
            "max_height": null,
            "align_content": null,
            "visibility": null,
            "align_self": null,
            "height": null,
            "min_height": null,
            "padding": null,
            "grid_auto_rows": null,
            "grid_gap": null,
            "max_width": null,
            "order": null,
            "_view_module_version": "1.2.0",
            "grid_template_areas": null,
            "object_position": null,
            "object_fit": null,
            "grid_auto_columns": null,
            "margin": null,
            "display": null,
            "left": null
          }
        },
        "1536d135d93c43aeae24ba29aa54bc54": {
          "model_module": "@jupyter-widgets/controls",
          "model_name": "DescriptionStyleModel",
          "state": {
            "_view_name": "StyleView",
            "_model_name": "DescriptionStyleModel",
            "description_width": "",
            "_view_module": "@jupyter-widgets/base",
            "_model_module_version": "1.5.0",
            "_view_count": null,
            "_view_module_version": "1.2.0",
            "_model_module": "@jupyter-widgets/controls"
          }
        },
        "a3a81f22a8e948d99f0aaa70b0d99d3d": {
          "model_module": "@jupyter-widgets/base",
          "model_name": "LayoutModel",
          "state": {
            "_view_name": "LayoutView",
            "grid_template_rows": null,
            "right": null,
            "justify_content": null,
            "_view_module": "@jupyter-widgets/base",
            "overflow": null,
            "_model_module_version": "1.2.0",
            "_view_count": null,
            "flex_flow": null,
            "width": null,
            "min_width": null,
            "border": null,
            "align_items": null,
            "bottom": null,
            "_model_module": "@jupyter-widgets/base",
            "top": null,
            "grid_column": null,
            "overflow_y": null,
            "overflow_x": null,
            "grid_auto_flow": null,
            "grid_area": null,
            "grid_template_columns": null,
            "flex": null,
            "_model_name": "LayoutModel",
            "justify_items": null,
            "grid_row": null,
            "max_height": null,
            "align_content": null,
            "visibility": null,
            "align_self": null,
            "height": null,
            "min_height": null,
            "padding": null,
            "grid_auto_rows": null,
            "grid_gap": null,
            "max_width": null,
            "order": null,
            "_view_module_version": "1.2.0",
            "grid_template_areas": null,
            "object_position": null,
            "object_fit": null,
            "grid_auto_columns": null,
            "margin": null,
            "display": null,
            "left": null
          }
        }
      }
    }
  },
  "cells": [
    {
      "cell_type": "markdown",
      "metadata": {
        "id": "view-in-github",
        "colab_type": "text"
      },
      "source": [
        "<a href=\"https://colab.research.google.com/github/gvaccaro2020/data_science_projects/blob/master/Artificia_Intelligence_CCN.ipynb\" target=\"_parent\"><img src=\"https://colab.research.google.com/assets/colab-badge.svg\" alt=\"Open In Colab\"/></a>"
      ]
    },
    {
      "cell_type": "markdown",
      "metadata": {
        "id": "rp-vWtbXta_v",
        "colab_type": "text"
      },
      "source": [
        "![BTS](https://github.com/vfp1/bts-mbds-data-science-foundations-2019/raw/master/sessions/img/Logo-BTS.jpg)\n",
        "\n",
        "# Artificial Intelligence: final project\n",
        "# Implementation of a various Network achitectures using the Fashion MNIST dataset\n",
        "### Giuseppe Vaccaro \n"
      ]
    },
    {
      "cell_type": "markdown",
      "metadata": {
        "id": "Du2KhxIlOGsN",
        "colab_type": "text"
      },
      "source": [
        ""
      ]
    },
    {
      "cell_type": "code",
      "metadata": {
        "id": "5bUzDORgtZbo",
        "colab_type": "code",
        "colab": {}
      },
      "source": [
        "import numpy as np\n",
        "import pandas as pd\n",
        "import matplotlib.pyplot as plt\n",
        "\n",
        "import torch\n",
        "import torch.nn as nn\n",
        "from torch.autograd import Variable\n",
        "\n",
        "import torchvision\n",
        "import torchvision.transforms as transforms\n",
        "from tqdm import tqdm_notebook as tqdm\n",
        "import torch.optim as optim\n",
        "\n",
        "import torchvision\n",
        "import torchvision.transforms as transforms\n",
        "from torch.utils.data import Dataset, DataLoader\n",
        "from sklearn.metrics import confusion_matrix\n",
        "import time"
      ],
      "execution_count": 0,
      "outputs": []
    },
    {
      "cell_type": "markdown",
      "metadata": {
        "id": "nUiPcyb2OAda",
        "colab_type": "text"
      },
      "source": [
        "### The Fashion MNIST dataset is available in torchvision, and contains a total of 70000 fashion images\n",
        "\n",
        "### Before loading the dataset in the notebook and transformig images into Tensor using Transform.Tensor, a function is going to be implemented in order to split the daset into train and  validation "
      ]
    },
    {
      "cell_type": "code",
      "metadata": {
        "id": "lcnxPF--ttCv",
        "colab_type": "code",
        "colab": {}
      },
      "source": [
        "device = torch.device(\"cuda\")"
      ],
      "execution_count": 0,
      "outputs": []
    },
    {
      "cell_type": "code",
      "metadata": {
        "id": "oQ7p2mYWtb6A",
        "colab_type": "code",
        "colab": {}
      },
      "source": [
        "import logging\n",
        "from functools import lru_cache\n",
        "\n",
        "import torch\n",
        "from torch.utils.data import DataLoader\n",
        "from torch.utils.data import Dataset\n",
        "from torch.utils.data.sampler import SubsetRandomSampler\n",
        "\n",
        "import numpy as np\n",
        "\n",
        "class DataSplit:\n",
        "\n",
        "    def __init__(self, dataset, test_train_split=1, val_train_split=0.2, shuffle=False):\n",
        "        self.dataset = dataset\n",
        "\n",
        "        #check the dimension of the image in the dataset\n",
        "\n",
        "        print('Dimension of the images')\n",
        "        print(self.dataset[0][0].shape)\n",
        "        print(\" \")\n",
        "        \n",
        "        #check the number of classes in the dataset\n",
        "\n",
        "        print('The dataset contains', (len(self.dataset.classes)),'','classes')\n",
        "        print(\" \")\n",
        "\n",
        "        dataset_size = len(dataset)\n",
        "        self.indices = list(range(dataset_size))\n",
        "        test_split = int(np.floor(test_train_split * dataset_size))\n",
        "\n",
        "        if shuffle:\n",
        "            np.random.shuffle(self.indices)\n",
        "\n",
        "        train_indices, self.test_indices = self.indices[:test_split], self.indices[test_split:]\n",
        "        train_size = len(train_indices)\n",
        "        validation_split = int(np.floor((1 - val_train_split) * train_size))\n",
        "\n",
        "        self.train_indices, self.val_indices = train_indices[ : validation_split], train_indices[validation_split:]\n",
        "\n",
        "        self.train_sampler = SubsetRandomSampler(self.train_indices)\n",
        "        self.val_sampler = SubsetRandomSampler(self.val_indices)\n",
        "        self.test_sampler = SubsetRandomSampler(self.test_indices)\n",
        "\n",
        "        print('length of Train set is', len(self.train_indices))\n",
        "        print('length of Validation set is', len(self.val_indices))\n",
        "\n",
        "        #display 20 random images from the dataset\n",
        "\n",
        "        random_images=torch.LongTensor(20).random_(0, len(dataset))\n",
        "        plt.figure(figsize=(10,10))\n",
        "        for num in range(len(random_images)):\n",
        "          img, _ = dataset[random_images[num]]\n",
        "          plt.subplot(4, 5, num+1)\n",
        "          plt.imshow(img.numpy()[0])\n",
        "        plt.tight_layout()\n",
        "        plt.show\n",
        "\n",
        "    def get_train_split_point(self):\n",
        "        return len(self.train_sampler) + len(self.val_indices)\n",
        "\n",
        "    def get_validation_split_point(self):\n",
        "        return len(self.train_sampler)\n",
        "\n",
        "    def return_lenghts_datasets(self):\n",
        "        return len(self.train_indices), len(self.val_indices)\n",
        "\n",
        "    @lru_cache(maxsize=4)\n",
        "    def get_split(self, batch_size=50, num_workers=4):\n",
        "        logging.debug('Initializing train-validation-test dataloaders')\n",
        "        self.train_loader = self.get_train_loader(batch_size=batch_size, num_workers=num_workers)\n",
        "        self.val_loader = self.get_validation_loader(batch_size=batch_size, num_workers=num_workers)\n",
        "        self.test_loader = self.get_test_loader(batch_size=batch_size, num_workers=num_workers)\n",
        "        return self.train_loader, self.val_loader, self.test_loader\n",
        "\n",
        "    @lru_cache(maxsize=4)\n",
        "    def get_train_loader(self, batch_size=50, num_workers=4):\n",
        "        logging.debug('Initializing train dataloader')\n",
        "        self.train_loader = torch.utils.data.DataLoader(self.dataset, batch_size=batch_size, sampler=self.train_sampler, shuffle=False, num_workers=num_workers)\n",
        "        return self.train_loader\n",
        "\n",
        "    @lru_cache(maxsize=4)\n",
        "    def get_validation_loader(self, batch_size=50, num_workers=4):\n",
        "        logging.debug('Initializing validation dataloader')\n",
        "        self.val_loader = torch.utils.data.DataLoader(self.dataset, batch_size=batch_size, sampler=self.val_sampler, shuffle=False, num_workers=num_workers)\n",
        "        return self.val_loader\n",
        "\n",
        "    @lru_cache(maxsize=4)\n",
        "    def get_test_loader(self, batch_size=50, num_workers=4):\n",
        "        logging.debug('Initializing test dataloader')\n",
        "        self.test_loader = torch.utils.data.DataLoader(self.dataset, batch_size=batch_size, sampler=self.test_sampler, shuffle=False, num_workers=num_workers)\n",
        "        return self.test_loader\n"
      ],
      "execution_count": 0,
      "outputs": []
    },
    {
      "cell_type": "code",
      "metadata": {
        "id": "wEOz180NuzK4",
        "colab_type": "code",
        "outputId": "cd43bc8a-e260-443e-8df6-1b5b9fb50cbc",
        "colab": {
          "base_uri": "https://localhost:8080/",
          "height": 369,
          "referenced_widgets": [
            "8c980e5203324c93b2224b14337a92b7",
            "140d26bdf7704c118b4db205e3070227",
            "1c34804b5aa945548723c4fd70120c7b",
            "d3e98bf9f11148ee9caf554b75d743c9",
            "3cae946b292b47db90f8e204a6c9f17e",
            "bd7830b8e0844f8bbe9f6d4e6d848035",
            "1f1ece6ae5ca4c949defd795a44a4647",
            "a2d04471a35d4a6da69e1bcb477b76c8",
            "a6e0a8ca275048fd909fd2f14b39921a",
            "344acb96aa0844aaac545dc1a2534a9c",
            "4306c2f5a71c4e2eb8bf49b8d8dc7eff",
            "6a47c57e54234bef8b56f500b596c351",
            "d75eaf0a939f4d9a90c64e693ed33498",
            "5962e69a50f54e9db2a005f4e55a7690",
            "89ec49a3e24c4a9eac0c57d7e7a821ae",
            "de3f1c20bba74481a0cbe9ff98364d48",
            "775a5ba3940d444f8ff4d05ed8bb67c3",
            "5e10f6cd4c104f5f83f9a5710966f82a",
            "db2a044c9c634df7a035bbd321b3f29c",
            "aab9dea836644f5ab4a8aa95d03b4435",
            "39cb78bd3e054ff1a0bbe2ad38c8509e",
            "3d2d0024e082473d9f290f217a49a2bb",
            "62ea0d812eb94b9ca0ac00326b52522f",
            "f617b2386f5c40c18d11f8bac521eef5",
            "efff86b231c74ca0ac1b0c67bf4b736c",
            "6d56e0f3d2b54961ae470df7c49665df",
            "71e3d8849f7c41989b45e84572678d49",
            "ca7a9cce600d43099ac8b6397c6e06fa",
            "d41d80d537874eeeb5ee2407af2d7e38",
            "f6802e85b0804d188912a73e63b3c53a",
            "1536d135d93c43aeae24ba29aa54bc54",
            "a3a81f22a8e948d99f0aaa70b0d99d3d"
          ]
        }
      },
      "source": [
        "transform = transforms.ToTensor()\n",
        "\n",
        "train_validation_set = torchvision.datasets.FashionMNIST(root=\"./data\", train=True, download=True, transform=transform)\n",
        "\n",
        "test_set = torchvision.datasets.FashionMNIST(root=\"./data\", train=False, download=True, transform=transform)"
      ],
      "execution_count": 15,
      "outputs": [
        {
          "output_type": "stream",
          "text": [
            "Downloading http://fashion-mnist.s3-website.eu-central-1.amazonaws.com/train-images-idx3-ubyte.gz to ./data/FashionMNIST/raw/train-images-idx3-ubyte.gz\n"
          ],
          "name": "stdout"
        },
        {
          "output_type": "display_data",
          "data": {
            "application/vnd.jupyter.widget-view+json": {
              "model_id": "8c980e5203324c93b2224b14337a92b7",
              "version_minor": 0,
              "version_major": 2
            },
            "text/plain": [
              "HBox(children=(FloatProgress(value=1.0, bar_style='info', max=1.0), HTML(value='')))"
            ]
          },
          "metadata": {
            "tags": []
          }
        },
        {
          "output_type": "stream",
          "text": [
            "Extracting ./data/FashionMNIST/raw/train-images-idx3-ubyte.gz to ./data/FashionMNIST/raw\n",
            "Downloading http://fashion-mnist.s3-website.eu-central-1.amazonaws.com/train-labels-idx1-ubyte.gz to ./data/FashionMNIST/raw/train-labels-idx1-ubyte.gz\n",
            "\n"
          ],
          "name": "stdout"
        },
        {
          "output_type": "display_data",
          "data": {
            "application/vnd.jupyter.widget-view+json": {
              "model_id": "a6e0a8ca275048fd909fd2f14b39921a",
              "version_minor": 0,
              "version_major": 2
            },
            "text/plain": [
              "HBox(children=(FloatProgress(value=1.0, bar_style='info', max=1.0), HTML(value='')))"
            ]
          },
          "metadata": {
            "tags": []
          }
        },
        {
          "output_type": "stream",
          "text": [
            "Extracting ./data/FashionMNIST/raw/train-labels-idx1-ubyte.gz to ./data/FashionMNIST/raw\n",
            "Downloading http://fashion-mnist.s3-website.eu-central-1.amazonaws.com/t10k-images-idx3-ubyte.gz to ./data/FashionMNIST/raw/t10k-images-idx3-ubyte.gz\n"
          ],
          "name": "stdout"
        },
        {
          "output_type": "display_data",
          "data": {
            "application/vnd.jupyter.widget-view+json": {
              "model_id": "775a5ba3940d444f8ff4d05ed8bb67c3",
              "version_minor": 0,
              "version_major": 2
            },
            "text/plain": [
              "HBox(children=(FloatProgress(value=1.0, bar_style='info', max=1.0), HTML(value='')))"
            ]
          },
          "metadata": {
            "tags": []
          }
        },
        {
          "output_type": "stream",
          "text": [
            "Extracting ./data/FashionMNIST/raw/t10k-images-idx3-ubyte.gz to ./data/FashionMNIST/raw\n",
            "Downloading http://fashion-mnist.s3-website.eu-central-1.amazonaws.com/t10k-labels-idx1-ubyte.gz to ./data/FashionMNIST/raw/t10k-labels-idx1-ubyte.gz\n"
          ],
          "name": "stdout"
        },
        {
          "output_type": "display_data",
          "data": {
            "application/vnd.jupyter.widget-view+json": {
              "model_id": "efff86b231c74ca0ac1b0c67bf4b736c",
              "version_minor": 0,
              "version_major": 2
            },
            "text/plain": [
              "HBox(children=(FloatProgress(value=1.0, bar_style='info', max=1.0), HTML(value='')))"
            ]
          },
          "metadata": {
            "tags": []
          }
        },
        {
          "output_type": "stream",
          "text": [
            "Extracting ./data/FashionMNIST/raw/t10k-labels-idx1-ubyte.gz to ./data/FashionMNIST/raw\n",
            "Processing...\n",
            "Done!\n"
          ],
          "name": "stdout"
        },
        {
          "output_type": "stream",
          "text": [
            "/pytorch/torch/csrc/utils/tensor_numpy.cpp:141: UserWarning: The given NumPy array is not writeable, and PyTorch does not support non-writeable tensors. This means you can write to the underlying (supposedly non-writeable) NumPy array using the tensor. You may want to copy the array to protect its data or make it writeable before converting it to a tensor. This type of warning will be suppressed for the rest of this program.\n"
          ],
          "name": "stderr"
        }
      ]
    },
    {
      "cell_type": "code",
      "metadata": {
        "id": "EoTRAB5UxIMm",
        "colab_type": "code",
        "outputId": "9e666e1f-5abc-4003-b1c2-31ae72318d12",
        "colab": {
          "base_uri": "https://localhost:8080/",
          "height": 891
        }
      },
      "source": [
        "print('Lenght of the Test set:', len(test_set))\n",
        "print(' ')\n",
        "split = DataSplit(train_validation_set, shuffle=True)\n"
      ],
      "execution_count": 16,
      "outputs": [
        {
          "output_type": "stream",
          "text": [
            "Lenght of the Test set: 10000\n",
            " \n",
            "Dimension of the images\n",
            "torch.Size([1, 28, 28])\n",
            " \n",
            "The dataset contains 10  classes\n",
            " \n",
            "length of Train set is 48000\n",
            "length of Validation set is 12000\n",
            "\n",
            "\n",
            "\n"
          ],
          "name": "stdout"
        },
        {
          "output_type": "display_data",
          "data": {
            "image/png": "[encoded data removed]",
            "text/plain": [
              "<Figure size 720x720 with 20 Axes>"
            ]
          },
          "metadata": {
            "tags": [],
            "needs_background": "light"
          }
        }
      ]
    },
    {
      "cell_type": "code",
      "metadata": {
        "id": "tq8uvUiBw3ST",
        "colab_type": "code",
        "colab": {}
      },
      "source": [
        "train_loader, val_loader, test_loader = split.get_split(batch_size=75, num_workers=8)"
      ],
      "execution_count": 0,
      "outputs": []
    },
    {
      "cell_type": "markdown",
      "metadata": {
        "id": "J5cdq70JuUmf",
        "colab_type": "text"
      },
      "source": [
        "##Defining the function that will be used for train and Validation of the networks"
      ]
    },
    {
      "cell_type": "code",
      "metadata": {
        "id": "t3egmOcRNXam",
        "colab_type": "code",
        "colab": {}
      },
      "source": [
        "size_trainset, size_validset = split.return_lenghts_datasets()\n",
        "\n",
        "def correct_predictions(predicted_batch, label_batch):\n",
        "  pred = predicted_batch.argmax(dim=1, keepdim=True) # get the index of the max log-probability\n",
        "  acum = pred.eq(label_batch.view_as(pred)).sum().item()\n",
        "  return acum\n",
        "\n",
        "def train_epoch(train_loader, network, optimizer, criterion, hparams, epoch):\n",
        "  # Activate the train=True flag inside the model\n",
        "  network.train()\n",
        "  device = hparams['device']\n",
        "  losses = []\n",
        "  accs = []\n",
        "  for batch_idx, (data, target) in enumerate(train_loader, 1):\n",
        "      data, target = data.to(device), target.to(device)\n",
        "      optimizer.zero_grad()\n",
        "      output = network(data)\n",
        "      loss = criterion(output, target)\n",
        "      loss.backward()\n",
        "      acc = 100 * (correct_predictions(output, target) / data.shape[0])\n",
        "      losses.append(loss.item())\n",
        "      accs.append(acc)\n",
        "      optimizer.step()\n",
        "      if batch_idx % hparams['log_interval'] == 0 or batch_idx >= len(train_loader):\n",
        "          print('Train Epoch: {} [{}/{} ({:.0f}%)]\\tLoss: {:.6f}\\tAcc: {:.1f}'.format(\n",
        "              epoch, batch_idx * len(data), size_trainset,\n",
        "              100. * batch_idx / len(train_loader), loss.item(),\n",
        "              acc))\n",
        "  return np.mean(losses), np.mean(accs)\n",
        "\n",
        "def eval_epoch(val_loader, network, criterion, hparams):\n",
        "    network.eval()\n",
        "    device = hparams['device']\n",
        "    eval_loss = 0\n",
        "    acc = 0\n",
        "    with torch.no_grad():\n",
        "        for data, target in val_loader:\n",
        "            data, target = data.to(device), target.to(device)\n",
        "            output = network(data)\n",
        "            eval_loss += criterion(output, target, reduction='sum').item() # sum up batch loss\n",
        "            # compute number of correct predictions in the batch\n",
        "            acc += correct_predictions(output, target)\n",
        "    # Average acc across all correct predictions batches now\n",
        "    eval_loss /= size_validset\n",
        "    eval_acc = 100. * acc / size_validset\n",
        "    print('Eval set: Average loss: {:.4f}, Accuracy: {}/{} ({:.0f}%)'.format(\n",
        "        eval_loss, acc, size_validset, eval_acc,\n",
        "        ))\n",
        "    return eval_loss, eval_acc\n"
      ],
      "execution_count": 0,
      "outputs": []
    },
    {
      "cell_type": "code",
      "metadata": {
        "id": "ODMlOhnVgswZ",
        "colab_type": "code",
        "colab": {}
      },
      "source": [
        "def train_validate_and_plot(network, train_loader, val_loader, optimizer, criterion, hparams, n_epochs, plot=True):\n",
        "\n",
        "  tr_losses = []\n",
        "  tr_accs = []\n",
        "  val_losses = []\n",
        "  val_accs = []\n",
        "\n",
        "  network= network\n",
        "  optimizer=optimizer\n",
        "  criterion=criterion\n",
        "  for epoch in range(1,n_epochs + 1):\n",
        "    tr_loss, tr_acc = train_epoch(train_loader, network, optimizer, criterion, hparams, epoch)\n",
        "    val_loss, val_acc = eval_epoch(val_loader, network, criterion, hparams)\n",
        "    val_losses.append(val_loss)\n",
        "    val_accs.append(val_acc)\n",
        "    tr_losses.append(tr_loss)\n",
        "    tr_accs.append(tr_acc)\n",
        "  metrics = {'tr_losses':tr_losses, 'val_losses':val_losses,\n",
        "          'tr_accs':tr_accs, 'val_accs':val_accs}\n",
        "\n",
        "  if plot:\n",
        "    plt.figure(figsize=(10, 8))\n",
        "    plt.subplot(2,1,1)\n",
        "    plt.xlabel('Epoch')\n",
        "    plt.ylabel('NLLLoss')\n",
        "    plt.plot(tr_losses, label='train')\n",
        "    plt.plot(val_losses, label='eval')\n",
        "    plt.legend()\n",
        "    plt.subplot(2,1,2)\n",
        "    plt.xlabel('Epoch')\n",
        "    plt.ylabel('Eval Accuracy [%]')\n",
        "    plt.plot(tr_accs, label='train')\n",
        "    plt.plot(val_accs, label='eval')\n",
        "    plt.legend()\n",
        "  return metrics\n"
      ],
      "execution_count": 0,
      "outputs": []
    },
    {
      "cell_type": "markdown",
      "metadata": {
        "id": "c0dzBdHCPGwB",
        "colab_type": "text"
      },
      "source": [
        "Defining the hyperparameters that are going to be used when training the networks"
      ]
    },
    {
      "cell_type": "code",
      "metadata": {
        "id": "pOEZrEad_ef_",
        "colab_type": "code",
        "colab": {}
      },
      "source": [
        "import torch.nn.functional as F\n",
        "hparams = {\n",
        "    'batch_size':64,\n",
        "    'num_epochs':20,\n",
        "    'test_batch_size':64,\n",
        "    'hidden_size':128,\n",
        "    'num_classes':10,\n",
        "    'num_inputs':784,\n",
        "    'learning_rate':1e-3,\n",
        "    'log_interval':100,\n",
        "}\n",
        "hparams['device'] = 'cuda' if torch.cuda.is_available() else 'cpu'"
      ],
      "execution_count": 0,
      "outputs": []
    },
    {
      "cell_type": "markdown",
      "metadata": {
        "id": "UIOy7XCvPwLy",
        "colab_type": "text"
      },
      "source": [
        "## Implementation of the Network\n",
        "\n",
        "### Calling a Class named ConvBlock which has the goal of providing a structure to run Convolutions later on when defining the different Network architectures\n",
        "\n",
        "### ConvBlok runs by default calls a Max Pool layer of 2 by 2"
      ]
    },
    {
      "cell_type": "code",
      "metadata": {
        "id": "cFFMmBwC_UY-",
        "colab_type": "code",
        "colab": {}
      },
      "source": [
        "class ConvBlock(nn.Module):\n",
        "\n",
        "  def __init__(self, num_inp_channels, num_out_fmaps, \n",
        "               kernel_size, pool_size=2, stride=1):\n",
        "    super().__init__()\n",
        "    # TODO: define the 3 modules needed\n",
        "    self.conv = nn.Conv2d(num_inp_channels, num_out_fmaps, kernel_size)\n",
        "    self.relu = nn.ReLU()\n",
        "    self.maxpool = nn.MaxPool2d(pool_size)\n",
        "  \n",
        "  def forward(self, x):\n",
        "    return self.maxpool(self.relu(self.conv(x)))"
      ],
      "execution_count": 0,
      "outputs": []
    },
    {
      "cell_type": "markdown",
      "metadata": {
        "id": "w6h9k6I_dlaA",
        "colab_type": "text"
      },
      "source": [
        "## First Network\n",
        "\n",
        "Given the inputs of images with height, width and depth of respectively 28, 28, and 1, the fist network will perform the following operations:\n",
        "\n",
        "1. Add a 2d Constantpadding of 2 to the initial imputs, hence transforming the input from 28x28 to 32x32 height and width \n",
        "\n",
        "2. Perform a frst convolution with a kernel of 5 x 5, followed by a default max pool layer of 2 by 2.The resulting output dimensions are: 6 output features maps, with height and width of 14 X 14\n",
        "\n",
        "3. Perform a second convolution with a kernel of 5 x 5, followed by a default max pool layer of 2 by 2. The resulting output dimensions are: 16 output features maps, with height and width of 5 X 5\n",
        "\n",
        "3. Apply a multilayer perceptron with three hidden layers, that returns, via logSoftmax, a vector of ten elements representing the probabilities distribution for the 10 taget classes\n",
        "\n"
      ]
    },
    {
      "cell_type": "code",
      "metadata": {
        "id": "Gm4I0reG_N3Y",
        "colab_type": "code",
        "colab": {}
      },
      "source": [
        "class PseudoLeNet(nn.Module):\n",
        "\n",
        "  def __init__(self):\n",
        "    super().__init__()\n",
        "    # TODO: Define the padding\n",
        "    self.pad = nn.ConstantPad2d(2, 0)  # [bsz, 1, 32, 32]\n",
        "    self.conv1 = ConvBlock(1, 6, 5)  # [bsz, 6, 14, 14]\n",
        "    self.conv2 = ConvBlock(6, 16, 5)  # [bsz, 16, 5, 5]\n",
        "    # TODO: Define the MLP at the deepest layers\n",
        "    self.mlp = nn.Sequential(\n",
        "        nn.Linear(16*5*5, 120),\n",
        "        nn.ReLU(),\n",
        "        nn.Linear(120, 84),\n",
        "        nn.ReLU(),\n",
        "        nn.Linear(84, 10),\n",
        "        nn.LogSoftmax(),\n",
        "    )\n",
        "\n",
        "  def forward(self, x):\n",
        "    x = self.pad(x)\n",
        "    x = self.conv1(x)\n",
        "    x = self.conv2(x)\n",
        "    bsz, nch, height, width = x.shape   \n",
        "    x = torch.flatten(x, start_dim=1) # [bsz, 16*5*5]\n",
        "    y = self.mlp(x)\n",
        "    return y\n"
      ],
      "execution_count": 0,
      "outputs": []
    },
    {
      "cell_type": "code",
      "metadata": {
        "id": "sJ_lRgOcUfo9",
        "colab_type": "code",
        "colab": {
          "base_uri": "https://localhost:8080/",
          "height": 374
        },
        "outputId": "f699fe88-bb9c-467d-b371-252ee6603b3d"
      },
      "source": [
        "net1= PseudoLeNet()\n",
        "print(net1)"
      ],
      "execution_count": 22,
      "outputs": [
        {
          "output_type": "stream",
          "text": [
            "PseudoLeNet(\n",
            "  (pad): ConstantPad2d(padding=(2, 2, 2, 2), value=0)\n",
            "  (conv1): ConvBlock(\n",
            "    (conv): Conv2d(1, 6, kernel_size=(5, 5), stride=(1, 1))\n",
            "    (relu): ReLU()\n",
            "    (maxpool): MaxPool2d(kernel_size=2, stride=2, padding=0, dilation=1, ceil_mode=False)\n",
            "  )\n",
            "  (conv2): ConvBlock(\n",
            "    (conv): Conv2d(6, 16, kernel_size=(5, 5), stride=(1, 1))\n",
            "    (relu): ReLU()\n",
            "    (maxpool): MaxPool2d(kernel_size=2, stride=2, padding=0, dilation=1, ceil_mode=False)\n",
            "  )\n",
            "  (mlp): Sequential(\n",
            "    (0): Linear(in_features=400, out_features=120, bias=True)\n",
            "    (1): ReLU()\n",
            "    (2): Linear(in_features=120, out_features=84, bias=True)\n",
            "    (3): ReLU()\n",
            "    (4): Linear(in_features=84, out_features=10, bias=True)\n",
            "    (5): LogSoftmax()\n",
            "  )\n",
            ")\n"
          ],
          "name": "stdout"
        }
      ]
    },
    {
      "cell_type": "code",
      "metadata": {
        "id": "_QUUMGCYjyVA",
        "colab_type": "code",
        "outputId": "84df8f94-f5f1-478a-bbb5-12e22067b87f",
        "colab": {
          "base_uri": "https://localhost:8080/",
          "height": 1000
        }
      },
      "source": [
        "network = PseudoLeNet()\n",
        "network.to(hparams['device'])\n",
        "optimizer = optim.RMSprop(network.parameters(), lr=hparams['learning_rate'])\n",
        "criterion = F.nll_loss\n",
        "\n",
        "first_net=train_validate_and_plot(network, train_loader, val_loader, optimizer, criterion, hparams, hparams['num_epochs'])"
      ],
      "execution_count": 24,
      "outputs": [
        {
          "output_type": "stream",
          "text": [
            "/usr/local/lib/python3.6/dist-packages/torch/nn/modules/container.py:100: UserWarning: Implicit dimension choice for log_softmax has been deprecated. Change the call to include dim=X as an argument.\n",
            "  input = module(input)\n"
          ],
          "name": "stderr"
        },
        {
          "output_type": "stream",
          "text": [
            "Train Epoch: 1 [7500/48000 (16%)]\tLoss: 0.538132\tAcc: 80.0\n",
            "Train Epoch: 1 [15000/48000 (31%)]\tLoss: 0.613085\tAcc: 78.7\n",
            "Train Epoch: 1 [22500/48000 (47%)]\tLoss: 0.475045\tAcc: 84.0\n",
            "Train Epoch: 1 [30000/48000 (62%)]\tLoss: 0.649540\tAcc: 74.7\n",
            "Train Epoch: 1 [37500/48000 (78%)]\tLoss: 0.374468\tAcc: 85.3\n",
            "Train Epoch: 1 [45000/48000 (94%)]\tLoss: 0.431736\tAcc: 85.3\n",
            "Train Epoch: 1 [48000/48000 (100%)]\tLoss: 0.362458\tAcc: 88.0\n",
            "Eval set: Average loss: 0.4189, Accuracy: 10126/12000 (84%)\n",
            "Train Epoch: 2 [7500/48000 (16%)]\tLoss: 0.474072\tAcc: 82.7\n",
            "Train Epoch: 2 [15000/48000 (31%)]\tLoss: 0.393824\tAcc: 86.7\n",
            "Train Epoch: 2 [22500/48000 (47%)]\tLoss: 0.366609\tAcc: 86.7\n",
            "Train Epoch: 2 [30000/48000 (62%)]\tLoss: 0.449599\tAcc: 78.7\n",
            "Train Epoch: 2 [37500/48000 (78%)]\tLoss: 0.285264\tAcc: 90.7\n",
            "Train Epoch: 2 [45000/48000 (94%)]\tLoss: 0.343452\tAcc: 90.7\n",
            "Train Epoch: 2 [48000/48000 (100%)]\tLoss: 0.320504\tAcc: 86.7\n",
            "Eval set: Average loss: 0.3418, Accuracy: 10510/12000 (88%)\n",
            "Train Epoch: 3 [7500/48000 (16%)]\tLoss: 0.413925\tAcc: 82.7\n",
            "Train Epoch: 3 [15000/48000 (31%)]\tLoss: 0.259636\tAcc: 90.7\n",
            "Train Epoch: 3 [22500/48000 (47%)]\tLoss: 0.314167\tAcc: 85.3\n",
            "Train Epoch: 3 [30000/48000 (62%)]\tLoss: 0.355923\tAcc: 88.0\n",
            "Train Epoch: 3 [37500/48000 (78%)]\tLoss: 0.159275\tAcc: 96.0\n",
            "Train Epoch: 3 [45000/48000 (94%)]\tLoss: 0.437797\tAcc: 88.0\n",
            "Train Epoch: 3 [48000/48000 (100%)]\tLoss: 0.440933\tAcc: 86.7\n",
            "Eval set: Average loss: 0.3048, Accuracy: 10655/12000 (89%)\n",
            "Train Epoch: 4 [7500/48000 (16%)]\tLoss: 0.321281\tAcc: 88.0\n",
            "Train Epoch: 4 [15000/48000 (31%)]\tLoss: 0.338421\tAcc: 84.0\n",
            "Train Epoch: 4 [22500/48000 (47%)]\tLoss: 0.203840\tAcc: 90.7\n",
            "Train Epoch: 4 [30000/48000 (62%)]\tLoss: 0.279787\tAcc: 90.7\n",
            "Train Epoch: 4 [37500/48000 (78%)]\tLoss: 0.451193\tAcc: 82.7\n",
            "Train Epoch: 4 [45000/48000 (94%)]\tLoss: 0.240799\tAcc: 93.3\n",
            "Train Epoch: 4 [48000/48000 (100%)]\tLoss: 0.310007\tAcc: 88.0\n",
            "Eval set: Average loss: 0.2836, Accuracy: 10739/12000 (89%)\n",
            "Train Epoch: 5 [7500/48000 (16%)]\tLoss: 0.323899\tAcc: 89.3\n",
            "Train Epoch: 5 [15000/48000 (31%)]\tLoss: 0.177428\tAcc: 94.7\n",
            "Train Epoch: 5 [22500/48000 (47%)]\tLoss: 0.150858\tAcc: 94.7\n",
            "Train Epoch: 5 [30000/48000 (62%)]\tLoss: 0.246474\tAcc: 88.0\n",
            "Train Epoch: 5 [37500/48000 (78%)]\tLoss: 0.159711\tAcc: 94.7\n",
            "Train Epoch: 5 [45000/48000 (94%)]\tLoss: 0.357086\tAcc: 86.7\n",
            "Train Epoch: 5 [48000/48000 (100%)]\tLoss: 0.276803\tAcc: 90.7\n",
            "Eval set: Average loss: 0.2723, Accuracy: 10806/12000 (90%)\n",
            "Train Epoch: 6 [7500/48000 (16%)]\tLoss: 0.109256\tAcc: 96.0\n",
            "Train Epoch: 6 [15000/48000 (31%)]\tLoss: 0.254987\tAcc: 92.0\n",
            "Train Epoch: 6 [22500/48000 (47%)]\tLoss: 0.301483\tAcc: 86.7\n",
            "Train Epoch: 6 [30000/48000 (62%)]\tLoss: 0.162948\tAcc: 92.0\n",
            "Train Epoch: 6 [37500/48000 (78%)]\tLoss: 0.254434\tAcc: 90.7\n",
            "Train Epoch: 6 [45000/48000 (94%)]\tLoss: 0.254047\tAcc: 92.0\n",
            "Train Epoch: 6 [48000/48000 (100%)]\tLoss: 0.218949\tAcc: 92.0\n",
            "Eval set: Average loss: 0.2649, Accuracy: 10836/12000 (90%)\n",
            "Train Epoch: 7 [7500/48000 (16%)]\tLoss: 0.158411\tAcc: 92.0\n",
            "Train Epoch: 7 [15000/48000 (31%)]\tLoss: 0.165209\tAcc: 94.7\n",
            "Train Epoch: 7 [22500/48000 (47%)]\tLoss: 0.408895\tAcc: 82.7\n",
            "Train Epoch: 7 [30000/48000 (62%)]\tLoss: 0.263697\tAcc: 89.3\n",
            "Train Epoch: 7 [37500/48000 (78%)]\tLoss: 0.324005\tAcc: 85.3\n",
            "Train Epoch: 7 [45000/48000 (94%)]\tLoss: 0.100616\tAcc: 98.7\n",
            "Train Epoch: 7 [48000/48000 (100%)]\tLoss: 0.159818\tAcc: 93.3\n",
            "Eval set: Average loss: 0.2644, Accuracy: 10853/12000 (90%)\n",
            "Train Epoch: 8 [7500/48000 (16%)]\tLoss: 0.256114\tAcc: 90.7\n",
            "Train Epoch: 8 [15000/48000 (31%)]\tLoss: 0.160620\tAcc: 94.7\n",
            "Train Epoch: 8 [22500/48000 (47%)]\tLoss: 0.239951\tAcc: 90.7\n",
            "Train Epoch: 8 [30000/48000 (62%)]\tLoss: 0.105298\tAcc: 96.0\n",
            "Train Epoch: 8 [37500/48000 (78%)]\tLoss: 0.193069\tAcc: 92.0\n",
            "Train Epoch: 8 [45000/48000 (94%)]\tLoss: 0.326804\tAcc: 88.0\n",
            "Train Epoch: 8 [48000/48000 (100%)]\tLoss: 0.337310\tAcc: 88.0\n",
            "Eval set: Average loss: 0.2844, Accuracy: 10715/12000 (89%)\n",
            "Train Epoch: 9 [7500/48000 (16%)]\tLoss: 0.303731\tAcc: 85.3\n",
            "Train Epoch: 9 [15000/48000 (31%)]\tLoss: 0.263057\tAcc: 88.0\n",
            "Train Epoch: 9 [22500/48000 (47%)]\tLoss: 0.135258\tAcc: 98.7\n",
            "Train Epoch: 9 [30000/48000 (62%)]\tLoss: 0.323473\tAcc: 90.7\n",
            "Train Epoch: 9 [37500/48000 (78%)]\tLoss: 0.392320\tAcc: 86.7\n",
            "Train Epoch: 9 [45000/48000 (94%)]\tLoss: 0.336075\tAcc: 84.0\n",
            "Train Epoch: 9 [48000/48000 (100%)]\tLoss: 0.184898\tAcc: 90.7\n",
            "Eval set: Average loss: 0.2505, Accuracy: 10950/12000 (91%)\n",
            "Train Epoch: 10 [7500/48000 (16%)]\tLoss: 0.183783\tAcc: 92.0\n",
            "Train Epoch: 10 [15000/48000 (31%)]\tLoss: 0.164237\tAcc: 93.3\n",
            "Train Epoch: 10 [22500/48000 (47%)]\tLoss: 0.254089\tAcc: 88.0\n",
            "Train Epoch: 10 [30000/48000 (62%)]\tLoss: 0.159939\tAcc: 97.3\n",
            "Train Epoch: 10 [37500/48000 (78%)]\tLoss: 0.141957\tAcc: 94.7\n",
            "Train Epoch: 10 [45000/48000 (94%)]\tLoss: 0.245146\tAcc: 89.3\n",
            "Train Epoch: 10 [48000/48000 (100%)]\tLoss: 0.093153\tAcc: 98.7\n",
            "Eval set: Average loss: 0.2468, Accuracy: 10949/12000 (91%)\n",
            "Train Epoch: 11 [7500/48000 (16%)]\tLoss: 0.207121\tAcc: 93.3\n",
            "Train Epoch: 11 [15000/48000 (31%)]\tLoss: 0.189154\tAcc: 97.3\n",
            "Train Epoch: 11 [22500/48000 (47%)]\tLoss: 0.196306\tAcc: 97.3\n",
            "Train Epoch: 11 [30000/48000 (62%)]\tLoss: 0.183698\tAcc: 92.0\n",
            "Train Epoch: 11 [37500/48000 (78%)]\tLoss: 0.177646\tAcc: 93.3\n",
            "Train Epoch: 11 [45000/48000 (94%)]\tLoss: 0.142297\tAcc: 94.7\n",
            "Train Epoch: 11 [48000/48000 (100%)]\tLoss: 0.183461\tAcc: 93.3\n",
            "Eval set: Average loss: 0.2562, Accuracy: 10952/12000 (91%)\n",
            "Train Epoch: 12 [7500/48000 (16%)]\tLoss: 0.252806\tAcc: 92.0\n",
            "Train Epoch: 12 [15000/48000 (31%)]\tLoss: 0.207336\tAcc: 89.3\n",
            "Train Epoch: 12 [22500/48000 (47%)]\tLoss: 0.174515\tAcc: 90.7\n",
            "Train Epoch: 12 [30000/48000 (62%)]\tLoss: 0.141730\tAcc: 94.7\n",
            "Train Epoch: 12 [37500/48000 (78%)]\tLoss: 0.191224\tAcc: 93.3\n",
            "Train Epoch: 12 [45000/48000 (94%)]\tLoss: 0.064893\tAcc: 97.3\n",
            "Train Epoch: 12 [48000/48000 (100%)]\tLoss: 0.168600\tAcc: 93.3\n",
            "Eval set: Average loss: 0.2830, Accuracy: 10823/12000 (90%)\n",
            "Train Epoch: 13 [7500/48000 (16%)]\tLoss: 0.142965\tAcc: 93.3\n",
            "Train Epoch: 13 [15000/48000 (31%)]\tLoss: 0.204004\tAcc: 94.7\n",
            "Train Epoch: 13 [22500/48000 (47%)]\tLoss: 0.144097\tAcc: 96.0\n",
            "Train Epoch: 13 [30000/48000 (62%)]\tLoss: 0.157597\tAcc: 94.7\n",
            "Train Epoch: 13 [37500/48000 (78%)]\tLoss: 0.222783\tAcc: 93.3\n",
            "Train Epoch: 13 [45000/48000 (94%)]\tLoss: 0.067875\tAcc: 100.0\n",
            "Train Epoch: 13 [48000/48000 (100%)]\tLoss: 0.258055\tAcc: 89.3\n",
            "Eval set: Average loss: 0.2743, Accuracy: 10851/12000 (90%)\n",
            "Train Epoch: 14 [7500/48000 (16%)]\tLoss: 0.135239\tAcc: 93.3\n",
            "Train Epoch: 14 [15000/48000 (31%)]\tLoss: 0.171734\tAcc: 92.0\n",
            "Train Epoch: 14 [22500/48000 (47%)]\tLoss: 0.113566\tAcc: 94.7\n",
            "Train Epoch: 14 [30000/48000 (62%)]\tLoss: 0.247375\tAcc: 90.7\n",
            "Train Epoch: 14 [37500/48000 (78%)]\tLoss: 0.197485\tAcc: 93.3\n",
            "Train Epoch: 14 [45000/48000 (94%)]\tLoss: 0.236797\tAcc: 93.3\n",
            "Train Epoch: 14 [48000/48000 (100%)]\tLoss: 0.060151\tAcc: 97.3\n",
            "Eval set: Average loss: 0.2902, Accuracy: 10849/12000 (90%)\n",
            "Train Epoch: 15 [7500/48000 (16%)]\tLoss: 0.151238\tAcc: 97.3\n",
            "Train Epoch: 15 [15000/48000 (31%)]\tLoss: 0.195954\tAcc: 96.0\n",
            "Train Epoch: 15 [22500/48000 (47%)]\tLoss: 0.136871\tAcc: 93.3\n",
            "Train Epoch: 15 [30000/48000 (62%)]\tLoss: 0.202106\tAcc: 93.3\n",
            "Train Epoch: 15 [37500/48000 (78%)]\tLoss: 0.099026\tAcc: 96.0\n",
            "Train Epoch: 15 [45000/48000 (94%)]\tLoss: 0.162381\tAcc: 90.7\n",
            "Train Epoch: 15 [48000/48000 (100%)]\tLoss: 0.187204\tAcc: 94.7\n",
            "Eval set: Average loss: 0.2667, Accuracy: 10943/12000 (91%)\n",
            "Train Epoch: 16 [7500/48000 (16%)]\tLoss: 0.081527\tAcc: 96.0\n",
            "Train Epoch: 16 [15000/48000 (31%)]\tLoss: 0.084162\tAcc: 97.3\n",
            "Train Epoch: 16 [22500/48000 (47%)]\tLoss: 0.227373\tAcc: 90.7\n",
            "Train Epoch: 16 [30000/48000 (62%)]\tLoss: 0.094579\tAcc: 98.7\n",
            "Train Epoch: 16 [37500/48000 (78%)]\tLoss: 0.222205\tAcc: 92.0\n",
            "Train Epoch: 16 [45000/48000 (94%)]\tLoss: 0.065335\tAcc: 98.7\n",
            "Train Epoch: 16 [48000/48000 (100%)]\tLoss: 0.070983\tAcc: 94.7\n",
            "Eval set: Average loss: 0.2688, Accuracy: 11041/12000 (92%)\n",
            "Train Epoch: 17 [7500/48000 (16%)]\tLoss: 0.156656\tAcc: 94.7\n",
            "Train Epoch: 17 [15000/48000 (31%)]\tLoss: 0.162182\tAcc: 94.7\n",
            "Train Epoch: 17 [22500/48000 (47%)]\tLoss: 0.167462\tAcc: 94.7\n",
            "Train Epoch: 17 [30000/48000 (62%)]\tLoss: 0.230087\tAcc: 94.7\n",
            "Train Epoch: 17 [37500/48000 (78%)]\tLoss: 0.073391\tAcc: 98.7\n",
            "Train Epoch: 17 [45000/48000 (94%)]\tLoss: 0.163965\tAcc: 93.3\n",
            "Train Epoch: 17 [48000/48000 (100%)]\tLoss: 0.189568\tAcc: 94.7\n",
            "Eval set: Average loss: 0.3015, Accuracy: 10876/12000 (91%)\n",
            "Train Epoch: 18 [7500/48000 (16%)]\tLoss: 0.087047\tAcc: 97.3\n",
            "Train Epoch: 18 [15000/48000 (31%)]\tLoss: 0.105766\tAcc: 97.3\n",
            "Train Epoch: 18 [22500/48000 (47%)]\tLoss: 0.127998\tAcc: 98.7\n",
            "Train Epoch: 18 [30000/48000 (62%)]\tLoss: 0.071797\tAcc: 97.3\n",
            "Train Epoch: 18 [37500/48000 (78%)]\tLoss: 0.054336\tAcc: 98.7\n",
            "Train Epoch: 18 [45000/48000 (94%)]\tLoss: 0.052557\tAcc: 97.3\n",
            "Train Epoch: 18 [48000/48000 (100%)]\tLoss: 0.296506\tAcc: 90.7\n",
            "Eval set: Average loss: 0.2899, Accuracy: 10904/12000 (91%)\n",
            "Train Epoch: 19 [7500/48000 (16%)]\tLoss: 0.095638\tAcc: 97.3\n",
            "Train Epoch: 19 [15000/48000 (31%)]\tLoss: 0.163774\tAcc: 92.0\n",
            "Train Epoch: 19 [22500/48000 (47%)]\tLoss: 0.187677\tAcc: 92.0\n",
            "Train Epoch: 19 [30000/48000 (62%)]\tLoss: 0.167813\tAcc: 94.7\n",
            "Train Epoch: 19 [37500/48000 (78%)]\tLoss: 0.164884\tAcc: 93.3\n",
            "Train Epoch: 19 [45000/48000 (94%)]\tLoss: 0.182269\tAcc: 96.0\n",
            "Train Epoch: 19 [48000/48000 (100%)]\tLoss: 0.208302\tAcc: 92.0\n",
            "Eval set: Average loss: 0.3087, Accuracy: 10933/12000 (91%)\n",
            "Train Epoch: 20 [7500/48000 (16%)]\tLoss: 0.157355\tAcc: 93.3\n",
            "Train Epoch: 20 [15000/48000 (31%)]\tLoss: 0.066994\tAcc: 97.3\n",
            "Train Epoch: 20 [22500/48000 (47%)]\tLoss: 0.145299\tAcc: 98.7\n",
            "Train Epoch: 20 [30000/48000 (62%)]\tLoss: 0.091974\tAcc: 97.3\n",
            "Train Epoch: 20 [37500/48000 (78%)]\tLoss: 0.084368\tAcc: 98.7\n",
            "Train Epoch: 20 [45000/48000 (94%)]\tLoss: 0.194531\tAcc: 93.3\n",
            "Train Epoch: 20 [48000/48000 (100%)]\tLoss: 0.106058\tAcc: 96.0\n",
            "Eval set: Average loss: 0.3199, Accuracy: 10922/12000 (91%)\n"
          ],
          "name": "stdout"
        },
        {
          "output_type": "display_data",
          "data": {
            "image/png": "[encoded data removed]",
            "text/plain": [
              "<Figure size 720x576 with 2 Axes>"
            ]
          },
          "metadata": {
            "tags": [],
            "needs_background": "light"
          }
        }
      ]
    },
    {
      "cell_type": "markdown",
      "metadata": {
        "id": "Ei9hqM17q-ar",
        "colab_type": "text"
      },
      "source": [
        "## Second Network\n",
        "\n",
        "The output of the first network shows that the model is slightly overfitting given that the training loss decreases with every iterations wheras the loss of the validation set seems to peak at the 8th epoch. The same applies to the accuracy, which in the case of the training set it keeps improving with with every iterations, wherease when it comes to the validation set, it peaks around the 15th epoch; this implies that the model, that is performing well on the training set, does not keep the same performance when generalizing on data outside the trainset\n",
        "\n",
        "In order to reduce overfitting, L2 regularization of 0.001 (which is passed using weight_decay=0.001) and dropout are added to the network, resulting in a network that i have named 'PseudoLeNetwithDropout'\n"
      ]
    },
    {
      "cell_type": "code",
      "metadata": {
        "id": "bH4_yOpUobIG",
        "colab_type": "code",
        "colab": {}
      },
      "source": [
        "class PseudoLeNetwithDropout(nn.Module):\n",
        "\n",
        "  def __init__(self, dropout):\n",
        "    super().__init__()\n",
        "    # TODO: Define the padding\n",
        "    self.pad = nn.ConstantPad2d(2, 0)  # [bsz, 1, 32, 32]\n",
        "    self.conv1 = ConvBlock(1, 6, 5)  # [bsz, 6, 14, 14]\n",
        "    self.dout1 = nn.Dropout(dropout)\n",
        "    self.conv2 = ConvBlock(6, 16, 5)  # [bsz, 16, 5, 5]\n",
        "    # TODO: Define the MLP at the deepest layers\n",
        "    self.mlp = nn.Sequential(\n",
        "        nn.Linear(16*5*5, 120),\n",
        "        nn.ReLU(),\n",
        "        nn.Linear(120, 84),\n",
        "        nn.ReLU(),\n",
        "        nn.Linear(84, 10),\n",
        "        nn.LogSoftmax(),\n",
        "    )\n",
        "\n",
        "  def forward(self, x):\n",
        "    x = self.pad(x)\n",
        "    x = self.conv1(x)\n",
        "    x = self.dout1(x)\n",
        "    x = self.conv2(x)\n",
        "    bsz, nch, height, width = x.shape \n",
        "    x = torch.flatten(x, start_dim=1) # [bsz, 16*5*5]\n",
        "    y = self.mlp(x)\n",
        "    return y"
      ],
      "execution_count": 0,
      "outputs": []
    },
    {
      "cell_type": "code",
      "metadata": {
        "id": "vZG0PGWJ3EKn",
        "colab_type": "code",
        "colab": {
          "base_uri": "https://localhost:8080/",
          "height": 391
        },
        "outputId": "bf367563-5b0a-466e-a955-3c558fe915db"
      },
      "source": [
        "net= PseudoLeNetwithDropout(0.3)\n",
        "print(net)"
      ],
      "execution_count": 26,
      "outputs": [
        {
          "output_type": "stream",
          "text": [
            "PseudoLeNetwithDropout(\n",
            "  (pad): ConstantPad2d(padding=(2, 2, 2, 2), value=0)\n",
            "  (conv1): ConvBlock(\n",
            "    (conv): Conv2d(1, 6, kernel_size=(5, 5), stride=(1, 1))\n",
            "    (relu): ReLU()\n",
            "    (maxpool): MaxPool2d(kernel_size=2, stride=2, padding=0, dilation=1, ceil_mode=False)\n",
            "  )\n",
            "  (dout1): Dropout(p=0.3, inplace=False)\n",
            "  (conv2): ConvBlock(\n",
            "    (conv): Conv2d(6, 16, kernel_size=(5, 5), stride=(1, 1))\n",
            "    (relu): ReLU()\n",
            "    (maxpool): MaxPool2d(kernel_size=2, stride=2, padding=0, dilation=1, ceil_mode=False)\n",
            "  )\n",
            "  (mlp): Sequential(\n",
            "    (0): Linear(in_features=400, out_features=120, bias=True)\n",
            "    (1): ReLU()\n",
            "    (2): Linear(in_features=120, out_features=84, bias=True)\n",
            "    (3): ReLU()\n",
            "    (4): Linear(in_features=84, out_features=10, bias=True)\n",
            "    (5): LogSoftmax()\n",
            "  )\n",
            ")\n"
          ],
          "name": "stdout"
        }
      ]
    },
    {
      "cell_type": "code",
      "metadata": {
        "id": "hAggZf0KpC4d",
        "colab_type": "code",
        "outputId": "133cc412-0830-4ff3-9b54-8affd5d35970",
        "colab": {
          "base_uri": "https://localhost:8080/",
          "height": 1000
        }
      },
      "source": [
        "dropout = 0.3\n",
        "network_dropout = PseudoLeNetwithDropout(dropout)\n",
        "network_dropout.to(hparams['device'])\n",
        "optimizer = optim.RMSprop(network_dropout.parameters(), weight_decay=0.001, lr=hparams['learning_rate']) \n",
        "\n",
        "second_net=train_validate_and_plot(network_dropout, train_loader, val_loader, optimizer, criterion, hparams, hparams['num_epochs'])"
      ],
      "execution_count": 27,
      "outputs": [
        {
          "output_type": "stream",
          "text": [
            "/usr/local/lib/python3.6/dist-packages/torch/nn/modules/container.py:100: UserWarning: Implicit dimension choice for log_softmax has been deprecated. Change the call to include dim=X as an argument.\n",
            "  input = module(input)\n"
          ],
          "name": "stderr"
        },
        {
          "output_type": "stream",
          "text": [
            "Train Epoch: 1 [7500/48000 (16%)]\tLoss: 0.744881\tAcc: 68.0\n",
            "Train Epoch: 1 [15000/48000 (31%)]\tLoss: 0.575600\tAcc: 78.7\n",
            "Train Epoch: 1 [22500/48000 (47%)]\tLoss: 0.870006\tAcc: 73.3\n",
            "Train Epoch: 1 [30000/48000 (62%)]\tLoss: 0.606535\tAcc: 80.0\n",
            "Train Epoch: 1 [37500/48000 (78%)]\tLoss: 0.751996\tAcc: 76.0\n",
            "Train Epoch: 1 [45000/48000 (94%)]\tLoss: 0.701447\tAcc: 72.0\n",
            "Train Epoch: 1 [48000/48000 (100%)]\tLoss: 0.487378\tAcc: 84.0\n",
            "Eval set: Average loss: 0.5364, Accuracy: 9520/12000 (79%)\n",
            "Train Epoch: 2 [7500/48000 (16%)]\tLoss: 0.407332\tAcc: 86.7\n",
            "Train Epoch: 2 [15000/48000 (31%)]\tLoss: 0.536485\tAcc: 78.7\n",
            "Train Epoch: 2 [22500/48000 (47%)]\tLoss: 0.371252\tAcc: 86.7\n",
            "Train Epoch: 2 [30000/48000 (62%)]\tLoss: 0.487720\tAcc: 80.0\n",
            "Train Epoch: 2 [37500/48000 (78%)]\tLoss: 0.430780\tAcc: 86.7\n",
            "Train Epoch: 2 [45000/48000 (94%)]\tLoss: 0.509561\tAcc: 80.0\n",
            "Train Epoch: 2 [48000/48000 (100%)]\tLoss: 0.457513\tAcc: 81.3\n",
            "Eval set: Average loss: 0.4480, Accuracy: 9951/12000 (83%)\n",
            "Train Epoch: 3 [7500/48000 (16%)]\tLoss: 0.359370\tAcc: 89.3\n",
            "Train Epoch: 3 [15000/48000 (31%)]\tLoss: 0.318559\tAcc: 90.7\n",
            "Train Epoch: 3 [22500/48000 (47%)]\tLoss: 0.365397\tAcc: 85.3\n",
            "Train Epoch: 3 [30000/48000 (62%)]\tLoss: 0.549506\tAcc: 81.3\n",
            "Train Epoch: 3 [37500/48000 (78%)]\tLoss: 0.365396\tAcc: 85.3\n",
            "Train Epoch: 3 [45000/48000 (94%)]\tLoss: 0.325314\tAcc: 88.0\n",
            "Train Epoch: 3 [48000/48000 (100%)]\tLoss: 0.466948\tAcc: 86.7\n",
            "Eval set: Average loss: 0.3704, Accuracy: 10420/12000 (87%)\n",
            "Train Epoch: 4 [7500/48000 (16%)]\tLoss: 0.394842\tAcc: 78.7\n",
            "Train Epoch: 4 [15000/48000 (31%)]\tLoss: 0.403390\tAcc: 85.3\n",
            "Train Epoch: 4 [22500/48000 (47%)]\tLoss: 0.379791\tAcc: 81.3\n",
            "Train Epoch: 4 [30000/48000 (62%)]\tLoss: 0.464003\tAcc: 82.7\n",
            "Train Epoch: 4 [37500/48000 (78%)]\tLoss: 0.270764\tAcc: 88.0\n",
            "Train Epoch: 4 [45000/48000 (94%)]\tLoss: 0.346555\tAcc: 86.7\n",
            "Train Epoch: 4 [48000/48000 (100%)]\tLoss: 0.322853\tAcc: 86.7\n",
            "Eval set: Average loss: 0.3542, Accuracy: 10414/12000 (87%)\n",
            "Train Epoch: 5 [7500/48000 (16%)]\tLoss: 0.514608\tAcc: 86.7\n",
            "Train Epoch: 5 [15000/48000 (31%)]\tLoss: 0.287337\tAcc: 86.7\n",
            "Train Epoch: 5 [22500/48000 (47%)]\tLoss: 0.327710\tAcc: 93.3\n",
            "Train Epoch: 5 [30000/48000 (62%)]\tLoss: 0.546433\tAcc: 77.3\n",
            "Train Epoch: 5 [37500/48000 (78%)]\tLoss: 0.375935\tAcc: 88.0\n",
            "Train Epoch: 5 [45000/48000 (94%)]\tLoss: 0.335285\tAcc: 85.3\n",
            "Train Epoch: 5 [48000/48000 (100%)]\tLoss: 0.475694\tAcc: 84.0\n",
            "Eval set: Average loss: 0.3462, Accuracy: 10447/12000 (87%)\n",
            "Train Epoch: 6 [7500/48000 (16%)]\tLoss: 0.414466\tAcc: 86.7\n",
            "Train Epoch: 6 [15000/48000 (31%)]\tLoss: 0.335385\tAcc: 89.3\n",
            "Train Epoch: 6 [22500/48000 (47%)]\tLoss: 0.422234\tAcc: 84.0\n",
            "Train Epoch: 6 [30000/48000 (62%)]\tLoss: 0.247627\tAcc: 89.3\n",
            "Train Epoch: 6 [37500/48000 (78%)]\tLoss: 0.330071\tAcc: 92.0\n",
            "Train Epoch: 6 [45000/48000 (94%)]\tLoss: 0.419609\tAcc: 80.0\n",
            "Train Epoch: 6 [48000/48000 (100%)]\tLoss: 0.480751\tAcc: 82.7\n",
            "Eval set: Average loss: 0.3319, Accuracy: 10533/12000 (88%)\n",
            "Train Epoch: 7 [7500/48000 (16%)]\tLoss: 0.199199\tAcc: 94.7\n",
            "Train Epoch: 7 [15000/48000 (31%)]\tLoss: 0.276881\tAcc: 93.3\n",
            "Train Epoch: 7 [22500/48000 (47%)]\tLoss: 0.398391\tAcc: 82.7\n",
            "Train Epoch: 7 [30000/48000 (62%)]\tLoss: 0.298055\tAcc: 86.7\n",
            "Train Epoch: 7 [37500/48000 (78%)]\tLoss: 0.378835\tAcc: 85.3\n",
            "Train Epoch: 7 [45000/48000 (94%)]\tLoss: 0.184201\tAcc: 94.7\n",
            "Train Epoch: 7 [48000/48000 (100%)]\tLoss: 0.279001\tAcc: 89.3\n",
            "Eval set: Average loss: 0.3338, Accuracy: 10539/12000 (88%)\n",
            "Train Epoch: 8 [7500/48000 (16%)]\tLoss: 0.449411\tAcc: 85.3\n",
            "Train Epoch: 8 [15000/48000 (31%)]\tLoss: 0.575264\tAcc: 77.3\n",
            "Train Epoch: 8 [22500/48000 (47%)]\tLoss: 0.273551\tAcc: 86.7\n",
            "Train Epoch: 8 [30000/48000 (62%)]\tLoss: 0.220970\tAcc: 90.7\n",
            "Train Epoch: 8 [37500/48000 (78%)]\tLoss: 0.210258\tAcc: 92.0\n",
            "Train Epoch: 8 [45000/48000 (94%)]\tLoss: 0.461979\tAcc: 84.0\n",
            "Train Epoch: 8 [48000/48000 (100%)]\tLoss: 0.351292\tAcc: 86.7\n",
            "Eval set: Average loss: 0.2991, Accuracy: 10731/12000 (89%)\n",
            "Train Epoch: 9 [7500/48000 (16%)]\tLoss: 0.329087\tAcc: 84.0\n",
            "Train Epoch: 9 [15000/48000 (31%)]\tLoss: 0.343170\tAcc: 86.7\n",
            "Train Epoch: 9 [22500/48000 (47%)]\tLoss: 0.367675\tAcc: 85.3\n",
            "Train Epoch: 9 [30000/48000 (62%)]\tLoss: 0.544572\tAcc: 77.3\n",
            "Train Epoch: 9 [37500/48000 (78%)]\tLoss: 0.274118\tAcc: 89.3\n",
            "Train Epoch: 9 [45000/48000 (94%)]\tLoss: 0.371325\tAcc: 88.0\n",
            "Train Epoch: 9 [48000/48000 (100%)]\tLoss: 0.325552\tAcc: 92.0\n",
            "Eval set: Average loss: 0.2804, Accuracy: 10787/12000 (90%)\n",
            "Train Epoch: 10 [7500/48000 (16%)]\tLoss: 0.408949\tAcc: 82.7\n",
            "Train Epoch: 10 [15000/48000 (31%)]\tLoss: 0.316901\tAcc: 90.7\n",
            "Train Epoch: 10 [22500/48000 (47%)]\tLoss: 0.276870\tAcc: 93.3\n",
            "Train Epoch: 10 [30000/48000 (62%)]\tLoss: 0.315648\tAcc: 88.0\n",
            "Train Epoch: 10 [37500/48000 (78%)]\tLoss: 0.380414\tAcc: 86.7\n",
            "Train Epoch: 10 [45000/48000 (94%)]\tLoss: 0.309055\tAcc: 92.0\n",
            "Train Epoch: 10 [48000/48000 (100%)]\tLoss: 0.319583\tAcc: 86.7\n",
            "Eval set: Average loss: 0.2780, Accuracy: 10819/12000 (90%)\n",
            "Train Epoch: 11 [7500/48000 (16%)]\tLoss: 0.424449\tAcc: 85.3\n",
            "Train Epoch: 11 [15000/48000 (31%)]\tLoss: 0.389217\tAcc: 84.0\n",
            "Train Epoch: 11 [22500/48000 (47%)]\tLoss: 0.295005\tAcc: 88.0\n",
            "Train Epoch: 11 [30000/48000 (62%)]\tLoss: 0.310715\tAcc: 86.7\n",
            "Train Epoch: 11 [37500/48000 (78%)]\tLoss: 0.298682\tAcc: 90.7\n",
            "Train Epoch: 11 [45000/48000 (94%)]\tLoss: 0.430788\tAcc: 82.7\n",
            "Train Epoch: 11 [48000/48000 (100%)]\tLoss: 0.249728\tAcc: 92.0\n",
            "Eval set: Average loss: 0.2790, Accuracy: 10777/12000 (90%)\n",
            "Train Epoch: 12 [7500/48000 (16%)]\tLoss: 0.254160\tAcc: 92.0\n",
            "Train Epoch: 12 [15000/48000 (31%)]\tLoss: 0.196989\tAcc: 92.0\n",
            "Train Epoch: 12 [22500/48000 (47%)]\tLoss: 0.278797\tAcc: 90.7\n",
            "Train Epoch: 12 [30000/48000 (62%)]\tLoss: 0.313209\tAcc: 88.0\n",
            "Train Epoch: 12 [37500/48000 (78%)]\tLoss: 0.303358\tAcc: 90.7\n",
            "Train Epoch: 12 [45000/48000 (94%)]\tLoss: 0.354139\tAcc: 89.3\n",
            "Train Epoch: 12 [48000/48000 (100%)]\tLoss: 0.345044\tAcc: 85.3\n",
            "Eval set: Average loss: 0.2755, Accuracy: 10802/12000 (90%)\n",
            "Train Epoch: 13 [7500/48000 (16%)]\tLoss: 0.283521\tAcc: 89.3\n",
            "Train Epoch: 13 [15000/48000 (31%)]\tLoss: 0.298780\tAcc: 90.7\n",
            "Train Epoch: 13 [22500/48000 (47%)]\tLoss: 0.355228\tAcc: 84.0\n",
            "Train Epoch: 13 [30000/48000 (62%)]\tLoss: 0.336632\tAcc: 86.7\n",
            "Train Epoch: 13 [37500/48000 (78%)]\tLoss: 0.157500\tAcc: 96.0\n",
            "Train Epoch: 13 [45000/48000 (94%)]\tLoss: 0.292532\tAcc: 86.7\n",
            "Train Epoch: 13 [48000/48000 (100%)]\tLoss: 0.320087\tAcc: 84.0\n",
            "Eval set: Average loss: 0.2716, Accuracy: 10793/12000 (90%)\n",
            "Train Epoch: 14 [7500/48000 (16%)]\tLoss: 0.329810\tAcc: 86.7\n",
            "Train Epoch: 14 [15000/48000 (31%)]\tLoss: 0.192613\tAcc: 93.3\n",
            "Train Epoch: 14 [22500/48000 (47%)]\tLoss: 0.300647\tAcc: 85.3\n",
            "Train Epoch: 14 [30000/48000 (62%)]\tLoss: 0.313532\tAcc: 92.0\n",
            "Train Epoch: 14 [37500/48000 (78%)]\tLoss: 0.456360\tAcc: 82.7\n",
            "Train Epoch: 14 [45000/48000 (94%)]\tLoss: 0.206428\tAcc: 90.7\n",
            "Train Epoch: 14 [48000/48000 (100%)]\tLoss: 0.274125\tAcc: 89.3\n",
            "Eval set: Average loss: 0.2730, Accuracy: 10811/12000 (90%)\n",
            "Train Epoch: 15 [7500/48000 (16%)]\tLoss: 0.305945\tAcc: 92.0\n",
            "Train Epoch: 15 [15000/48000 (31%)]\tLoss: 0.408877\tAcc: 84.0\n",
            "Train Epoch: 15 [22500/48000 (47%)]\tLoss: 0.305200\tAcc: 88.0\n",
            "Train Epoch: 15 [30000/48000 (62%)]\tLoss: 0.270314\tAcc: 88.0\n",
            "Train Epoch: 15 [37500/48000 (78%)]\tLoss: 0.463434\tAcc: 84.0\n",
            "Train Epoch: 15 [45000/48000 (94%)]\tLoss: 0.322407\tAcc: 89.3\n",
            "Train Epoch: 15 [48000/48000 (100%)]\tLoss: 0.419638\tAcc: 81.3\n",
            "Eval set: Average loss: 0.2742, Accuracy: 10807/12000 (90%)\n",
            "Train Epoch: 16 [7500/48000 (16%)]\tLoss: 0.358096\tAcc: 89.3\n",
            "Train Epoch: 16 [15000/48000 (31%)]\tLoss: 0.374805\tAcc: 85.3\n",
            "Train Epoch: 16 [22500/48000 (47%)]\tLoss: 0.325387\tAcc: 86.7\n",
            "Train Epoch: 16 [30000/48000 (62%)]\tLoss: 0.332903\tAcc: 86.7\n",
            "Train Epoch: 16 [37500/48000 (78%)]\tLoss: 0.322369\tAcc: 85.3\n",
            "Train Epoch: 16 [45000/48000 (94%)]\tLoss: 0.341055\tAcc: 82.7\n",
            "Train Epoch: 16 [48000/48000 (100%)]\tLoss: 0.206925\tAcc: 93.3\n",
            "Eval set: Average loss: 0.2669, Accuracy: 10840/12000 (90%)\n",
            "Train Epoch: 17 [7500/48000 (16%)]\tLoss: 0.177129\tAcc: 94.7\n",
            "Train Epoch: 17 [15000/48000 (31%)]\tLoss: 0.286973\tAcc: 90.7\n",
            "Train Epoch: 17 [22500/48000 (47%)]\tLoss: 0.339213\tAcc: 86.7\n",
            "Train Epoch: 17 [30000/48000 (62%)]\tLoss: 0.285112\tAcc: 90.7\n",
            "Train Epoch: 17 [37500/48000 (78%)]\tLoss: 0.339720\tAcc: 88.0\n",
            "Train Epoch: 17 [45000/48000 (94%)]\tLoss: 0.396731\tAcc: 82.7\n",
            "Train Epoch: 17 [48000/48000 (100%)]\tLoss: 0.352720\tAcc: 89.3\n",
            "Eval set: Average loss: 0.2755, Accuracy: 10797/12000 (90%)\n",
            "Train Epoch: 18 [7500/48000 (16%)]\tLoss: 0.302299\tAcc: 88.0\n",
            "Train Epoch: 18 [15000/48000 (31%)]\tLoss: 0.373942\tAcc: 85.3\n",
            "Train Epoch: 18 [22500/48000 (47%)]\tLoss: 0.353821\tAcc: 88.0\n",
            "Train Epoch: 18 [30000/48000 (62%)]\tLoss: 0.310616\tAcc: 90.7\n",
            "Train Epoch: 18 [37500/48000 (78%)]\tLoss: 0.229504\tAcc: 92.0\n",
            "Train Epoch: 18 [45000/48000 (94%)]\tLoss: 0.377638\tAcc: 88.0\n",
            "Train Epoch: 18 [48000/48000 (100%)]\tLoss: 0.354042\tAcc: 85.3\n",
            "Eval set: Average loss: 0.2740, Accuracy: 10795/12000 (90%)\n",
            "Train Epoch: 19 [7500/48000 (16%)]\tLoss: 0.424661\tAcc: 86.7\n",
            "Train Epoch: 19 [15000/48000 (31%)]\tLoss: 0.213976\tAcc: 94.7\n",
            "Train Epoch: 19 [22500/48000 (47%)]\tLoss: 0.294675\tAcc: 90.7\n",
            "Train Epoch: 19 [30000/48000 (62%)]\tLoss: 0.410397\tAcc: 85.3\n",
            "Train Epoch: 19 [37500/48000 (78%)]\tLoss: 0.531511\tAcc: 84.0\n",
            "Train Epoch: 19 [45000/48000 (94%)]\tLoss: 0.255636\tAcc: 89.3\n",
            "Train Epoch: 19 [48000/48000 (100%)]\tLoss: 0.390408\tAcc: 86.7\n",
            "Eval set: Average loss: 0.2587, Accuracy: 10859/12000 (90%)\n",
            "Train Epoch: 20 [7500/48000 (16%)]\tLoss: 0.298597\tAcc: 85.3\n",
            "Train Epoch: 20 [15000/48000 (31%)]\tLoss: 0.332000\tAcc: 89.3\n",
            "Train Epoch: 20 [22500/48000 (47%)]\tLoss: 0.324816\tAcc: 88.0\n",
            "Train Epoch: 20 [30000/48000 (62%)]\tLoss: 0.177231\tAcc: 93.3\n",
            "Train Epoch: 20 [37500/48000 (78%)]\tLoss: 0.291599\tAcc: 90.7\n",
            "Train Epoch: 20 [45000/48000 (94%)]\tLoss: 0.297369\tAcc: 88.0\n",
            "Train Epoch: 20 [48000/48000 (100%)]\tLoss: 0.450086\tAcc: 88.0\n",
            "Eval set: Average loss: 0.2596, Accuracy: 10866/12000 (91%)\n"
          ],
          "name": "stdout"
        },
        {
          "output_type": "display_data",
          "data": {
            "image/png": "[encoded data removed]",
            "text/plain": [
              "<Figure size 720x576 with 2 Axes>"
            ]
          },
          "metadata": {
            "tags": [],
            "needs_background": "light"
          }
        }
      ]
    },
    {
      "cell_type": "markdown",
      "metadata": {
        "id": "pCZaK6ZnvyrG",
        "colab_type": "text"
      },
      "source": [
        "##Third Network\n",
        "\n",
        "the PseudoLeNetwithDropout (which includes with regularizers L2 and droput) provides very satisfying results: the network seems to generalize quite well, as we can see from loss and accuracy on the validation set. Furthermore, accuracy is quite high in both train and validaton set, and the model overall seems to perform quite well in mininizing loss\n",
        "\n",
        "We can nevertheless try to improve the performance of the network further by implementing a third mode, which I am going to name BigNetDropout; the architecture of the model works as follows:\n",
        "\n",
        "1. Performs a frst convolution with a kernel of 5 x 5, a stride of 2, followed by a default max pool layer of 2 by 2. The resulting output dimensions are:  512 output features maps, with height and width of 12 X 12\n",
        "\n",
        "2. Performs a second convolution with a kernel of 3 x 3, followed by a default max pool layer of 2 by 2. The resulting output dimensions are: 1024 output features maps, with height and width of 5 X 5\n",
        "\n",
        "3. Apply a multilayer perceptron with three hidden layers, that returns via logSoftmax a vector of ten elements representing the probabilities distribution for the 10 taget classes"
      ]
    },
    {
      "cell_type": "code",
      "metadata": {
        "id": "k_QBbvfxSzlD",
        "colab_type": "code",
        "colab": {}
      },
      "source": [
        "class BigNetDropout(nn.Module):\n",
        "\n",
        "  def __init__(self, dropout):\n",
        "    super().__init__()\n",
        "    self.conv1 = ConvBlock(1, 512, 5, stride=2) #[bsz, 512, 12, 12]\n",
        "    self.dout1 = nn.Dropout(dropout)\n",
        "    self.conv2 = ConvBlock(512, 1024, 3) #[bsz, 1024, 5, 5]\n",
        "    self.mlp = nn.Sequential(\n",
        "        nn.Linear(1024 * 5 * 5, 1024),\n",
        "        nn.ReLU(inplace=True),\n",
        "        nn.Dropout(dropout),\n",
        "        nn.Linear(1024, 10),\n",
        "        nn.LogSoftmax(dim=-1)\n",
        "    )\n",
        "\n",
        "  def forward(self, x):\n",
        "    x = self.conv1(x)\n",
        "    x = self.dout1(x)\n",
        "    x = self.conv2(x)\n",
        "    bsz, nch, height, width = x.shape\n",
        "    x = x.view(bsz, -1)\n",
        "    y = self.mlp(x)\n",
        "    return y"
      ],
      "execution_count": 0,
      "outputs": []
    },
    {
      "cell_type": "code",
      "metadata": {
        "id": "Qv5smG0f6bHY",
        "colab_type": "code",
        "colab": {
          "base_uri": "https://localhost:8080/",
          "height": 357
        },
        "outputId": "4b24b668-87cd-45b3-b951-815b602afb06"
      },
      "source": [
        "net=BigNetDropout(0.4)\n",
        "print(net)"
      ],
      "execution_count": 33,
      "outputs": [
        {
          "output_type": "stream",
          "text": [
            "BigNetDropout(\n",
            "  (conv1): ConvBlock(\n",
            "    (conv): Conv2d(1, 512, kernel_size=(5, 5), stride=(1, 1))\n",
            "    (relu): ReLU()\n",
            "    (maxpool): MaxPool2d(kernel_size=2, stride=2, padding=0, dilation=1, ceil_mode=False)\n",
            "  )\n",
            "  (dout1): Dropout(p=0.4, inplace=False)\n",
            "  (conv2): ConvBlock(\n",
            "    (conv): Conv2d(512, 1024, kernel_size=(3, 3), stride=(1, 1))\n",
            "    (relu): ReLU()\n",
            "    (maxpool): MaxPool2d(kernel_size=2, stride=2, padding=0, dilation=1, ceil_mode=False)\n",
            "  )\n",
            "  (mlp): Sequential(\n",
            "    (0): Linear(in_features=25600, out_features=1024, bias=True)\n",
            "    (1): ReLU(inplace=True)\n",
            "    (2): Dropout(p=0.4, inplace=False)\n",
            "    (3): Linear(in_features=1024, out_features=10, bias=True)\n",
            "    (4): LogSoftmax()\n",
            "  )\n",
            ")\n"
          ],
          "name": "stdout"
        }
      ]
    },
    {
      "cell_type": "code",
      "metadata": {
        "id": "ntBD5QuNZrcj",
        "colab_type": "code",
        "outputId": "3f53c6fa-b6e8-4c43-ad9c-a2b20b67ec6f",
        "colab": {
          "base_uri": "https://localhost:8080/",
          "height": 1000
        }
      },
      "source": [
        "dropout= 0.4\n",
        "newnetwork = BigNetDropout(dropout)\n",
        "newnetwork.to(hparams['device'])\n",
        "optimizer = optim.Adam(newnetwork.parameters(),  weight_decay=0.001, lr=hparams['learning_rate']) \n",
        "\n",
        "third_net=train_validate_and_plot(newnetwork, train_loader, val_loader, optimizer, criterion, hparams, hparams['num_epochs'])"
      ],
      "execution_count": 30,
      "outputs": [
        {
          "output_type": "stream",
          "text": [
            "Train Epoch: 1 [7500/48000 (16%)]\tLoss: 0.555961\tAcc: 77.3\n",
            "Train Epoch: 1 [15000/48000 (31%)]\tLoss: 0.462348\tAcc: 84.0\n",
            "Train Epoch: 1 [22500/48000 (47%)]\tLoss: 0.618352\tAcc: 78.7\n",
            "Train Epoch: 1 [30000/48000 (62%)]\tLoss: 0.303848\tAcc: 90.7\n",
            "Train Epoch: 1 [37500/48000 (78%)]\tLoss: 0.472874\tAcc: 84.0\n",
            "Train Epoch: 1 [45000/48000 (94%)]\tLoss: 0.521118\tAcc: 85.3\n",
            "Train Epoch: 1 [48000/48000 (100%)]\tLoss: 0.395532\tAcc: 85.3\n",
            "Eval set: Average loss: 0.3383, Accuracy: 10511/12000 (88%)\n",
            "Train Epoch: 2 [7500/48000 (16%)]\tLoss: 0.301395\tAcc: 85.3\n",
            "Train Epoch: 2 [15000/48000 (31%)]\tLoss: 0.354142\tAcc: 89.3\n",
            "Train Epoch: 2 [22500/48000 (47%)]\tLoss: 0.291832\tAcc: 84.0\n",
            "Train Epoch: 2 [30000/48000 (62%)]\tLoss: 0.248050\tAcc: 92.0\n",
            "Train Epoch: 2 [37500/48000 (78%)]\tLoss: 0.351394\tAcc: 88.0\n",
            "Train Epoch: 2 [45000/48000 (94%)]\tLoss: 0.475835\tAcc: 85.3\n",
            "Train Epoch: 2 [48000/48000 (100%)]\tLoss: 0.275430\tAcc: 89.3\n",
            "Eval set: Average loss: 0.3141, Accuracy: 10600/12000 (88%)\n",
            "Train Epoch: 3 [7500/48000 (16%)]\tLoss: 0.278943\tAcc: 90.7\n",
            "Train Epoch: 3 [15000/48000 (31%)]\tLoss: 0.498706\tAcc: 76.0\n",
            "Train Epoch: 3 [22500/48000 (47%)]\tLoss: 0.288320\tAcc: 89.3\n",
            "Train Epoch: 3 [30000/48000 (62%)]\tLoss: 0.363369\tAcc: 90.7\n",
            "Train Epoch: 3 [37500/48000 (78%)]\tLoss: 0.418620\tAcc: 85.3\n",
            "Train Epoch: 3 [45000/48000 (94%)]\tLoss: 0.348707\tAcc: 89.3\n",
            "Train Epoch: 3 [48000/48000 (100%)]\tLoss: 0.354796\tAcc: 89.3\n",
            "Eval set: Average loss: 0.3074, Accuracy: 10602/12000 (88%)\n",
            "Train Epoch: 4 [7500/48000 (16%)]\tLoss: 0.296135\tAcc: 90.7\n",
            "Train Epoch: 4 [15000/48000 (31%)]\tLoss: 0.488030\tAcc: 77.3\n",
            "Train Epoch: 4 [22500/48000 (47%)]\tLoss: 0.282505\tAcc: 86.7\n",
            "Train Epoch: 4 [30000/48000 (62%)]\tLoss: 0.336486\tAcc: 88.0\n",
            "Train Epoch: 4 [37500/48000 (78%)]\tLoss: 0.292350\tAcc: 86.7\n",
            "Train Epoch: 4 [45000/48000 (94%)]\tLoss: 0.353616\tAcc: 84.0\n",
            "Train Epoch: 4 [48000/48000 (100%)]\tLoss: 0.319098\tAcc: 88.0\n",
            "Eval set: Average loss: 0.2703, Accuracy: 10810/12000 (90%)\n",
            "Train Epoch: 5 [7500/48000 (16%)]\tLoss: 0.390126\tAcc: 85.3\n",
            "Train Epoch: 5 [15000/48000 (31%)]\tLoss: 0.238614\tAcc: 92.0\n",
            "Train Epoch: 5 [22500/48000 (47%)]\tLoss: 0.162203\tAcc: 94.7\n",
            "Train Epoch: 5 [30000/48000 (62%)]\tLoss: 0.291100\tAcc: 88.0\n",
            "Train Epoch: 5 [37500/48000 (78%)]\tLoss: 0.274542\tAcc: 86.7\n",
            "Train Epoch: 5 [45000/48000 (94%)]\tLoss: 0.359601\tAcc: 86.7\n",
            "Train Epoch: 5 [48000/48000 (100%)]\tLoss: 0.490965\tAcc: 86.7\n",
            "Eval set: Average loss: 0.2799, Accuracy: 10716/12000 (89%)\n",
            "Train Epoch: 6 [7500/48000 (16%)]\tLoss: 0.220126\tAcc: 93.3\n",
            "Train Epoch: 6 [15000/48000 (31%)]\tLoss: 0.531482\tAcc: 84.0\n",
            "Train Epoch: 6 [22500/48000 (47%)]\tLoss: 0.180925\tAcc: 94.7\n",
            "Train Epoch: 6 [30000/48000 (62%)]\tLoss: 0.394277\tAcc: 88.0\n",
            "Train Epoch: 6 [37500/48000 (78%)]\tLoss: 0.194855\tAcc: 92.0\n",
            "Train Epoch: 6 [45000/48000 (94%)]\tLoss: 0.601904\tAcc: 81.3\n",
            "Train Epoch: 6 [48000/48000 (100%)]\tLoss: 0.278815\tAcc: 89.3\n",
            "Eval set: Average loss: 0.2670, Accuracy: 10821/12000 (90%)\n",
            "Train Epoch: 7 [7500/48000 (16%)]\tLoss: 0.272467\tAcc: 86.7\n",
            "Train Epoch: 7 [15000/48000 (31%)]\tLoss: 0.299273\tAcc: 89.3\n",
            "Train Epoch: 7 [22500/48000 (47%)]\tLoss: 0.295561\tAcc: 89.3\n",
            "Train Epoch: 7 [30000/48000 (62%)]\tLoss: 0.408801\tAcc: 85.3\n",
            "Train Epoch: 7 [37500/48000 (78%)]\tLoss: 0.246430\tAcc: 89.3\n",
            "Train Epoch: 7 [45000/48000 (94%)]\tLoss: 0.464653\tAcc: 78.7\n",
            "Train Epoch: 7 [48000/48000 (100%)]\tLoss: 0.360114\tAcc: 89.3\n",
            "Eval set: Average loss: 0.2693, Accuracy: 10821/12000 (90%)\n",
            "Train Epoch: 8 [7500/48000 (16%)]\tLoss: 0.167691\tAcc: 92.0\n",
            "Train Epoch: 8 [15000/48000 (31%)]\tLoss: 0.209227\tAcc: 92.0\n",
            "Train Epoch: 8 [22500/48000 (47%)]\tLoss: 0.190571\tAcc: 93.3\n",
            "Train Epoch: 8 [30000/48000 (62%)]\tLoss: 0.228503\tAcc: 94.7\n",
            "Train Epoch: 8 [37500/48000 (78%)]\tLoss: 0.249771\tAcc: 93.3\n",
            "Train Epoch: 8 [45000/48000 (94%)]\tLoss: 0.331169\tAcc: 85.3\n",
            "Train Epoch: 8 [48000/48000 (100%)]\tLoss: 0.177576\tAcc: 96.0\n",
            "Eval set: Average loss: 0.2582, Accuracy: 10874/12000 (91%)\n",
            "Train Epoch: 9 [7500/48000 (16%)]\tLoss: 0.349499\tAcc: 86.7\n",
            "Train Epoch: 9 [15000/48000 (31%)]\tLoss: 0.278017\tAcc: 89.3\n",
            "Train Epoch: 9 [22500/48000 (47%)]\tLoss: 0.384113\tAcc: 85.3\n",
            "Train Epoch: 9 [30000/48000 (62%)]\tLoss: 0.276972\tAcc: 89.3\n",
            "Train Epoch: 9 [37500/48000 (78%)]\tLoss: 0.224145\tAcc: 92.0\n",
            "Train Epoch: 9 [45000/48000 (94%)]\tLoss: 0.182224\tAcc: 93.3\n",
            "Train Epoch: 9 [48000/48000 (100%)]\tLoss: 0.302701\tAcc: 92.0\n",
            "Eval set: Average loss: 0.2631, Accuracy: 10839/12000 (90%)\n",
            "Train Epoch: 10 [7500/48000 (16%)]\tLoss: 0.178828\tAcc: 90.7\n",
            "Train Epoch: 10 [15000/48000 (31%)]\tLoss: 0.286465\tAcc: 88.0\n",
            "Train Epoch: 10 [22500/48000 (47%)]\tLoss: 0.231483\tAcc: 92.0\n",
            "Train Epoch: 10 [30000/48000 (62%)]\tLoss: 0.280812\tAcc: 88.0\n",
            "Train Epoch: 10 [37500/48000 (78%)]\tLoss: 0.316023\tAcc: 88.0\n",
            "Train Epoch: 10 [45000/48000 (94%)]\tLoss: 0.327282\tAcc: 88.0\n",
            "Train Epoch: 10 [48000/48000 (100%)]\tLoss: 0.396455\tAcc: 85.3\n",
            "Eval set: Average loss: 0.2598, Accuracy: 10869/12000 (91%)\n",
            "Train Epoch: 11 [7500/48000 (16%)]\tLoss: 0.291214\tAcc: 92.0\n",
            "Train Epoch: 11 [15000/48000 (31%)]\tLoss: 0.272808\tAcc: 90.7\n",
            "Train Epoch: 11 [22500/48000 (47%)]\tLoss: 0.297544\tAcc: 90.7\n",
            "Train Epoch: 11 [30000/48000 (62%)]\tLoss: 0.194645\tAcc: 93.3\n",
            "Train Epoch: 11 [37500/48000 (78%)]\tLoss: 0.321747\tAcc: 92.0\n",
            "Train Epoch: 11 [45000/48000 (94%)]\tLoss: 0.439689\tAcc: 88.0\n",
            "Train Epoch: 11 [48000/48000 (100%)]\tLoss: 0.164827\tAcc: 93.3\n",
            "Eval set: Average loss: 0.3049, Accuracy: 10701/12000 (89%)\n",
            "Train Epoch: 12 [7500/48000 (16%)]\tLoss: 0.398801\tAcc: 89.3\n",
            "Train Epoch: 12 [15000/48000 (31%)]\tLoss: 0.394176\tAcc: 88.0\n",
            "Train Epoch: 12 [22500/48000 (47%)]\tLoss: 0.329523\tAcc: 89.3\n",
            "Train Epoch: 12 [30000/48000 (62%)]\tLoss: 0.238451\tAcc: 90.7\n",
            "Train Epoch: 12 [37500/48000 (78%)]\tLoss: 0.302158\tAcc: 86.7\n",
            "Train Epoch: 12 [45000/48000 (94%)]\tLoss: 0.304602\tAcc: 88.0\n",
            "Train Epoch: 12 [48000/48000 (100%)]\tLoss: 0.343459\tAcc: 82.7\n",
            "Eval set: Average loss: 0.2563, Accuracy: 10859/12000 (90%)\n",
            "Train Epoch: 13 [7500/48000 (16%)]\tLoss: 0.240517\tAcc: 88.0\n",
            "Train Epoch: 13 [15000/48000 (31%)]\tLoss: 0.216868\tAcc: 92.0\n",
            "Train Epoch: 13 [22500/48000 (47%)]\tLoss: 0.211656\tAcc: 90.7\n",
            "Train Epoch: 13 [30000/48000 (62%)]\tLoss: 0.318588\tAcc: 93.3\n",
            "Train Epoch: 13 [37500/48000 (78%)]\tLoss: 0.231052\tAcc: 90.7\n",
            "Train Epoch: 13 [45000/48000 (94%)]\tLoss: 0.224792\tAcc: 88.0\n",
            "Train Epoch: 13 [48000/48000 (100%)]\tLoss: 0.309150\tAcc: 86.7\n",
            "Eval set: Average loss: 0.2774, Accuracy: 10782/12000 (90%)\n",
            "Train Epoch: 14 [7500/48000 (16%)]\tLoss: 0.323341\tAcc: 90.7\n",
            "Train Epoch: 14 [15000/48000 (31%)]\tLoss: 0.253942\tAcc: 90.7\n",
            "Train Epoch: 14 [22500/48000 (47%)]\tLoss: 0.261853\tAcc: 93.3\n",
            "Train Epoch: 14 [30000/48000 (62%)]\tLoss: 0.323730\tAcc: 88.0\n",
            "Train Epoch: 14 [37500/48000 (78%)]\tLoss: 0.248627\tAcc: 90.7\n",
            "Train Epoch: 14 [45000/48000 (94%)]\tLoss: 0.201872\tAcc: 93.3\n",
            "Train Epoch: 14 [48000/48000 (100%)]\tLoss: 0.470059\tAcc: 86.7\n",
            "Eval set: Average loss: 0.2612, Accuracy: 10879/12000 (91%)\n",
            "Train Epoch: 15 [7500/48000 (16%)]\tLoss: 0.135908\tAcc: 94.7\n",
            "Train Epoch: 15 [15000/48000 (31%)]\tLoss: 0.196377\tAcc: 94.7\n",
            "Train Epoch: 15 [22500/48000 (47%)]\tLoss: 0.311264\tAcc: 86.7\n",
            "Train Epoch: 15 [30000/48000 (62%)]\tLoss: 0.216289\tAcc: 93.3\n",
            "Train Epoch: 15 [37500/48000 (78%)]\tLoss: 0.358905\tAcc: 86.7\n",
            "Train Epoch: 15 [45000/48000 (94%)]\tLoss: 0.368715\tAcc: 85.3\n",
            "Train Epoch: 15 [48000/48000 (100%)]\tLoss: 0.321914\tAcc: 92.0\n",
            "Eval set: Average loss: 0.2487, Accuracy: 10916/12000 (91%)\n",
            "Train Epoch: 16 [7500/48000 (16%)]\tLoss: 0.162310\tAcc: 93.3\n",
            "Train Epoch: 16 [15000/48000 (31%)]\tLoss: 0.164462\tAcc: 93.3\n",
            "Train Epoch: 16 [22500/48000 (47%)]\tLoss: 0.185372\tAcc: 93.3\n",
            "Train Epoch: 16 [30000/48000 (62%)]\tLoss: 0.229668\tAcc: 90.7\n",
            "Train Epoch: 16 [37500/48000 (78%)]\tLoss: 0.164150\tAcc: 94.7\n",
            "Train Epoch: 16 [45000/48000 (94%)]\tLoss: 0.256611\tAcc: 90.7\n",
            "Train Epoch: 16 [48000/48000 (100%)]\tLoss: 0.339536\tAcc: 89.3\n",
            "Eval set: Average loss: 0.2661, Accuracy: 10812/12000 (90%)\n",
            "Train Epoch: 17 [7500/48000 (16%)]\tLoss: 0.160638\tAcc: 96.0\n",
            "Train Epoch: 17 [15000/48000 (31%)]\tLoss: 0.157892\tAcc: 97.3\n",
            "Train Epoch: 17 [22500/48000 (47%)]\tLoss: 0.274916\tAcc: 92.0\n",
            "Train Epoch: 17 [30000/48000 (62%)]\tLoss: 0.380244\tAcc: 86.7\n",
            "Train Epoch: 17 [37500/48000 (78%)]\tLoss: 0.350598\tAcc: 85.3\n",
            "Train Epoch: 17 [45000/48000 (94%)]\tLoss: 0.190809\tAcc: 94.7\n",
            "Train Epoch: 17 [48000/48000 (100%)]\tLoss: 0.262055\tAcc: 90.7\n",
            "Eval set: Average loss: 0.2823, Accuracy: 10723/12000 (89%)\n",
            "Train Epoch: 18 [7500/48000 (16%)]\tLoss: 0.134399\tAcc: 94.7\n",
            "Train Epoch: 18 [15000/48000 (31%)]\tLoss: 0.227424\tAcc: 93.3\n",
            "Train Epoch: 18 [22500/48000 (47%)]\tLoss: 0.276591\tAcc: 90.7\n",
            "Train Epoch: 18 [30000/48000 (62%)]\tLoss: 0.289137\tAcc: 88.0\n",
            "Train Epoch: 18 [37500/48000 (78%)]\tLoss: 0.258712\tAcc: 92.0\n",
            "Train Epoch: 18 [45000/48000 (94%)]\tLoss: 0.228824\tAcc: 93.3\n",
            "Train Epoch: 18 [48000/48000 (100%)]\tLoss: 0.349744\tAcc: 86.7\n",
            "Eval set: Average loss: 0.2403, Accuracy: 10934/12000 (91%)\n",
            "Train Epoch: 19 [7500/48000 (16%)]\tLoss: 0.235361\tAcc: 92.0\n",
            "Train Epoch: 19 [15000/48000 (31%)]\tLoss: 0.414406\tAcc: 85.3\n",
            "Train Epoch: 19 [22500/48000 (47%)]\tLoss: 0.135478\tAcc: 96.0\n",
            "Train Epoch: 19 [30000/48000 (62%)]\tLoss: 0.259523\tAcc: 88.0\n",
            "Train Epoch: 19 [37500/48000 (78%)]\tLoss: 0.254053\tAcc: 88.0\n",
            "Train Epoch: 19 [45000/48000 (94%)]\tLoss: 0.192061\tAcc: 92.0\n",
            "Train Epoch: 19 [48000/48000 (100%)]\tLoss: 0.260144\tAcc: 88.0\n",
            "Eval set: Average loss: 0.2490, Accuracy: 10920/12000 (91%)\n",
            "Train Epoch: 20 [7500/48000 (16%)]\tLoss: 0.279877\tAcc: 90.7\n",
            "Train Epoch: 20 [15000/48000 (31%)]\tLoss: 0.407112\tAcc: 88.0\n",
            "Train Epoch: 20 [22500/48000 (47%)]\tLoss: 0.213666\tAcc: 93.3\n",
            "Train Epoch: 20 [30000/48000 (62%)]\tLoss: 0.223955\tAcc: 92.0\n",
            "Train Epoch: 20 [37500/48000 (78%)]\tLoss: 0.344584\tAcc: 85.3\n",
            "Train Epoch: 20 [45000/48000 (94%)]\tLoss: 0.246243\tAcc: 89.3\n",
            "Train Epoch: 20 [48000/48000 (100%)]\tLoss: 0.184508\tAcc: 89.3\n",
            "Eval set: Average loss: 0.2424, Accuracy: 10948/12000 (91%)\n"
          ],
          "name": "stdout"
        },
        {
          "output_type": "display_data",
          "data": {
            "image/png": "[encoded data removed]",
            "text/plain": [
              "<Figure size 720x576 with 2 Axes>"
            ]
          },
          "metadata": {
            "tags": [],
            "needs_background": "light"
          }
        }
      ]
    },
    {
      "cell_type": "markdown",
      "metadata": {
        "id": "J1MoVsWbOQw-",
        "colab_type": "text"
      },
      "source": [
        "Also this model generlzes quite well, as we can seem from the accuracy and loos of the validation sets which keeps improving per each iteration. Accuracy and loss are quite high on both training and validation"
      ]
    },
    {
      "cell_type": "markdown",
      "metadata": {
        "id": "ksn1lFPTq_TR",
        "colab_type": "text"
      },
      "source": [
        "##We can now test the BigNetDropout (the model that so far has given the best results) using the unseen observation of the test set"
      ]
    },
    {
      "cell_type": "code",
      "metadata": {
        "id": "AZeJ01pLIAiZ",
        "colab_type": "code",
        "colab": {}
      },
      "source": [
        "def test_epoch(test_loader, network, criterion, hparams):\n",
        "    network.eval()\n",
        "    device = hparams['device']\n",
        "    test_loss = 0\n",
        "    acc = 0\n",
        "    with torch.no_grad():\n",
        "        for data, target in test_loader:\n",
        "            data, target = data.to(device), target.to(device)\n",
        "            output = network(data)\n",
        "            test_loss += criterion(output, target, reduction='sum').item() # sum up batch loss\n",
        "            # compute number of correct predictions in the batch\n",
        "            acc += correct_predictions(output, target)\n",
        "    # Average acc across all correct predictions batches now\n",
        "    test_loss /= len(test_set)\n",
        "    test_acc = 100. * acc / len(test_set)\n",
        "    print('Test set: Average loss: {:.4f}, Accuracy: {}/{} ({:.0f}%)'.format(\n",
        "        test_loss, acc, len(test_set), test_acc,\n",
        "        ))\n",
        "    return test_loss, test_acc"
      ],
      "execution_count": 0,
      "outputs": []
    },
    {
      "cell_type": "code",
      "metadata": {
        "id": "GsZD5qR3NY7-",
        "colab_type": "code",
        "outputId": "cc57eee2-08ce-4175-f1fd-1f0805854434",
        "colab": {
          "base_uri": "https://localhost:8080/",
          "height": 88
        }
      },
      "source": [
        "test_loader = DataLoader(test_set, batch_size=50, shuffle=False, num_workers=4)\n",
        "dropout= 0.4\n",
        "newnetwork = BigNetDropout(dropout)\n",
        "newnetwork.to(hparams['device'])\n",
        "optimizer = optim.Adam(newnetwork.parameters(),  weight_decay=0.001, lr=hparams['learning_rate']) \n",
        "\n",
        "test_model= test_epoch(test_loader, network, criterion, hparams)"
      ],
      "execution_count": 37,
      "outputs": [
        {
          "output_type": "stream",
          "text": [
            "/usr/local/lib/python3.6/dist-packages/torch/nn/modules/container.py:100: UserWarning: Implicit dimension choice for log_softmax has been deprecated. Change the call to include dim=X as an argument.\n",
            "  input = module(input)\n"
          ],
          "name": "stderr"
        },
        {
          "output_type": "stream",
          "text": [
            "Test set: Average loss: 0.3550, Accuracy: 9022/10000 (90%)\n"
          ],
          "name": "stdout"
        }
      ]
    }
  ]
}