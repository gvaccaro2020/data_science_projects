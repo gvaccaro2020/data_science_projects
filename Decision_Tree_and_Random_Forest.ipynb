{
  "nbformat": 4,
  "nbformat_minor": 0,
  "metadata": {
    "colab": {
      "name": "Decision_Tree_and_Random_Forest.ipynb",
      "provenance": []
    },
    "kernelspec": {
      "name": "python3",
      "display_name": "Python 3"
    }
  },
  "cells": [
    {
      "cell_type": "markdown",
      "metadata": {
        "id": "W7s41S3UJhii",
        "colab_type": "text"
      },
      "source": [
        ""
      ]
    },
    {
      "cell_type": "markdown",
      "metadata": {
        "id": "_x8JtddBJj-0",
        "colab_type": "text"
      },
      "source": [
        "**IMPLEMENTATION OF DECISION TREE AND RANDOM FOREST**"
      ]
    },
    {
      "cell_type": "markdown",
      "metadata": {
        "id": "A2td3BrdJpvS",
        "colab_type": "text"
      },
      "source": [
        "**Use of the bank marketing data set to deploy a decision tree first and later a random forest algorithm in ordet to predict whether or not a bank customer is likely to subscrive to a term deposit given a set of 13 features**"
      ]
    },
    {
      "cell_type": "code",
      "metadata": {
        "id": "Fp751lXVKZez",
        "colab_type": "code",
        "colab": {
          "resources": {
            "http://localhost:8080/nbextensions/google.colab/files.js": {
              "data": "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",
              "ok": true,
              "headers": [
                [
                  "content-type",
                  "application/javascript"
                ]
              ],
              "status": 200,
              "status_text": ""
            }
          },
          "base_uri": "https://localhost:8080/",
          "height": 71
        },
        "outputId": "719a5117-c27d-4385-88ba-7beedaceaf26"
      },
      "source": [
        "from google.colab import files\n",
        "uploaded = files.upload()"
      ],
      "execution_count": 4,
      "outputs": [
        {
          "output_type": "display_data",
          "data": {
            "text/html": [
              "\n",
              "     <input type=\"file\" id=\"files-c8ffbe44-ae5b-4c35-bfbe-f40fbd2eaf2b\" name=\"files[]\" multiple disabled />\n",
              "     <output id=\"result-c8ffbe44-ae5b-4c35-bfbe-f40fbd2eaf2b\">\n",
              "      Upload widget is only available when the cell has been executed in the\n",
              "      current browser session. Please rerun this cell to enable.\n",
              "      </output>\n",
              "      <script src=\"/nbextensions/google.colab/files.js\"></script> "
            ],
            "text/plain": [
              "<IPython.core.display.HTML object>"
            ]
          },
          "metadata": {
            "tags": []
          }
        },
        {
          "output_type": "stream",
          "text": [
            "Saving bank.csv to bank.csv\n"
          ],
          "name": "stdout"
        }
      ]
    },
    {
      "cell_type": "code",
      "metadata": {
        "id": "DI7MJ3G-Lq0J",
        "colab_type": "code",
        "colab": {}
      },
      "source": [
        "import pandas as pd\n",
        "import numpy as np\n",
        "import io\n",
        "bank = pd.read_csv(io.BytesIO(uploaded['bank.csv']))"
      ],
      "execution_count": 0,
      "outputs": []
    },
    {
      "cell_type": "code",
      "metadata": {
        "id": "X0YKYU-aL9SL",
        "colab_type": "code",
        "colab": {
          "base_uri": "https://localhost:8080/",
          "height": 204
        },
        "outputId": "6b341ac7-c252-49f3-80eb-9de8c3a41cad"
      },
      "source": [
        "bank.head()"
      ],
      "execution_count": 6,
      "outputs": [
        {
          "output_type": "execute_result",
          "data": {
            "text/html": [
              "<div>\n",
              "<style scoped>\n",
              "    .dataframe tbody tr th:only-of-type {\n",
              "        vertical-align: middle;\n",
              "    }\n",
              "\n",
              "    .dataframe tbody tr th {\n",
              "        vertical-align: top;\n",
              "    }\n",
              "\n",
              "    .dataframe thead th {\n",
              "        text-align: right;\n",
              "    }\n",
              "</style>\n",
              "<table border=\"1\" class=\"dataframe\">\n",
              "  <thead>\n",
              "    <tr style=\"text-align: right;\">\n",
              "      <th></th>\n",
              "      <th>age</th>\n",
              "      <th>job</th>\n",
              "      <th>marital</th>\n",
              "      <th>education</th>\n",
              "      <th>default</th>\n",
              "      <th>balance</th>\n",
              "      <th>housing</th>\n",
              "      <th>loan</th>\n",
              "      <th>contact</th>\n",
              "      <th>day</th>\n",
              "      <th>month</th>\n",
              "      <th>duration</th>\n",
              "      <th>campaign</th>\n",
              "      <th>pdays</th>\n",
              "      <th>previous</th>\n",
              "      <th>poutcome</th>\n",
              "      <th>deposit</th>\n",
              "    </tr>\n",
              "  </thead>\n",
              "  <tbody>\n",
              "    <tr>\n",
              "      <th>0</th>\n",
              "      <td>59</td>\n",
              "      <td>admin.</td>\n",
              "      <td>married</td>\n",
              "      <td>secondary</td>\n",
              "      <td>no</td>\n",
              "      <td>2343</td>\n",
              "      <td>yes</td>\n",
              "      <td>no</td>\n",
              "      <td>unknown</td>\n",
              "      <td>5</td>\n",
              "      <td>may</td>\n",
              "      <td>1042</td>\n",
              "      <td>1</td>\n",
              "      <td>-1</td>\n",
              "      <td>0</td>\n",
              "      <td>unknown</td>\n",
              "      <td>yes</td>\n",
              "    </tr>\n",
              "    <tr>\n",
              "      <th>1</th>\n",
              "      <td>56</td>\n",
              "      <td>admin.</td>\n",
              "      <td>married</td>\n",
              "      <td>secondary</td>\n",
              "      <td>no</td>\n",
              "      <td>45</td>\n",
              "      <td>no</td>\n",
              "      <td>no</td>\n",
              "      <td>unknown</td>\n",
              "      <td>5</td>\n",
              "      <td>may</td>\n",
              "      <td>1467</td>\n",
              "      <td>1</td>\n",
              "      <td>-1</td>\n",
              "      <td>0</td>\n",
              "      <td>unknown</td>\n",
              "      <td>yes</td>\n",
              "    </tr>\n",
              "    <tr>\n",
              "      <th>2</th>\n",
              "      <td>41</td>\n",
              "      <td>technician</td>\n",
              "      <td>married</td>\n",
              "      <td>secondary</td>\n",
              "      <td>no</td>\n",
              "      <td>1270</td>\n",
              "      <td>yes</td>\n",
              "      <td>no</td>\n",
              "      <td>unknown</td>\n",
              "      <td>5</td>\n",
              "      <td>may</td>\n",
              "      <td>1389</td>\n",
              "      <td>1</td>\n",
              "      <td>-1</td>\n",
              "      <td>0</td>\n",
              "      <td>unknown</td>\n",
              "      <td>yes</td>\n",
              "    </tr>\n",
              "    <tr>\n",
              "      <th>3</th>\n",
              "      <td>55</td>\n",
              "      <td>services</td>\n",
              "      <td>married</td>\n",
              "      <td>secondary</td>\n",
              "      <td>no</td>\n",
              "      <td>2476</td>\n",
              "      <td>yes</td>\n",
              "      <td>no</td>\n",
              "      <td>unknown</td>\n",
              "      <td>5</td>\n",
              "      <td>may</td>\n",
              "      <td>579</td>\n",
              "      <td>1</td>\n",
              "      <td>-1</td>\n",
              "      <td>0</td>\n",
              "      <td>unknown</td>\n",
              "      <td>yes</td>\n",
              "    </tr>\n",
              "    <tr>\n",
              "      <th>4</th>\n",
              "      <td>54</td>\n",
              "      <td>admin.</td>\n",
              "      <td>married</td>\n",
              "      <td>tertiary</td>\n",
              "      <td>no</td>\n",
              "      <td>184</td>\n",
              "      <td>no</td>\n",
              "      <td>no</td>\n",
              "      <td>unknown</td>\n",
              "      <td>5</td>\n",
              "      <td>may</td>\n",
              "      <td>673</td>\n",
              "      <td>2</td>\n",
              "      <td>-1</td>\n",
              "      <td>0</td>\n",
              "      <td>unknown</td>\n",
              "      <td>yes</td>\n",
              "    </tr>\n",
              "  </tbody>\n",
              "</table>\n",
              "</div>"
            ],
            "text/plain": [
              "   age         job  marital  education  ... pdays  previous poutcome deposit\n",
              "0   59      admin.  married  secondary  ...    -1         0  unknown     yes\n",
              "1   56      admin.  married  secondary  ...    -1         0  unknown     yes\n",
              "2   41  technician  married  secondary  ...    -1         0  unknown     yes\n",
              "3   55    services  married  secondary  ...    -1         0  unknown     yes\n",
              "4   54      admin.  married   tertiary  ...    -1         0  unknown     yes\n",
              "\n",
              "[5 rows x 17 columns]"
            ]
          },
          "metadata": {
            "tags": []
          },
          "execution_count": 6
        }
      ]
    },
    {
      "cell_type": "markdown",
      "metadata": {
        "id": "_NyLY85_MCIg",
        "colab_type": "text"
      },
      "source": [
        "Description of data\n",
        "\n",
        "Numerical Variables:\n",
        "\n",
        "a) age\n",
        "\n",
        "b) balance\n",
        "\n",
        "c) day\n",
        "\n",
        "d) duration\n",
        "\n",
        "e) campaign\n",
        "\n",
        "f) pdays\n",
        "\n",
        "g) previous\n",
        "\n",
        "Categorical Variables :\n",
        "\n",
        "a) job : admin,technician, services, management, retired, blue-collar, unemployed, entrepreneur, housemaid, unknown, self-employed, student\n",
        "\n",
        "b) marital : married, single, divorced\n",
        "\n",
        "c) education: secondary, tertiary, primary, unknown\n",
        "\n",
        "d) default : yes, no\n",
        "\n",
        "e) housing : yes, no\n",
        "\n",
        "f) loan : yes, no\n",
        "\n",
        "g) deposit (has the client subscribed to a term deposit?) : yes, no (Dependent Variable)\n",
        "\n",
        "h) contact : unknown, cellular, telephone\n",
        "\n",
        "i) month : jan, feb, mar, apr, may, jun, jul, aug, sep, oct, nov, dec\n",
        "\n",
        "j) poutcome (outcome of previous marketing campaigns): unknown, other, failure, success"
      ]
    },
    {
      "cell_type": "code",
      "metadata": {
        "id": "3U4oC4XxMEig",
        "colab_type": "code",
        "colab": {
          "base_uri": "https://localhost:8080/",
          "height": 340
        },
        "outputId": "05377e71-61c1-4da3-e896-becaa1b4ee7c"
      },
      "source": [
        "print(bank.isna().values.any())\n",
        "null_values=bank.isna().sum().sort_values(ascending=False)\n",
        "null_values"
      ],
      "execution_count": 7,
      "outputs": [
        {
          "output_type": "stream",
          "text": [
            "False\n"
          ],
          "name": "stdout"
        },
        {
          "output_type": "execute_result",
          "data": {
            "text/plain": [
              "deposit      0\n",
              "loan         0\n",
              "job          0\n",
              "marital      0\n",
              "education    0\n",
              "default      0\n",
              "balance      0\n",
              "housing      0\n",
              "contact      0\n",
              "poutcome     0\n",
              "day          0\n",
              "month        0\n",
              "duration     0\n",
              "campaign     0\n",
              "pdays        0\n",
              "previous     0\n",
              "age          0\n",
              "dtype: int64"
            ]
          },
          "metadata": {
            "tags": []
          },
          "execution_count": 7
        }
      ]
    },
    {
      "cell_type": "code",
      "metadata": {
        "id": "xejfhOm7MIXM",
        "colab_type": "code",
        "colab": {
          "base_uri": "https://localhost:8080/",
          "height": 297
        },
        "outputId": "157e8786-c417-4a8d-b354-eb1c129693ba"
      },
      "source": [
        "bank.describe()"
      ],
      "execution_count": 15,
      "outputs": [
        {
          "output_type": "execute_result",
          "data": {
            "text/html": [
              "<div>\n",
              "<style scoped>\n",
              "    .dataframe tbody tr th:only-of-type {\n",
              "        vertical-align: middle;\n",
              "    }\n",
              "\n",
              "    .dataframe tbody tr th {\n",
              "        vertical-align: top;\n",
              "    }\n",
              "\n",
              "    .dataframe thead th {\n",
              "        text-align: right;\n",
              "    }\n",
              "</style>\n",
              "<table border=\"1\" class=\"dataframe\">\n",
              "  <thead>\n",
              "    <tr style=\"text-align: right;\">\n",
              "      <th></th>\n",
              "      <th>age</th>\n",
              "      <th>balance</th>\n",
              "      <th>day</th>\n",
              "      <th>duration</th>\n",
              "      <th>campaign</th>\n",
              "      <th>pdays</th>\n",
              "      <th>previous</th>\n",
              "    </tr>\n",
              "  </thead>\n",
              "  <tbody>\n",
              "    <tr>\n",
              "      <th>count</th>\n",
              "      <td>11162.000000</td>\n",
              "      <td>11162.000000</td>\n",
              "      <td>11162.000000</td>\n",
              "      <td>11162.000000</td>\n",
              "      <td>11162.000000</td>\n",
              "      <td>11162.000000</td>\n",
              "      <td>11162.000000</td>\n",
              "    </tr>\n",
              "    <tr>\n",
              "      <th>mean</th>\n",
              "      <td>41.231948</td>\n",
              "      <td>1528.538524</td>\n",
              "      <td>15.658036</td>\n",
              "      <td>371.993818</td>\n",
              "      <td>2.508421</td>\n",
              "      <td>51.330407</td>\n",
              "      <td>0.832557</td>\n",
              "    </tr>\n",
              "    <tr>\n",
              "      <th>std</th>\n",
              "      <td>11.913369</td>\n",
              "      <td>3225.413326</td>\n",
              "      <td>8.420740</td>\n",
              "      <td>347.128386</td>\n",
              "      <td>2.722077</td>\n",
              "      <td>108.758282</td>\n",
              "      <td>2.292007</td>\n",
              "    </tr>\n",
              "    <tr>\n",
              "      <th>min</th>\n",
              "      <td>18.000000</td>\n",
              "      <td>-6847.000000</td>\n",
              "      <td>1.000000</td>\n",
              "      <td>2.000000</td>\n",
              "      <td>1.000000</td>\n",
              "      <td>-1.000000</td>\n",
              "      <td>0.000000</td>\n",
              "    </tr>\n",
              "    <tr>\n",
              "      <th>25%</th>\n",
              "      <td>32.000000</td>\n",
              "      <td>122.000000</td>\n",
              "      <td>8.000000</td>\n",
              "      <td>138.000000</td>\n",
              "      <td>1.000000</td>\n",
              "      <td>-1.000000</td>\n",
              "      <td>0.000000</td>\n",
              "    </tr>\n",
              "    <tr>\n",
              "      <th>50%</th>\n",
              "      <td>39.000000</td>\n",
              "      <td>550.000000</td>\n",
              "      <td>15.000000</td>\n",
              "      <td>255.000000</td>\n",
              "      <td>2.000000</td>\n",
              "      <td>-1.000000</td>\n",
              "      <td>0.000000</td>\n",
              "    </tr>\n",
              "    <tr>\n",
              "      <th>75%</th>\n",
              "      <td>49.000000</td>\n",
              "      <td>1708.000000</td>\n",
              "      <td>22.000000</td>\n",
              "      <td>496.000000</td>\n",
              "      <td>3.000000</td>\n",
              "      <td>20.750000</td>\n",
              "      <td>1.000000</td>\n",
              "    </tr>\n",
              "    <tr>\n",
              "      <th>max</th>\n",
              "      <td>95.000000</td>\n",
              "      <td>81204.000000</td>\n",
              "      <td>31.000000</td>\n",
              "      <td>3881.000000</td>\n",
              "      <td>63.000000</td>\n",
              "      <td>854.000000</td>\n",
              "      <td>58.000000</td>\n",
              "    </tr>\n",
              "  </tbody>\n",
              "</table>\n",
              "</div>"
            ],
            "text/plain": [
              "                age       balance  ...         pdays      previous\n",
              "count  11162.000000  11162.000000  ...  11162.000000  11162.000000\n",
              "mean      41.231948   1528.538524  ...     51.330407      0.832557\n",
              "std       11.913369   3225.413326  ...    108.758282      2.292007\n",
              "min       18.000000  -6847.000000  ...     -1.000000      0.000000\n",
              "25%       32.000000    122.000000  ...     -1.000000      0.000000\n",
              "50%       39.000000    550.000000  ...     -1.000000      0.000000\n",
              "75%       49.000000   1708.000000  ...     20.750000      1.000000\n",
              "max       95.000000  81204.000000  ...    854.000000     58.000000\n",
              "\n",
              "[8 rows x 7 columns]"
            ]
          },
          "metadata": {
            "tags": []
          },
          "execution_count": 15
        }
      ]
    },
    {
      "cell_type": "markdown",
      "metadata": {
        "id": "Uu_aXAo5MNgm",
        "colab_type": "text"
      },
      "source": [
        "**Data cleaning**"
      ]
    },
    {
      "cell_type": "code",
      "metadata": {
        "id": "BTOHZpHTMQs4",
        "colab_type": "code",
        "colab": {}
      },
      "source": [
        "# Some categories are going to be grouped together to streamline the analysis\n",
        "bank['job'] = bank['job'].replace(['management', 'admin.'], 'white-collar')\n",
        "bank['job'] = bank['job'].replace(['services','housemaid','unknown'], 'other')"
      ],
      "execution_count": 0,
      "outputs": []
    },
    {
      "cell_type": "code",
      "metadata": {
        "id": "PVCvyFYiM9Hh",
        "colab_type": "code",
        "colab": {}
      },
      "source": [
        "bank['poutcome'] = bank['poutcome'].replace(['other'] , 'unknown')"
      ],
      "execution_count": 0,
      "outputs": []
    },
    {
      "cell_type": "code",
      "metadata": {
        "id": "hj6Nxf2eNBKc",
        "colab_type": "code",
        "colab": {}
      },
      "source": [
        "#drop features that are not very relevant for the analysis\n",
        "bank.drop('contact', axis=1, inplace=True)"
      ],
      "execution_count": 0,
      "outputs": []
    },
    {
      "cell_type": "markdown",
      "metadata": {
        "id": "-JPmsSEeNGsC",
        "colab_type": "text"
      },
      "source": [
        "Transforming categorical variables into numerical variables"
      ]
    },
    {
      "cell_type": "code",
      "metadata": {
        "id": "1QyvOXshND3E",
        "colab_type": "code",
        "colab": {
          "base_uri": "https://localhost:8080/",
          "height": 170
        },
        "outputId": "11e7f167-676a-40aa-8cb3-39f0492c3230"
      },
      "source": [
        "cols = bank.columns\n",
        "num_cols = bank._get_numeric_data().columns\n",
        "categorical_variables = list(set(cols) - set(num_cols))\n",
        "categorical_variables "
      ],
      "execution_count": 11,
      "outputs": [
        {
          "output_type": "execute_result",
          "data": {
            "text/plain": [
              "['marital',\n",
              " 'education',\n",
              " 'housing',\n",
              " 'poutcome',\n",
              " 'month',\n",
              " 'default',\n",
              " 'job',\n",
              " 'deposit',\n",
              " 'loan']"
            ]
          },
          "metadata": {
            "tags": []
          },
          "execution_count": 11
        }
      ]
    },
    {
      "cell_type": "code",
      "metadata": {
        "id": "qtw5yOoTNRzK",
        "colab_type": "code",
        "colab": {}
      },
      "source": [
        "bank_numerical = pd.get_dummies(bank,columns=categorical_variables,drop_first=True)"
      ],
      "execution_count": 0,
      "outputs": []
    },
    {
      "cell_type": "code",
      "metadata": {
        "id": "YPhfZZGqNUji",
        "colab_type": "code",
        "colab": {
          "base_uri": "https://localhost:8080/",
          "height": 34
        },
        "outputId": "b8c73320-109e-4b9d-c198-6af151b8585a"
      },
      "source": [
        "num_cols"
      ],
      "execution_count": 13,
      "outputs": [
        {
          "output_type": "execute_result",
          "data": {
            "text/plain": [
              "Index(['age', 'balance', 'day', 'duration', 'campaign', 'pdays', 'previous'], dtype='object')"
            ]
          },
          "metadata": {
            "tags": []
          },
          "execution_count": 13
        }
      ]
    },
    {
      "cell_type": "markdown",
      "metadata": {
        "id": "qeBbW1K-NZyY",
        "colab_type": "text"
      },
      "source": [
        "Data analysis more in details\n",
        "\n",
        "Number of observations per classes of the target variable"
      ]
    },
    {
      "cell_type": "code",
      "metadata": {
        "id": "s_WbJvw8NXKM",
        "colab_type": "code",
        "colab": {
          "base_uri": "https://localhost:8080/",
          "height": 336
        },
        "outputId": "6a757f76-653e-4b3c-f5c0-e471accfceff"
      },
      "source": [
        "import matplotlib.pyplot as plt\n",
        "import matplotlib\n",
        "%matplotlib inline\n",
        "\n",
        "fig = plt.figure(figsize=(5,5))\n",
        "#ax=fig.add_subplots(1,1,1)\n",
        "\n",
        "a= (bank['deposit'][bank.deposit=='yes']).count()\n",
        "b= (bank['deposit'][bank.deposit=='no']).count()\n",
        "\n",
        "height = [a,b]\n",
        "labels= ['deposit-yes', 'deposit-no']\n",
        "y_pos = np.arange(len(labels))\n",
        "\n",
        "\n",
        "barlist=plt.bar(y_pos, height, alpha=0.7)\n",
        "barlist[0].set_color('chartreuse')\n",
        "plt.xticks(y_pos, labels)\n",
        "plt.title('number of observation per classes of target variable')\n",
        "plt.show()"
      ],
      "execution_count": 22,
      "outputs": [
        {
          "output_type": "display_data",
          "data": {
            "image/png": "[encoded data removed]",
            "text/plain": [
              "<Figure size 360x360 with 1 Axes>"
            ]
          },
          "metadata": {
            "tags": []
          }
        }
      ]
    },
    {
      "cell_type": "markdown",
      "metadata": {
        "id": "hfvr1_OHNiOM",
        "colab_type": "text"
      },
      "source": [
        "Distribution of numerical features in respect to the two classes of the targed variable"
      ]
    },
    {
      "cell_type": "code",
      "metadata": {
        "id": "ti9XSoi1NfNh",
        "colab_type": "code",
        "colab": {
          "base_uri": "https://localhost:8080/",
          "height": 879
        },
        "outputId": "e541be72-955c-4906-8b7d-cb7f82cf981c"
      },
      "source": [
        "import matplotlib.pyplot as plt\n",
        "import matplotlib\n",
        "%matplotlib inline\n",
        "\n",
        "variables = num_cols \n",
        "plots = [num for num in range(len(num_cols))] \n",
        "deposits_yes = bank[(bank.deposit=='yes')]\n",
        "deposits_no = bank[(bank.deposit=='no')]\n",
        "\n",
        "fig = plt.figure(figsize=(20,15))\n",
        "x = range(len(plots))\n",
        "\n",
        "list_plots=[]\n",
        "for num in x:\n",
        "    plots[num]= fig.add_subplot(3,3,x[num]+1)\n",
        "    list_plots.append(plots[num])\n",
        "    \n",
        "for i in x:\n",
        "    list_plots[i].hist(deposits_yes[variables[i]],alpha = 0.7)\n",
        "    list_plots[i].set_ylabel('Frequency')\n",
        "    \n",
        "for i in x:\n",
        "    list_plots[i].hist(deposits_no[variables[i]],alpha = 0.7)\n",
        "    list_plots[i].set_title(variables[i])\n",
        "    list_plots[i].set_ylabel('Frequency')\n",
        "    labels= [\"deposit_yes\",\"deposit_no\"]\n",
        "    list_plots[i].legend(labels)"
      ],
      "execution_count": 23,
      "outputs": [
        {
          "output_type": "display_data",
          "data": {
            "image/png": "[encoded data removed]",
            "text/plain": [
              "<Figure size 1440x1080 with 7 Axes>"
            ]
          },
          "metadata": {
            "tags": []
          }
        }
      ]
    },
    {
      "cell_type": "markdown",
      "metadata": {
        "id": "2UhKm3yfNnyR",
        "colab_type": "text"
      },
      "source": [
        "Distibution of categorical features in relation to the two classes of the target variable"
      ]
    },
    {
      "cell_type": "code",
      "metadata": {
        "id": "rroCh_BzNqjE",
        "colab_type": "code",
        "colab": {
          "base_uri": "https://localhost:8080/",
          "height": 1000
        },
        "outputId": "48ee55e5-8596-4a2f-c90d-0d65582b0eed"
      },
      "source": [
        "%matplotlib inline\n",
        "\n",
        "cat_variables = [x for x in categorical_variables if x != 'deposit']\n",
        "\n",
        "plots = [num for num in range(len(cat_variables))] \n",
        "tables= [str(x) for x in categorical_variables if x != 'deposit']\n",
        "\n",
        "fig = plt.figure(figsize=(15,20))\n",
        "x = range(len(plots))\n",
        "\n",
        "list_plots=[]\n",
        "list_tables=[]\n",
        "for num in x:\n",
        "    plots[num]= fig.add_subplot(4,2,x[num]+1)\n",
        "    list_plots.append(plots[num])\n",
        "    tables[num] = pd.crosstab(bank[cat_variables[num]],bank.deposit)\n",
        "    list_tables.append(tables[num])\n",
        "    \n",
        "for i in x:\n",
        "    list_tables[i].div(list_tables[i].sum(1).astype(float), axis=0).plot(kind='bar', ax= list_plots[i], alpha=0.7)             \n",
        "    list_plots[i].set_ylabel('proportion of customers')"
      ],
      "execution_count": 24,
      "outputs": [
        {
          "output_type": "display_data",
          "data": {
            "image/png": "[encoded data removed]",
            "text/plain": [
              "<Figure size 1080x1440 with 8 Axes>"
            ]
          },
          "metadata": {
            "tags": []
          }
        }
      ]
    },
    {
      "cell_type": "markdown",
      "metadata": {
        "id": "XoVm4hfINu5z",
        "colab_type": "text"
      },
      "source": [
        "All the variables are not distributed equally amongst the two classes of the target variable 'deposit', hence they are all influential when determining one of the two outcome of the target variable"
      ]
    },
    {
      "cell_type": "markdown",
      "metadata": {
        "id": "sUf5ixgjNx7N",
        "colab_type": "text"
      },
      "source": [
        "**Correlation Analysis**"
      ]
    },
    {
      "cell_type": "code",
      "metadata": {
        "id": "_m_1PqZ_N2fd",
        "colab_type": "code",
        "colab": {
          "base_uri": "https://localhost:8080/",
          "height": 700
        },
        "outputId": "f2578ca8-5311-4bb9-e29a-051ade063af0"
      },
      "source": [
        "def corrank(X):\n",
        "    import itertools\n",
        "    df = pd.DataFrame([[(i,j),X.corr().loc[i,j]] for i,j in list(itertools.combinations(X.corr(), 2))],columns=['pairs','corr'])    \n",
        "    #print(df.sort_values(by='corr',ascending=False))\n",
        "    return df.sort_values(by='corr',ascending=False)\n",
        "\n",
        "corrank(bank)"
      ],
      "execution_count": 25,
      "outputs": [
        {
          "output_type": "execute_result",
          "data": {
            "text/html": [
              "<div>\n",
              "<style scoped>\n",
              "    .dataframe tbody tr th:only-of-type {\n",
              "        vertical-align: middle;\n",
              "    }\n",
              "\n",
              "    .dataframe tbody tr th {\n",
              "        vertical-align: top;\n",
              "    }\n",
              "\n",
              "    .dataframe thead th {\n",
              "        text-align: right;\n",
              "    }\n",
              "</style>\n",
              "<table border=\"1\" class=\"dataframe\">\n",
              "  <thead>\n",
              "    <tr style=\"text-align: right;\">\n",
              "      <th></th>\n",
              "      <th>pairs</th>\n",
              "      <th>corr</th>\n",
              "    </tr>\n",
              "  </thead>\n",
              "  <tbody>\n",
              "    <tr>\n",
              "      <th>20</th>\n",
              "      <td>(pdays, previous)</td>\n",
              "      <td>0.507272</td>\n",
              "    </tr>\n",
              "    <tr>\n",
              "      <th>12</th>\n",
              "      <td>(day, campaign)</td>\n",
              "      <td>0.137007</td>\n",
              "    </tr>\n",
              "    <tr>\n",
              "      <th>0</th>\n",
              "      <td>(age, balance)</td>\n",
              "      <td>0.112300</td>\n",
              "    </tr>\n",
              "    <tr>\n",
              "      <th>10</th>\n",
              "      <td>(balance, previous)</td>\n",
              "      <td>0.030805</td>\n",
              "    </tr>\n",
              "    <tr>\n",
              "      <th>7</th>\n",
              "      <td>(balance, duration)</td>\n",
              "      <td>0.022436</td>\n",
              "    </tr>\n",
              "    <tr>\n",
              "      <th>5</th>\n",
              "      <td>(age, previous)</td>\n",
              "      <td>0.020169</td>\n",
              "    </tr>\n",
              "    <tr>\n",
              "      <th>9</th>\n",
              "      <td>(balance, pdays)</td>\n",
              "      <td>0.017411</td>\n",
              "    </tr>\n",
              "    <tr>\n",
              "      <th>6</th>\n",
              "      <td>(balance, day)</td>\n",
              "      <td>0.010467</td>\n",
              "    </tr>\n",
              "    <tr>\n",
              "      <th>4</th>\n",
              "      <td>(age, pdays)</td>\n",
              "      <td>0.002774</td>\n",
              "    </tr>\n",
              "    <tr>\n",
              "      <th>2</th>\n",
              "      <td>(age, duration)</td>\n",
              "      <td>0.000189</td>\n",
              "    </tr>\n",
              "    <tr>\n",
              "      <th>1</th>\n",
              "      <td>(age, day)</td>\n",
              "      <td>-0.000762</td>\n",
              "    </tr>\n",
              "    <tr>\n",
              "      <th>3</th>\n",
              "      <td>(age, campaign)</td>\n",
              "      <td>-0.005278</td>\n",
              "    </tr>\n",
              "    <tr>\n",
              "      <th>8</th>\n",
              "      <td>(balance, campaign)</td>\n",
              "      <td>-0.013894</td>\n",
              "    </tr>\n",
              "    <tr>\n",
              "      <th>11</th>\n",
              "      <td>(day, duration)</td>\n",
              "      <td>-0.018511</td>\n",
              "    </tr>\n",
              "    <tr>\n",
              "      <th>17</th>\n",
              "      <td>(duration, previous)</td>\n",
              "      <td>-0.026716</td>\n",
              "    </tr>\n",
              "    <tr>\n",
              "      <th>16</th>\n",
              "      <td>(duration, pdays)</td>\n",
              "      <td>-0.027392</td>\n",
              "    </tr>\n",
              "    <tr>\n",
              "      <th>15</th>\n",
              "      <td>(duration, campaign)</td>\n",
              "      <td>-0.041557</td>\n",
              "    </tr>\n",
              "    <tr>\n",
              "      <th>19</th>\n",
              "      <td>(campaign, previous)</td>\n",
              "      <td>-0.049699</td>\n",
              "    </tr>\n",
              "    <tr>\n",
              "      <th>14</th>\n",
              "      <td>(day, previous)</td>\n",
              "      <td>-0.058981</td>\n",
              "    </tr>\n",
              "    <tr>\n",
              "      <th>13</th>\n",
              "      <td>(day, pdays)</td>\n",
              "      <td>-0.077232</td>\n",
              "    </tr>\n",
              "    <tr>\n",
              "      <th>18</th>\n",
              "      <td>(campaign, pdays)</td>\n",
              "      <td>-0.102726</td>\n",
              "    </tr>\n",
              "  </tbody>\n",
              "</table>\n",
              "</div>"
            ],
            "text/plain": [
              "                   pairs      corr\n",
              "20     (pdays, previous)  0.507272\n",
              "12       (day, campaign)  0.137007\n",
              "0         (age, balance)  0.112300\n",
              "10   (balance, previous)  0.030805\n",
              "7    (balance, duration)  0.022436\n",
              "5        (age, previous)  0.020169\n",
              "9       (balance, pdays)  0.017411\n",
              "6         (balance, day)  0.010467\n",
              "4           (age, pdays)  0.002774\n",
              "2        (age, duration)  0.000189\n",
              "1             (age, day) -0.000762\n",
              "3        (age, campaign) -0.005278\n",
              "8    (balance, campaign) -0.013894\n",
              "11       (day, duration) -0.018511\n",
              "17  (duration, previous) -0.026716\n",
              "16     (duration, pdays) -0.027392\n",
              "15  (duration, campaign) -0.041557\n",
              "19  (campaign, previous) -0.049699\n",
              "14       (day, previous) -0.058981\n",
              "13          (day, pdays) -0.077232\n",
              "18     (campaign, pdays) -0.102726"
            ]
          },
          "metadata": {
            "tags": []
          },
          "execution_count": 25
        }
      ]
    },
    {
      "cell_type": "markdown",
      "metadata": {
        "id": "AUSkWywlN870",
        "colab_type": "text"
      },
      "source": [
        "Correlations amongst variablenels are relatively low, which implies taht twe do not incur risks of multicollinearity affecting outcomes of the algorithm that are are about to implement"
      ]
    },
    {
      "cell_type": "markdown",
      "metadata": {
        "id": "5h5dwSqzOBJ5",
        "colab_type": "text"
      },
      "source": [
        "**Assigning numerical labels to categorical variables**"
      ]
    },
    {
      "cell_type": "code",
      "metadata": {
        "id": "nGMrSuBNOFXy",
        "colab_type": "code",
        "colab": {}
      },
      "source": [
        "# first we are going to transform the target variable into a binary with values 0 and 1\n",
        "bank['deposit']= np.where(bank.deposit=='yes',1, 0)"
      ],
      "execution_count": 0,
      "outputs": []
    },
    {
      "cell_type": "code",
      "metadata": {
        "id": "K_joUuSKOIQh",
        "colab_type": "code",
        "colab": {}
      },
      "source": [
        "# we are now going to use one hot encoding to assiging numerical values to the categorical features\n",
        "\n",
        "cat_variables = [x for x in categorical_variables if x != 'deposit']\n",
        "bank_categorical = pd.get_dummies(bank,columns=cat_variables,drop_first=True)"
      ],
      "execution_count": 0,
      "outputs": []
    },
    {
      "cell_type": "code",
      "metadata": {
        "id": "3-zqjgFzOLF8",
        "colab_type": "code",
        "colab": {
          "base_uri": "https://localhost:8080/",
          "height": 241
        },
        "outputId": "a56d24db-0c91-45e6-927e-e5eb26a93b19"
      },
      "source": [
        "bank_categorical.head()"
      ],
      "execution_count": 16,
      "outputs": [
        {
          "output_type": "execute_result",
          "data": {
            "text/html": [
              "<div>\n",
              "<style scoped>\n",
              "    .dataframe tbody tr th:only-of-type {\n",
              "        vertical-align: middle;\n",
              "    }\n",
              "\n",
              "    .dataframe tbody tr th {\n",
              "        vertical-align: top;\n",
              "    }\n",
              "\n",
              "    .dataframe thead th {\n",
              "        text-align: right;\n",
              "    }\n",
              "</style>\n",
              "<table border=\"1\" class=\"dataframe\">\n",
              "  <thead>\n",
              "    <tr style=\"text-align: right;\">\n",
              "      <th></th>\n",
              "      <th>age</th>\n",
              "      <th>balance</th>\n",
              "      <th>day</th>\n",
              "      <th>duration</th>\n",
              "      <th>campaign</th>\n",
              "      <th>pdays</th>\n",
              "      <th>previous</th>\n",
              "      <th>deposit</th>\n",
              "      <th>marital_married</th>\n",
              "      <th>marital_single</th>\n",
              "      <th>education_secondary</th>\n",
              "      <th>education_tertiary</th>\n",
              "      <th>education_unknown</th>\n",
              "      <th>housing_yes</th>\n",
              "      <th>poutcome_success</th>\n",
              "      <th>poutcome_unknown</th>\n",
              "      <th>month_aug</th>\n",
              "      <th>month_dec</th>\n",
              "      <th>month_feb</th>\n",
              "      <th>month_jan</th>\n",
              "      <th>month_jul</th>\n",
              "      <th>month_jun</th>\n",
              "      <th>month_mar</th>\n",
              "      <th>month_may</th>\n",
              "      <th>month_nov</th>\n",
              "      <th>month_oct</th>\n",
              "      <th>month_sep</th>\n",
              "      <th>default_yes</th>\n",
              "      <th>job_entrepreneur</th>\n",
              "      <th>job_other</th>\n",
              "      <th>job_retired</th>\n",
              "      <th>job_self-employed</th>\n",
              "      <th>job_student</th>\n",
              "      <th>job_technician</th>\n",
              "      <th>job_unemployed</th>\n",
              "      <th>job_white-collar</th>\n",
              "      <th>loan_yes</th>\n",
              "    </tr>\n",
              "  </thead>\n",
              "  <tbody>\n",
              "    <tr>\n",
              "      <th>0</th>\n",
              "      <td>59</td>\n",
              "      <td>2343</td>\n",
              "      <td>5</td>\n",
              "      <td>1042</td>\n",
              "      <td>1</td>\n",
              "      <td>-1</td>\n",
              "      <td>0</td>\n",
              "      <td>1</td>\n",
              "      <td>1</td>\n",
              "      <td>0</td>\n",
              "      <td>1</td>\n",
              "      <td>0</td>\n",
              "      <td>0</td>\n",
              "      <td>1</td>\n",
              "      <td>0</td>\n",
              "      <td>1</td>\n",
              "      <td>0</td>\n",
              "      <td>0</td>\n",
              "      <td>0</td>\n",
              "      <td>0</td>\n",
              "      <td>0</td>\n",
              "      <td>0</td>\n",
              "      <td>0</td>\n",
              "      <td>1</td>\n",
              "      <td>0</td>\n",
              "      <td>0</td>\n",
              "      <td>0</td>\n",
              "      <td>0</td>\n",
              "      <td>0</td>\n",
              "      <td>0</td>\n",
              "      <td>0</td>\n",
              "      <td>0</td>\n",
              "      <td>0</td>\n",
              "      <td>0</td>\n",
              "      <td>0</td>\n",
              "      <td>1</td>\n",
              "      <td>0</td>\n",
              "    </tr>\n",
              "    <tr>\n",
              "      <th>1</th>\n",
              "      <td>56</td>\n",
              "      <td>45</td>\n",
              "      <td>5</td>\n",
              "      <td>1467</td>\n",
              "      <td>1</td>\n",
              "      <td>-1</td>\n",
              "      <td>0</td>\n",
              "      <td>1</td>\n",
              "      <td>1</td>\n",
              "      <td>0</td>\n",
              "      <td>1</td>\n",
              "      <td>0</td>\n",
              "      <td>0</td>\n",
              "      <td>0</td>\n",
              "      <td>0</td>\n",
              "      <td>1</td>\n",
              "      <td>0</td>\n",
              "      <td>0</td>\n",
              "      <td>0</td>\n",
              "      <td>0</td>\n",
              "      <td>0</td>\n",
              "      <td>0</td>\n",
              "      <td>0</td>\n",
              "      <td>1</td>\n",
              "      <td>0</td>\n",
              "      <td>0</td>\n",
              "      <td>0</td>\n",
              "      <td>0</td>\n",
              "      <td>0</td>\n",
              "      <td>0</td>\n",
              "      <td>0</td>\n",
              "      <td>0</td>\n",
              "      <td>0</td>\n",
              "      <td>0</td>\n",
              "      <td>0</td>\n",
              "      <td>1</td>\n",
              "      <td>0</td>\n",
              "    </tr>\n",
              "    <tr>\n",
              "      <th>2</th>\n",
              "      <td>41</td>\n",
              "      <td>1270</td>\n",
              "      <td>5</td>\n",
              "      <td>1389</td>\n",
              "      <td>1</td>\n",
              "      <td>-1</td>\n",
              "      <td>0</td>\n",
              "      <td>1</td>\n",
              "      <td>1</td>\n",
              "      <td>0</td>\n",
              "      <td>1</td>\n",
              "      <td>0</td>\n",
              "      <td>0</td>\n",
              "      <td>1</td>\n",
              "      <td>0</td>\n",
              "      <td>1</td>\n",
              "      <td>0</td>\n",
              "      <td>0</td>\n",
              "      <td>0</td>\n",
              "      <td>0</td>\n",
              "      <td>0</td>\n",
              "      <td>0</td>\n",
              "      <td>0</td>\n",
              "      <td>1</td>\n",
              "      <td>0</td>\n",
              "      <td>0</td>\n",
              "      <td>0</td>\n",
              "      <td>0</td>\n",
              "      <td>0</td>\n",
              "      <td>0</td>\n",
              "      <td>0</td>\n",
              "      <td>0</td>\n",
              "      <td>0</td>\n",
              "      <td>1</td>\n",
              "      <td>0</td>\n",
              "      <td>0</td>\n",
              "      <td>0</td>\n",
              "    </tr>\n",
              "    <tr>\n",
              "      <th>3</th>\n",
              "      <td>55</td>\n",
              "      <td>2476</td>\n",
              "      <td>5</td>\n",
              "      <td>579</td>\n",
              "      <td>1</td>\n",
              "      <td>-1</td>\n",
              "      <td>0</td>\n",
              "      <td>1</td>\n",
              "      <td>1</td>\n",
              "      <td>0</td>\n",
              "      <td>1</td>\n",
              "      <td>0</td>\n",
              "      <td>0</td>\n",
              "      <td>1</td>\n",
              "      <td>0</td>\n",
              "      <td>1</td>\n",
              "      <td>0</td>\n",
              "      <td>0</td>\n",
              "      <td>0</td>\n",
              "      <td>0</td>\n",
              "      <td>0</td>\n",
              "      <td>0</td>\n",
              "      <td>0</td>\n",
              "      <td>1</td>\n",
              "      <td>0</td>\n",
              "      <td>0</td>\n",
              "      <td>0</td>\n",
              "      <td>0</td>\n",
              "      <td>0</td>\n",
              "      <td>1</td>\n",
              "      <td>0</td>\n",
              "      <td>0</td>\n",
              "      <td>0</td>\n",
              "      <td>0</td>\n",
              "      <td>0</td>\n",
              "      <td>0</td>\n",
              "      <td>0</td>\n",
              "    </tr>\n",
              "    <tr>\n",
              "      <th>4</th>\n",
              "      <td>54</td>\n",
              "      <td>184</td>\n",
              "      <td>5</td>\n",
              "      <td>673</td>\n",
              "      <td>2</td>\n",
              "      <td>-1</td>\n",
              "      <td>0</td>\n",
              "      <td>1</td>\n",
              "      <td>1</td>\n",
              "      <td>0</td>\n",
              "      <td>0</td>\n",
              "      <td>1</td>\n",
              "      <td>0</td>\n",
              "      <td>0</td>\n",
              "      <td>0</td>\n",
              "      <td>1</td>\n",
              "      <td>0</td>\n",
              "      <td>0</td>\n",
              "      <td>0</td>\n",
              "      <td>0</td>\n",
              "      <td>0</td>\n",
              "      <td>0</td>\n",
              "      <td>0</td>\n",
              "      <td>1</td>\n",
              "      <td>0</td>\n",
              "      <td>0</td>\n",
              "      <td>0</td>\n",
              "      <td>0</td>\n",
              "      <td>0</td>\n",
              "      <td>0</td>\n",
              "      <td>0</td>\n",
              "      <td>0</td>\n",
              "      <td>0</td>\n",
              "      <td>0</td>\n",
              "      <td>0</td>\n",
              "      <td>1</td>\n",
              "      <td>0</td>\n",
              "    </tr>\n",
              "  </tbody>\n",
              "</table>\n",
              "</div>"
            ],
            "text/plain": [
              "   age  balance  day  ...  job_unemployed  job_white-collar  loan_yes\n",
              "0   59     2343    5  ...               0                 1         0\n",
              "1   56       45    5  ...               0                 1         0\n",
              "2   41     1270    5  ...               0                 0         0\n",
              "3   55     2476    5  ...               0                 0         0\n",
              "4   54      184    5  ...               0                 1         0\n",
              "\n",
              "[5 rows x 37 columns]"
            ]
          },
          "metadata": {
            "tags": []
          },
          "execution_count": 16
        }
      ]
    },
    {
      "cell_type": "markdown",
      "metadata": {
        "id": "qiCc8MhUOUc_",
        "colab_type": "text"
      },
      "source": [
        "# **Part 1 - Implementation of Decision Tree**"
      ]
    },
    {
      "cell_type": "code",
      "metadata": {
        "id": "H0jKbDb4OOJ3",
        "colab_type": "code",
        "colab": {}
      },
      "source": [
        "y = bank_categorical['deposit']\n",
        "X= bank_categorical.drop('deposit', axis = 1)"
      ],
      "execution_count": 0,
      "outputs": []
    },
    {
      "cell_type": "code",
      "metadata": {
        "id": "8tSVlrenOpRK",
        "colab_type": "code",
        "colab": {}
      },
      "source": [
        "from sklearn.model_selection import train_test_split\n",
        "from sklearn.model_selection import GridSearchCV\n",
        "from sklearn.tree import DecisionTreeClassifier\n",
        "\n",
        "X_train, X_test, Y_train, Y_test = train_test_split(X, y, test_size = 0.3, random_state=5)"
      ],
      "execution_count": 0,
      "outputs": []
    },
    {
      "cell_type": "code",
      "metadata": {
        "id": "csNn6WwhOqx3",
        "colab_type": "code",
        "colab": {}
      },
      "source": [
        "#use Gridsearchcv to find the best parameters\n",
        "\n",
        "params = {'max_leaf_nodes': list(range(2, 100)), \n",
        "          'min_samples_split': [2, 3, 4],\n",
        "          'max_depth': [10, 20, 30, 40, 50, 60, 70, 80, 90, 100, None],\n",
        "          'criterion':['entropy', 'gini']}\n",
        "          \n",
        "grid_search_cv = GridSearchCV(DecisionTreeClassifier(random_state=42), params, verbose=1, cv=3)"
      ],
      "execution_count": 0,
      "outputs": []
    },
    {
      "cell_type": "code",
      "metadata": {
        "id": "1gXpotFyOuBq",
        "colab_type": "code",
        "colab": {
          "base_uri": "https://localhost:8080/",
          "height": 476
        },
        "outputId": "f270df56-6aae-4317-eb92-0badb1fd658b"
      },
      "source": [
        "grid_search_cv.fit(X, y)"
      ],
      "execution_count": 32,
      "outputs": [
        {
          "output_type": "stream",
          "text": [
            "Fitting 3 folds for each of 6468 candidates, totalling 19404 fits\n"
          ],
          "name": "stdout"
        },
        {
          "output_type": "stream",
          "text": [
            "[Parallel(n_jobs=1)]: Using backend SequentialBackend with 1 concurrent workers.\n",
            "[Parallel(n_jobs=1)]: Done 19404 out of 19404 | elapsed: 13.0min finished\n"
          ],
          "name": "stderr"
        },
        {
          "output_type": "execute_result",
          "data": {
            "text/plain": [
              "GridSearchCV(cv=3, error_score=nan,\n",
              "             estimator=DecisionTreeClassifier(ccp_alpha=0.0, class_weight=None,\n",
              "                                              criterion='gini', max_depth=None,\n",
              "                                              max_features=None,\n",
              "                                              max_leaf_nodes=None,\n",
              "                                              min_impurity_decrease=0.0,\n",
              "                                              min_impurity_split=None,\n",
              "                                              min_samples_leaf=1,\n",
              "                                              min_samples_split=2,\n",
              "                                              min_weight_fraction_leaf=0.0,\n",
              "                                              presort='deprecated',\n",
              "                                              random_state=42,\n",
              "                                              splitter='best'),\n",
              "             iid='deprecated', n_jobs=None,\n",
              "             param_grid={'criterion': ['entropy', 'gini'],\n",
              "                         'max_depth': [10, 20, 30, 40, 50, 60, 70, 80, 90, 100,\n",
              "                                       None],\n",
              "                         'max_leaf_nodes': [2, 3, 4, 5, 6, 7, 8, 9, 10, 11, 12,\n",
              "                                            13, 14, 15, 16, 17, 18, 19, 20, 21,\n",
              "                                            22, 23, 24, 25, 26, 27, 28, 29, 30,\n",
              "                                            31, ...],\n",
              "                         'min_samples_split': [2, 3, 4]},\n",
              "             pre_dispatch='2*n_jobs', refit=True, return_train_score=False,\n",
              "             scoring=None, verbose=1)"
            ]
          },
          "metadata": {
            "tags": []
          },
          "execution_count": 32
        }
      ]
    },
    {
      "cell_type": "code",
      "metadata": {
        "id": "hgPuLOYHR7pw",
        "colab_type": "code",
        "colab": {
          "base_uri": "https://localhost:8080/",
          "height": 119
        },
        "outputId": "9d1a18ae-65c2-43b5-9b25-83b496d2e312"
      },
      "source": [
        "grid_search_cv.best_estimator_"
      ],
      "execution_count": 33,
      "outputs": [
        {
          "output_type": "execute_result",
          "data": {
            "text/plain": [
              "DecisionTreeClassifier(ccp_alpha=0.0, class_weight=None, criterion='entropy',\n",
              "                       max_depth=20, max_features=None, max_leaf_nodes=73,\n",
              "                       min_impurity_decrease=0.0, min_impurity_split=None,\n",
              "                       min_samples_leaf=1, min_samples_split=2,\n",
              "                       min_weight_fraction_leaf=0.0, presort='deprecated',\n",
              "                       random_state=42, splitter='best')"
            ]
          },
          "metadata": {
            "tags": []
          },
          "execution_count": 33
        }
      ]
    },
    {
      "cell_type": "code",
      "metadata": {
        "id": "RinfgHcdR8sd",
        "colab_type": "code",
        "colab": {
          "base_uri": "https://localhost:8080/",
          "height": 85
        },
        "outputId": "1cbb932e-58da-4154-9372-2640fca6f485"
      },
      "source": [
        "grid_search_cv.best_params_"
      ],
      "execution_count": 34,
      "outputs": [
        {
          "output_type": "execute_result",
          "data": {
            "text/plain": [
              "{'criterion': 'entropy',\n",
              " 'max_depth': 20,\n",
              " 'max_leaf_nodes': 73,\n",
              " 'min_samples_split': 2}"
            ]
          },
          "metadata": {
            "tags": []
          },
          "execution_count": 34
        }
      ]
    },
    {
      "cell_type": "code",
      "metadata": {
        "id": "REIf5t8nSDoI",
        "colab_type": "code",
        "colab": {}
      },
      "source": [
        "from sklearn import tree\n",
        "\n",
        "model_decisiontree= tree.DecisionTreeClassifier(criterion='entropy',max_depth=20, max_leaf_nodes=73, \n",
        "                                                min_samples_split=2,random_state=42)\n",
        "\n",
        "model_decisiontree2= tree.DecisionTreeClassifier(criterion='entropy',max_depth=30, max_leaf_nodes=73, \n",
        "                                                min_samples_split=3,random_state=42)\n",
        "\n",
        "model_decisiontree3= tree.DecisionTreeClassifier(criterion='gini',max_depth=20, max_leaf_nodes=73, \n",
        "                                                min_samples_split=2,random_state=42)\n",
        "\n",
        "model_decisiontree4= tree.DecisionTreeClassifier(criterion='gini',max_depth=30, max_leaf_nodes=73, \n",
        "                                                min_samples_split=3,random_state=42)"
      ],
      "execution_count": 0,
      "outputs": []
    },
    {
      "cell_type": "code",
      "metadata": {
        "id": "L_ESQ0jBSE_I",
        "colab_type": "code",
        "colab": {
          "base_uri": "https://localhost:8080/",
          "height": 119
        },
        "outputId": "02ae0eb6-fa00-47e8-9ca2-a27cfd4554b6"
      },
      "source": [
        "model_decisiontree.fit(X_train, Y_train)\n",
        "model_decisiontree2.fit(X_train, Y_train)\n",
        "model_decisiontree3.fit(X_train, Y_train)\n",
        "model_decisiontree4.fit(X_train, Y_train)"
      ],
      "execution_count": 20,
      "outputs": [
        {
          "output_type": "execute_result",
          "data": {
            "text/plain": [
              "DecisionTreeClassifier(ccp_alpha=0.0, class_weight=None, criterion='gini',\n",
              "                       max_depth=30, max_features=None, max_leaf_nodes=73,\n",
              "                       min_impurity_decrease=0.0, min_impurity_split=None,\n",
              "                       min_samples_leaf=1, min_samples_split=3,\n",
              "                       min_weight_fraction_leaf=0.0, presort='deprecated',\n",
              "                       random_state=42, splitter='best')"
            ]
          },
          "metadata": {
            "tags": []
          },
          "execution_count": 20
        }
      ]
    },
    {
      "cell_type": "code",
      "metadata": {
        "id": "tWy5Wk2ISIFR",
        "colab_type": "code",
        "colab": {}
      },
      "source": [
        "import numpy as np\n",
        "import os\n",
        "np.random.seed(42)\n",
        "\n",
        "# To plot the figures\n",
        "%matplotlib inline\n",
        "import matplotlib as mpl\n",
        "import matplotlib.pyplot as plt\n",
        "mpl.rc('axes', labelsize=14)\n",
        "mpl.rc('xtick', labelsize=12)\n",
        "mpl.rc('ytick', labelsize=12)\n",
        "\n",
        "# Where to save the figures\n",
        "PROJECT_ROOT_DIR = \".\"\n",
        "CHAPTER_ID = \"decision_trees\"\n",
        "IMAGES_PATH = os.path.join(PROJECT_ROOT_DIR, \"images\", CHAPTER_ID)\n",
        "os.makedirs(IMAGES_PATH, exist_ok=True)\n",
        "\n",
        "# A function to save the figures\n",
        "def save_fig(fig_id, tight_layout=True, fig_extension=\"png\", resolution=300):\n",
        "    path = os.path.join(IMAGES_PATH, fig_id + \".\" + fig_extension)\n",
        "    print(\"Saving figure\", fig_id)\n",
        "    if tight_layout:\n",
        "        plt.tight_layout()\n",
        "    plt.savefig(path, format=fig_extension, dpi=resolution)"
      ],
      "execution_count": 0,
      "outputs": []
    },
    {
      "cell_type": "code",
      "metadata": {
        "id": "ptYrwd4JSOwo",
        "colab_type": "code",
        "colab": {
          "base_uri": "https://localhost:8080/",
          "height": 1000
        },
        "outputId": "f512912d-b872-43d1-a565-448d39ab6534"
      },
      "source": [
        "# Visualize the Decision Tree (you need to have graphviz installed)\n",
        "from graphviz import Source\n",
        "from sklearn.tree import export_graphviz\n",
        "import os\n",
        "\n",
        "# Call the export with Graphviz\n",
        "export_graphviz(\n",
        "        model_decisiontree,\n",
        "        out_file=os.path.join(IMAGES_PATH, \"moons_tree.dot\"),\n",
        "        feature_names=None,\n",
        "        class_names=None,\n",
        "        rounded=True,\n",
        "        filled=True\n",
        "    )\n",
        "\n",
        "# Load the file in the notebook\n",
        "Source.from_file(os.path.join(IMAGES_PATH, \"moons_tree.dot\"))"
      ],
      "execution_count": 23,
      "outputs": [
        {
          "output_type": "execute_result",
          "data": {
            "text/plain": [
              "<graphviz.files.Source at 0x7f915b87afd0>"
            ],
            "image/svg+xml": "<?xml version=\"1.0\" encoding=\"UTF-8\" standalone=\"no\"?>\n<!DOCTYPE svg PUBLIC \"-//W3C//DTD SVG 1.1//EN\"\n \"http://www.w3.org/Graphics/SVG/1.1/DTD/svg11.dtd\">\n<!-- Generated by graphviz version 2.40.1 (20161225.0304)\n -->\n<!-- Title: Tree Pages: 1 -->\n<svg width=\"3624pt\" height=\"1517pt\"\n viewBox=\"0.00 0.00 3624.00 1517.00\" xmlns=\"http://www.w3.org/2000/svg\" xmlns:xlink=\"http://www.w3.org/1999/xlink\">\n<g id=\"graph0\" class=\"graph\" transform=\"scale(1 1) rotate(0) translate(4 1513)\">\n<title>Tree</title>\n<polygon fill=\"#ffffff\" stroke=\"transparent\" points=\"-4,4 -4,-1513 3620,-1513 3620,4 -4,4\"/>\n<!-- 0 -->\n<g id=\"node1\" class=\"node\">\n<title>0</title>\n<path fill=\"#fcf1e9\" stroke=\"#000000\" d=\"M2117.5,-1509C2117.5,-1509 1992.5,-1509 1992.5,-1509 1986.5,-1509 1980.5,-1503 1980.5,-1497 1980.5,-1497 1980.5,-1453 1980.5,-1453 1980.5,-1447 1986.5,-1441 1992.5,-1441 1992.5,-1441 2117.5,-1441 2117.5,-1441 2123.5,-1441 2129.5,-1447 2129.5,-1453 2129.5,-1453 2129.5,-1497 2129.5,-1497 2129.5,-1503 2123.5,-1509 2117.5,-1509\"/>\n<text text-anchor=\"middle\" x=\"2055\" y=\"-1493.8\" font-family=\"Helvetica,sans-Serif\" font-size=\"14.00\" fill=\"#000000\">X[3] &lt;= 174.5</text>\n<text text-anchor=\"middle\" x=\"2055\" y=\"-1478.8\" font-family=\"Helvetica,sans-Serif\" font-size=\"14.00\" fill=\"#000000\">entropy = 0.998</text>\n<text text-anchor=\"middle\" x=\"2055\" y=\"-1463.8\" font-family=\"Helvetica,sans-Serif\" font-size=\"14.00\" fill=\"#000000\">samples = 7813</text>\n<text text-anchor=\"middle\" x=\"2055\" y=\"-1448.8\" font-family=\"Helvetica,sans-Serif\" font-size=\"14.00\" fill=\"#000000\">value = [4131, 3682]</text>\n</g>\n<!-- 1 -->\n<g id=\"node2\" class=\"node\">\n<title>1</title>\n<path fill=\"#ea9b62\" stroke=\"#000000\" d=\"M1652,-1405C1652,-1405 1536,-1405 1536,-1405 1530,-1405 1524,-1399 1524,-1393 1524,-1393 1524,-1349 1524,-1349 1524,-1343 1530,-1337 1536,-1337 1536,-1337 1652,-1337 1652,-1337 1658,-1337 1664,-1343 1664,-1349 1664,-1349 1664,-1393 1664,-1393 1664,-1399 1658,-1405 1652,-1405\"/>\n<text text-anchor=\"middle\" x=\"1594\" y=\"-1389.8\" font-family=\"Helvetica,sans-Serif\" font-size=\"14.00\" fill=\"#000000\">X[3] &lt;= 77.5</text>\n<text text-anchor=\"middle\" x=\"1594\" y=\"-1374.8\" font-family=\"Helvetica,sans-Serif\" font-size=\"14.00\" fill=\"#000000\">entropy = 0.66</text>\n<text text-anchor=\"middle\" x=\"1594\" y=\"-1359.8\" font-family=\"Helvetica,sans-Serif\" font-size=\"14.00\" fill=\"#000000\">samples = 2676</text>\n<text text-anchor=\"middle\" x=\"1594\" y=\"-1344.8\" font-family=\"Helvetica,sans-Serif\" font-size=\"14.00\" fill=\"#000000\">value = [2218, 458]</text>\n</g>\n<!-- 0&#45;&gt;1 -->\n<g id=\"edge1\" class=\"edge\">\n<title>0&#45;&gt;1</title>\n<path fill=\"none\" stroke=\"#000000\" d=\"M1980.42,-1458.175C1896.4648,-1439.235 1760.557,-1408.5747 1674.318,-1389.1195\"/>\n<polygon fill=\"#000000\" stroke=\"#000000\" points=\"1674.8394,-1385.6492 1664.3143,-1386.8627 1673.2989,-1392.4776 1674.8394,-1385.6492\"/>\n<text text-anchor=\"middle\" x=\"1677.6683\" y=\"-1404.2972\" font-family=\"Helvetica,sans-Serif\" font-size=\"14.00\" fill=\"#000000\">True</text>\n</g>\n<!-- 2 -->\n<g id=\"node63\" class=\"node\">\n<title>2</title>\n<path fill=\"#aed7f4\" stroke=\"#000000\" d=\"M2649.5,-1405C2649.5,-1405 2524.5,-1405 2524.5,-1405 2518.5,-1405 2512.5,-1399 2512.5,-1393 2512.5,-1393 2512.5,-1349 2512.5,-1349 2512.5,-1343 2518.5,-1337 2524.5,-1337 2524.5,-1337 2649.5,-1337 2649.5,-1337 2655.5,-1337 2661.5,-1343 2661.5,-1349 2661.5,-1349 2661.5,-1393 2661.5,-1393 2661.5,-1399 2655.5,-1405 2649.5,-1405\"/>\n<text text-anchor=\"middle\" x=\"2587\" y=\"-1389.8\" font-family=\"Helvetica,sans-Serif\" font-size=\"14.00\" fill=\"#000000\">X[3] &lt;= 472.5</text>\n<text text-anchor=\"middle\" x=\"2587\" y=\"-1374.8\" font-family=\"Helvetica,sans-Serif\" font-size=\"14.00\" fill=\"#000000\">entropy = 0.952</text>\n<text text-anchor=\"middle\" x=\"2587\" y=\"-1359.8\" font-family=\"Helvetica,sans-Serif\" font-size=\"14.00\" fill=\"#000000\">samples = 5137</text>\n<text text-anchor=\"middle\" x=\"2587\" y=\"-1344.8\" font-family=\"Helvetica,sans-Serif\" font-size=\"14.00\" fill=\"#000000\">value = [1913, 3224]</text>\n</g>\n<!-- 0&#45;&gt;2 -->\n<g id=\"edge62\" class=\"edge\">\n<title>0&#45;&gt;2</title>\n<path fill=\"none\" stroke=\"#000000\" d=\"M2129.5325,-1460.4297C2227.5016,-1441.2779 2399.1845,-1407.7158 2502.0703,-1387.6028\"/>\n<polygon fill=\"#000000\" stroke=\"#000000\" points=\"2502.9717,-1390.9929 2512.1144,-1385.6393 2501.6286,-1384.123 2502.9717,-1390.9929\"/>\n<text text-anchor=\"middle\" x=\"2498.1567\" y=\"-1402.6801\" font-family=\"Helvetica,sans-Serif\" font-size=\"14.00\" fill=\"#000000\">False</text>\n</g>\n<!-- 9 -->\n<g id=\"node3\" class=\"node\">\n<title>9</title>\n<path fill=\"#e6843e\" stroke=\"#000000\" d=\"M1422,-1301C1422,-1301 1322,-1301 1322,-1301 1316,-1301 1310,-1295 1310,-1289 1310,-1289 1310,-1245 1310,-1245 1310,-1239 1316,-1233 1322,-1233 1322,-1233 1422,-1233 1422,-1233 1428,-1233 1434,-1239 1434,-1245 1434,-1245 1434,-1289 1434,-1289 1434,-1295 1428,-1301 1422,-1301\"/>\n<text text-anchor=\"middle\" x=\"1372\" y=\"-1285.8\" font-family=\"Helvetica,sans-Serif\" font-size=\"14.00\" fill=\"#000000\">X[13] &lt;= 0.5</text>\n<text text-anchor=\"middle\" x=\"1372\" y=\"-1270.8\" font-family=\"Helvetica,sans-Serif\" font-size=\"14.00\" fill=\"#000000\">entropy = 0.156</text>\n<text text-anchor=\"middle\" x=\"1372\" y=\"-1255.8\" font-family=\"Helvetica,sans-Serif\" font-size=\"14.00\" fill=\"#000000\">samples = 792</text>\n<text text-anchor=\"middle\" x=\"1372\" y=\"-1240.8\" font-family=\"Helvetica,sans-Serif\" font-size=\"14.00\" fill=\"#000000\">value = [774, 18]</text>\n</g>\n<!-- 1&#45;&gt;9 -->\n<g id=\"edge2\" class=\"edge\">\n<title>1&#45;&gt;9</title>\n<path fill=\"none\" stroke=\"#000000\" d=\"M1523.7578,-1338.0938C1498.1892,-1326.1156 1469.27,-1312.5679 1443.5862,-1300.5359\"/>\n<polygon fill=\"#000000\" stroke=\"#000000\" points=\"1444.8227,-1297.2502 1434.2823,-1296.1773 1441.8531,-1303.5891 1444.8227,-1297.2502\"/>\n</g>\n<!-- 10 -->\n<g id=\"node8\" class=\"node\">\n<title>10</title>\n<path fill=\"#eda775\" stroke=\"#000000\" d=\"M1652,-1301C1652,-1301 1536,-1301 1536,-1301 1530,-1301 1524,-1295 1524,-1289 1524,-1289 1524,-1245 1524,-1245 1524,-1239 1530,-1233 1536,-1233 1536,-1233 1652,-1233 1652,-1233 1658,-1233 1664,-1239 1664,-1245 1664,-1245 1664,-1289 1664,-1289 1664,-1295 1658,-1301 1652,-1301\"/>\n<text text-anchor=\"middle\" x=\"1594\" y=\"-1285.8\" font-family=\"Helvetica,sans-Serif\" font-size=\"14.00\" fill=\"#000000\">X[13] &lt;= 0.5</text>\n<text text-anchor=\"middle\" x=\"1594\" y=\"-1270.8\" font-family=\"Helvetica,sans-Serif\" font-size=\"14.00\" fill=\"#000000\">entropy = 0.784</text>\n<text text-anchor=\"middle\" x=\"1594\" y=\"-1255.8\" font-family=\"Helvetica,sans-Serif\" font-size=\"14.00\" fill=\"#000000\">samples = 1884</text>\n<text text-anchor=\"middle\" x=\"1594\" y=\"-1240.8\" font-family=\"Helvetica,sans-Serif\" font-size=\"14.00\" fill=\"#000000\">value = [1444, 440]</text>\n</g>\n<!-- 1&#45;&gt;10 -->\n<g id=\"edge7\" class=\"edge\">\n<title>1&#45;&gt;10</title>\n<path fill=\"none\" stroke=\"#000000\" d=\"M1594,-1336.9465C1594,-1328.776 1594,-1319.9318 1594,-1311.3697\"/>\n<polygon fill=\"#000000\" stroke=\"#000000\" points=\"1597.5001,-1311.13 1594,-1301.13 1590.5001,-1311.13 1597.5001,-1311.13\"/>\n</g>\n<!-- 87 -->\n<g id=\"node4\" class=\"node\">\n<title>87</title>\n<path fill=\"#e5833d\" stroke=\"#000000\" d=\"M1282,-1197C1282,-1197 1182,-1197 1182,-1197 1176,-1197 1170,-1191 1170,-1185 1170,-1185 1170,-1141 1170,-1141 1170,-1135 1176,-1129 1182,-1129 1182,-1129 1282,-1129 1282,-1129 1288,-1129 1294,-1135 1294,-1141 1294,-1141 1294,-1185 1294,-1185 1294,-1191 1288,-1197 1282,-1197\"/>\n<text text-anchor=\"middle\" x=\"1232\" y=\"-1181.8\" font-family=\"Helvetica,sans-Serif\" font-size=\"14.00\" fill=\"#000000\">X[4] &lt;= 3.5</text>\n<text text-anchor=\"middle\" x=\"1232\" y=\"-1166.8\" font-family=\"Helvetica,sans-Serif\" font-size=\"14.00\" fill=\"#000000\">entropy = 0.13</text>\n<text text-anchor=\"middle\" x=\"1232\" y=\"-1151.8\" font-family=\"Helvetica,sans-Serif\" font-size=\"14.00\" fill=\"#000000\">samples = 781</text>\n<text text-anchor=\"middle\" x=\"1232\" y=\"-1136.8\" font-family=\"Helvetica,sans-Serif\" font-size=\"14.00\" fill=\"#000000\">value = [767, 14]</text>\n</g>\n<!-- 9&#45;&gt;87 -->\n<g id=\"edge3\" class=\"edge\">\n<title>9&#45;&gt;87</title>\n<path fill=\"none\" stroke=\"#000000\" d=\"M1326.1588,-1232.9465C1313.3471,-1223.4293 1299.3048,-1212.9978 1286.0656,-1203.163\"/>\n<polygon fill=\"#000000\" stroke=\"#000000\" points=\"1288.0588,-1200.2837 1277.9442,-1197.13 1283.8845,-1205.9029 1288.0588,-1200.2837\"/>\n</g>\n<!-- 88 -->\n<g id=\"node7\" class=\"node\">\n<title>88</title>\n<path fill=\"#f4c9aa\" stroke=\"#000000\" d=\"M1419,-1189.5C1419,-1189.5 1325,-1189.5 1325,-1189.5 1319,-1189.5 1313,-1183.5 1313,-1177.5 1313,-1177.5 1313,-1148.5 1313,-1148.5 1313,-1142.5 1319,-1136.5 1325,-1136.5 1325,-1136.5 1419,-1136.5 1419,-1136.5 1425,-1136.5 1431,-1142.5 1431,-1148.5 1431,-1148.5 1431,-1177.5 1431,-1177.5 1431,-1183.5 1425,-1189.5 1419,-1189.5\"/>\n<text text-anchor=\"middle\" x=\"1372\" y=\"-1174.3\" font-family=\"Helvetica,sans-Serif\" font-size=\"14.00\" fill=\"#000000\">entropy = 0.946</text>\n<text text-anchor=\"middle\" x=\"1372\" y=\"-1159.3\" font-family=\"Helvetica,sans-Serif\" font-size=\"14.00\" fill=\"#000000\">samples = 11</text>\n<text text-anchor=\"middle\" x=\"1372\" y=\"-1144.3\" font-family=\"Helvetica,sans-Serif\" font-size=\"14.00\" fill=\"#000000\">value = [7, 4]</text>\n</g>\n<!-- 9&#45;&gt;88 -->\n<g id=\"edge6\" class=\"edge\">\n<title>9&#45;&gt;88</title>\n<path fill=\"none\" stroke=\"#000000\" d=\"M1372,-1232.9465C1372,-1222.2621 1372,-1210.4254 1372,-1199.5742\"/>\n<polygon fill=\"#000000\" stroke=\"#000000\" points=\"1375.5001,-1199.5421 1372,-1189.5422 1368.5001,-1199.5422 1375.5001,-1199.5421\"/>\n</g>\n<!-- 123 -->\n<g id=\"node5\" class=\"node\">\n<title>123</title>\n<path fill=\"#e6853f\" stroke=\"#000000\" d=\"M1144,-1085.5C1144,-1085.5 1044,-1085.5 1044,-1085.5 1038,-1085.5 1032,-1079.5 1032,-1073.5 1032,-1073.5 1032,-1044.5 1032,-1044.5 1032,-1038.5 1038,-1032.5 1044,-1032.5 1044,-1032.5 1144,-1032.5 1144,-1032.5 1150,-1032.5 1156,-1038.5 1156,-1044.5 1156,-1044.5 1156,-1073.5 1156,-1073.5 1156,-1079.5 1150,-1085.5 1144,-1085.5\"/>\n<text text-anchor=\"middle\" x=\"1094\" y=\"-1070.3\" font-family=\"Helvetica,sans-Serif\" font-size=\"14.00\" fill=\"#000000\">entropy = 0.186</text>\n<text text-anchor=\"middle\" x=\"1094\" y=\"-1055.3\" font-family=\"Helvetica,sans-Serif\" font-size=\"14.00\" fill=\"#000000\">samples = 494</text>\n<text text-anchor=\"middle\" x=\"1094\" y=\"-1040.3\" font-family=\"Helvetica,sans-Serif\" font-size=\"14.00\" fill=\"#000000\">value = [480, 14]</text>\n</g>\n<!-- 87&#45;&gt;123 -->\n<g id=\"edge4\" class=\"edge\">\n<title>87&#45;&gt;123</title>\n<path fill=\"none\" stroke=\"#000000\" d=\"M1186.8136,-1128.9465C1170.8823,-1116.9403 1153.0204,-1103.4791 1137.2527,-1091.5962\"/>\n<polygon fill=\"#000000\" stroke=\"#000000\" points=\"1139.312,-1088.7656 1129.2194,-1085.5422 1135.099,-1094.3558 1139.312,-1088.7656\"/>\n</g>\n<!-- 124 -->\n<g id=\"node6\" class=\"node\">\n<title>124</title>\n<path fill=\"#e58139\" stroke=\"#000000\" d=\"M1278,-1085.5C1278,-1085.5 1186,-1085.5 1186,-1085.5 1180,-1085.5 1174,-1079.5 1174,-1073.5 1174,-1073.5 1174,-1044.5 1174,-1044.5 1174,-1038.5 1180,-1032.5 1186,-1032.5 1186,-1032.5 1278,-1032.5 1278,-1032.5 1284,-1032.5 1290,-1038.5 1290,-1044.5 1290,-1044.5 1290,-1073.5 1290,-1073.5 1290,-1079.5 1284,-1085.5 1278,-1085.5\"/>\n<text text-anchor=\"middle\" x=\"1232\" y=\"-1070.3\" font-family=\"Helvetica,sans-Serif\" font-size=\"14.00\" fill=\"#000000\">entropy = 0.0</text>\n<text text-anchor=\"middle\" x=\"1232\" y=\"-1055.3\" font-family=\"Helvetica,sans-Serif\" font-size=\"14.00\" fill=\"#000000\">samples = 287</text>\n<text text-anchor=\"middle\" x=\"1232\" y=\"-1040.3\" font-family=\"Helvetica,sans-Serif\" font-size=\"14.00\" fill=\"#000000\">value = [287, 0]</text>\n</g>\n<!-- 87&#45;&gt;124 -->\n<g id=\"edge5\" class=\"edge\">\n<title>87&#45;&gt;124</title>\n<path fill=\"none\" stroke=\"#000000\" d=\"M1232,-1128.9465C1232,-1118.2621 1232,-1106.4254 1232,-1095.5742\"/>\n<polygon fill=\"#000000\" stroke=\"#000000\" points=\"1235.5001,-1095.5421 1232,-1085.5422 1228.5001,-1095.5422 1235.5001,-1095.5421\"/>\n</g>\n<!-- 11 -->\n<g id=\"node9\" class=\"node\">\n<title>11</title>\n<path fill=\"#eba06a\" stroke=\"#000000\" d=\"M1577,-1197C1577,-1197 1461,-1197 1461,-1197 1455,-1197 1449,-1191 1449,-1185 1449,-1185 1449,-1141 1449,-1141 1449,-1135 1455,-1129 1461,-1129 1461,-1129 1577,-1129 1577,-1129 1583,-1129 1589,-1135 1589,-1141 1589,-1141 1589,-1185 1589,-1185 1589,-1191 1583,-1197 1577,-1197\"/>\n<text text-anchor=\"middle\" x=\"1519\" y=\"-1181.8\" font-family=\"Helvetica,sans-Serif\" font-size=\"14.00\" fill=\"#000000\">X[22] &lt;= 0.5</text>\n<text text-anchor=\"middle\" x=\"1519\" y=\"-1166.8\" font-family=\"Helvetica,sans-Serif\" font-size=\"14.00\" fill=\"#000000\">entropy = 0.716</text>\n<text text-anchor=\"middle\" x=\"1519\" y=\"-1151.8\" font-family=\"Helvetica,sans-Serif\" font-size=\"14.00\" fill=\"#000000\">samples = 1765</text>\n<text text-anchor=\"middle\" x=\"1519\" y=\"-1136.8\" font-family=\"Helvetica,sans-Serif\" font-size=\"14.00\" fill=\"#000000\">value = [1417, 348]</text>\n</g>\n<!-- 10&#45;&gt;11 -->\n<g id=\"edge8\" class=\"edge\">\n<title>10&#45;&gt;11</title>\n<path fill=\"none\" stroke=\"#000000\" d=\"M1569.4422,-1232.9465C1563.0968,-1224.1475 1556.1879,-1214.5672 1549.5764,-1205.3993\"/>\n<polygon fill=\"#000000\" stroke=\"#000000\" points=\"1552.3011,-1203.1937 1543.613,-1197.13 1546.6234,-1207.2882 1552.3011,-1203.1937\"/>\n</g>\n<!-- 12 -->\n<g id=\"node62\" class=\"node\">\n<title>12</title>\n<path fill=\"#73baed\" stroke=\"#000000\" d=\"M1713,-1189.5C1713,-1189.5 1619,-1189.5 1619,-1189.5 1613,-1189.5 1607,-1183.5 1607,-1177.5 1607,-1177.5 1607,-1148.5 1607,-1148.5 1607,-1142.5 1613,-1136.5 1619,-1136.5 1619,-1136.5 1713,-1136.5 1713,-1136.5 1719,-1136.5 1725,-1142.5 1725,-1148.5 1725,-1148.5 1725,-1177.5 1725,-1177.5 1725,-1183.5 1719,-1189.5 1713,-1189.5\"/>\n<text text-anchor=\"middle\" x=\"1666\" y=\"-1174.3\" font-family=\"Helvetica,sans-Serif\" font-size=\"14.00\" fill=\"#000000\">entropy = 0.773</text>\n<text text-anchor=\"middle\" x=\"1666\" y=\"-1159.3\" font-family=\"Helvetica,sans-Serif\" font-size=\"14.00\" fill=\"#000000\">samples = 119</text>\n<text text-anchor=\"middle\" x=\"1666\" y=\"-1144.3\" font-family=\"Helvetica,sans-Serif\" font-size=\"14.00\" fill=\"#000000\">value = [27, 92]</text>\n</g>\n<!-- 10&#45;&gt;12 -->\n<g id=\"edge61\" class=\"edge\">\n<title>10&#45;&gt;12</title>\n<path fill=\"none\" stroke=\"#000000\" d=\"M1617.5755,-1232.9465C1625.3537,-1221.7113 1634.0139,-1209.2021 1641.8355,-1197.9043\"/>\n<polygon fill=\"#000000\" stroke=\"#000000\" points=\"1644.8102,-1199.7564 1647.6247,-1189.5422 1639.0548,-1195.7719 1644.8102,-1199.7564\"/>\n</g>\n<!-- 13 -->\n<g id=\"node10\" class=\"node\">\n<title>13</title>\n<path fill=\"#eeac7d\" stroke=\"#000000\" d=\"M1428,-1093C1428,-1093 1320,-1093 1320,-1093 1314,-1093 1308,-1087 1308,-1081 1308,-1081 1308,-1037 1308,-1037 1308,-1031 1314,-1025 1320,-1025 1320,-1025 1428,-1025 1428,-1025 1434,-1025 1440,-1031 1440,-1037 1440,-1037 1440,-1081 1440,-1081 1440,-1087 1434,-1093 1428,-1093\"/>\n<text text-anchor=\"middle\" x=\"1374\" y=\"-1077.8\" font-family=\"Helvetica,sans-Serif\" font-size=\"14.00\" fill=\"#000000\">X[21] &lt;= 0.5</text>\n<text text-anchor=\"middle\" x=\"1374\" y=\"-1062.8\" font-family=\"Helvetica,sans-Serif\" font-size=\"14.00\" fill=\"#000000\">entropy = 0.819</text>\n<text text-anchor=\"middle\" x=\"1374\" y=\"-1047.8\" font-family=\"Helvetica,sans-Serif\" font-size=\"14.00\" fill=\"#000000\">samples = 1315</text>\n<text text-anchor=\"middle\" x=\"1374\" y=\"-1032.8\" font-family=\"Helvetica,sans-Serif\" font-size=\"14.00\" fill=\"#000000\">value = [980, 335]</text>\n</g>\n<!-- 11&#45;&gt;13 -->\n<g id=\"edge9\" class=\"edge\">\n<title>11&#45;&gt;13</title>\n<path fill=\"none\" stroke=\"#000000\" d=\"M1471.5216,-1128.9465C1458.2523,-1119.4293 1443.7085,-1108.9978 1429.9965,-1099.163\"/>\n<polygon fill=\"#000000\" stroke=\"#000000\" points=\"1431.751,-1096.1142 1421.5851,-1093.13 1427.6712,-1101.8024 1431.751,-1096.1142\"/>\n</g>\n<!-- 14 -->\n<g id=\"node55\" class=\"node\">\n<title>14</title>\n<path fill=\"#e6853f\" stroke=\"#000000\" d=\"M1570,-1093C1570,-1093 1470,-1093 1470,-1093 1464,-1093 1458,-1087 1458,-1081 1458,-1081 1458,-1037 1458,-1037 1458,-1031 1464,-1025 1470,-1025 1470,-1025 1570,-1025 1570,-1025 1576,-1025 1582,-1031 1582,-1037 1582,-1037 1582,-1081 1582,-1081 1582,-1087 1576,-1093 1570,-1093\"/>\n<text text-anchor=\"middle\" x=\"1520\" y=\"-1077.8\" font-family=\"Helvetica,sans-Serif\" font-size=\"14.00\" fill=\"#000000\">X[2] &lt;= 19.5</text>\n<text text-anchor=\"middle\" x=\"1520\" y=\"-1062.8\" font-family=\"Helvetica,sans-Serif\" font-size=\"14.00\" fill=\"#000000\">entropy = 0.189</text>\n<text text-anchor=\"middle\" x=\"1520\" y=\"-1047.8\" font-family=\"Helvetica,sans-Serif\" font-size=\"14.00\" fill=\"#000000\">samples = 450</text>\n<text text-anchor=\"middle\" x=\"1520\" y=\"-1032.8\" font-family=\"Helvetica,sans-Serif\" font-size=\"14.00\" fill=\"#000000\">value = [437, 13]</text>\n</g>\n<!-- 11&#45;&gt;14 -->\n<g id=\"edge54\" class=\"edge\">\n<title>11&#45;&gt;14</title>\n<path fill=\"none\" stroke=\"#000000\" d=\"M1519.3274,-1128.9465C1519.406,-1120.776 1519.491,-1111.9318 1519.5734,-1103.3697\"/>\n<polygon fill=\"#000000\" stroke=\"#000000\" points=\"1523.0754,-1103.1632 1519.6718,-1093.13 1516.0757,-1103.0958 1523.0754,-1103.1632\"/>\n</g>\n<!-- 19 -->\n<g id=\"node11\" class=\"node\">\n<title>19</title>\n<path fill=\"#eda775\" stroke=\"#000000\" d=\"M1224,-989C1224,-989 1116,-989 1116,-989 1110,-989 1104,-983 1104,-977 1104,-977 1104,-933 1104,-933 1104,-927 1110,-921 1116,-921 1116,-921 1224,-921 1224,-921 1230,-921 1236,-927 1236,-933 1236,-933 1236,-977 1236,-977 1236,-983 1230,-989 1224,-989\"/>\n<text text-anchor=\"middle\" x=\"1170\" y=\"-973.8\" font-family=\"Helvetica,sans-Serif\" font-size=\"14.00\" fill=\"#000000\">X[24] &lt;= 0.5</text>\n<text text-anchor=\"middle\" x=\"1170\" y=\"-958.8\" font-family=\"Helvetica,sans-Serif\" font-size=\"14.00\" fill=\"#000000\">entropy = 0.783</text>\n<text text-anchor=\"middle\" x=\"1170\" y=\"-943.8\" font-family=\"Helvetica,sans-Serif\" font-size=\"14.00\" fill=\"#000000\">samples = 1263</text>\n<text text-anchor=\"middle\" x=\"1170\" y=\"-928.8\" font-family=\"Helvetica,sans-Serif\" font-size=\"14.00\" fill=\"#000000\">value = [969, 294]</text>\n</g>\n<!-- 13&#45;&gt;19 -->\n<g id=\"edge10\" class=\"edge\">\n<title>13&#45;&gt;19</title>\n<path fill=\"none\" stroke=\"#000000\" d=\"M1307.767,-1025.2342C1287.8023,-1015.0561 1265.7442,-1003.8108 1245.2389,-993.3571\"/>\n<polygon fill=\"#000000\" stroke=\"#000000\" points=\"1246.7482,-990.198 1236.2495,-988.7742 1243.5689,-996.4343 1246.7482,-990.198\"/>\n</g>\n<!-- 20 -->\n<g id=\"node54\" class=\"node\">\n<title>20</title>\n<path fill=\"#6eb7ec\" stroke=\"#000000\" d=\"M1421,-981.5C1421,-981.5 1327,-981.5 1327,-981.5 1321,-981.5 1315,-975.5 1315,-969.5 1315,-969.5 1315,-940.5 1315,-940.5 1315,-934.5 1321,-928.5 1327,-928.5 1327,-928.5 1421,-928.5 1421,-928.5 1427,-928.5 1433,-934.5 1433,-940.5 1433,-940.5 1433,-969.5 1433,-969.5 1433,-975.5 1427,-981.5 1421,-981.5\"/>\n<text text-anchor=\"middle\" x=\"1374\" y=\"-966.3\" font-family=\"Helvetica,sans-Serif\" font-size=\"14.00\" fill=\"#000000\">entropy = 0.744</text>\n<text text-anchor=\"middle\" x=\"1374\" y=\"-951.3\" font-family=\"Helvetica,sans-Serif\" font-size=\"14.00\" fill=\"#000000\">samples = 52</text>\n<text text-anchor=\"middle\" x=\"1374\" y=\"-936.3\" font-family=\"Helvetica,sans-Serif\" font-size=\"14.00\" fill=\"#000000\">value = [11, 41]</text>\n</g>\n<!-- 13&#45;&gt;20 -->\n<g id=\"edge53\" class=\"edge\">\n<title>13&#45;&gt;20</title>\n<path fill=\"none\" stroke=\"#000000\" d=\"M1374,-1024.9465C1374,-1014.2621 1374,-1002.4254 1374,-991.5742\"/>\n<polygon fill=\"#000000\" stroke=\"#000000\" points=\"1377.5001,-991.5421 1374,-981.5422 1370.5001,-991.5422 1377.5001,-991.5421\"/>\n</g>\n<!-- 21 -->\n<g id=\"node12\" class=\"node\">\n<title>21</title>\n<path fill=\"#eca26d\" stroke=\"#000000\" d=\"M1053,-885C1053,-885 945,-885 945,-885 939,-885 933,-879 933,-873 933,-873 933,-829 933,-829 933,-823 939,-817 945,-817 945,-817 1053,-817 1053,-817 1059,-817 1065,-823 1065,-829 1065,-829 1065,-873 1065,-873 1065,-879 1059,-885 1053,-885\"/>\n<text text-anchor=\"middle\" x=\"999\" y=\"-869.8\" font-family=\"Helvetica,sans-Serif\" font-size=\"14.00\" fill=\"#000000\">X[3] &lt;= 126.5</text>\n<text text-anchor=\"middle\" x=\"999\" y=\"-854.8\" font-family=\"Helvetica,sans-Serif\" font-size=\"14.00\" fill=\"#000000\">entropy = 0.737</text>\n<text text-anchor=\"middle\" x=\"999\" y=\"-839.8\" font-family=\"Helvetica,sans-Serif\" font-size=\"14.00\" fill=\"#000000\">samples = 1204</text>\n<text text-anchor=\"middle\" x=\"999\" y=\"-824.8\" font-family=\"Helvetica,sans-Serif\" font-size=\"14.00\" fill=\"#000000\">value = [954, 250]</text>\n</g>\n<!-- 19&#45;&gt;21 -->\n<g id=\"edge11\" class=\"edge\">\n<title>19&#45;&gt;21</title>\n<path fill=\"none\" stroke=\"#000000\" d=\"M1114.0082,-920.9465C1097.9168,-911.1599 1080.2359,-900.4066 1063.6666,-890.3294\"/>\n<polygon fill=\"#000000\" stroke=\"#000000\" points=\"1065.4802,-887.336 1055.1176,-885.13 1061.8428,-893.3167 1065.4802,-887.336\"/>\n</g>\n<!-- 22 -->\n<g id=\"node51\" class=\"node\">\n<title>22</title>\n<path fill=\"#7cbeee\" stroke=\"#000000\" d=\"M1217,-885C1217,-885 1123,-885 1123,-885 1117,-885 1111,-879 1111,-873 1111,-873 1111,-829 1111,-829 1111,-823 1117,-817 1123,-817 1123,-817 1217,-817 1217,-817 1223,-817 1229,-823 1229,-829 1229,-829 1229,-873 1229,-873 1229,-879 1223,-885 1217,-885\"/>\n<text text-anchor=\"middle\" x=\"1170\" y=\"-869.8\" font-family=\"Helvetica,sans-Serif\" font-size=\"14.00\" fill=\"#000000\">X[5] &lt;= 186.0</text>\n<text text-anchor=\"middle\" x=\"1170\" y=\"-854.8\" font-family=\"Helvetica,sans-Serif\" font-size=\"14.00\" fill=\"#000000\">entropy = 0.818</text>\n<text text-anchor=\"middle\" x=\"1170\" y=\"-839.8\" font-family=\"Helvetica,sans-Serif\" font-size=\"14.00\" fill=\"#000000\">samples = 59</text>\n<text text-anchor=\"middle\" x=\"1170\" y=\"-824.8\" font-family=\"Helvetica,sans-Serif\" font-size=\"14.00\" fill=\"#000000\">value = [15, 44]</text>\n</g>\n<!-- 19&#45;&gt;22 -->\n<g id=\"edge50\" class=\"edge\">\n<title>19&#45;&gt;22</title>\n<path fill=\"none\" stroke=\"#000000\" d=\"M1170,-920.9465C1170,-912.776 1170,-903.9318 1170,-895.3697\"/>\n<polygon fill=\"#000000\" stroke=\"#000000\" points=\"1173.5001,-895.13 1170,-885.13 1166.5001,-895.13 1173.5001,-895.13\"/>\n</g>\n<!-- 31 -->\n<g id=\"node13\" class=\"node\">\n<title>31</title>\n<path fill=\"#e99558\" stroke=\"#000000\" d=\"M583,-781C583,-781 483,-781 483,-781 477,-781 471,-775 471,-769 471,-769 471,-725 471,-725 471,-719 477,-713 483,-713 483,-713 583,-713 583,-713 589,-713 595,-719 595,-725 595,-725 595,-769 595,-769 595,-775 589,-781 583,-781\"/>\n<text text-anchor=\"middle\" x=\"533\" y=\"-765.8\" font-family=\"Helvetica,sans-Serif\" font-size=\"14.00\" fill=\"#000000\">X[0] &lt;= 34.5</text>\n<text text-anchor=\"middle\" x=\"533\" y=\"-750.8\" font-family=\"Helvetica,sans-Serif\" font-size=\"14.00\" fill=\"#000000\">entropy = 0.569</text>\n<text text-anchor=\"middle\" x=\"533\" y=\"-735.8\" font-family=\"Helvetica,sans-Serif\" font-size=\"14.00\" fill=\"#000000\">samples = 662</text>\n<text text-anchor=\"middle\" x=\"533\" y=\"-720.8\" font-family=\"Helvetica,sans-Serif\" font-size=\"14.00\" fill=\"#000000\">value = [573, 89]</text>\n</g>\n<!-- 21&#45;&gt;31 -->\n<g id=\"edge12\" class=\"edge\">\n<title>21&#45;&gt;31</title>\n<path fill=\"none\" stroke=\"#000000\" d=\"M932.7285,-836.2098C846.0214,-816.8588 694.6252,-783.0709 605.1184,-763.0951\"/>\n<polygon fill=\"#000000\" stroke=\"#000000\" points=\"605.8422,-759.6706 595.3199,-760.9083 604.3174,-766.5025 605.8422,-759.6706\"/>\n</g>\n<!-- 32 -->\n<g id=\"node28\" class=\"node\">\n<title>32</title>\n<path fill=\"#f0b68d\" stroke=\"#000000\" d=\"M1053,-781C1053,-781 945,-781 945,-781 939,-781 933,-775 933,-769 933,-769 933,-725 933,-725 933,-719 939,-713 945,-713 945,-713 1053,-713 1053,-713 1059,-713 1065,-719 1065,-725 1065,-725 1065,-769 1065,-769 1065,-775 1059,-781 1053,-781\"/>\n<text text-anchor=\"middle\" x=\"999\" y=\"-765.8\" font-family=\"Helvetica,sans-Serif\" font-size=\"14.00\" fill=\"#000000\">X[0] &lt;= 60.5</text>\n<text text-anchor=\"middle\" x=\"999\" y=\"-750.8\" font-family=\"Helvetica,sans-Serif\" font-size=\"14.00\" fill=\"#000000\">entropy = 0.878</text>\n<text text-anchor=\"middle\" x=\"999\" y=\"-735.8\" font-family=\"Helvetica,sans-Serif\" font-size=\"14.00\" fill=\"#000000\">samples = 542</text>\n<text text-anchor=\"middle\" x=\"999\" y=\"-720.8\" font-family=\"Helvetica,sans-Serif\" font-size=\"14.00\" fill=\"#000000\">value = [381, 161]</text>\n</g>\n<!-- 21&#45;&gt;32 -->\n<g id=\"edge27\" class=\"edge\">\n<title>21&#45;&gt;32</title>\n<path fill=\"none\" stroke=\"#000000\" d=\"M999,-816.9465C999,-808.776 999,-799.9318 999,-791.3697\"/>\n<polygon fill=\"#000000\" stroke=\"#000000\" points=\"1002.5001,-791.13 999,-781.13 995.5001,-791.13 1002.5001,-791.13\"/>\n</g>\n<!-- 41 -->\n<g id=\"node14\" class=\"node\">\n<title>41</title>\n<path fill=\"#eda977\" stroke=\"#000000\" d=\"M373,-677C373,-677 273,-677 273,-677 267,-677 261,-671 261,-665 261,-665 261,-621 261,-621 261,-615 267,-609 273,-609 273,-609 373,-609 373,-609 379,-609 385,-615 385,-621 385,-621 385,-665 385,-665 385,-671 379,-677 373,-677\"/>\n<text text-anchor=\"middle\" x=\"323\" y=\"-661.8\" font-family=\"Helvetica,sans-Serif\" font-size=\"14.00\" fill=\"#000000\">X[12] &lt;= 0.5</text>\n<text text-anchor=\"middle\" x=\"323\" y=\"-646.8\" font-family=\"Helvetica,sans-Serif\" font-size=\"14.00\" fill=\"#000000\">entropy = 0.795</text>\n<text text-anchor=\"middle\" x=\"323\" y=\"-631.8\" font-family=\"Helvetica,sans-Serif\" font-size=\"14.00\" fill=\"#000000\">samples = 221</text>\n<text text-anchor=\"middle\" x=\"323\" y=\"-616.8\" font-family=\"Helvetica,sans-Serif\" font-size=\"14.00\" fill=\"#000000\">value = [168, 53]</text>\n</g>\n<!-- 31&#45;&gt;41 -->\n<g id=\"edge13\" class=\"edge\">\n<title>31&#45;&gt;41</title>\n<path fill=\"none\" stroke=\"#000000\" d=\"M470.8454,-716.2187C446.8246,-704.3227 419.1928,-690.6383 394.3659,-678.3431\"/>\n<polygon fill=\"#000000\" stroke=\"#000000\" points=\"395.8725,-675.1836 385.3579,-673.882 392.7659,-681.4565 395.8725,-675.1836\"/>\n</g>\n<!-- 42 -->\n<g id=\"node19\" class=\"node\">\n<title>42</title>\n<path fill=\"#e78c4b\" stroke=\"#000000\" d=\"M583,-677C583,-677 483,-677 483,-677 477,-677 471,-671 471,-665 471,-665 471,-621 471,-621 471,-615 477,-609 483,-609 483,-609 583,-609 583,-609 589,-609 595,-615 595,-621 595,-621 595,-665 595,-665 595,-671 589,-677 583,-677\"/>\n<text text-anchor=\"middle\" x=\"533\" y=\"-661.8\" font-family=\"Helvetica,sans-Serif\" font-size=\"14.00\" fill=\"#000000\">X[17] &lt;= 0.5</text>\n<text text-anchor=\"middle\" x=\"533\" y=\"-646.8\" font-family=\"Helvetica,sans-Serif\" font-size=\"14.00\" fill=\"#000000\">entropy = 0.408</text>\n<text text-anchor=\"middle\" x=\"533\" y=\"-631.8\" font-family=\"Helvetica,sans-Serif\" font-size=\"14.00\" fill=\"#000000\">samples = 441</text>\n<text text-anchor=\"middle\" x=\"533\" y=\"-616.8\" font-family=\"Helvetica,sans-Serif\" font-size=\"14.00\" fill=\"#000000\">value = [405, 36]</text>\n</g>\n<!-- 31&#45;&gt;42 -->\n<g id=\"edge18\" class=\"edge\">\n<title>31&#45;&gt;42</title>\n<path fill=\"none\" stroke=\"#000000\" d=\"M533,-712.9465C533,-704.776 533,-695.9318 533,-687.3697\"/>\n<polygon fill=\"#000000\" stroke=\"#000000\" points=\"536.5001,-687.13 533,-677.13 529.5001,-687.13 536.5001,-687.13\"/>\n</g>\n<!-- 105 -->\n<g id=\"node15\" class=\"node\">\n<title>105</title>\n<path fill=\"#f1bc96\" stroke=\"#000000\" d=\"M234,-573C234,-573 140,-573 140,-573 134,-573 128,-567 128,-561 128,-561 128,-517 128,-517 128,-511 134,-505 140,-505 140,-505 234,-505 234,-505 240,-505 246,-511 246,-517 246,-517 246,-561 246,-561 246,-567 240,-573 234,-573\"/>\n<text text-anchor=\"middle\" x=\"187\" y=\"-557.8\" font-family=\"Helvetica,sans-Serif\" font-size=\"14.00\" fill=\"#000000\">X[15] &lt;= 0.5</text>\n<text text-anchor=\"middle\" x=\"187\" y=\"-542.8\" font-family=\"Helvetica,sans-Serif\" font-size=\"14.00\" fill=\"#000000\">entropy = 0.903</text>\n<text text-anchor=\"middle\" x=\"187\" y=\"-527.8\" font-family=\"Helvetica,sans-Serif\" font-size=\"14.00\" fill=\"#000000\">samples = 138</text>\n<text text-anchor=\"middle\" x=\"187\" y=\"-512.8\" font-family=\"Helvetica,sans-Serif\" font-size=\"14.00\" fill=\"#000000\">value = [94, 44]</text>\n</g>\n<!-- 41&#45;&gt;105 -->\n<g id=\"edge14\" class=\"edge\">\n<title>41&#45;&gt;105</title>\n<path fill=\"none\" stroke=\"#000000\" d=\"M278.4685,-608.9465C266.1403,-599.519 252.6391,-589.1946 239.885,-579.4415\"/>\n<polygon fill=\"#000000\" stroke=\"#000000\" points=\"241.7012,-576.4243 231.6315,-573.13 237.449,-581.9848 241.7012,-576.4243\"/>\n</g>\n<!-- 106 -->\n<g id=\"node18\" class=\"node\">\n<title>106</title>\n<path fill=\"#e89051\" stroke=\"#000000\" d=\"M370,-565.5C370,-565.5 276,-565.5 276,-565.5 270,-565.5 264,-559.5 264,-553.5 264,-553.5 264,-524.5 264,-524.5 264,-518.5 270,-512.5 276,-512.5 276,-512.5 370,-512.5 370,-512.5 376,-512.5 382,-518.5 382,-524.5 382,-524.5 382,-553.5 382,-553.5 382,-559.5 376,-565.5 370,-565.5\"/>\n<text text-anchor=\"middle\" x=\"323\" y=\"-550.3\" font-family=\"Helvetica,sans-Serif\" font-size=\"14.00\" fill=\"#000000\">entropy = 0.495</text>\n<text text-anchor=\"middle\" x=\"323\" y=\"-535.3\" font-family=\"Helvetica,sans-Serif\" font-size=\"14.00\" fill=\"#000000\">samples = 83</text>\n<text text-anchor=\"middle\" x=\"323\" y=\"-520.3\" font-family=\"Helvetica,sans-Serif\" font-size=\"14.00\" fill=\"#000000\">value = [74, 9]</text>\n</g>\n<!-- 41&#45;&gt;106 -->\n<g id=\"edge17\" class=\"edge\">\n<title>41&#45;&gt;106</title>\n<path fill=\"none\" stroke=\"#000000\" d=\"M323,-608.9465C323,-598.2621 323,-586.4254 323,-575.5742\"/>\n<polygon fill=\"#000000\" stroke=\"#000000\" points=\"326.5001,-575.5421 323,-565.5422 319.5001,-575.5422 326.5001,-575.5421\"/>\n</g>\n<!-- 107 -->\n<g id=\"node16\" class=\"node\">\n<title>107</title>\n<path fill=\"#f6d5bd\" stroke=\"#000000\" d=\"M106,-461.5C106,-461.5 12,-461.5 12,-461.5 6,-461.5 0,-455.5 0,-449.5 0,-449.5 0,-420.5 0,-420.5 0,-414.5 6,-408.5 12,-408.5 12,-408.5 106,-408.5 106,-408.5 112,-408.5 118,-414.5 118,-420.5 118,-420.5 118,-449.5 118,-449.5 118,-455.5 112,-461.5 106,-461.5\"/>\n<text text-anchor=\"middle\" x=\"59\" y=\"-446.3\" font-family=\"Helvetica,sans-Serif\" font-size=\"14.00\" fill=\"#000000\">entropy = 0.971</text>\n<text text-anchor=\"middle\" x=\"59\" y=\"-431.3\" font-family=\"Helvetica,sans-Serif\" font-size=\"14.00\" fill=\"#000000\">samples = 105</text>\n<text text-anchor=\"middle\" x=\"59\" y=\"-416.3\" font-family=\"Helvetica,sans-Serif\" font-size=\"14.00\" fill=\"#000000\">value = [63, 42]</text>\n</g>\n<!-- 105&#45;&gt;107 -->\n<g id=\"edge15\" class=\"edge\">\n<title>105&#45;&gt;107</title>\n<path fill=\"none\" stroke=\"#000000\" d=\"M145.088,-504.9465C130.4467,-493.0504 114.0474,-479.726 99.5215,-467.9237\"/>\n<polygon fill=\"#000000\" stroke=\"#000000\" points=\"101.6355,-465.1317 91.6673,-461.5422 97.2214,-470.5645 101.6355,-465.1317\"/>\n</g>\n<!-- 108 -->\n<g id=\"node17\" class=\"node\">\n<title>108</title>\n<path fill=\"#e78946\" stroke=\"#000000\" d=\"M234,-461.5C234,-461.5 148,-461.5 148,-461.5 142,-461.5 136,-455.5 136,-449.5 136,-449.5 136,-420.5 136,-420.5 136,-414.5 142,-408.5 148,-408.5 148,-408.5 234,-408.5 234,-408.5 240,-408.5 246,-414.5 246,-420.5 246,-420.5 246,-449.5 246,-449.5 246,-455.5 240,-461.5 234,-461.5\"/>\n<text text-anchor=\"middle\" x=\"191\" y=\"-446.3\" font-family=\"Helvetica,sans-Serif\" font-size=\"14.00\" fill=\"#000000\">entropy = 0.33</text>\n<text text-anchor=\"middle\" x=\"191\" y=\"-431.3\" font-family=\"Helvetica,sans-Serif\" font-size=\"14.00\" fill=\"#000000\">samples = 33</text>\n<text text-anchor=\"middle\" x=\"191\" y=\"-416.3\" font-family=\"Helvetica,sans-Serif\" font-size=\"14.00\" fill=\"#000000\">value = [31, 2]</text>\n</g>\n<!-- 105&#45;&gt;108 -->\n<g id=\"edge16\" class=\"edge\">\n<title>105&#45;&gt;108</title>\n<path fill=\"none\" stroke=\"#000000\" d=\"M188.3097,-504.9465C188.7207,-494.2621 189.1759,-482.4254 189.5933,-471.5742\"/>\n<polygon fill=\"#000000\" stroke=\"#000000\" points=\"193.0921,-471.6693 189.9791,-461.5422 186.0973,-471.4002 193.0921,-471.6693\"/>\n</g>\n<!-- 61 -->\n<g id=\"node20\" class=\"node\">\n<title>61</title>\n<path fill=\"#e78945\" stroke=\"#000000\" d=\"M512,-573C512,-573 412,-573 412,-573 406,-573 400,-567 400,-561 400,-561 400,-517 400,-517 400,-511 406,-505 412,-505 412,-505 512,-505 512,-505 518,-505 524,-511 524,-517 524,-517 524,-561 524,-561 524,-567 518,-573 512,-573\"/>\n<text text-anchor=\"middle\" x=\"462\" y=\"-557.8\" font-family=\"Helvetica,sans-Serif\" font-size=\"14.00\" fill=\"#000000\">X[5] &lt;= 352.5</text>\n<text text-anchor=\"middle\" x=\"462\" y=\"-542.8\" font-family=\"Helvetica,sans-Serif\" font-size=\"14.00\" fill=\"#000000\">entropy = 0.324</text>\n<text text-anchor=\"middle\" x=\"462\" y=\"-527.8\" font-family=\"Helvetica,sans-Serif\" font-size=\"14.00\" fill=\"#000000\">samples = 405</text>\n<text text-anchor=\"middle\" x=\"462\" y=\"-512.8\" font-family=\"Helvetica,sans-Serif\" font-size=\"14.00\" fill=\"#000000\">value = [381, 24]</text>\n</g>\n<!-- 42&#45;&gt;61 -->\n<g id=\"edge19\" class=\"edge\">\n<title>42&#45;&gt;61</title>\n<path fill=\"none\" stroke=\"#000000\" d=\"M509.7519,-608.9465C503.745,-600.1475 497.2045,-590.5672 490.9457,-581.3993\"/>\n<polygon fill=\"#000000\" stroke=\"#000000\" points=\"493.8293,-579.4155 485.3003,-573.13 488.048,-583.3623 493.8293,-579.4155\"/>\n</g>\n<!-- 62 -->\n<g id=\"node25\" class=\"node\">\n<title>62</title>\n<path fill=\"#f2c09c\" stroke=\"#000000\" d=\"M648,-573C648,-573 554,-573 554,-573 548,-573 542,-567 542,-561 542,-561 542,-517 542,-517 542,-511 548,-505 554,-505 554,-505 648,-505 648,-505 654,-505 660,-511 660,-517 660,-517 660,-561 660,-561 660,-567 654,-573 648,-573\"/>\n<text text-anchor=\"middle\" x=\"601\" y=\"-557.8\" font-family=\"Helvetica,sans-Serif\" font-size=\"14.00\" fill=\"#000000\">X[2] &lt;= 6.5</text>\n<text text-anchor=\"middle\" x=\"601\" y=\"-542.8\" font-family=\"Helvetica,sans-Serif\" font-size=\"14.00\" fill=\"#000000\">entropy = 0.918</text>\n<text text-anchor=\"middle\" x=\"601\" y=\"-527.8\" font-family=\"Helvetica,sans-Serif\" font-size=\"14.00\" fill=\"#000000\">samples = 36</text>\n<text text-anchor=\"middle\" x=\"601\" y=\"-512.8\" font-family=\"Helvetica,sans-Serif\" font-size=\"14.00\" fill=\"#000000\">value = [24, 12]</text>\n</g>\n<!-- 42&#45;&gt;62 -->\n<g id=\"edge24\" class=\"edge\">\n<title>42&#45;&gt;62</title>\n<path fill=\"none\" stroke=\"#000000\" d=\"M555.2657,-608.9465C560.9602,-600.2373 567.1552,-590.7626 573.0938,-581.6801\"/>\n<polygon fill=\"#000000\" stroke=\"#000000\" points=\"576.1411,-583.4151 578.6842,-573.13 570.2823,-579.5843 576.1411,-583.4151\"/>\n</g>\n<!-- 83 -->\n<g id=\"node21\" class=\"node\">\n<title>83</title>\n<path fill=\"#e68844\" stroke=\"#000000\" d=\"M381,-469C381,-469 281,-469 281,-469 275,-469 269,-463 269,-457 269,-457 269,-413 269,-413 269,-407 275,-401 281,-401 281,-401 381,-401 381,-401 387,-401 393,-407 393,-413 393,-413 393,-457 393,-457 393,-463 387,-469 381,-469\"/>\n<text text-anchor=\"middle\" x=\"331\" y=\"-453.8\" font-family=\"Helvetica,sans-Serif\" font-size=\"14.00\" fill=\"#000000\">X[2] &lt;= 4.5</text>\n<text text-anchor=\"middle\" x=\"331\" y=\"-438.8\" font-family=\"Helvetica,sans-Serif\" font-size=\"14.00\" fill=\"#000000\">entropy = 0.296</text>\n<text text-anchor=\"middle\" x=\"331\" y=\"-423.8\" font-family=\"Helvetica,sans-Serif\" font-size=\"14.00\" fill=\"#000000\">samples = 402</text>\n<text text-anchor=\"middle\" x=\"331\" y=\"-408.8\" font-family=\"Helvetica,sans-Serif\" font-size=\"14.00\" fill=\"#000000\">value = [381, 21]</text>\n</g>\n<!-- 61&#45;&gt;83 -->\n<g id=\"edge20\" class=\"edge\">\n<title>61&#45;&gt;83</title>\n<path fill=\"none\" stroke=\"#000000\" d=\"M419.1057,-504.9465C407.2307,-495.519 394.2259,-485.1946 381.9407,-475.4415\"/>\n<polygon fill=\"#000000\" stroke=\"#000000\" points=\"383.9989,-472.6066 373.9907,-469.13 379.6464,-478.089 383.9989,-472.6066\"/>\n</g>\n<!-- 84 -->\n<g id=\"node24\" class=\"node\">\n<title>84</title>\n<path fill=\"#399de5\" stroke=\"#000000\" d=\"M500.5,-461.5C500.5,-461.5 423.5,-461.5 423.5,-461.5 417.5,-461.5 411.5,-455.5 411.5,-449.5 411.5,-449.5 411.5,-420.5 411.5,-420.5 411.5,-414.5 417.5,-408.5 423.5,-408.5 423.5,-408.5 500.5,-408.5 500.5,-408.5 506.5,-408.5 512.5,-414.5 512.5,-420.5 512.5,-420.5 512.5,-449.5 512.5,-449.5 512.5,-455.5 506.5,-461.5 500.5,-461.5\"/>\n<text text-anchor=\"middle\" x=\"462\" y=\"-446.3\" font-family=\"Helvetica,sans-Serif\" font-size=\"14.00\" fill=\"#000000\">entropy = 0.0</text>\n<text text-anchor=\"middle\" x=\"462\" y=\"-431.3\" font-family=\"Helvetica,sans-Serif\" font-size=\"14.00\" fill=\"#000000\">samples = 3</text>\n<text text-anchor=\"middle\" x=\"462\" y=\"-416.3\" font-family=\"Helvetica,sans-Serif\" font-size=\"14.00\" fill=\"#000000\">value = [0, 3]</text>\n</g>\n<!-- 61&#45;&gt;84 -->\n<g id=\"edge23\" class=\"edge\">\n<title>61&#45;&gt;84</title>\n<path fill=\"none\" stroke=\"#000000\" d=\"M462,-504.9465C462,-494.2621 462,-482.4254 462,-471.5742\"/>\n<polygon fill=\"#000000\" stroke=\"#000000\" points=\"465.5001,-471.5421 462,-461.5422 458.5001,-471.5422 465.5001,-471.5421\"/>\n</g>\n<!-- 137 -->\n<g id=\"node22\" class=\"node\">\n<title>137</title>\n<path fill=\"#eead7f\" stroke=\"#000000\" d=\"M308,-357.5C308,-357.5 214,-357.5 214,-357.5 208,-357.5 202,-351.5 202,-345.5 202,-345.5 202,-316.5 202,-316.5 202,-310.5 208,-304.5 214,-304.5 214,-304.5 308,-304.5 308,-304.5 314,-304.5 320,-310.5 320,-316.5 320,-316.5 320,-345.5 320,-345.5 320,-351.5 314,-357.5 308,-357.5\"/>\n<text text-anchor=\"middle\" x=\"261\" y=\"-342.3\" font-family=\"Helvetica,sans-Serif\" font-size=\"14.00\" fill=\"#000000\">entropy = 0.828</text>\n<text text-anchor=\"middle\" x=\"261\" y=\"-327.3\" font-family=\"Helvetica,sans-Serif\" font-size=\"14.00\" fill=\"#000000\">samples = 23</text>\n<text text-anchor=\"middle\" x=\"261\" y=\"-312.3\" font-family=\"Helvetica,sans-Serif\" font-size=\"14.00\" fill=\"#000000\">value = [17, 6]</text>\n</g>\n<!-- 83&#45;&gt;137 -->\n<g id=\"edge21\" class=\"edge\">\n<title>83&#45;&gt;137</title>\n<path fill=\"none\" stroke=\"#000000\" d=\"M308.0794,-400.9465C300.5172,-389.7113 292.0976,-377.2021 284.4933,-365.9043\"/>\n<polygon fill=\"#000000\" stroke=\"#000000\" points=\"287.3523,-363.8837 278.8649,-357.5422 281.5452,-367.7924 287.3523,-363.8837\"/>\n</g>\n<!-- 138 -->\n<g id=\"node23\" class=\"node\">\n<title>138</title>\n<path fill=\"#e68641\" stroke=\"#000000\" d=\"M450,-357.5C450,-357.5 350,-357.5 350,-357.5 344,-357.5 338,-351.5 338,-345.5 338,-345.5 338,-316.5 338,-316.5 338,-310.5 344,-304.5 350,-304.5 350,-304.5 450,-304.5 450,-304.5 456,-304.5 462,-310.5 462,-316.5 462,-316.5 462,-345.5 462,-345.5 462,-351.5 456,-357.5 450,-357.5\"/>\n<text text-anchor=\"middle\" x=\"400\" y=\"-342.3\" font-family=\"Helvetica,sans-Serif\" font-size=\"14.00\" fill=\"#000000\">entropy = 0.24</text>\n<text text-anchor=\"middle\" x=\"400\" y=\"-327.3\" font-family=\"Helvetica,sans-Serif\" font-size=\"14.00\" fill=\"#000000\">samples = 379</text>\n<text text-anchor=\"middle\" x=\"400\" y=\"-312.3\" font-family=\"Helvetica,sans-Serif\" font-size=\"14.00\" fill=\"#000000\">value = [364, 15]</text>\n</g>\n<!-- 83&#45;&gt;138 -->\n<g id=\"edge22\" class=\"edge\">\n<title>83&#45;&gt;138</title>\n<path fill=\"none\" stroke=\"#000000\" d=\"M353.5932,-400.9465C361.0473,-389.7113 369.3467,-377.2021 376.8423,-365.9043\"/>\n<polygon fill=\"#000000\" stroke=\"#000000\" points=\"379.7782,-367.81 382.3903,-357.5422 373.9453,-363.94 379.7782,-367.81\"/>\n</g>\n<!-- 63 -->\n<g id=\"node26\" class=\"node\">\n<title>63</title>\n<path fill=\"#e58139\" stroke=\"#000000\" d=\"M625.5,-461.5C625.5,-461.5 542.5,-461.5 542.5,-461.5 536.5,-461.5 530.5,-455.5 530.5,-449.5 530.5,-449.5 530.5,-420.5 530.5,-420.5 530.5,-414.5 536.5,-408.5 542.5,-408.5 542.5,-408.5 625.5,-408.5 625.5,-408.5 631.5,-408.5 637.5,-414.5 637.5,-420.5 637.5,-420.5 637.5,-449.5 637.5,-449.5 637.5,-455.5 631.5,-461.5 625.5,-461.5\"/>\n<text text-anchor=\"middle\" x=\"584\" y=\"-446.3\" font-family=\"Helvetica,sans-Serif\" font-size=\"14.00\" fill=\"#000000\">entropy = 0.0</text>\n<text text-anchor=\"middle\" x=\"584\" y=\"-431.3\" font-family=\"Helvetica,sans-Serif\" font-size=\"14.00\" fill=\"#000000\">samples = 21</text>\n<text text-anchor=\"middle\" x=\"584\" y=\"-416.3\" font-family=\"Helvetica,sans-Serif\" font-size=\"14.00\" fill=\"#000000\">value = [21, 0]</text>\n</g>\n<!-- 62&#45;&gt;63 -->\n<g id=\"edge25\" class=\"edge\">\n<title>62&#45;&gt;63</title>\n<path fill=\"none\" stroke=\"#000000\" d=\"M595.4336,-504.9465C593.6871,-494.2621 591.7522,-482.4254 589.9785,-471.5742\"/>\n<polygon fill=\"#000000\" stroke=\"#000000\" points=\"593.4061,-470.8465 588.3386,-461.5422 586.4978,-471.9758 593.4061,-470.8465\"/>\n</g>\n<!-- 64 -->\n<g id=\"node27\" class=\"node\">\n<title>64</title>\n<path fill=\"#6ab6ec\" stroke=\"#000000\" d=\"M762,-461.5C762,-461.5 668,-461.5 668,-461.5 662,-461.5 656,-455.5 656,-449.5 656,-449.5 656,-420.5 656,-420.5 656,-414.5 662,-408.5 668,-408.5 668,-408.5 762,-408.5 762,-408.5 768,-408.5 774,-414.5 774,-420.5 774,-420.5 774,-449.5 774,-449.5 774,-455.5 768,-461.5 762,-461.5\"/>\n<text text-anchor=\"middle\" x=\"715\" y=\"-446.3\" font-family=\"Helvetica,sans-Serif\" font-size=\"14.00\" fill=\"#000000\">entropy = 0.722</text>\n<text text-anchor=\"middle\" x=\"715\" y=\"-431.3\" font-family=\"Helvetica,sans-Serif\" font-size=\"14.00\" fill=\"#000000\">samples = 15</text>\n<text text-anchor=\"middle\" x=\"715\" y=\"-416.3\" font-family=\"Helvetica,sans-Serif\" font-size=\"14.00\" fill=\"#000000\">value = [3, 12]</text>\n</g>\n<!-- 62&#45;&gt;64 -->\n<g id=\"edge26\" class=\"edge\">\n<title>62&#45;&gt;64</title>\n<path fill=\"none\" stroke=\"#000000\" d=\"M638.3279,-504.9465C651.1263,-493.2707 665.433,-480.219 678.1901,-468.5809\"/>\n<polygon fill=\"#000000\" stroke=\"#000000\" points=\"680.8769,-470.8675 685.9057,-461.5422 676.1591,-465.6961 680.8769,-470.8675\"/>\n</g>\n<!-- 49 -->\n<g id=\"node29\" class=\"node\">\n<title>49</title>\n<path fill=\"#eeaf81\" stroke=\"#000000\" d=\"M1047,-677C1047,-677 939,-677 939,-677 933,-677 927,-671 927,-665 927,-665 927,-621 927,-621 927,-615 933,-609 939,-609 939,-609 1047,-609 1047,-609 1053,-609 1059,-615 1059,-621 1059,-621 1059,-665 1059,-665 1059,-671 1053,-677 1047,-677\"/>\n<text text-anchor=\"middle\" x=\"993\" y=\"-661.8\" font-family=\"Helvetica,sans-Serif\" font-size=\"14.00\" fill=\"#000000\">X[5] &lt;= 29.0</text>\n<text text-anchor=\"middle\" x=\"993\" y=\"-646.8\" font-family=\"Helvetica,sans-Serif\" font-size=\"14.00\" fill=\"#000000\">entropy = 0.835</text>\n<text text-anchor=\"middle\" x=\"993\" y=\"-631.8\" font-family=\"Helvetica,sans-Serif\" font-size=\"14.00\" fill=\"#000000\">samples = 497</text>\n<text text-anchor=\"middle\" x=\"993\" y=\"-616.8\" font-family=\"Helvetica,sans-Serif\" font-size=\"14.00\" fill=\"#000000\">value = [365, 132]</text>\n</g>\n<!-- 32&#45;&gt;49 -->\n<g id=\"edge28\" class=\"edge\">\n<title>32&#45;&gt;49</title>\n<path fill=\"none\" stroke=\"#000000\" d=\"M997.0354,-712.9465C996.564,-704.776 996.0538,-695.9318 995.5598,-687.3697\"/>\n<polygon fill=\"#000000\" stroke=\"#000000\" points=\"999.0393,-686.9118 994.969,-677.13 992.0509,-687.315 999.0393,-686.9118\"/>\n</g>\n<!-- 50 -->\n<g id=\"node50\" class=\"node\">\n<title>50</title>\n<path fill=\"#a6d3f3\" stroke=\"#000000\" d=\"M1183,-669.5C1183,-669.5 1089,-669.5 1089,-669.5 1083,-669.5 1077,-663.5 1077,-657.5 1077,-657.5 1077,-628.5 1077,-628.5 1077,-622.5 1083,-616.5 1089,-616.5 1089,-616.5 1183,-616.5 1183,-616.5 1189,-616.5 1195,-622.5 1195,-628.5 1195,-628.5 1195,-657.5 1195,-657.5 1195,-663.5 1189,-669.5 1183,-669.5\"/>\n<text text-anchor=\"middle\" x=\"1136\" y=\"-654.3\" font-family=\"Helvetica,sans-Serif\" font-size=\"14.00\" fill=\"#000000\">entropy = 0.939</text>\n<text text-anchor=\"middle\" x=\"1136\" y=\"-639.3\" font-family=\"Helvetica,sans-Serif\" font-size=\"14.00\" fill=\"#000000\">samples = 45</text>\n<text text-anchor=\"middle\" x=\"1136\" y=\"-624.3\" font-family=\"Helvetica,sans-Serif\" font-size=\"14.00\" fill=\"#000000\">value = [16, 29]</text>\n</g>\n<!-- 32&#45;&gt;50 -->\n<g id=\"edge49\" class=\"edge\">\n<title>32&#45;&gt;50</title>\n<path fill=\"none\" stroke=\"#000000\" d=\"M1043.8589,-712.9465C1059.6748,-700.9403 1077.4073,-687.4791 1093.0607,-675.5962\"/>\n<polygon fill=\"#000000\" stroke=\"#000000\" points=\"1095.1871,-678.3764 1101.0358,-669.5422 1090.9545,-672.8009 1095.1871,-678.3764\"/>\n</g>\n<!-- 55 -->\n<g id=\"node30\" class=\"node\">\n<title>55</title>\n<path fill=\"#eca470\" stroke=\"#000000\" d=\"M1040,-573C1040,-573 940,-573 940,-573 934,-573 928,-567 928,-561 928,-561 928,-517 928,-517 928,-511 934,-505 940,-505 940,-505 1040,-505 1040,-505 1046,-505 1052,-511 1052,-517 1052,-517 1052,-561 1052,-561 1052,-567 1046,-573 1040,-573\"/>\n<text text-anchor=\"middle\" x=\"990\" y=\"-557.8\" font-family=\"Helvetica,sans-Serif\" font-size=\"14.00\" fill=\"#000000\">X[0] &lt;= 25.5</text>\n<text text-anchor=\"middle\" x=\"990\" y=\"-542.8\" font-family=\"Helvetica,sans-Serif\" font-size=\"14.00\" fill=\"#000000\">entropy = 0.756</text>\n<text text-anchor=\"middle\" x=\"990\" y=\"-527.8\" font-family=\"Helvetica,sans-Serif\" font-size=\"14.00\" fill=\"#000000\">samples = 404</text>\n<text text-anchor=\"middle\" x=\"990\" y=\"-512.8\" font-family=\"Helvetica,sans-Serif\" font-size=\"14.00\" fill=\"#000000\">value = [316, 88]</text>\n</g>\n<!-- 49&#45;&gt;55 -->\n<g id=\"edge29\" class=\"edge\">\n<title>49&#45;&gt;55</title>\n<path fill=\"none\" stroke=\"#000000\" d=\"M992.0177,-608.9465C991.782,-600.776 991.5269,-591.9318 991.2799,-583.3697\"/>\n<polygon fill=\"#000000\" stroke=\"#000000\" points=\"994.7715,-583.0249 990.9845,-573.13 987.7744,-583.2268 994.7715,-583.0249\"/>\n</g>\n<!-- 56 -->\n<g id=\"node43\" class=\"node\">\n<title>56</title>\n<path fill=\"#fcf2eb\" stroke=\"#000000\" d=\"M1246,-573C1246,-573 1152,-573 1152,-573 1146,-573 1140,-567 1140,-561 1140,-561 1140,-517 1140,-517 1140,-511 1146,-505 1152,-505 1152,-505 1246,-505 1246,-505 1252,-505 1258,-511 1258,-517 1258,-517 1258,-561 1258,-561 1258,-567 1252,-573 1246,-573\"/>\n<text text-anchor=\"middle\" x=\"1199\" y=\"-557.8\" font-family=\"Helvetica,sans-Serif\" font-size=\"14.00\" fill=\"#000000\">X[4] &lt;= 2.5</text>\n<text text-anchor=\"middle\" x=\"1199\" y=\"-542.8\" font-family=\"Helvetica,sans-Serif\" font-size=\"14.00\" fill=\"#000000\">entropy = 0.998</text>\n<text text-anchor=\"middle\" x=\"1199\" y=\"-527.8\" font-family=\"Helvetica,sans-Serif\" font-size=\"14.00\" fill=\"#000000\">samples = 93</text>\n<text text-anchor=\"middle\" x=\"1199\" y=\"-512.8\" font-family=\"Helvetica,sans-Serif\" font-size=\"14.00\" fill=\"#000000\">value = [49, 44]</text>\n</g>\n<!-- 49&#45;&gt;56 -->\n<g id=\"edge42\" class=\"edge\">\n<title>49&#45;&gt;56</title>\n<path fill=\"none\" stroke=\"#000000\" d=\"M1059.0297,-609.6646C1081.99,-598.073 1107.7763,-585.0547 1130.9009,-573.3801\"/>\n<polygon fill=\"#000000\" stroke=\"#000000\" points=\"1132.6068,-576.4397 1139.9563,-568.8085 1129.452,-570.1909 1132.6068,-576.4397\"/>\n</g>\n<!-- 57 -->\n<g id=\"node31\" class=\"node\">\n<title>57</title>\n<path fill=\"#a8d4f4\" stroke=\"#000000\" d=\"M898,-461.5C898,-461.5 804,-461.5 804,-461.5 798,-461.5 792,-455.5 792,-449.5 792,-449.5 792,-420.5 792,-420.5 792,-414.5 798,-408.5 804,-408.5 804,-408.5 898,-408.5 898,-408.5 904,-408.5 910,-414.5 910,-420.5 910,-420.5 910,-449.5 910,-449.5 910,-455.5 904,-461.5 898,-461.5\"/>\n<text text-anchor=\"middle\" x=\"851\" y=\"-446.3\" font-family=\"Helvetica,sans-Serif\" font-size=\"14.00\" fill=\"#000000\">entropy = 0.943</text>\n<text text-anchor=\"middle\" x=\"851\" y=\"-431.3\" font-family=\"Helvetica,sans-Serif\" font-size=\"14.00\" fill=\"#000000\">samples = 25</text>\n<text text-anchor=\"middle\" x=\"851\" y=\"-416.3\" font-family=\"Helvetica,sans-Serif\" font-size=\"14.00\" fill=\"#000000\">value = [9, 16]</text>\n</g>\n<!-- 55&#45;&gt;57 -->\n<g id=\"edge30\" class=\"edge\">\n<title>55&#45;&gt;57</title>\n<path fill=\"none\" stroke=\"#000000\" d=\"M944.4862,-504.9465C928.4394,-492.9403 910.4481,-479.4791 894.5661,-467.5962\"/>\n<polygon fill=\"#000000\" stroke=\"#000000\" points=\"896.5783,-464.7306 886.4746,-461.5422 892.3848,-470.3354 896.5783,-464.7306\"/>\n</g>\n<!-- 58 -->\n<g id=\"node32\" class=\"node\">\n<title>58</title>\n<path fill=\"#eb9f67\" stroke=\"#000000\" d=\"M1040,-469C1040,-469 940,-469 940,-469 934,-469 928,-463 928,-457 928,-457 928,-413 928,-413 928,-407 934,-401 940,-401 940,-401 1040,-401 1040,-401 1046,-401 1052,-407 1052,-413 1052,-413 1052,-457 1052,-457 1052,-463 1046,-469 1040,-469\"/>\n<text text-anchor=\"middle\" x=\"990\" y=\"-453.8\" font-family=\"Helvetica,sans-Serif\" font-size=\"14.00\" fill=\"#000000\">X[1] &lt;= 39.5</text>\n<text text-anchor=\"middle\" x=\"990\" y=\"-438.8\" font-family=\"Helvetica,sans-Serif\" font-size=\"14.00\" fill=\"#000000\">entropy = 0.701</text>\n<text text-anchor=\"middle\" x=\"990\" y=\"-423.8\" font-family=\"Helvetica,sans-Serif\" font-size=\"14.00\" fill=\"#000000\">samples = 379</text>\n<text text-anchor=\"middle\" x=\"990\" y=\"-408.8\" font-family=\"Helvetica,sans-Serif\" font-size=\"14.00\" fill=\"#000000\">value = [307, 72]</text>\n</g>\n<!-- 55&#45;&gt;58 -->\n<g id=\"edge31\" class=\"edge\">\n<title>55&#45;&gt;58</title>\n<path fill=\"none\" stroke=\"#000000\" d=\"M990,-504.9465C990,-496.776 990,-487.9318 990,-479.3697\"/>\n<polygon fill=\"#000000\" stroke=\"#000000\" points=\"993.5001,-479.13 990,-469.13 986.5001,-479.13 993.5001,-479.13\"/>\n</g>\n<!-- 69 -->\n<g id=\"node33\" class=\"node\">\n<title>69</title>\n<path fill=\"#e68743\" stroke=\"#000000\" d=\"M896,-357.5C896,-357.5 802,-357.5 802,-357.5 796,-357.5 790,-351.5 790,-345.5 790,-345.5 790,-316.5 790,-316.5 790,-310.5 796,-304.5 802,-304.5 802,-304.5 896,-304.5 896,-304.5 902,-304.5 908,-310.5 908,-316.5 908,-316.5 908,-345.5 908,-345.5 908,-351.5 902,-357.5 896,-357.5\"/>\n<text text-anchor=\"middle\" x=\"849\" y=\"-342.3\" font-family=\"Helvetica,sans-Serif\" font-size=\"14.00\" fill=\"#000000\">entropy = 0.271</text>\n<text text-anchor=\"middle\" x=\"849\" y=\"-327.3\" font-family=\"Helvetica,sans-Serif\" font-size=\"14.00\" fill=\"#000000\">samples = 86</text>\n<text text-anchor=\"middle\" x=\"849\" y=\"-312.3\" font-family=\"Helvetica,sans-Serif\" font-size=\"14.00\" fill=\"#000000\">value = [82, 4]</text>\n</g>\n<!-- 58&#45;&gt;69 -->\n<g id=\"edge32\" class=\"edge\">\n<title>58&#45;&gt;69</title>\n<path fill=\"none\" stroke=\"#000000\" d=\"M943.8313,-400.9465C927.5536,-388.9403 909.3035,-375.4791 893.193,-363.5962\"/>\n<polygon fill=\"#000000\" stroke=\"#000000\" points=\"895.1103,-360.6614 884.985,-357.5422 890.9552,-366.2948 895.1103,-360.6614\"/>\n</g>\n<!-- 70 -->\n<g id=\"node34\" class=\"node\">\n<title>70</title>\n<path fill=\"#eda775\" stroke=\"#000000\" d=\"M1038,-365C1038,-365 938,-365 938,-365 932,-365 926,-359 926,-353 926,-353 926,-309 926,-309 926,-303 932,-297 938,-297 938,-297 1038,-297 1038,-297 1044,-297 1050,-303 1050,-309 1050,-309 1050,-353 1050,-353 1050,-359 1044,-365 1038,-365\"/>\n<text text-anchor=\"middle\" x=\"988\" y=\"-349.8\" font-family=\"Helvetica,sans-Serif\" font-size=\"14.00\" fill=\"#000000\">X[2] &lt;= 16.5</text>\n<text text-anchor=\"middle\" x=\"988\" y=\"-334.8\" font-family=\"Helvetica,sans-Serif\" font-size=\"14.00\" fill=\"#000000\">entropy = 0.782</text>\n<text text-anchor=\"middle\" x=\"988\" y=\"-319.8\" font-family=\"Helvetica,sans-Serif\" font-size=\"14.00\" fill=\"#000000\">samples = 293</text>\n<text text-anchor=\"middle\" x=\"988\" y=\"-304.8\" font-family=\"Helvetica,sans-Serif\" font-size=\"14.00\" fill=\"#000000\">value = [225, 68]</text>\n</g>\n<!-- 58&#45;&gt;70 -->\n<g id=\"edge33\" class=\"edge\">\n<title>58&#45;&gt;70</title>\n<path fill=\"none\" stroke=\"#000000\" d=\"M989.3451,-400.9465C989.188,-392.776 989.0179,-383.9318 988.8533,-375.3697\"/>\n<polygon fill=\"#000000\" stroke=\"#000000\" points=\"992.3481,-375.0608 988.6563,-365.13 985.3494,-375.1955 992.3481,-375.0608\"/>\n</g>\n<!-- 99 -->\n<g id=\"node35\" class=\"node\">\n<title>99</title>\n<path fill=\"#f1bc95\" stroke=\"#000000\" d=\"M967,-261C967,-261 867,-261 867,-261 861,-261 855,-255 855,-249 855,-249 855,-205 855,-205 855,-199 861,-193 867,-193 867,-193 967,-193 967,-193 973,-193 979,-199 979,-205 979,-205 979,-249 979,-249 979,-255 973,-261 967,-261\"/>\n<text text-anchor=\"middle\" x=\"917\" y=\"-245.8\" font-family=\"Helvetica,sans-Serif\" font-size=\"14.00\" fill=\"#000000\">X[23] &lt;= 0.5</text>\n<text text-anchor=\"middle\" x=\"917\" y=\"-230.8\" font-family=\"Helvetica,sans-Serif\" font-size=\"14.00\" fill=\"#000000\">entropy = 0.902</text>\n<text text-anchor=\"middle\" x=\"917\" y=\"-215.8\" font-family=\"Helvetica,sans-Serif\" font-size=\"14.00\" fill=\"#000000\">samples = 154</text>\n<text text-anchor=\"middle\" x=\"917\" y=\"-200.8\" font-family=\"Helvetica,sans-Serif\" font-size=\"14.00\" fill=\"#000000\">value = [105, 49]</text>\n</g>\n<!-- 70&#45;&gt;99 -->\n<g id=\"edge34\" class=\"edge\">\n<title>70&#45;&gt;99</title>\n<path fill=\"none\" stroke=\"#000000\" d=\"M964.7519,-296.9465C958.745,-288.1475 952.2045,-278.5672 945.9457,-269.3993\"/>\n<polygon fill=\"#000000\" stroke=\"#000000\" points=\"948.8293,-267.4155 940.3003,-261.13 943.048,-271.3623 948.8293,-267.4155\"/>\n</g>\n<!-- 100 -->\n<g id=\"node38\" class=\"node\">\n<title>100</title>\n<path fill=\"#e99558\" stroke=\"#000000\" d=\"M1109,-261C1109,-261 1009,-261 1009,-261 1003,-261 997,-255 997,-249 997,-249 997,-205 997,-205 997,-199 1003,-193 1009,-193 1009,-193 1109,-193 1109,-193 1115,-193 1121,-199 1121,-205 1121,-205 1121,-249 1121,-249 1121,-255 1115,-261 1109,-261\"/>\n<text text-anchor=\"middle\" x=\"1059\" y=\"-245.8\" font-family=\"Helvetica,sans-Serif\" font-size=\"14.00\" fill=\"#000000\">X[3] &lt;= 148.5</text>\n<text text-anchor=\"middle\" x=\"1059\" y=\"-230.8\" font-family=\"Helvetica,sans-Serif\" font-size=\"14.00\" fill=\"#000000\">entropy = 0.576</text>\n<text text-anchor=\"middle\" x=\"1059\" y=\"-215.8\" font-family=\"Helvetica,sans-Serif\" font-size=\"14.00\" fill=\"#000000\">samples = 139</text>\n<text text-anchor=\"middle\" x=\"1059\" y=\"-200.8\" font-family=\"Helvetica,sans-Serif\" font-size=\"14.00\" fill=\"#000000\">value = [120, 19]</text>\n</g>\n<!-- 70&#45;&gt;100 -->\n<g id=\"edge37\" class=\"edge\">\n<title>70&#45;&gt;100</title>\n<path fill=\"none\" stroke=\"#000000\" d=\"M1011.2481,-296.9465C1017.255,-288.1475 1023.7955,-278.5672 1030.0543,-269.3993\"/>\n<polygon fill=\"#000000\" stroke=\"#000000\" points=\"1032.952,-271.3623 1035.6997,-261.13 1027.1707,-267.4155 1032.952,-271.3623\"/>\n</g>\n<!-- 103 -->\n<g id=\"node36\" class=\"node\">\n<title>103</title>\n<path fill=\"#f0b58a\" stroke=\"#000000\" d=\"M840,-149.5C840,-149.5 740,-149.5 740,-149.5 734,-149.5 728,-143.5 728,-137.5 728,-137.5 728,-108.5 728,-108.5 728,-102.5 734,-96.5 740,-96.5 740,-96.5 840,-96.5 840,-96.5 846,-96.5 852,-102.5 852,-108.5 852,-108.5 852,-137.5 852,-137.5 852,-143.5 846,-149.5 840,-149.5\"/>\n<text text-anchor=\"middle\" x=\"790\" y=\"-134.3\" font-family=\"Helvetica,sans-Serif\" font-size=\"14.00\" fill=\"#000000\">entropy = 0.869</text>\n<text text-anchor=\"middle\" x=\"790\" y=\"-119.3\" font-family=\"Helvetica,sans-Serif\" font-size=\"14.00\" fill=\"#000000\">samples = 148</text>\n<text text-anchor=\"middle\" x=\"790\" y=\"-104.3\" font-family=\"Helvetica,sans-Serif\" font-size=\"14.00\" fill=\"#000000\">value = [105, 43]</text>\n</g>\n<!-- 99&#45;&gt;103 -->\n<g id=\"edge35\" class=\"edge\">\n<title>99&#45;&gt;103</title>\n<path fill=\"none\" stroke=\"#000000\" d=\"M875.4155,-192.9465C860.8885,-181.0504 844.6173,-167.726 830.2049,-155.9237\"/>\n<polygon fill=\"#000000\" stroke=\"#000000\" points=\"832.3665,-153.17 822.4121,-149.5422 827.9314,-158.5858 832.3665,-153.17\"/>\n</g>\n<!-- 104 -->\n<g id=\"node37\" class=\"node\">\n<title>104</title>\n<path fill=\"#399de5\" stroke=\"#000000\" d=\"M959.5,-149.5C959.5,-149.5 882.5,-149.5 882.5,-149.5 876.5,-149.5 870.5,-143.5 870.5,-137.5 870.5,-137.5 870.5,-108.5 870.5,-108.5 870.5,-102.5 876.5,-96.5 882.5,-96.5 882.5,-96.5 959.5,-96.5 959.5,-96.5 965.5,-96.5 971.5,-102.5 971.5,-108.5 971.5,-108.5 971.5,-137.5 971.5,-137.5 971.5,-143.5 965.5,-149.5 959.5,-149.5\"/>\n<text text-anchor=\"middle\" x=\"921\" y=\"-134.3\" font-family=\"Helvetica,sans-Serif\" font-size=\"14.00\" fill=\"#000000\">entropy = 0.0</text>\n<text text-anchor=\"middle\" x=\"921\" y=\"-119.3\" font-family=\"Helvetica,sans-Serif\" font-size=\"14.00\" fill=\"#000000\">samples = 6</text>\n<text text-anchor=\"middle\" x=\"921\" y=\"-104.3\" font-family=\"Helvetica,sans-Serif\" font-size=\"14.00\" fill=\"#000000\">value = [0, 6]</text>\n</g>\n<!-- 99&#45;&gt;104 -->\n<g id=\"edge36\" class=\"edge\">\n<title>99&#45;&gt;104</title>\n<path fill=\"none\" stroke=\"#000000\" d=\"M918.3097,-192.9465C918.7207,-182.2621 919.1759,-170.4254 919.5933,-159.5742\"/>\n<polygon fill=\"#000000\" stroke=\"#000000\" points=\"923.0921,-159.6693 919.9791,-149.5422 916.0973,-159.4002 923.0921,-159.6693\"/>\n</g>\n<!-- 101 -->\n<g id=\"node39\" class=\"node\">\n<title>101</title>\n<path fill=\"#e5833c\" stroke=\"#000000\" d=\"M1103,-149.5C1103,-149.5 1009,-149.5 1009,-149.5 1003,-149.5 997,-143.5 997,-137.5 997,-137.5 997,-108.5 997,-108.5 997,-102.5 1003,-96.5 1009,-96.5 1009,-96.5 1103,-96.5 1103,-96.5 1109,-96.5 1115,-102.5 1115,-108.5 1115,-108.5 1115,-137.5 1115,-137.5 1115,-143.5 1109,-149.5 1103,-149.5\"/>\n<text text-anchor=\"middle\" x=\"1056\" y=\"-134.3\" font-family=\"Helvetica,sans-Serif\" font-size=\"14.00\" fill=\"#000000\">entropy = 0.124</text>\n<text text-anchor=\"middle\" x=\"1056\" y=\"-119.3\" font-family=\"Helvetica,sans-Serif\" font-size=\"14.00\" fill=\"#000000\">samples = 59</text>\n<text text-anchor=\"middle\" x=\"1056\" y=\"-104.3\" font-family=\"Helvetica,sans-Serif\" font-size=\"14.00\" fill=\"#000000\">value = [58, 1]</text>\n</g>\n<!-- 100&#45;&gt;101 -->\n<g id=\"edge38\" class=\"edge\">\n<title>100&#45;&gt;101</title>\n<path fill=\"none\" stroke=\"#000000\" d=\"M1058.0177,-192.9465C1057.7095,-182.2621 1057.368,-170.4254 1057.055,-159.5742\"/>\n<polygon fill=\"#000000\" stroke=\"#000000\" points=\"1060.5526,-159.4371 1056.7656,-149.5422 1053.5555,-159.639 1060.5526,-159.4371\"/>\n</g>\n<!-- 102 -->\n<g id=\"node40\" class=\"node\">\n<title>102</title>\n<path fill=\"#eda672\" stroke=\"#000000\" d=\"M1239,-157C1239,-157 1145,-157 1145,-157 1139,-157 1133,-151 1133,-145 1133,-145 1133,-101 1133,-101 1133,-95 1139,-89 1145,-89 1145,-89 1239,-89 1239,-89 1245,-89 1251,-95 1251,-101 1251,-101 1251,-145 1251,-145 1251,-151 1245,-157 1239,-157\"/>\n<text text-anchor=\"middle\" x=\"1192\" y=\"-141.8\" font-family=\"Helvetica,sans-Serif\" font-size=\"14.00\" fill=\"#000000\">X[1] &lt;= 522.0</text>\n<text text-anchor=\"middle\" x=\"1192\" y=\"-126.8\" font-family=\"Helvetica,sans-Serif\" font-size=\"14.00\" fill=\"#000000\">entropy = 0.769</text>\n<text text-anchor=\"middle\" x=\"1192\" y=\"-111.8\" font-family=\"Helvetica,sans-Serif\" font-size=\"14.00\" fill=\"#000000\">samples = 80</text>\n<text text-anchor=\"middle\" x=\"1192\" y=\"-96.8\" font-family=\"Helvetica,sans-Serif\" font-size=\"14.00\" fill=\"#000000\">value = [62, 18]</text>\n</g>\n<!-- 100&#45;&gt;102 -->\n<g id=\"edge39\" class=\"edge\">\n<title>100&#45;&gt;102</title>\n<path fill=\"none\" stroke=\"#000000\" d=\"M1102.5492,-192.9465C1114.6054,-183.519 1127.8089,-173.1946 1140.2816,-163.4415\"/>\n<polygon fill=\"#000000\" stroke=\"#000000\" points=\"1142.6314,-166.0471 1148.353,-157.13 1138.3194,-160.5328 1142.6314,-166.0471\"/>\n</g>\n<!-- 143 -->\n<g id=\"node41\" class=\"node\">\n<title>143</title>\n<path fill=\"#e68640\" stroke=\"#000000\" d=\"M1171,-53C1171,-53 1077,-53 1077,-53 1071,-53 1065,-47 1065,-41 1065,-41 1065,-12 1065,-12 1065,-6 1071,0 1077,0 1077,0 1171,0 1171,0 1177,0 1183,-6 1183,-12 1183,-12 1183,-41 1183,-41 1183,-47 1177,-53 1171,-53\"/>\n<text text-anchor=\"middle\" x=\"1124\" y=\"-37.8\" font-family=\"Helvetica,sans-Serif\" font-size=\"14.00\" fill=\"#000000\">entropy = 0.216</text>\n<text text-anchor=\"middle\" x=\"1124\" y=\"-22.8\" font-family=\"Helvetica,sans-Serif\" font-size=\"14.00\" fill=\"#000000\">samples = 29</text>\n<text text-anchor=\"middle\" x=\"1124\" y=\"-7.8\" font-family=\"Helvetica,sans-Serif\" font-size=\"14.00\" fill=\"#000000\">value = [28, 1]</text>\n</g>\n<!-- 102&#45;&gt;143 -->\n<g id=\"edge40\" class=\"edge\">\n<title>102&#45;&gt;143</title>\n<path fill=\"none\" stroke=\"#000000\" d=\"M1168.0257,-88.9777C1161.7667,-80.0954 1155.0099,-70.5067 1148.7133,-61.5711\"/>\n<polygon fill=\"#000000\" stroke=\"#000000\" points=\"1151.4699,-59.4068 1142.8487,-53.2485 1145.7479,-63.4389 1151.4699,-59.4068\"/>\n</g>\n<!-- 144 -->\n<g id=\"node42\" class=\"node\">\n<title>144</title>\n<path fill=\"#f2c09c\" stroke=\"#000000\" d=\"M1307,-53C1307,-53 1213,-53 1213,-53 1207,-53 1201,-47 1201,-41 1201,-41 1201,-12 1201,-12 1201,-6 1207,0 1213,0 1213,0 1307,0 1307,0 1313,0 1319,-6 1319,-12 1319,-12 1319,-41 1319,-41 1319,-47 1313,-53 1307,-53\"/>\n<text text-anchor=\"middle\" x=\"1260\" y=\"-37.8\" font-family=\"Helvetica,sans-Serif\" font-size=\"14.00\" fill=\"#000000\">entropy = 0.918</text>\n<text text-anchor=\"middle\" x=\"1260\" y=\"-22.8\" font-family=\"Helvetica,sans-Serif\" font-size=\"14.00\" fill=\"#000000\">samples = 51</text>\n<text text-anchor=\"middle\" x=\"1260\" y=\"-7.8\" font-family=\"Helvetica,sans-Serif\" font-size=\"14.00\" fill=\"#000000\">value = [34, 17]</text>\n</g>\n<!-- 102&#45;&gt;144 -->\n<g id=\"edge41\" class=\"edge\">\n<title>102&#45;&gt;144</title>\n<path fill=\"none\" stroke=\"#000000\" d=\"M1215.9743,-88.9777C1222.2333,-80.0954 1228.9901,-70.5067 1235.2867,-61.5711\"/>\n<polygon fill=\"#000000\" stroke=\"#000000\" points=\"1238.2521,-63.4389 1241.1513,-53.2485 1232.5301,-59.4068 1238.2521,-63.4389\"/>\n</g>\n<!-- 119 -->\n<g id=\"node44\" class=\"node\">\n<title>119</title>\n<path fill=\"#cfe7f9\" stroke=\"#000000\" d=\"M1246,-469C1246,-469 1152,-469 1152,-469 1146,-469 1140,-463 1140,-457 1140,-457 1140,-413 1140,-413 1140,-407 1146,-401 1152,-401 1152,-401 1246,-401 1246,-401 1252,-401 1258,-407 1258,-413 1258,-413 1258,-457 1258,-457 1258,-463 1252,-469 1246,-469\"/>\n<text text-anchor=\"middle\" x=\"1199\" y=\"-453.8\" font-family=\"Helvetica,sans-Serif\" font-size=\"14.00\" fill=\"#000000\">X[7] &lt;= 0.5</text>\n<text text-anchor=\"middle\" x=\"1199\" y=\"-438.8\" font-family=\"Helvetica,sans-Serif\" font-size=\"14.00\" fill=\"#000000\">entropy = 0.986</text>\n<text text-anchor=\"middle\" x=\"1199\" y=\"-423.8\" font-family=\"Helvetica,sans-Serif\" font-size=\"14.00\" fill=\"#000000\">samples = 72</text>\n<text text-anchor=\"middle\" x=\"1199\" y=\"-408.8\" font-family=\"Helvetica,sans-Serif\" font-size=\"14.00\" fill=\"#000000\">value = [31, 41]</text>\n</g>\n<!-- 56&#45;&gt;119 -->\n<g id=\"edge43\" class=\"edge\">\n<title>56&#45;&gt;119</title>\n<path fill=\"none\" stroke=\"#000000\" d=\"M1199,-504.9465C1199,-496.776 1199,-487.9318 1199,-479.3697\"/>\n<polygon fill=\"#000000\" stroke=\"#000000\" points=\"1202.5001,-479.13 1199,-469.13 1195.5001,-479.13 1202.5001,-479.13\"/>\n</g>\n<!-- 120 -->\n<g id=\"node47\" class=\"node\">\n<title>120</title>\n<path fill=\"#e9965a\" stroke=\"#000000\" d=\"M1441,-469C1441,-469 1347,-469 1347,-469 1341,-469 1335,-463 1335,-457 1335,-457 1335,-413 1335,-413 1335,-407 1341,-401 1347,-401 1347,-401 1441,-401 1441,-401 1447,-401 1453,-407 1453,-413 1453,-413 1453,-457 1453,-457 1453,-463 1447,-469 1441,-469\"/>\n<text text-anchor=\"middle\" x=\"1394\" y=\"-453.8\" font-family=\"Helvetica,sans-Serif\" font-size=\"14.00\" fill=\"#000000\">X[1] &lt;= 2107.5</text>\n<text text-anchor=\"middle\" x=\"1394\" y=\"-438.8\" font-family=\"Helvetica,sans-Serif\" font-size=\"14.00\" fill=\"#000000\">entropy = 0.592</text>\n<text text-anchor=\"middle\" x=\"1394\" y=\"-423.8\" font-family=\"Helvetica,sans-Serif\" font-size=\"14.00\" fill=\"#000000\">samples = 21</text>\n<text text-anchor=\"middle\" x=\"1394\" y=\"-408.8\" font-family=\"Helvetica,sans-Serif\" font-size=\"14.00\" fill=\"#000000\">value = [18, 3]</text>\n</g>\n<!-- 56&#45;&gt;120 -->\n<g id=\"edge46\" class=\"edge\">\n<title>56&#45;&gt;120</title>\n<path fill=\"none\" stroke=\"#000000\" d=\"M1258.0356,-507.5143C1279.415,-496.112 1303.733,-483.1424 1325.8336,-471.3554\"/>\n<polygon fill=\"#000000\" stroke=\"#000000\" points=\"1327.6523,-474.3521 1334.8288,-466.558 1324.3582,-468.1757 1327.6523,-474.3521\"/>\n</g>\n<!-- 131 -->\n<g id=\"node45\" class=\"node\">\n<title>131</title>\n<path fill=\"#5fb0ea\" stroke=\"#000000\" d=\"M1174,-357.5C1174,-357.5 1080,-357.5 1080,-357.5 1074,-357.5 1068,-351.5 1068,-345.5 1068,-345.5 1068,-316.5 1068,-316.5 1068,-310.5 1074,-304.5 1080,-304.5 1080,-304.5 1174,-304.5 1174,-304.5 1180,-304.5 1186,-310.5 1186,-316.5 1186,-316.5 1186,-345.5 1186,-345.5 1186,-351.5 1180,-357.5 1174,-357.5\"/>\n<text text-anchor=\"middle\" x=\"1127\" y=\"-342.3\" font-family=\"Helvetica,sans-Serif\" font-size=\"14.00\" fill=\"#000000\">entropy = 0.634</text>\n<text text-anchor=\"middle\" x=\"1127\" y=\"-327.3\" font-family=\"Helvetica,sans-Serif\" font-size=\"14.00\" fill=\"#000000\">samples = 25</text>\n<text text-anchor=\"middle\" x=\"1127\" y=\"-312.3\" font-family=\"Helvetica,sans-Serif\" font-size=\"14.00\" fill=\"#000000\">value = [4, 21]</text>\n</g>\n<!-- 119&#45;&gt;131 -->\n<g id=\"edge44\" class=\"edge\">\n<title>119&#45;&gt;131</title>\n<path fill=\"none\" stroke=\"#000000\" d=\"M1175.4245,-400.9465C1167.6463,-389.7113 1158.9861,-377.2021 1151.1645,-365.9043\"/>\n<polygon fill=\"#000000\" stroke=\"#000000\" points=\"1153.9452,-363.7719 1145.3753,-357.5422 1148.1898,-367.7564 1153.9452,-363.7719\"/>\n</g>\n<!-- 132 -->\n<g id=\"node46\" class=\"node\">\n<title>132</title>\n<path fill=\"#f8decc\" stroke=\"#000000\" d=\"M1310,-357.5C1310,-357.5 1216,-357.5 1216,-357.5 1210,-357.5 1204,-351.5 1204,-345.5 1204,-345.5 1204,-316.5 1204,-316.5 1204,-310.5 1210,-304.5 1216,-304.5 1216,-304.5 1310,-304.5 1310,-304.5 1316,-304.5 1322,-310.5 1322,-316.5 1322,-316.5 1322,-345.5 1322,-345.5 1322,-351.5 1316,-357.5 1310,-357.5\"/>\n<text text-anchor=\"middle\" x=\"1263\" y=\"-342.3\" font-family=\"Helvetica,sans-Serif\" font-size=\"14.00\" fill=\"#000000\">entropy = 0.984</text>\n<text text-anchor=\"middle\" x=\"1263\" y=\"-327.3\" font-family=\"Helvetica,sans-Serif\" font-size=\"14.00\" fill=\"#000000\">samples = 47</text>\n<text text-anchor=\"middle\" x=\"1263\" y=\"-312.3\" font-family=\"Helvetica,sans-Serif\" font-size=\"14.00\" fill=\"#000000\">value = [27, 20]</text>\n</g>\n<!-- 119&#45;&gt;132 -->\n<g id=\"edge45\" class=\"edge\">\n<title>119&#45;&gt;132</title>\n<path fill=\"none\" stroke=\"#000000\" d=\"M1219.956,-400.9465C1226.8022,-389.8215 1234.4171,-377.4473 1241.3157,-366.237\"/>\n<polygon fill=\"#000000\" stroke=\"#000000\" points=\"1244.4061,-367.8931 1246.6664,-357.5422 1238.4445,-364.2244 1244.4061,-367.8931\"/>\n</g>\n<!-- 127 -->\n<g id=\"node48\" class=\"node\">\n<title>127</title>\n<path fill=\"#e58139\" stroke=\"#000000\" d=\"M1435.5,-357.5C1435.5,-357.5 1352.5,-357.5 1352.5,-357.5 1346.5,-357.5 1340.5,-351.5 1340.5,-345.5 1340.5,-345.5 1340.5,-316.5 1340.5,-316.5 1340.5,-310.5 1346.5,-304.5 1352.5,-304.5 1352.5,-304.5 1435.5,-304.5 1435.5,-304.5 1441.5,-304.5 1447.5,-310.5 1447.5,-316.5 1447.5,-316.5 1447.5,-345.5 1447.5,-345.5 1447.5,-351.5 1441.5,-357.5 1435.5,-357.5\"/>\n<text text-anchor=\"middle\" x=\"1394\" y=\"-342.3\" font-family=\"Helvetica,sans-Serif\" font-size=\"14.00\" fill=\"#000000\">entropy = 0.0</text>\n<text text-anchor=\"middle\" x=\"1394\" y=\"-327.3\" font-family=\"Helvetica,sans-Serif\" font-size=\"14.00\" fill=\"#000000\">samples = 17</text>\n<text text-anchor=\"middle\" x=\"1394\" y=\"-312.3\" font-family=\"Helvetica,sans-Serif\" font-size=\"14.00\" fill=\"#000000\">value = [17, 0]</text>\n</g>\n<!-- 120&#45;&gt;127 -->\n<g id=\"edge47\" class=\"edge\">\n<title>120&#45;&gt;127</title>\n<path fill=\"none\" stroke=\"#000000\" d=\"M1394,-400.9465C1394,-390.2621 1394,-378.4254 1394,-367.5742\"/>\n<polygon fill=\"#000000\" stroke=\"#000000\" points=\"1397.5001,-367.5421 1394,-357.5422 1390.5001,-367.5422 1397.5001,-367.5421\"/>\n</g>\n<!-- 128 -->\n<g id=\"node49\" class=\"node\">\n<title>128</title>\n<path fill=\"#7bbeee\" stroke=\"#000000\" d=\"M1572,-357.5C1572,-357.5 1478,-357.5 1478,-357.5 1472,-357.5 1466,-351.5 1466,-345.5 1466,-345.5 1466,-316.5 1466,-316.5 1466,-310.5 1472,-304.5 1478,-304.5 1478,-304.5 1572,-304.5 1572,-304.5 1578,-304.5 1584,-310.5 1584,-316.5 1584,-316.5 1584,-345.5 1584,-345.5 1584,-351.5 1578,-357.5 1572,-357.5\"/>\n<text text-anchor=\"middle\" x=\"1525\" y=\"-342.3\" font-family=\"Helvetica,sans-Serif\" font-size=\"14.00\" fill=\"#000000\">entropy = 0.811</text>\n<text text-anchor=\"middle\" x=\"1525\" y=\"-327.3\" font-family=\"Helvetica,sans-Serif\" font-size=\"14.00\" fill=\"#000000\">samples = 4</text>\n<text text-anchor=\"middle\" x=\"1525\" y=\"-312.3\" font-family=\"Helvetica,sans-Serif\" font-size=\"14.00\" fill=\"#000000\">value = [1, 3]</text>\n</g>\n<!-- 120&#45;&gt;128 -->\n<g id=\"edge48\" class=\"edge\">\n<title>120&#45;&gt;128</title>\n<path fill=\"none\" stroke=\"#000000\" d=\"M1436.8943,-400.9465C1451.8788,-389.0504 1468.6624,-375.726 1483.5288,-363.9237\"/>\n<polygon fill=\"#000000\" stroke=\"#000000\" points=\"1485.9113,-366.5011 1491.5671,-357.5422 1481.5589,-361.0187 1485.9113,-366.5011\"/>\n</g>\n<!-- 141 -->\n<g id=\"node52\" class=\"node\">\n<title>141</title>\n<path fill=\"#6ab6ec\" stroke=\"#000000\" d=\"M1203,-773.5C1203,-773.5 1109,-773.5 1109,-773.5 1103,-773.5 1097,-767.5 1097,-761.5 1097,-761.5 1097,-732.5 1097,-732.5 1097,-726.5 1103,-720.5 1109,-720.5 1109,-720.5 1203,-720.5 1203,-720.5 1209,-720.5 1215,-726.5 1215,-732.5 1215,-732.5 1215,-761.5 1215,-761.5 1215,-767.5 1209,-773.5 1203,-773.5\"/>\n<text text-anchor=\"middle\" x=\"1156\" y=\"-758.3\" font-family=\"Helvetica,sans-Serif\" font-size=\"14.00\" fill=\"#000000\">entropy = 0.722</text>\n<text text-anchor=\"middle\" x=\"1156\" y=\"-743.3\" font-family=\"Helvetica,sans-Serif\" font-size=\"14.00\" fill=\"#000000\">samples = 55</text>\n<text text-anchor=\"middle\" x=\"1156\" y=\"-728.3\" font-family=\"Helvetica,sans-Serif\" font-size=\"14.00\" fill=\"#000000\">value = [11, 44]</text>\n</g>\n<!-- 22&#45;&gt;141 -->\n<g id=\"edge51\" class=\"edge\">\n<title>22&#45;&gt;141</title>\n<path fill=\"none\" stroke=\"#000000\" d=\"M1165.4159,-816.9465C1163.9776,-806.2621 1162.3842,-794.4254 1160.9235,-783.5742\"/>\n<polygon fill=\"#000000\" stroke=\"#000000\" points=\"1164.3759,-782.9858 1159.573,-773.5422 1157.4385,-783.9197 1164.3759,-782.9858\"/>\n</g>\n<!-- 142 -->\n<g id=\"node53\" class=\"node\">\n<title>142</title>\n<path fill=\"#e58139\" stroke=\"#000000\" d=\"M1322.5,-773.5C1322.5,-773.5 1245.5,-773.5 1245.5,-773.5 1239.5,-773.5 1233.5,-767.5 1233.5,-761.5 1233.5,-761.5 1233.5,-732.5 1233.5,-732.5 1233.5,-726.5 1239.5,-720.5 1245.5,-720.5 1245.5,-720.5 1322.5,-720.5 1322.5,-720.5 1328.5,-720.5 1334.5,-726.5 1334.5,-732.5 1334.5,-732.5 1334.5,-761.5 1334.5,-761.5 1334.5,-767.5 1328.5,-773.5 1322.5,-773.5\"/>\n<text text-anchor=\"middle\" x=\"1284\" y=\"-758.3\" font-family=\"Helvetica,sans-Serif\" font-size=\"14.00\" fill=\"#000000\">entropy = 0.0</text>\n<text text-anchor=\"middle\" x=\"1284\" y=\"-743.3\" font-family=\"Helvetica,sans-Serif\" font-size=\"14.00\" fill=\"#000000\">samples = 4</text>\n<text text-anchor=\"middle\" x=\"1284\" y=\"-728.3\" font-family=\"Helvetica,sans-Serif\" font-size=\"14.00\" fill=\"#000000\">value = [4, 0]</text>\n</g>\n<!-- 22&#45;&gt;142 -->\n<g id=\"edge52\" class=\"edge\">\n<title>22&#45;&gt;142</title>\n<path fill=\"none\" stroke=\"#000000\" d=\"M1207.3279,-816.9465C1220.1263,-805.2707 1234.433,-792.219 1247.1901,-780.5809\"/>\n<polygon fill=\"#000000\" stroke=\"#000000\" points=\"1249.8769,-782.8675 1254.9057,-773.5422 1245.1591,-777.6961 1249.8769,-782.8675\"/>\n</g>\n<!-- 43 -->\n<g id=\"node56\" class=\"node\">\n<title>43</title>\n<path fill=\"#e58139\" stroke=\"#000000\" d=\"M1560,-981.5C1560,-981.5 1468,-981.5 1468,-981.5 1462,-981.5 1456,-975.5 1456,-969.5 1456,-969.5 1456,-940.5 1456,-940.5 1456,-934.5 1462,-928.5 1468,-928.5 1468,-928.5 1560,-928.5 1560,-928.5 1566,-928.5 1572,-934.5 1572,-940.5 1572,-940.5 1572,-969.5 1572,-969.5 1572,-975.5 1566,-981.5 1560,-981.5\"/>\n<text text-anchor=\"middle\" x=\"1514\" y=\"-966.3\" font-family=\"Helvetica,sans-Serif\" font-size=\"14.00\" fill=\"#000000\">entropy = 0.0</text>\n<text text-anchor=\"middle\" x=\"1514\" y=\"-951.3\" font-family=\"Helvetica,sans-Serif\" font-size=\"14.00\" fill=\"#000000\">samples = 302</text>\n<text text-anchor=\"middle\" x=\"1514\" y=\"-936.3\" font-family=\"Helvetica,sans-Serif\" font-size=\"14.00\" fill=\"#000000\">value = [302, 0]</text>\n</g>\n<!-- 14&#45;&gt;43 -->\n<g id=\"edge55\" class=\"edge\">\n<title>14&#45;&gt;43</title>\n<path fill=\"none\" stroke=\"#000000\" d=\"M1518.0354,-1024.9465C1517.419,-1014.2621 1516.7361,-1002.4254 1516.1101,-991.5742\"/>\n<polygon fill=\"#000000\" stroke=\"#000000\" points=\"1519.6015,-991.3239 1515.5313,-981.5422 1512.6131,-991.7272 1519.6015,-991.3239\"/>\n</g>\n<!-- 44 -->\n<g id=\"node57\" class=\"node\">\n<title>44</title>\n<path fill=\"#e88d4c\" stroke=\"#000000\" d=\"M1702,-989C1702,-989 1602,-989 1602,-989 1596,-989 1590,-983 1590,-977 1590,-977 1590,-933 1590,-933 1590,-927 1596,-921 1602,-921 1602,-921 1702,-921 1702,-921 1708,-921 1714,-927 1714,-933 1714,-933 1714,-977 1714,-977 1714,-983 1708,-989 1702,-989\"/>\n<text text-anchor=\"middle\" x=\"1652\" y=\"-973.8\" font-family=\"Helvetica,sans-Serif\" font-size=\"14.00\" fill=\"#000000\">X[12] &lt;= 0.5</text>\n<text text-anchor=\"middle\" x=\"1652\" y=\"-958.8\" font-family=\"Helvetica,sans-Serif\" font-size=\"14.00\" fill=\"#000000\">entropy = 0.429</text>\n<text text-anchor=\"middle\" x=\"1652\" y=\"-943.8\" font-family=\"Helvetica,sans-Serif\" font-size=\"14.00\" fill=\"#000000\">samples = 148</text>\n<text text-anchor=\"middle\" x=\"1652\" y=\"-928.8\" font-family=\"Helvetica,sans-Serif\" font-size=\"14.00\" fill=\"#000000\">value = [135, 13]</text>\n</g>\n<!-- 14&#45;&gt;44 -->\n<g id=\"edge56\" class=\"edge\">\n<title>14&#45;&gt;44</title>\n<path fill=\"none\" stroke=\"#000000\" d=\"M1563.2217,-1024.9465C1575.1874,-1015.519 1588.2915,-1005.1946 1600.6704,-995.4415\"/>\n<polygon fill=\"#000000\" stroke=\"#000000\" points=\"1602.9923,-998.068 1608.6812,-989.13 1598.6602,-992.5695 1602.9923,-998.068\"/>\n</g>\n<!-- 109 -->\n<g id=\"node58\" class=\"node\">\n<title>109</title>\n<path fill=\"#f0b68c\" stroke=\"#000000\" d=\"M1565,-877.5C1565,-877.5 1471,-877.5 1471,-877.5 1465,-877.5 1459,-871.5 1459,-865.5 1459,-865.5 1459,-836.5 1459,-836.5 1459,-830.5 1465,-824.5 1471,-824.5 1471,-824.5 1565,-824.5 1565,-824.5 1571,-824.5 1577,-830.5 1577,-836.5 1577,-836.5 1577,-865.5 1577,-865.5 1577,-871.5 1571,-877.5 1565,-877.5\"/>\n<text text-anchor=\"middle\" x=\"1518\" y=\"-862.3\" font-family=\"Helvetica,sans-Serif\" font-size=\"14.00\" fill=\"#000000\">entropy = 0.877</text>\n<text text-anchor=\"middle\" x=\"1518\" y=\"-847.3\" font-family=\"Helvetica,sans-Serif\" font-size=\"14.00\" fill=\"#000000\">samples = 27</text>\n<text text-anchor=\"middle\" x=\"1518\" y=\"-832.3\" font-family=\"Helvetica,sans-Serif\" font-size=\"14.00\" fill=\"#000000\">value = [19, 8]</text>\n</g>\n<!-- 44&#45;&gt;109 -->\n<g id=\"edge57\" class=\"edge\">\n<title>44&#45;&gt;109</title>\n<path fill=\"none\" stroke=\"#000000\" d=\"M1608.1234,-920.9465C1592.7957,-909.0504 1575.6277,-895.726 1560.4209,-883.9237\"/>\n<polygon fill=\"#000000\" stroke=\"#000000\" points=\"1562.2444,-880.9085 1552.1986,-877.5422 1557.9525,-886.4384 1562.2444,-880.9085\"/>\n</g>\n<!-- 110 -->\n<g id=\"node59\" class=\"node\">\n<title>110</title>\n<path fill=\"#e68642\" stroke=\"#000000\" d=\"M1701,-885C1701,-885 1607,-885 1607,-885 1601,-885 1595,-879 1595,-873 1595,-873 1595,-829 1595,-829 1595,-823 1601,-817 1607,-817 1607,-817 1701,-817 1701,-817 1707,-817 1713,-823 1713,-829 1713,-829 1713,-873 1713,-873 1713,-879 1707,-885 1701,-885\"/>\n<text text-anchor=\"middle\" x=\"1654\" y=\"-869.8\" font-family=\"Helvetica,sans-Serif\" font-size=\"14.00\" fill=\"#000000\">X[6] &lt;= 0.5</text>\n<text text-anchor=\"middle\" x=\"1654\" y=\"-854.8\" font-family=\"Helvetica,sans-Serif\" font-size=\"14.00\" fill=\"#000000\">entropy = 0.248</text>\n<text text-anchor=\"middle\" x=\"1654\" y=\"-839.8\" font-family=\"Helvetica,sans-Serif\" font-size=\"14.00\" fill=\"#000000\">samples = 121</text>\n<text text-anchor=\"middle\" x=\"1654\" y=\"-824.8\" font-family=\"Helvetica,sans-Serif\" font-size=\"14.00\" fill=\"#000000\">value = [116, 5]</text>\n</g>\n<!-- 44&#45;&gt;110 -->\n<g id=\"edge58\" class=\"edge\">\n<title>44&#45;&gt;110</title>\n<path fill=\"none\" stroke=\"#000000\" d=\"M1652.6549,-920.9465C1652.812,-912.776 1652.9821,-903.9318 1653.1467,-895.3697\"/>\n<polygon fill=\"#000000\" stroke=\"#000000\" points=\"1656.6506,-895.1955 1653.3437,-885.13 1649.6519,-895.0608 1656.6506,-895.1955\"/>\n</g>\n<!-- 111 -->\n<g id=\"node60\" class=\"node\">\n<title>111</title>\n<path fill=\"#e5833c\" stroke=\"#000000\" d=\"M1572,-773.5C1572,-773.5 1478,-773.5 1478,-773.5 1472,-773.5 1466,-767.5 1466,-761.5 1466,-761.5 1466,-732.5 1466,-732.5 1466,-726.5 1472,-720.5 1478,-720.5 1478,-720.5 1572,-720.5 1572,-720.5 1578,-720.5 1584,-726.5 1584,-732.5 1584,-732.5 1584,-761.5 1584,-761.5 1584,-767.5 1578,-773.5 1572,-773.5\"/>\n<text text-anchor=\"middle\" x=\"1525\" y=\"-758.3\" font-family=\"Helvetica,sans-Serif\" font-size=\"14.00\" fill=\"#000000\">entropy = 0.125</text>\n<text text-anchor=\"middle\" x=\"1525\" y=\"-743.3\" font-family=\"Helvetica,sans-Serif\" font-size=\"14.00\" fill=\"#000000\">samples = 117</text>\n<text text-anchor=\"middle\" x=\"1525\" y=\"-728.3\" font-family=\"Helvetica,sans-Serif\" font-size=\"14.00\" fill=\"#000000\">value = [115, 2]</text>\n</g>\n<!-- 110&#45;&gt;111 -->\n<g id=\"edge59\" class=\"edge\">\n<title>110&#45;&gt;111</title>\n<path fill=\"none\" stroke=\"#000000\" d=\"M1611.7606,-816.9465C1597.0048,-805.0504 1580.4775,-791.726 1565.838,-779.9237\"/>\n<polygon fill=\"#000000\" stroke=\"#000000\" points=\"1567.9043,-777.0938 1557.9225,-773.5422 1563.5109,-782.5433 1567.9043,-777.0938\"/>\n</g>\n<!-- 112 -->\n<g id=\"node61\" class=\"node\">\n<title>112</title>\n<path fill=\"#7bbeee\" stroke=\"#000000\" d=\"M1708,-773.5C1708,-773.5 1614,-773.5 1614,-773.5 1608,-773.5 1602,-767.5 1602,-761.5 1602,-761.5 1602,-732.5 1602,-732.5 1602,-726.5 1608,-720.5 1614,-720.5 1614,-720.5 1708,-720.5 1708,-720.5 1714,-720.5 1720,-726.5 1720,-732.5 1720,-732.5 1720,-761.5 1720,-761.5 1720,-767.5 1714,-773.5 1708,-773.5\"/>\n<text text-anchor=\"middle\" x=\"1661\" y=\"-758.3\" font-family=\"Helvetica,sans-Serif\" font-size=\"14.00\" fill=\"#000000\">entropy = 0.811</text>\n<text text-anchor=\"middle\" x=\"1661\" y=\"-743.3\" font-family=\"Helvetica,sans-Serif\" font-size=\"14.00\" fill=\"#000000\">samples = 4</text>\n<text text-anchor=\"middle\" x=\"1661\" y=\"-728.3\" font-family=\"Helvetica,sans-Serif\" font-size=\"14.00\" fill=\"#000000\">value = [1, 3]</text>\n</g>\n<!-- 110&#45;&gt;112 -->\n<g id=\"edge60\" class=\"edge\">\n<title>110&#45;&gt;112</title>\n<path fill=\"none\" stroke=\"#000000\" d=\"M1656.2921,-816.9465C1657.0112,-806.2621 1657.8079,-794.4254 1658.5383,-783.5742\"/>\n<polygon fill=\"#000000\" stroke=\"#000000\" points=\"1662.034,-783.7547 1659.2135,-773.5422 1655.0498,-783.2845 1662.034,-783.7547\"/>\n</g>\n<!-- 3 -->\n<g id=\"node64\" class=\"node\">\n<title>3</title>\n<path fill=\"#fdfeff\" stroke=\"#000000\" d=\"M2649.5,-1301C2649.5,-1301 2524.5,-1301 2524.5,-1301 2518.5,-1301 2512.5,-1295 2512.5,-1289 2512.5,-1289 2512.5,-1245 2512.5,-1245 2512.5,-1239 2518.5,-1233 2524.5,-1233 2524.5,-1233 2649.5,-1233 2649.5,-1233 2655.5,-1233 2661.5,-1239 2661.5,-1245 2661.5,-1245 2661.5,-1289 2661.5,-1289 2661.5,-1295 2655.5,-1301 2649.5,-1301\"/>\n<text text-anchor=\"middle\" x=\"2587\" y=\"-1285.8\" font-family=\"Helvetica,sans-Serif\" font-size=\"14.00\" fill=\"#000000\">X[13] &lt;= 0.5</text>\n<text text-anchor=\"middle\" x=\"2587\" y=\"-1270.8\" font-family=\"Helvetica,sans-Serif\" font-size=\"14.00\" fill=\"#000000\">entropy = 1.0</text>\n<text text-anchor=\"middle\" x=\"2587\" y=\"-1255.8\" font-family=\"Helvetica,sans-Serif\" font-size=\"14.00\" fill=\"#000000\">samples = 3087</text>\n<text text-anchor=\"middle\" x=\"2587\" y=\"-1240.8\" font-family=\"Helvetica,sans-Serif\" font-size=\"14.00\" fill=\"#000000\">value = [1535, 1552]</text>\n</g>\n<!-- 2&#45;&gt;3 -->\n<g id=\"edge63\" class=\"edge\">\n<title>2&#45;&gt;3</title>\n<path fill=\"none\" stroke=\"#000000\" d=\"M2587,-1336.9465C2587,-1328.776 2587,-1319.9318 2587,-1311.3697\"/>\n<polygon fill=\"#000000\" stroke=\"#000000\" points=\"2590.5001,-1311.13 2587,-1301.13 2583.5001,-1311.13 2590.5001,-1311.13\"/>\n</g>\n<!-- 4 -->\n<g id=\"node135\" class=\"node\">\n<title>4</title>\n<path fill=\"#66b3eb\" stroke=\"#000000\" d=\"M3246,-1301C3246,-1301 3130,-1301 3130,-1301 3124,-1301 3118,-1295 3118,-1289 3118,-1289 3118,-1245 3118,-1245 3118,-1239 3124,-1233 3130,-1233 3130,-1233 3246,-1233 3246,-1233 3252,-1233 3258,-1239 3258,-1245 3258,-1245 3258,-1289 3258,-1289 3258,-1295 3252,-1301 3246,-1301\"/>\n<text text-anchor=\"middle\" x=\"3188\" y=\"-1285.8\" font-family=\"Helvetica,sans-Serif\" font-size=\"14.00\" fill=\"#000000\">X[3] &lt;= 651.5</text>\n<text text-anchor=\"middle\" x=\"3188\" y=\"-1270.8\" font-family=\"Helvetica,sans-Serif\" font-size=\"14.00\" fill=\"#000000\">entropy = 0.69</text>\n<text text-anchor=\"middle\" x=\"3188\" y=\"-1255.8\" font-family=\"Helvetica,sans-Serif\" font-size=\"14.00\" fill=\"#000000\">samples = 2050</text>\n<text text-anchor=\"middle\" x=\"3188\" y=\"-1240.8\" font-family=\"Helvetica,sans-Serif\" font-size=\"14.00\" fill=\"#000000\">value = [378, 1672]</text>\n</g>\n<!-- 2&#45;&gt;4 -->\n<g id=\"edge134\" class=\"edge\">\n<title>2&#45;&gt;4</title>\n<path fill=\"none\" stroke=\"#000000\" d=\"M2661.5993,-1358.091C2775.2304,-1338.4277 2990.7842,-1301.1272 3107.7132,-1280.8932\"/>\n<polygon fill=\"#000000\" stroke=\"#000000\" points=\"3108.424,-1284.3223 3117.6808,-1279.1684 3107.2304,-1277.4248 3108.424,-1284.3223\"/>\n</g>\n<!-- 5 -->\n<g id=\"node65\" class=\"node\">\n<title>5</title>\n<path fill=\"#f8dfcd\" stroke=\"#000000\" d=\"M2572.5,-1197C2572.5,-1197 2447.5,-1197 2447.5,-1197 2441.5,-1197 2435.5,-1191 2435.5,-1185 2435.5,-1185 2435.5,-1141 2435.5,-1141 2435.5,-1135 2441.5,-1129 2447.5,-1129 2447.5,-1129 2572.5,-1129 2572.5,-1129 2578.5,-1129 2584.5,-1135 2584.5,-1141 2584.5,-1141 2584.5,-1185 2584.5,-1185 2584.5,-1191 2578.5,-1197 2572.5,-1197\"/>\n<text text-anchor=\"middle\" x=\"2510\" y=\"-1181.8\" font-family=\"Helvetica,sans-Serif\" font-size=\"14.00\" fill=\"#000000\">X[12] &lt;= 0.5</text>\n<text text-anchor=\"middle\" x=\"2510\" y=\"-1166.8\" font-family=\"Helvetica,sans-Serif\" font-size=\"14.00\" fill=\"#000000\">entropy = 0.985</text>\n<text text-anchor=\"middle\" x=\"2510\" y=\"-1151.8\" font-family=\"Helvetica,sans-Serif\" font-size=\"14.00\" fill=\"#000000\">samples = 2643</text>\n<text text-anchor=\"middle\" x=\"2510\" y=\"-1136.8\" font-family=\"Helvetica,sans-Serif\" font-size=\"14.00\" fill=\"#000000\">value = [1512, 1131]</text>\n</g>\n<!-- 3&#45;&gt;5 -->\n<g id=\"edge64\" class=\"edge\">\n<title>3&#45;&gt;5</title>\n<path fill=\"none\" stroke=\"#000000\" d=\"M2561.7873,-1232.9465C2555.2727,-1224.1475 2548.1795,-1214.5672 2541.3918,-1205.3993\"/>\n<polygon fill=\"#000000\" stroke=\"#000000\" points=\"2544.0327,-1203.0843 2535.2693,-1197.13 2538.4069,-1207.2496 2544.0327,-1203.0843\"/>\n</g>\n<!-- 6 -->\n<g id=\"node134\" class=\"node\">\n<title>6</title>\n<path fill=\"#44a2e6\" stroke=\"#000000\" d=\"M2714,-1189.5C2714,-1189.5 2614,-1189.5 2614,-1189.5 2608,-1189.5 2602,-1183.5 2602,-1177.5 2602,-1177.5 2602,-1148.5 2602,-1148.5 2602,-1142.5 2608,-1136.5 2614,-1136.5 2614,-1136.5 2714,-1136.5 2714,-1136.5 2720,-1136.5 2726,-1142.5 2726,-1148.5 2726,-1148.5 2726,-1177.5 2726,-1177.5 2726,-1183.5 2720,-1189.5 2714,-1189.5\"/>\n<text text-anchor=\"middle\" x=\"2664\" y=\"-1174.3\" font-family=\"Helvetica,sans-Serif\" font-size=\"14.00\" fill=\"#000000\">entropy = 0.294</text>\n<text text-anchor=\"middle\" x=\"2664\" y=\"-1159.3\" font-family=\"Helvetica,sans-Serif\" font-size=\"14.00\" fill=\"#000000\">samples = 444</text>\n<text text-anchor=\"middle\" x=\"2664\" y=\"-1144.3\" font-family=\"Helvetica,sans-Serif\" font-size=\"14.00\" fill=\"#000000\">value = [23, 421]</text>\n</g>\n<!-- 3&#45;&gt;6 -->\n<g id=\"edge133\" class=\"edge\">\n<title>3&#45;&gt;6</title>\n<path fill=\"none\" stroke=\"#000000\" d=\"M2612.2127,-1232.9465C2620.5311,-1221.7113 2629.7927,-1209.2021 2638.1574,-1197.9043\"/>\n<polygon fill=\"#000000\" stroke=\"#000000\" points=\"2641.2111,-1199.6618 2644.3486,-1189.5422 2635.5852,-1195.4965 2641.2111,-1199.6618\"/>\n</g>\n<!-- 7 -->\n<g id=\"node66\" class=\"node\">\n<title>7</title>\n<path fill=\"#cae5f8\" stroke=\"#000000\" d=\"M2455,-1093C2455,-1093 2347,-1093 2347,-1093 2341,-1093 2335,-1087 2335,-1081 2335,-1081 2335,-1037 2335,-1037 2335,-1031 2341,-1025 2347,-1025 2347,-1025 2455,-1025 2455,-1025 2461,-1025 2467,-1031 2467,-1037 2467,-1037 2467,-1081 2467,-1081 2467,-1087 2461,-1093 2455,-1093\"/>\n<text text-anchor=\"middle\" x=\"2401\" y=\"-1077.8\" font-family=\"Helvetica,sans-Serif\" font-size=\"14.00\" fill=\"#000000\">X[1] &lt;= 67.5</text>\n<text text-anchor=\"middle\" x=\"2401\" y=\"-1062.8\" font-family=\"Helvetica,sans-Serif\" font-size=\"14.00\" fill=\"#000000\">entropy = 0.982</text>\n<text text-anchor=\"middle\" x=\"2401\" y=\"-1047.8\" font-family=\"Helvetica,sans-Serif\" font-size=\"14.00\" fill=\"#000000\">samples = 1448</text>\n<text text-anchor=\"middle\" x=\"2401\" y=\"-1032.8\" font-family=\"Helvetica,sans-Serif\" font-size=\"14.00\" fill=\"#000000\">value = [611, 837]</text>\n</g>\n<!-- 5&#45;&gt;7 -->\n<g id=\"edge65\" class=\"edge\">\n<title>5&#45;&gt;7</title>\n<path fill=\"none\" stroke=\"#000000\" d=\"M2474.3093,-1128.9465C2464.7109,-1119.7884 2454.2253,-1109.7838 2444.2634,-1100.2788\"/>\n<polygon fill=\"#000000\" stroke=\"#000000\" points=\"2446.4221,-1097.5009 2436.7709,-1093.13 2441.5898,-1102.5655 2446.4221,-1097.5009\"/>\n</g>\n<!-- 8 -->\n<g id=\"node107\" class=\"node\">\n<title>8</title>\n<path fill=\"#edaa7a\" stroke=\"#000000\" d=\"M2672,-1093C2672,-1093 2564,-1093 2564,-1093 2558,-1093 2552,-1087 2552,-1081 2552,-1081 2552,-1037 2552,-1037 2552,-1031 2558,-1025 2564,-1025 2564,-1025 2672,-1025 2672,-1025 2678,-1025 2684,-1031 2684,-1037 2684,-1037 2684,-1081 2684,-1081 2684,-1087 2678,-1093 2672,-1093\"/>\n<text text-anchor=\"middle\" x=\"2618\" y=\"-1077.8\" font-family=\"Helvetica,sans-Serif\" font-size=\"14.00\" fill=\"#000000\">X[22] &lt;= 0.5</text>\n<text text-anchor=\"middle\" x=\"2618\" y=\"-1062.8\" font-family=\"Helvetica,sans-Serif\" font-size=\"14.00\" fill=\"#000000\">entropy = 0.805</text>\n<text text-anchor=\"middle\" x=\"2618\" y=\"-1047.8\" font-family=\"Helvetica,sans-Serif\" font-size=\"14.00\" fill=\"#000000\">samples = 1195</text>\n<text text-anchor=\"middle\" x=\"2618\" y=\"-1032.8\" font-family=\"Helvetica,sans-Serif\" font-size=\"14.00\" fill=\"#000000\">value = [901, 294]</text>\n</g>\n<!-- 5&#45;&gt;8 -->\n<g id=\"edge106\" class=\"edge\">\n<title>5&#45;&gt;8</title>\n<path fill=\"none\" stroke=\"#000000\" d=\"M2545.3632,-1128.9465C2554.8736,-1119.7884 2565.263,-1109.7838 2575.1335,-1100.2788\"/>\n<polygon fill=\"#000000\" stroke=\"#000000\" points=\"2577.7818,-1102.5876 2582.5573,-1093.13 2572.9263,-1097.5453 2577.7818,-1102.5876\"/>\n</g>\n<!-- 15 -->\n<g id=\"node67\" class=\"node\">\n<title>15</title>\n<path fill=\"#f0b68c\" stroke=\"#000000\" d=\"M2189,-989C2189,-989 2089,-989 2089,-989 2083,-989 2077,-983 2077,-977 2077,-977 2077,-933 2077,-933 2077,-927 2083,-921 2089,-921 2089,-921 2189,-921 2189,-921 2195,-921 2201,-927 2201,-933 2201,-933 2201,-977 2201,-977 2201,-983 2195,-989 2189,-989\"/>\n<text text-anchor=\"middle\" x=\"2139\" y=\"-973.8\" font-family=\"Helvetica,sans-Serif\" font-size=\"14.00\" fill=\"#000000\">X[24] &lt;= 0.5</text>\n<text text-anchor=\"middle\" x=\"2139\" y=\"-958.8\" font-family=\"Helvetica,sans-Serif\" font-size=\"14.00\" fill=\"#000000\">entropy = 0.875</text>\n<text text-anchor=\"middle\" x=\"2139\" y=\"-943.8\" font-family=\"Helvetica,sans-Serif\" font-size=\"14.00\" fill=\"#000000\">samples = 254</text>\n<text text-anchor=\"middle\" x=\"2139\" y=\"-928.8\" font-family=\"Helvetica,sans-Serif\" font-size=\"14.00\" fill=\"#000000\">value = [179, 75]</text>\n</g>\n<!-- 7&#45;&gt;15 -->\n<g id=\"edge66\" class=\"edge\">\n<title>7&#45;&gt;15</title>\n<path fill=\"none\" stroke=\"#000000\" d=\"M2334.8863,-1032.7564C2297.0143,-1017.7232 2249.4625,-998.8477 2210.6943,-983.4588\"/>\n<polygon fill=\"#000000\" stroke=\"#000000\" points=\"2211.6243,-980.0624 2201.0385,-979.626 2209.0417,-986.5685 2211.6243,-980.0624\"/>\n</g>\n<!-- 16 -->\n<g id=\"node80\" class=\"node\">\n<title>16</title>\n<path fill=\"#a9d5f4\" stroke=\"#000000\" d=\"M2455,-989C2455,-989 2347,-989 2347,-989 2341,-989 2335,-983 2335,-977 2335,-977 2335,-933 2335,-933 2335,-927 2341,-921 2347,-921 2347,-921 2455,-921 2455,-921 2461,-921 2467,-927 2467,-933 2467,-933 2467,-977 2467,-977 2467,-983 2461,-989 2455,-989\"/>\n<text text-anchor=\"middle\" x=\"2401\" y=\"-973.8\" font-family=\"Helvetica,sans-Serif\" font-size=\"14.00\" fill=\"#000000\">X[5] &lt;= 30.5</text>\n<text text-anchor=\"middle\" x=\"2401\" y=\"-958.8\" font-family=\"Helvetica,sans-Serif\" font-size=\"14.00\" fill=\"#000000\">entropy = 0.944</text>\n<text text-anchor=\"middle\" x=\"2401\" y=\"-943.8\" font-family=\"Helvetica,sans-Serif\" font-size=\"14.00\" fill=\"#000000\">samples = 1194</text>\n<text text-anchor=\"middle\" x=\"2401\" y=\"-928.8\" font-family=\"Helvetica,sans-Serif\" font-size=\"14.00\" fill=\"#000000\">value = [432, 762]</text>\n</g>\n<!-- 7&#45;&gt;16 -->\n<g id=\"edge79\" class=\"edge\">\n<title>7&#45;&gt;16</title>\n<path fill=\"none\" stroke=\"#000000\" d=\"M2401,-1024.9465C2401,-1016.776 2401,-1007.9318 2401,-999.3697\"/>\n<polygon fill=\"#000000\" stroke=\"#000000\" points=\"2404.5001,-999.13 2401,-989.13 2397.5001,-999.13 2404.5001,-999.13\"/>\n</g>\n<!-- 47 -->\n<g id=\"node68\" class=\"node\">\n<title>47</title>\n<path fill=\"#eeae80\" stroke=\"#000000\" d=\"M2010,-885C2010,-885 1910,-885 1910,-885 1904,-885 1898,-879 1898,-873 1898,-873 1898,-829 1898,-829 1898,-823 1904,-817 1910,-817 1910,-817 2010,-817 2010,-817 2016,-817 2022,-823 2022,-829 2022,-829 2022,-873 2022,-873 2022,-879 2016,-885 2010,-885\"/>\n<text text-anchor=\"middle\" x=\"1960\" y=\"-869.8\" font-family=\"Helvetica,sans-Serif\" font-size=\"14.00\" fill=\"#000000\">X[31] &lt;= 0.5</text>\n<text text-anchor=\"middle\" x=\"1960\" y=\"-854.8\" font-family=\"Helvetica,sans-Serif\" font-size=\"14.00\" fill=\"#000000\">entropy = 0.832</text>\n<text text-anchor=\"middle\" x=\"1960\" y=\"-839.8\" font-family=\"Helvetica,sans-Serif\" font-size=\"14.00\" fill=\"#000000\">samples = 243</text>\n<text text-anchor=\"middle\" x=\"1960\" y=\"-824.8\" font-family=\"Helvetica,sans-Serif\" font-size=\"14.00\" fill=\"#000000\">value = [179, 64]</text>\n</g>\n<!-- 15&#45;&gt;47 -->\n<g id=\"edge67\" class=\"edge\">\n<title>15&#45;&gt;47</title>\n<path fill=\"none\" stroke=\"#000000\" d=\"M2080.3887,-920.9465C2063.5445,-911.1599 2045.0364,-900.4066 2027.692,-890.3294\"/>\n<polygon fill=\"#000000\" stroke=\"#000000\" points=\"2029.1478,-887.1274 2018.743,-885.13 2025.6312,-893.18 2029.1478,-887.1274\"/>\n</g>\n<!-- 48 -->\n<g id=\"node79\" class=\"node\">\n<title>48</title>\n<path fill=\"#399de5\" stroke=\"#000000\" d=\"M2180.5,-877.5C2180.5,-877.5 2097.5,-877.5 2097.5,-877.5 2091.5,-877.5 2085.5,-871.5 2085.5,-865.5 2085.5,-865.5 2085.5,-836.5 2085.5,-836.5 2085.5,-830.5 2091.5,-824.5 2097.5,-824.5 2097.5,-824.5 2180.5,-824.5 2180.5,-824.5 2186.5,-824.5 2192.5,-830.5 2192.5,-836.5 2192.5,-836.5 2192.5,-865.5 2192.5,-865.5 2192.5,-871.5 2186.5,-877.5 2180.5,-877.5\"/>\n<text text-anchor=\"middle\" x=\"2139\" y=\"-862.3\" font-family=\"Helvetica,sans-Serif\" font-size=\"14.00\" fill=\"#000000\">entropy = 0.0</text>\n<text text-anchor=\"middle\" x=\"2139\" y=\"-847.3\" font-family=\"Helvetica,sans-Serif\" font-size=\"14.00\" fill=\"#000000\">samples = 11</text>\n<text text-anchor=\"middle\" x=\"2139\" y=\"-832.3\" font-family=\"Helvetica,sans-Serif\" font-size=\"14.00\" fill=\"#000000\">value = [0, 11]</text>\n</g>\n<!-- 15&#45;&gt;48 -->\n<g id=\"edge78\" class=\"edge\">\n<title>15&#45;&gt;48</title>\n<path fill=\"none\" stroke=\"#000000\" d=\"M2139,-920.9465C2139,-910.2621 2139,-898.4254 2139,-887.5742\"/>\n<polygon fill=\"#000000\" stroke=\"#000000\" points=\"2142.5001,-887.5421 2139,-877.5422 2135.5001,-887.5422 2142.5001,-887.5421\"/>\n</g>\n<!-- 75 -->\n<g id=\"node69\" class=\"node\">\n<title>75</title>\n<path fill=\"#eda775\" stroke=\"#000000\" d=\"M1864,-781C1864,-781 1764,-781 1764,-781 1758,-781 1752,-775 1752,-769 1752,-769 1752,-725 1752,-725 1752,-719 1758,-713 1764,-713 1764,-713 1864,-713 1864,-713 1870,-713 1876,-719 1876,-725 1876,-725 1876,-769 1876,-769 1876,-775 1870,-781 1864,-781\"/>\n<text text-anchor=\"middle\" x=\"1814\" y=\"-765.8\" font-family=\"Helvetica,sans-Serif\" font-size=\"14.00\" fill=\"#000000\">X[0] &lt;= 61.5</text>\n<text text-anchor=\"middle\" x=\"1814\" y=\"-750.8\" font-family=\"Helvetica,sans-Serif\" font-size=\"14.00\" fill=\"#000000\">entropy = 0.781</text>\n<text text-anchor=\"middle\" x=\"1814\" y=\"-735.8\" font-family=\"Helvetica,sans-Serif\" font-size=\"14.00\" fill=\"#000000\">samples = 229</text>\n<text text-anchor=\"middle\" x=\"1814\" y=\"-720.8\" font-family=\"Helvetica,sans-Serif\" font-size=\"14.00\" fill=\"#000000\">value = [176, 53]</text>\n</g>\n<!-- 47&#45;&gt;75 -->\n<g id=\"edge68\" class=\"edge\">\n<title>47&#45;&gt;75</title>\n<path fill=\"none\" stroke=\"#000000\" d=\"M1912.1941,-816.9465C1898.8334,-807.4293 1884.1893,-796.9978 1870.3826,-787.163\"/>\n<polygon fill=\"#000000\" stroke=\"#000000\" points=\"1872.0888,-784.0811 1861.9133,-781.13 1868.0275,-789.7826 1872.0888,-784.0811\"/>\n</g>\n<!-- 76 -->\n<g id=\"node78\" class=\"node\">\n<title>76</title>\n<path fill=\"#6fb8ec\" stroke=\"#000000\" d=\"M2003,-773.5C2003,-773.5 1917,-773.5 1917,-773.5 1911,-773.5 1905,-767.5 1905,-761.5 1905,-761.5 1905,-732.5 1905,-732.5 1905,-726.5 1911,-720.5 1917,-720.5 1917,-720.5 2003,-720.5 2003,-720.5 2009,-720.5 2015,-726.5 2015,-732.5 2015,-732.5 2015,-761.5 2015,-761.5 2015,-767.5 2009,-773.5 2003,-773.5\"/>\n<text text-anchor=\"middle\" x=\"1960\" y=\"-758.3\" font-family=\"Helvetica,sans-Serif\" font-size=\"14.00\" fill=\"#000000\">entropy = 0.75</text>\n<text text-anchor=\"middle\" x=\"1960\" y=\"-743.3\" font-family=\"Helvetica,sans-Serif\" font-size=\"14.00\" fill=\"#000000\">samples = 14</text>\n<text text-anchor=\"middle\" x=\"1960\" y=\"-728.3\" font-family=\"Helvetica,sans-Serif\" font-size=\"14.00\" fill=\"#000000\">value = [3, 11]</text>\n</g>\n<!-- 47&#45;&gt;76 -->\n<g id=\"edge77\" class=\"edge\">\n<title>47&#45;&gt;76</title>\n<path fill=\"none\" stroke=\"#000000\" d=\"M1960,-816.9465C1960,-806.2621 1960,-794.4254 1960,-783.5742\"/>\n<polygon fill=\"#000000\" stroke=\"#000000\" points=\"1963.5001,-783.5421 1960,-773.5422 1956.5001,-783.5422 1963.5001,-783.5421\"/>\n</g>\n<!-- 77 -->\n<g id=\"node70\" class=\"node\">\n<title>77</title>\n<path fill=\"#eca16c\" stroke=\"#000000\" d=\"M1725,-677C1725,-677 1625,-677 1625,-677 1619,-677 1613,-671 1613,-665 1613,-665 1613,-621 1613,-621 1613,-615 1619,-609 1625,-609 1625,-609 1725,-609 1725,-609 1731,-609 1737,-615 1737,-621 1737,-621 1737,-665 1737,-665 1737,-671 1731,-677 1725,-677\"/>\n<text text-anchor=\"middle\" x=\"1675\" y=\"-661.8\" font-family=\"Helvetica,sans-Serif\" font-size=\"14.00\" fill=\"#000000\">X[3] &lt;= 354.5</text>\n<text text-anchor=\"middle\" x=\"1675\" y=\"-646.8\" font-family=\"Helvetica,sans-Serif\" font-size=\"14.00\" fill=\"#000000\">entropy = 0.731</text>\n<text text-anchor=\"middle\" x=\"1675\" y=\"-631.8\" font-family=\"Helvetica,sans-Serif\" font-size=\"14.00\" fill=\"#000000\">samples = 220</text>\n<text text-anchor=\"middle\" x=\"1675\" y=\"-616.8\" font-family=\"Helvetica,sans-Serif\" font-size=\"14.00\" fill=\"#000000\">value = [175, 45]</text>\n</g>\n<!-- 75&#45;&gt;77 -->\n<g id=\"edge69\" class=\"edge\">\n<title>75&#45;&gt;77</title>\n<path fill=\"none\" stroke=\"#000000\" d=\"M1768.4862,-712.9465C1755.766,-703.4293 1741.824,-692.9978 1728.6794,-683.163\"/>\n<polygon fill=\"#000000\" stroke=\"#000000\" points=\"1730.7198,-680.3184 1720.6161,-677.13 1726.5262,-685.9232 1730.7198,-680.3184\"/>\n</g>\n<!-- 78 -->\n<g id=\"node77\" class=\"node\">\n<title>78</title>\n<path fill=\"#52a9e8\" stroke=\"#000000\" d=\"M1861,-669.5C1861,-669.5 1767,-669.5 1767,-669.5 1761,-669.5 1755,-663.5 1755,-657.5 1755,-657.5 1755,-628.5 1755,-628.5 1755,-622.5 1761,-616.5 1767,-616.5 1767,-616.5 1861,-616.5 1861,-616.5 1867,-616.5 1873,-622.5 1873,-628.5 1873,-628.5 1873,-657.5 1873,-657.5 1873,-663.5 1867,-669.5 1861,-669.5\"/>\n<text text-anchor=\"middle\" x=\"1814\" y=\"-654.3\" font-family=\"Helvetica,sans-Serif\" font-size=\"14.00\" fill=\"#000000\">entropy = 0.503</text>\n<text text-anchor=\"middle\" x=\"1814\" y=\"-639.3\" font-family=\"Helvetica,sans-Serif\" font-size=\"14.00\" fill=\"#000000\">samples = 9</text>\n<text text-anchor=\"middle\" x=\"1814\" y=\"-624.3\" font-family=\"Helvetica,sans-Serif\" font-size=\"14.00\" fill=\"#000000\">value = [1, 8]</text>\n</g>\n<!-- 75&#45;&gt;78 -->\n<g id=\"edge76\" class=\"edge\">\n<title>75&#45;&gt;78</title>\n<path fill=\"none\" stroke=\"#000000\" d=\"M1814,-712.9465C1814,-702.2621 1814,-690.4254 1814,-679.5742\"/>\n<polygon fill=\"#000000\" stroke=\"#000000\" points=\"1817.5001,-679.5421 1814,-669.5422 1810.5001,-679.5422 1817.5001,-679.5421\"/>\n</g>\n<!-- 85 -->\n<g id=\"node71\" class=\"node\">\n<title>85</title>\n<path fill=\"#e99559\" stroke=\"#000000\" d=\"M1586,-573C1586,-573 1486,-573 1486,-573 1480,-573 1474,-567 1474,-561 1474,-561 1474,-517 1474,-517 1474,-511 1480,-505 1486,-505 1486,-505 1586,-505 1586,-505 1592,-505 1598,-511 1598,-517 1598,-517 1598,-561 1598,-561 1598,-567 1592,-573 1586,-573\"/>\n<text text-anchor=\"middle\" x=\"1536\" y=\"-557.8\" font-family=\"Helvetica,sans-Serif\" font-size=\"14.00\" fill=\"#000000\">X[2] &lt;= 1.5</text>\n<text text-anchor=\"middle\" x=\"1536\" y=\"-542.8\" font-family=\"Helvetica,sans-Serif\" font-size=\"14.00\" fill=\"#000000\">entropy = 0.578</text>\n<text text-anchor=\"middle\" x=\"1536\" y=\"-527.8\" font-family=\"Helvetica,sans-Serif\" font-size=\"14.00\" fill=\"#000000\">samples = 167</text>\n<text text-anchor=\"middle\" x=\"1536\" y=\"-512.8\" font-family=\"Helvetica,sans-Serif\" font-size=\"14.00\" fill=\"#000000\">value = [144, 23]</text>\n</g>\n<!-- 77&#45;&gt;85 -->\n<g id=\"edge70\" class=\"edge\">\n<title>77&#45;&gt;85</title>\n<path fill=\"none\" stroke=\"#000000\" d=\"M1629.4862,-608.9465C1616.766,-599.4293 1602.824,-588.9978 1589.6794,-579.163\"/>\n<polygon fill=\"#000000\" stroke=\"#000000\" points=\"1591.7198,-576.3184 1581.6161,-573.13 1587.5262,-581.9232 1591.7198,-576.3184\"/>\n</g>\n<!-- 86 -->\n<g id=\"node76\" class=\"node\">\n<title>86</title>\n<path fill=\"#f7dac6\" stroke=\"#000000\" d=\"M1722,-565.5C1722,-565.5 1628,-565.5 1628,-565.5 1622,-565.5 1616,-559.5 1616,-553.5 1616,-553.5 1616,-524.5 1616,-524.5 1616,-518.5 1622,-512.5 1628,-512.5 1628,-512.5 1722,-512.5 1722,-512.5 1728,-512.5 1734,-518.5 1734,-524.5 1734,-524.5 1734,-553.5 1734,-553.5 1734,-559.5 1728,-565.5 1722,-565.5\"/>\n<text text-anchor=\"middle\" x=\"1675\" y=\"-550.3\" font-family=\"Helvetica,sans-Serif\" font-size=\"14.00\" fill=\"#000000\">entropy = 0.979</text>\n<text text-anchor=\"middle\" x=\"1675\" y=\"-535.3\" font-family=\"Helvetica,sans-Serif\" font-size=\"14.00\" fill=\"#000000\">samples = 53</text>\n<text text-anchor=\"middle\" x=\"1675\" y=\"-520.3\" font-family=\"Helvetica,sans-Serif\" font-size=\"14.00\" fill=\"#000000\">value = [31, 22]</text>\n</g>\n<!-- 77&#45;&gt;86 -->\n<g id=\"edge75\" class=\"edge\">\n<title>77&#45;&gt;86</title>\n<path fill=\"none\" stroke=\"#000000\" d=\"M1675,-608.9465C1675,-598.2621 1675,-586.4254 1675,-575.5742\"/>\n<polygon fill=\"#000000\" stroke=\"#000000\" points=\"1678.5001,-575.5421 1675,-565.5422 1671.5001,-575.5422 1678.5001,-575.5421\"/>\n</g>\n<!-- 133 -->\n<g id=\"node72\" class=\"node\">\n<title>133</title>\n<path fill=\"#399de5\" stroke=\"#000000\" d=\"M1568.5,-461.5C1568.5,-461.5 1491.5,-461.5 1491.5,-461.5 1485.5,-461.5 1479.5,-455.5 1479.5,-449.5 1479.5,-449.5 1479.5,-420.5 1479.5,-420.5 1479.5,-414.5 1485.5,-408.5 1491.5,-408.5 1491.5,-408.5 1568.5,-408.5 1568.5,-408.5 1574.5,-408.5 1580.5,-414.5 1580.5,-420.5 1580.5,-420.5 1580.5,-449.5 1580.5,-449.5 1580.5,-455.5 1574.5,-461.5 1568.5,-461.5\"/>\n<text text-anchor=\"middle\" x=\"1530\" y=\"-446.3\" font-family=\"Helvetica,sans-Serif\" font-size=\"14.00\" fill=\"#000000\">entropy = 0.0</text>\n<text text-anchor=\"middle\" x=\"1530\" y=\"-431.3\" font-family=\"Helvetica,sans-Serif\" font-size=\"14.00\" fill=\"#000000\">samples = 3</text>\n<text text-anchor=\"middle\" x=\"1530\" y=\"-416.3\" font-family=\"Helvetica,sans-Serif\" font-size=\"14.00\" fill=\"#000000\">value = [0, 3]</text>\n</g>\n<!-- 85&#45;&gt;133 -->\n<g id=\"edge71\" class=\"edge\">\n<title>85&#45;&gt;133</title>\n<path fill=\"none\" stroke=\"#000000\" d=\"M1534.0354,-504.9465C1533.419,-494.2621 1532.7361,-482.4254 1532.1101,-471.5742\"/>\n<polygon fill=\"#000000\" stroke=\"#000000\" points=\"1535.6015,-471.3239 1531.5313,-461.5422 1528.6131,-471.7272 1535.6015,-471.3239\"/>\n</g>\n<!-- 134 -->\n<g id=\"node73\" class=\"node\">\n<title>134</title>\n<path fill=\"#e99254\" stroke=\"#000000\" d=\"M1711,-469C1711,-469 1611,-469 1611,-469 1605,-469 1599,-463 1599,-457 1599,-457 1599,-413 1599,-413 1599,-407 1605,-401 1611,-401 1611,-401 1711,-401 1711,-401 1717,-401 1723,-407 1723,-413 1723,-413 1723,-457 1723,-457 1723,-463 1717,-469 1711,-469\"/>\n<text text-anchor=\"middle\" x=\"1661\" y=\"-453.8\" font-family=\"Helvetica,sans-Serif\" font-size=\"14.00\" fill=\"#000000\">X[19] &lt;= 0.5</text>\n<text text-anchor=\"middle\" x=\"1661\" y=\"-438.8\" font-family=\"Helvetica,sans-Serif\" font-size=\"14.00\" fill=\"#000000\">entropy = 0.535</text>\n<text text-anchor=\"middle\" x=\"1661\" y=\"-423.8\" font-family=\"Helvetica,sans-Serif\" font-size=\"14.00\" fill=\"#000000\">samples = 164</text>\n<text text-anchor=\"middle\" x=\"1661\" y=\"-408.8\" font-family=\"Helvetica,sans-Serif\" font-size=\"14.00\" fill=\"#000000\">value = [144, 20]</text>\n</g>\n<!-- 85&#45;&gt;134 -->\n<g id=\"edge72\" class=\"edge\">\n<title>85&#45;&gt;134</title>\n<path fill=\"none\" stroke=\"#000000\" d=\"M1576.9297,-504.9465C1588.1528,-495.6088 1600.4337,-485.3911 1612.0573,-475.7203\"/>\n<polygon fill=\"#000000\" stroke=\"#000000\" points=\"1614.5296,-478.2164 1619.9784,-469.13 1610.0526,-472.8353 1614.5296,-478.2164\"/>\n</g>\n<!-- 135 -->\n<g id=\"node74\" class=\"node\">\n<title>135</title>\n<path fill=\"#ea9a61\" stroke=\"#000000\" d=\"M1708,-357.5C1708,-357.5 1614,-357.5 1614,-357.5 1608,-357.5 1602,-351.5 1602,-345.5 1602,-345.5 1602,-316.5 1602,-316.5 1602,-310.5 1608,-304.5 1614,-304.5 1614,-304.5 1708,-304.5 1708,-304.5 1714,-304.5 1720,-310.5 1720,-316.5 1720,-316.5 1720,-345.5 1720,-345.5 1720,-351.5 1714,-357.5 1708,-357.5\"/>\n<text text-anchor=\"middle\" x=\"1661\" y=\"-342.3\" font-family=\"Helvetica,sans-Serif\" font-size=\"14.00\" fill=\"#000000\">entropy = 0.653</text>\n<text text-anchor=\"middle\" x=\"1661\" y=\"-327.3\" font-family=\"Helvetica,sans-Serif\" font-size=\"14.00\" fill=\"#000000\">samples = 119</text>\n<text text-anchor=\"middle\" x=\"1661\" y=\"-312.3\" font-family=\"Helvetica,sans-Serif\" font-size=\"14.00\" fill=\"#000000\">value = [99, 20]</text>\n</g>\n<!-- 134&#45;&gt;135 -->\n<g id=\"edge73\" class=\"edge\">\n<title>134&#45;&gt;135</title>\n<path fill=\"none\" stroke=\"#000000\" d=\"M1661,-400.9465C1661,-390.2621 1661,-378.4254 1661,-367.5742\"/>\n<polygon fill=\"#000000\" stroke=\"#000000\" points=\"1664.5001,-367.5421 1661,-357.5422 1657.5001,-367.5422 1664.5001,-367.5421\"/>\n</g>\n<!-- 136 -->\n<g id=\"node75\" class=\"node\">\n<title>136</title>\n<path fill=\"#e58139\" stroke=\"#000000\" d=\"M1833.5,-357.5C1833.5,-357.5 1750.5,-357.5 1750.5,-357.5 1744.5,-357.5 1738.5,-351.5 1738.5,-345.5 1738.5,-345.5 1738.5,-316.5 1738.5,-316.5 1738.5,-310.5 1744.5,-304.5 1750.5,-304.5 1750.5,-304.5 1833.5,-304.5 1833.5,-304.5 1839.5,-304.5 1845.5,-310.5 1845.5,-316.5 1845.5,-316.5 1845.5,-345.5 1845.5,-345.5 1845.5,-351.5 1839.5,-357.5 1833.5,-357.5\"/>\n<text text-anchor=\"middle\" x=\"1792\" y=\"-342.3\" font-family=\"Helvetica,sans-Serif\" font-size=\"14.00\" fill=\"#000000\">entropy = 0.0</text>\n<text text-anchor=\"middle\" x=\"1792\" y=\"-327.3\" font-family=\"Helvetica,sans-Serif\" font-size=\"14.00\" fill=\"#000000\">samples = 45</text>\n<text text-anchor=\"middle\" x=\"1792\" y=\"-312.3\" font-family=\"Helvetica,sans-Serif\" font-size=\"14.00\" fill=\"#000000\">value = [45, 0]</text>\n</g>\n<!-- 134&#45;&gt;136 -->\n<g id=\"edge74\" class=\"edge\">\n<title>134&#45;&gt;136</title>\n<path fill=\"none\" stroke=\"#000000\" d=\"M1703.8943,-400.9465C1718.8788,-389.0504 1735.6624,-375.726 1750.5288,-363.9237\"/>\n<polygon fill=\"#000000\" stroke=\"#000000\" points=\"1752.9113,-366.5011 1758.5671,-357.5422 1748.5589,-361.0187 1752.9113,-366.5011\"/>\n</g>\n<!-- 25 -->\n<g id=\"node81\" class=\"node\">\n<title>25</title>\n<path fill=\"#c3e1f7\" stroke=\"#000000\" d=\"M2334,-885C2334,-885 2226,-885 2226,-885 2220,-885 2214,-879 2214,-873 2214,-873 2214,-829 2214,-829 2214,-823 2220,-817 2226,-817 2226,-817 2334,-817 2334,-817 2340,-817 2346,-823 2346,-829 2346,-829 2346,-873 2346,-873 2346,-879 2340,-885 2334,-885\"/>\n<text text-anchor=\"middle\" x=\"2280\" y=\"-869.8\" font-family=\"Helvetica,sans-Serif\" font-size=\"14.00\" fill=\"#000000\">X[0] &lt;= 60.5</text>\n<text text-anchor=\"middle\" x=\"2280\" y=\"-854.8\" font-family=\"Helvetica,sans-Serif\" font-size=\"14.00\" fill=\"#000000\">entropy = 0.977</text>\n<text text-anchor=\"middle\" x=\"2280\" y=\"-839.8\" font-family=\"Helvetica,sans-Serif\" font-size=\"14.00\" fill=\"#000000\">samples = 960</text>\n<text text-anchor=\"middle\" x=\"2280\" y=\"-824.8\" font-family=\"Helvetica,sans-Serif\" font-size=\"14.00\" fill=\"#000000\">value = [394, 566]</text>\n</g>\n<!-- 16&#45;&gt;25 -->\n<g id=\"edge80\" class=\"edge\">\n<title>16&#45;&gt;25</title>\n<path fill=\"none\" stroke=\"#000000\" d=\"M2361.3801,-920.9465C2350.516,-911.6088 2338.6282,-901.3911 2327.3765,-891.7203\"/>\n<polygon fill=\"#000000\" stroke=\"#000000\" points=\"2329.5741,-888.994 2319.7089,-885.13 2325.0113,-894.3026 2329.5741,-888.994\"/>\n</g>\n<!-- 26 -->\n<g id=\"node106\" class=\"node\">\n<title>26</title>\n<path fill=\"#5fb0ea\" stroke=\"#000000\" d=\"M2476,-877.5C2476,-877.5 2376,-877.5 2376,-877.5 2370,-877.5 2364,-871.5 2364,-865.5 2364,-865.5 2364,-836.5 2364,-836.5 2364,-830.5 2370,-824.5 2376,-824.5 2376,-824.5 2476,-824.5 2476,-824.5 2482,-824.5 2488,-830.5 2488,-836.5 2488,-836.5 2488,-865.5 2488,-865.5 2488,-871.5 2482,-877.5 2476,-877.5\"/>\n<text text-anchor=\"middle\" x=\"2426\" y=\"-862.3\" font-family=\"Helvetica,sans-Serif\" font-size=\"14.00\" fill=\"#000000\">entropy = 0.64</text>\n<text text-anchor=\"middle\" x=\"2426\" y=\"-847.3\" font-family=\"Helvetica,sans-Serif\" font-size=\"14.00\" fill=\"#000000\">samples = 234</text>\n<text text-anchor=\"middle\" x=\"2426\" y=\"-832.3\" font-family=\"Helvetica,sans-Serif\" font-size=\"14.00\" fill=\"#000000\">value = [38, 196]</text>\n</g>\n<!-- 16&#45;&gt;26 -->\n<g id=\"edge105\" class=\"edge\">\n<title>16&#45;&gt;26</title>\n<path fill=\"none\" stroke=\"#000000\" d=\"M2409.1859,-920.9465C2411.7543,-910.2621 2414.5997,-898.4254 2417.2081,-887.5742\"/>\n<polygon fill=\"#000000\" stroke=\"#000000\" points=\"2420.6854,-888.0833 2419.6197,-877.5422 2413.8793,-886.4471 2420.6854,-888.0833\"/>\n</g>\n<!-- 27 -->\n<g id=\"node82\" class=\"node\">\n<title>27</title>\n<path fill=\"#d9ecfa\" stroke=\"#000000\" d=\"M2228,-781C2228,-781 2120,-781 2120,-781 2114,-781 2108,-775 2108,-769 2108,-769 2108,-725 2108,-725 2108,-719 2114,-713 2120,-713 2120,-713 2228,-713 2228,-713 2234,-713 2240,-719 2240,-725 2240,-725 2240,-769 2240,-769 2240,-775 2234,-781 2228,-781\"/>\n<text text-anchor=\"middle\" x=\"2174\" y=\"-765.8\" font-family=\"Helvetica,sans-Serif\" font-size=\"14.00\" fill=\"#000000\">X[0] &lt;= 29.5</text>\n<text text-anchor=\"middle\" x=\"2174\" y=\"-750.8\" font-family=\"Helvetica,sans-Serif\" font-size=\"14.00\" fill=\"#000000\">entropy = 0.992</text>\n<text text-anchor=\"middle\" x=\"2174\" y=\"-735.8\" font-family=\"Helvetica,sans-Serif\" font-size=\"14.00\" fill=\"#000000\">samples = 858</text>\n<text text-anchor=\"middle\" x=\"2174\" y=\"-720.8\" font-family=\"Helvetica,sans-Serif\" font-size=\"14.00\" fill=\"#000000\">value = [384, 474]</text>\n</g>\n<!-- 25&#45;&gt;27 -->\n<g id=\"edge81\" class=\"edge\">\n<title>25&#45;&gt;27</title>\n<path fill=\"none\" stroke=\"#000000\" d=\"M2245.2916,-816.9465C2235.9574,-807.7884 2225.7604,-797.7838 2216.0727,-788.2788\"/>\n<polygon fill=\"#000000\" stroke=\"#000000\" points=\"2218.3757,-785.6351 2208.7863,-781.13 2213.4733,-790.6318 2218.3757,-785.6351\"/>\n</g>\n<!-- 28 -->\n<g id=\"node103\" class=\"node\">\n<title>28</title>\n<path fill=\"#4fa8e8\" stroke=\"#000000\" d=\"M2364,-781C2364,-781 2270,-781 2270,-781 2264,-781 2258,-775 2258,-769 2258,-769 2258,-725 2258,-725 2258,-719 2264,-713 2270,-713 2270,-713 2364,-713 2364,-713 2370,-713 2376,-719 2376,-725 2376,-725 2376,-769 2376,-769 2376,-775 2370,-781 2364,-781\"/>\n<text text-anchor=\"middle\" x=\"2317\" y=\"-765.8\" font-family=\"Helvetica,sans-Serif\" font-size=\"14.00\" fill=\"#000000\">X[1] &lt;= 2955.5</text>\n<text text-anchor=\"middle\" x=\"2317\" y=\"-750.8\" font-family=\"Helvetica,sans-Serif\" font-size=\"14.00\" fill=\"#000000\">entropy = 0.463</text>\n<text text-anchor=\"middle\" x=\"2317\" y=\"-735.8\" font-family=\"Helvetica,sans-Serif\" font-size=\"14.00\" fill=\"#000000\">samples = 102</text>\n<text text-anchor=\"middle\" x=\"2317\" y=\"-720.8\" font-family=\"Helvetica,sans-Serif\" font-size=\"14.00\" fill=\"#000000\">value = [10, 92]</text>\n</g>\n<!-- 25&#45;&gt;28 -->\n<g id=\"edge102\" class=\"edge\">\n<title>25&#45;&gt;28</title>\n<path fill=\"none\" stroke=\"#000000\" d=\"M2292.1152,-816.9465C2295.0859,-808.5965 2298.3069,-799.5427 2301.4153,-790.8056\"/>\n<polygon fill=\"#000000\" stroke=\"#000000\" points=\"2304.8032,-791.7247 2304.8576,-781.13 2298.2081,-789.3783 2304.8032,-791.7247\"/>\n</g>\n<!-- 33 -->\n<g id=\"node83\" class=\"node\">\n<title>33</title>\n<path fill=\"#72b9ec\" stroke=\"#000000\" d=\"M2003,-677C2003,-677 1903,-677 1903,-677 1897,-677 1891,-671 1891,-665 1891,-665 1891,-621 1891,-621 1891,-615 1897,-609 1903,-609 1903,-609 2003,-609 2003,-609 2009,-609 2015,-615 2015,-621 2015,-621 2015,-665 2015,-665 2015,-671 2009,-677 2003,-677\"/>\n<text text-anchor=\"middle\" x=\"1953\" y=\"-661.8\" font-family=\"Helvetica,sans-Serif\" font-size=\"14.00\" fill=\"#000000\">X[18] &lt;= 0.5</text>\n<text text-anchor=\"middle\" x=\"1953\" y=\"-646.8\" font-family=\"Helvetica,sans-Serif\" font-size=\"14.00\" fill=\"#000000\">entropy = 0.765</text>\n<text text-anchor=\"middle\" x=\"1953\" y=\"-631.8\" font-family=\"Helvetica,sans-Serif\" font-size=\"14.00\" fill=\"#000000\">samples = 175</text>\n<text text-anchor=\"middle\" x=\"1953\" y=\"-616.8\" font-family=\"Helvetica,sans-Serif\" font-size=\"14.00\" fill=\"#000000\">value = [39, 136]</text>\n</g>\n<!-- 27&#45;&gt;33 -->\n<g id=\"edge82\" class=\"edge\">\n<title>27&#45;&gt;33</title>\n<path fill=\"none\" stroke=\"#000000\" d=\"M2107.9921,-715.9374C2081.71,-703.5694 2051.3966,-689.3043 2024.5867,-676.6879\"/>\n<polygon fill=\"#000000\" stroke=\"#000000\" points=\"2025.8008,-673.391 2015.2623,-672.2999 2022.8201,-679.7248 2025.8008,-673.391\"/>\n</g>\n<!-- 34 -->\n<g id=\"node88\" class=\"node\">\n<title>34</title>\n<path fill=\"#fefcfb\" stroke=\"#000000\" d=\"M2228,-677C2228,-677 2120,-677 2120,-677 2114,-677 2108,-671 2108,-665 2108,-665 2108,-621 2108,-621 2108,-615 2114,-609 2120,-609 2120,-609 2228,-609 2228,-609 2234,-609 2240,-615 2240,-621 2240,-621 2240,-665 2240,-665 2240,-671 2234,-677 2228,-677\"/>\n<text text-anchor=\"middle\" x=\"2174\" y=\"-661.8\" font-family=\"Helvetica,sans-Serif\" font-size=\"14.00\" fill=\"#000000\">X[2] &lt;= 4.5</text>\n<text text-anchor=\"middle\" x=\"2174\" y=\"-646.8\" font-family=\"Helvetica,sans-Serif\" font-size=\"14.00\" fill=\"#000000\">entropy = 1.0</text>\n<text text-anchor=\"middle\" x=\"2174\" y=\"-631.8\" font-family=\"Helvetica,sans-Serif\" font-size=\"14.00\" fill=\"#000000\">samples = 683</text>\n<text text-anchor=\"middle\" x=\"2174\" y=\"-616.8\" font-family=\"Helvetica,sans-Serif\" font-size=\"14.00\" fill=\"#000000\">value = [345, 338]</text>\n</g>\n<!-- 27&#45;&gt;34 -->\n<g id=\"edge87\" class=\"edge\">\n<title>27&#45;&gt;34</title>\n<path fill=\"none\" stroke=\"#000000\" d=\"M2174,-712.9465C2174,-704.776 2174,-695.9318 2174,-687.3697\"/>\n<polygon fill=\"#000000\" stroke=\"#000000\" points=\"2177.5001,-687.13 2174,-677.13 2170.5001,-687.13 2177.5001,-687.13\"/>\n</g>\n<!-- 91 -->\n<g id=\"node84\" class=\"node\">\n<title>91</title>\n<path fill=\"#66b3eb\" stroke=\"#000000\" d=\"M1864,-565.5C1864,-565.5 1764,-565.5 1764,-565.5 1758,-565.5 1752,-559.5 1752,-553.5 1752,-553.5 1752,-524.5 1752,-524.5 1752,-518.5 1758,-512.5 1764,-512.5 1764,-512.5 1864,-512.5 1864,-512.5 1870,-512.5 1876,-518.5 1876,-524.5 1876,-524.5 1876,-553.5 1876,-553.5 1876,-559.5 1870,-565.5 1864,-565.5\"/>\n<text text-anchor=\"middle\" x=\"1814\" y=\"-550.3\" font-family=\"Helvetica,sans-Serif\" font-size=\"14.00\" fill=\"#000000\">entropy = 0.689</text>\n<text text-anchor=\"middle\" x=\"1814\" y=\"-535.3\" font-family=\"Helvetica,sans-Serif\" font-size=\"14.00\" fill=\"#000000\">samples = 163</text>\n<text text-anchor=\"middle\" x=\"1814\" y=\"-520.3\" font-family=\"Helvetica,sans-Serif\" font-size=\"14.00\" fill=\"#000000\">value = [30, 133]</text>\n</g>\n<!-- 33&#45;&gt;91 -->\n<g id=\"edge83\" class=\"edge\">\n<title>33&#45;&gt;91</title>\n<path fill=\"none\" stroke=\"#000000\" d=\"M1907.4862,-608.9465C1891.4394,-596.9403 1873.4481,-583.4791 1857.5661,-571.5962\"/>\n<polygon fill=\"#000000\" stroke=\"#000000\" points=\"1859.5783,-568.7306 1849.4746,-565.5422 1855.3848,-574.3354 1859.5783,-568.7306\"/>\n</g>\n<!-- 92 -->\n<g id=\"node85\" class=\"node\">\n<title>92</title>\n<path fill=\"#eeab7b\" stroke=\"#000000\" d=\"M2000,-573C2000,-573 1906,-573 1906,-573 1900,-573 1894,-567 1894,-561 1894,-561 1894,-517 1894,-517 1894,-511 1900,-505 1906,-505 1906,-505 2000,-505 2000,-505 2006,-505 2012,-511 2012,-517 2012,-517 2012,-561 2012,-561 2012,-567 2006,-573 2000,-573\"/>\n<text text-anchor=\"middle\" x=\"1953\" y=\"-557.8\" font-family=\"Helvetica,sans-Serif\" font-size=\"14.00\" fill=\"#000000\">X[1] &lt;= 1646.0</text>\n<text text-anchor=\"middle\" x=\"1953\" y=\"-542.8\" font-family=\"Helvetica,sans-Serif\" font-size=\"14.00\" fill=\"#000000\">entropy = 0.811</text>\n<text text-anchor=\"middle\" x=\"1953\" y=\"-527.8\" font-family=\"Helvetica,sans-Serif\" font-size=\"14.00\" fill=\"#000000\">samples = 12</text>\n<text text-anchor=\"middle\" x=\"1953\" y=\"-512.8\" font-family=\"Helvetica,sans-Serif\" font-size=\"14.00\" fill=\"#000000\">value = [9, 3]</text>\n</g>\n<!-- 33&#45;&gt;92 -->\n<g id=\"edge84\" class=\"edge\">\n<title>33&#45;&gt;92</title>\n<path fill=\"none\" stroke=\"#000000\" d=\"M1953,-608.9465C1953,-600.776 1953,-591.9318 1953,-583.3697\"/>\n<polygon fill=\"#000000\" stroke=\"#000000\" points=\"1956.5001,-583.13 1953,-573.13 1949.5001,-583.13 1956.5001,-583.13\"/>\n</g>\n<!-- 113 -->\n<g id=\"node86\" class=\"node\">\n<title>113</title>\n<path fill=\"#e58139\" stroke=\"#000000\" d=\"M1830.5,-461.5C1830.5,-461.5 1753.5,-461.5 1753.5,-461.5 1747.5,-461.5 1741.5,-455.5 1741.5,-449.5 1741.5,-449.5 1741.5,-420.5 1741.5,-420.5 1741.5,-414.5 1747.5,-408.5 1753.5,-408.5 1753.5,-408.5 1830.5,-408.5 1830.5,-408.5 1836.5,-408.5 1842.5,-414.5 1842.5,-420.5 1842.5,-420.5 1842.5,-449.5 1842.5,-449.5 1842.5,-455.5 1836.5,-461.5 1830.5,-461.5\"/>\n<text text-anchor=\"middle\" x=\"1792\" y=\"-446.3\" font-family=\"Helvetica,sans-Serif\" font-size=\"14.00\" fill=\"#000000\">entropy = 0.0</text>\n<text text-anchor=\"middle\" x=\"1792\" y=\"-431.3\" font-family=\"Helvetica,sans-Serif\" font-size=\"14.00\" fill=\"#000000\">samples = 9</text>\n<text text-anchor=\"middle\" x=\"1792\" y=\"-416.3\" font-family=\"Helvetica,sans-Serif\" font-size=\"14.00\" fill=\"#000000\">value = [9, 0]</text>\n</g>\n<!-- 92&#45;&gt;113 -->\n<g id=\"edge85\" class=\"edge\">\n<title>92&#45;&gt;113</title>\n<path fill=\"none\" stroke=\"#000000\" d=\"M1900.2826,-504.9465C1881.4402,-492.775 1860.2832,-479.1084 1841.7034,-467.1066\"/>\n<polygon fill=\"#000000\" stroke=\"#000000\" points=\"1843.3883,-464.0283 1833.0893,-461.5422 1839.5901,-469.9082 1843.3883,-464.0283\"/>\n</g>\n<!-- 114 -->\n<g id=\"node87\" class=\"node\">\n<title>114</title>\n<path fill=\"#399de5\" stroke=\"#000000\" d=\"M1949.5,-461.5C1949.5,-461.5 1872.5,-461.5 1872.5,-461.5 1866.5,-461.5 1860.5,-455.5 1860.5,-449.5 1860.5,-449.5 1860.5,-420.5 1860.5,-420.5 1860.5,-414.5 1866.5,-408.5 1872.5,-408.5 1872.5,-408.5 1949.5,-408.5 1949.5,-408.5 1955.5,-408.5 1961.5,-414.5 1961.5,-420.5 1961.5,-420.5 1961.5,-449.5 1961.5,-449.5 1961.5,-455.5 1955.5,-461.5 1949.5,-461.5\"/>\n<text text-anchor=\"middle\" x=\"1911\" y=\"-446.3\" font-family=\"Helvetica,sans-Serif\" font-size=\"14.00\" fill=\"#000000\">entropy = 0.0</text>\n<text text-anchor=\"middle\" x=\"1911\" y=\"-431.3\" font-family=\"Helvetica,sans-Serif\" font-size=\"14.00\" fill=\"#000000\">samples = 3</text>\n<text text-anchor=\"middle\" x=\"1911\" y=\"-416.3\" font-family=\"Helvetica,sans-Serif\" font-size=\"14.00\" fill=\"#000000\">value = [0, 3]</text>\n</g>\n<!-- 92&#45;&gt;114 -->\n<g id=\"edge86\" class=\"edge\">\n<title>92&#45;&gt;114</title>\n<path fill=\"none\" stroke=\"#000000\" d=\"M1939.2476,-504.9465C1934.8438,-494.0418 1929.9553,-481.9368 1925.4998,-470.9043\"/>\n<polygon fill=\"#000000\" stroke=\"#000000\" points=\"1928.709,-469.5039 1921.719,-461.5422 1922.2183,-472.1252 1928.709,-469.5039\"/>\n</g>\n<!-- 51 -->\n<g id=\"node89\" class=\"node\">\n<title>51</title>\n<path fill=\"#80c0ee\" stroke=\"#000000\" d=\"M2221,-573C2221,-573 2127,-573 2127,-573 2121,-573 2115,-567 2115,-561 2115,-561 2115,-517 2115,-517 2115,-511 2121,-505 2127,-505 2127,-505 2221,-505 2221,-505 2227,-505 2233,-511 2233,-517 2233,-517 2233,-561 2233,-561 2233,-567 2227,-573 2221,-573\"/>\n<text text-anchor=\"middle\" x=\"2174\" y=\"-557.8\" font-family=\"Helvetica,sans-Serif\" font-size=\"14.00\" fill=\"#000000\">X[8] &lt;= 0.5</text>\n<text text-anchor=\"middle\" x=\"2174\" y=\"-542.8\" font-family=\"Helvetica,sans-Serif\" font-size=\"14.00\" fill=\"#000000\">entropy = 0.832</text>\n<text text-anchor=\"middle\" x=\"2174\" y=\"-527.8\" font-family=\"Helvetica,sans-Serif\" font-size=\"14.00\" fill=\"#000000\">samples = 91</text>\n<text text-anchor=\"middle\" x=\"2174\" y=\"-512.8\" font-family=\"Helvetica,sans-Serif\" font-size=\"14.00\" fill=\"#000000\">value = [24, 67]</text>\n</g>\n<!-- 34&#45;&gt;51 -->\n<g id=\"edge88\" class=\"edge\">\n<title>34&#45;&gt;51</title>\n<path fill=\"none\" stroke=\"#000000\" d=\"M2174,-608.9465C2174,-600.776 2174,-591.9318 2174,-583.3697\"/>\n<polygon fill=\"#000000\" stroke=\"#000000\" points=\"2177.5001,-583.13 2174,-573.13 2170.5001,-583.13 2177.5001,-583.13\"/>\n</g>\n<!-- 52 -->\n<g id=\"node92\" class=\"node\">\n<title>52</title>\n<path fill=\"#fbebe0\" stroke=\"#000000\" d=\"M2372,-573C2372,-573 2264,-573 2264,-573 2258,-573 2252,-567 2252,-561 2252,-561 2252,-517 2252,-517 2252,-511 2258,-505 2264,-505 2264,-505 2372,-505 2372,-505 2378,-505 2384,-511 2384,-517 2384,-517 2384,-561 2384,-561 2384,-567 2378,-573 2372,-573\"/>\n<text text-anchor=\"middle\" x=\"2318\" y=\"-557.8\" font-family=\"Helvetica,sans-Serif\" font-size=\"14.00\" fill=\"#000000\">X[21] &lt;= 0.5</text>\n<text text-anchor=\"middle\" x=\"2318\" y=\"-542.8\" font-family=\"Helvetica,sans-Serif\" font-size=\"14.00\" fill=\"#000000\">entropy = 0.995</text>\n<text text-anchor=\"middle\" x=\"2318\" y=\"-527.8\" font-family=\"Helvetica,sans-Serif\" font-size=\"14.00\" fill=\"#000000\">samples = 592</text>\n<text text-anchor=\"middle\" x=\"2318\" y=\"-512.8\" font-family=\"Helvetica,sans-Serif\" font-size=\"14.00\" fill=\"#000000\">value = [321, 271]</text>\n</g>\n<!-- 34&#45;&gt;52 -->\n<g id=\"edge91\" class=\"edge\">\n<title>34&#45;&gt;52</title>\n<path fill=\"none\" stroke=\"#000000\" d=\"M2221.151,-608.9465C2234.3287,-599.4293 2248.7722,-588.9978 2262.3897,-579.163\"/>\n<polygon fill=\"#000000\" stroke=\"#000000\" points=\"2264.6855,-581.8223 2270.7431,-573.13 2260.587,-576.1476 2264.6855,-581.8223\"/>\n</g>\n<!-- 139 -->\n<g id=\"node90\" class=\"node\">\n<title>139</title>\n<path fill=\"#60b0ea\" stroke=\"#000000\" d=\"M2086,-461.5C2086,-461.5 1992,-461.5 1992,-461.5 1986,-461.5 1980,-455.5 1980,-449.5 1980,-449.5 1980,-420.5 1980,-420.5 1980,-414.5 1986,-408.5 1992,-408.5 1992,-408.5 2086,-408.5 2086,-408.5 2092,-408.5 2098,-414.5 2098,-420.5 2098,-420.5 2098,-449.5 2098,-449.5 2098,-455.5 2092,-461.5 2086,-461.5\"/>\n<text text-anchor=\"middle\" x=\"2039\" y=\"-446.3\" font-family=\"Helvetica,sans-Serif\" font-size=\"14.00\" fill=\"#000000\">entropy = 0.644</text>\n<text text-anchor=\"middle\" x=\"2039\" y=\"-431.3\" font-family=\"Helvetica,sans-Serif\" font-size=\"14.00\" fill=\"#000000\">samples = 67</text>\n<text text-anchor=\"middle\" x=\"2039\" y=\"-416.3\" font-family=\"Helvetica,sans-Serif\" font-size=\"14.00\" fill=\"#000000\">value = [11, 56]</text>\n</g>\n<!-- 51&#45;&gt;139 -->\n<g id=\"edge89\" class=\"edge\">\n<title>51&#45;&gt;139</title>\n<path fill=\"none\" stroke=\"#000000\" d=\"M2129.796,-504.9465C2114.3539,-493.0504 2097.0578,-479.726 2081.7375,-467.9237\"/>\n<polygon fill=\"#000000\" stroke=\"#000000\" points=\"2083.5117,-464.8723 2073.4538,-461.5422 2079.2397,-470.4176 2083.5117,-464.8723\"/>\n</g>\n<!-- 140 -->\n<g id=\"node91\" class=\"node\">\n<title>140</title>\n<path fill=\"#fbece1\" stroke=\"#000000\" d=\"M2222,-461.5C2222,-461.5 2128,-461.5 2128,-461.5 2122,-461.5 2116,-455.5 2116,-449.5 2116,-449.5 2116,-420.5 2116,-420.5 2116,-414.5 2122,-408.5 2128,-408.5 2128,-408.5 2222,-408.5 2222,-408.5 2228,-408.5 2234,-414.5 2234,-420.5 2234,-420.5 2234,-449.5 2234,-449.5 2234,-455.5 2228,-461.5 2222,-461.5\"/>\n<text text-anchor=\"middle\" x=\"2175\" y=\"-446.3\" font-family=\"Helvetica,sans-Serif\" font-size=\"14.00\" fill=\"#000000\">entropy = 0.995</text>\n<text text-anchor=\"middle\" x=\"2175\" y=\"-431.3\" font-family=\"Helvetica,sans-Serif\" font-size=\"14.00\" fill=\"#000000\">samples = 24</text>\n<text text-anchor=\"middle\" x=\"2175\" y=\"-416.3\" font-family=\"Helvetica,sans-Serif\" font-size=\"14.00\" fill=\"#000000\">value = [13, 11]</text>\n</g>\n<!-- 51&#45;&gt;140 -->\n<g id=\"edge90\" class=\"edge\">\n<title>51&#45;&gt;140</title>\n<path fill=\"none\" stroke=\"#000000\" d=\"M2174.3274,-504.9465C2174.4302,-494.2621 2174.544,-482.4254 2174.6483,-471.5742\"/>\n<polygon fill=\"#000000\" stroke=\"#000000\" points=\"2178.1484,-471.5754 2174.7448,-461.5422 2171.1487,-471.508 2178.1484,-471.5754\"/>\n</g>\n<!-- 53 -->\n<g id=\"node93\" class=\"node\">\n<title>53</title>\n<path fill=\"#f9e3d4\" stroke=\"#000000\" d=\"M2372,-469C2372,-469 2264,-469 2264,-469 2258,-469 2252,-463 2252,-457 2252,-457 2252,-413 2252,-413 2252,-407 2258,-401 2264,-401 2264,-401 2372,-401 2372,-401 2378,-401 2384,-407 2384,-413 2384,-413 2384,-457 2384,-457 2384,-463 2378,-469 2372,-469\"/>\n<text text-anchor=\"middle\" x=\"2318\" y=\"-453.8\" font-family=\"Helvetica,sans-Serif\" font-size=\"14.00\" fill=\"#000000\">X[3] &lt;= 326.5</text>\n<text text-anchor=\"middle\" x=\"2318\" y=\"-438.8\" font-family=\"Helvetica,sans-Serif\" font-size=\"14.00\" fill=\"#000000\">entropy = 0.989</text>\n<text text-anchor=\"middle\" x=\"2318\" y=\"-423.8\" font-family=\"Helvetica,sans-Serif\" font-size=\"14.00\" fill=\"#000000\">samples = 568</text>\n<text text-anchor=\"middle\" x=\"2318\" y=\"-408.8\" font-family=\"Helvetica,sans-Serif\" font-size=\"14.00\" fill=\"#000000\">value = [319, 249]</text>\n</g>\n<!-- 52&#45;&gt;53 -->\n<g id=\"edge92\" class=\"edge\">\n<title>52&#45;&gt;53</title>\n<path fill=\"none\" stroke=\"#000000\" d=\"M2318,-504.9465C2318,-496.776 2318,-487.9318 2318,-479.3697\"/>\n<polygon fill=\"#000000\" stroke=\"#000000\" points=\"2321.5001,-479.13 2318,-469.13 2314.5001,-479.13 2321.5001,-479.13\"/>\n</g>\n<!-- 54 -->\n<g id=\"node102\" class=\"node\">\n<title>54</title>\n<path fill=\"#4ba6e7\" stroke=\"#000000\" d=\"M2508,-461.5C2508,-461.5 2414,-461.5 2414,-461.5 2408,-461.5 2402,-455.5 2402,-449.5 2402,-449.5 2402,-420.5 2402,-420.5 2402,-414.5 2408,-408.5 2414,-408.5 2414,-408.5 2508,-408.5 2508,-408.5 2514,-408.5 2520,-414.5 2520,-420.5 2520,-420.5 2520,-449.5 2520,-449.5 2520,-455.5 2514,-461.5 2508,-461.5\"/>\n<text text-anchor=\"middle\" x=\"2461\" y=\"-446.3\" font-family=\"Helvetica,sans-Serif\" font-size=\"14.00\" fill=\"#000000\">entropy = 0.414</text>\n<text text-anchor=\"middle\" x=\"2461\" y=\"-431.3\" font-family=\"Helvetica,sans-Serif\" font-size=\"14.00\" fill=\"#000000\">samples = 24</text>\n<text text-anchor=\"middle\" x=\"2461\" y=\"-416.3\" font-family=\"Helvetica,sans-Serif\" font-size=\"14.00\" fill=\"#000000\">value = [2, 22]</text>\n</g>\n<!-- 52&#45;&gt;54 -->\n<g id=\"edge101\" class=\"edge\">\n<title>52&#45;&gt;54</title>\n<path fill=\"none\" stroke=\"#000000\" d=\"M2364.8235,-504.9465C2381.3321,-492.9403 2399.8412,-479.4791 2416.1802,-467.5962\"/>\n<polygon fill=\"#000000\" stroke=\"#000000\" points=\"2418.4758,-470.2545 2424.5045,-461.5422 2414.3585,-464.5933 2418.4758,-470.2545\"/>\n</g>\n<!-- 65 -->\n<g id=\"node94\" class=\"node\">\n<title>65</title>\n<path fill=\"#f4ccaf\" stroke=\"#000000\" d=\"M2226,-365C2226,-365 2118,-365 2118,-365 2112,-365 2106,-359 2106,-353 2106,-353 2106,-309 2106,-309 2106,-303 2112,-297 2118,-297 2118,-297 2226,-297 2226,-297 2232,-297 2238,-303 2238,-309 2238,-309 2238,-353 2238,-353 2238,-359 2232,-365 2226,-365\"/>\n<text text-anchor=\"middle\" x=\"2172\" y=\"-349.8\" font-family=\"Helvetica,sans-Serif\" font-size=\"14.00\" fill=\"#000000\">X[4] &lt;= 1.5</text>\n<text text-anchor=\"middle\" x=\"2172\" y=\"-334.8\" font-family=\"Helvetica,sans-Serif\" font-size=\"14.00\" fill=\"#000000\">entropy = 0.953</text>\n<text text-anchor=\"middle\" x=\"2172\" y=\"-319.8\" font-family=\"Helvetica,sans-Serif\" font-size=\"14.00\" fill=\"#000000\">samples = 381</text>\n<text text-anchor=\"middle\" x=\"2172\" y=\"-304.8\" font-family=\"Helvetica,sans-Serif\" font-size=\"14.00\" fill=\"#000000\">value = [239, 142]</text>\n</g>\n<!-- 53&#45;&gt;65 -->\n<g id=\"edge93\" class=\"edge\">\n<title>53&#45;&gt;65</title>\n<path fill=\"none\" stroke=\"#000000\" d=\"M2270.1941,-400.9465C2256.8334,-391.4293 2242.1893,-380.9978 2228.3826,-371.163\"/>\n<polygon fill=\"#000000\" stroke=\"#000000\" points=\"2230.0888,-368.0811 2219.9133,-365.13 2226.0275,-373.7826 2230.0888,-368.0811\"/>\n</g>\n<!-- 66 -->\n<g id=\"node101\" class=\"node\">\n<title>66</title>\n<path fill=\"#cde6f8\" stroke=\"#000000\" d=\"M2368,-357.5C2368,-357.5 2268,-357.5 2268,-357.5 2262,-357.5 2256,-351.5 2256,-345.5 2256,-345.5 2256,-316.5 2256,-316.5 2256,-310.5 2262,-304.5 2268,-304.5 2268,-304.5 2368,-304.5 2368,-304.5 2374,-304.5 2380,-310.5 2380,-316.5 2380,-316.5 2380,-345.5 2380,-345.5 2380,-351.5 2374,-357.5 2368,-357.5\"/>\n<text text-anchor=\"middle\" x=\"2318\" y=\"-342.3\" font-family=\"Helvetica,sans-Serif\" font-size=\"14.00\" fill=\"#000000\">entropy = 0.985</text>\n<text text-anchor=\"middle\" x=\"2318\" y=\"-327.3\" font-family=\"Helvetica,sans-Serif\" font-size=\"14.00\" fill=\"#000000\">samples = 187</text>\n<text text-anchor=\"middle\" x=\"2318\" y=\"-312.3\" font-family=\"Helvetica,sans-Serif\" font-size=\"14.00\" fill=\"#000000\">value = [80, 107]</text>\n</g>\n<!-- 53&#45;&gt;66 -->\n<g id=\"edge100\" class=\"edge\">\n<title>53&#45;&gt;66</title>\n<path fill=\"none\" stroke=\"#000000\" d=\"M2318,-400.9465C2318,-390.2621 2318,-378.4254 2318,-367.5742\"/>\n<polygon fill=\"#000000\" stroke=\"#000000\" points=\"2321.5001,-367.5421 2318,-357.5422 2314.5001,-367.5422 2321.5001,-367.5421\"/>\n</g>\n<!-- 67 -->\n<g id=\"node95\" class=\"node\">\n<title>67</title>\n<path fill=\"#f2f9fd\" stroke=\"#000000\" d=\"M2149,-253.5C2149,-253.5 2055,-253.5 2055,-253.5 2049,-253.5 2043,-247.5 2043,-241.5 2043,-241.5 2043,-212.5 2043,-212.5 2043,-206.5 2049,-200.5 2055,-200.5 2055,-200.5 2149,-200.5 2149,-200.5 2155,-200.5 2161,-206.5 2161,-212.5 2161,-212.5 2161,-241.5 2161,-241.5 2161,-247.5 2155,-253.5 2149,-253.5\"/>\n<text text-anchor=\"middle\" x=\"2102\" y=\"-238.3\" font-family=\"Helvetica,sans-Serif\" font-size=\"14.00\" fill=\"#000000\">entropy = 0.999</text>\n<text text-anchor=\"middle\" x=\"2102\" y=\"-223.3\" font-family=\"Helvetica,sans-Serif\" font-size=\"14.00\" fill=\"#000000\">samples = 153</text>\n<text text-anchor=\"middle\" x=\"2102\" y=\"-208.3\" font-family=\"Helvetica,sans-Serif\" font-size=\"14.00\" fill=\"#000000\">value = [74, 79]</text>\n</g>\n<!-- 65&#45;&gt;67 -->\n<g id=\"edge94\" class=\"edge\">\n<title>65&#45;&gt;67</title>\n<path fill=\"none\" stroke=\"#000000\" d=\"M2149.0794,-296.9465C2141.5172,-285.7113 2133.0976,-273.2021 2125.4933,-261.9043\"/>\n<polygon fill=\"#000000\" stroke=\"#000000\" points=\"2128.3523,-259.8837 2119.8649,-253.5422 2122.5452,-263.7924 2128.3523,-259.8837\"/>\n</g>\n<!-- 68 -->\n<g id=\"node96\" class=\"node\">\n<title>68</title>\n<path fill=\"#efb185\" stroke=\"#000000\" d=\"M2291,-261C2291,-261 2191,-261 2191,-261 2185,-261 2179,-255 2179,-249 2179,-249 2179,-205 2179,-205 2179,-199 2185,-193 2191,-193 2191,-193 2291,-193 2291,-193 2297,-193 2303,-199 2303,-205 2303,-205 2303,-249 2303,-249 2303,-255 2297,-261 2291,-261\"/>\n<text text-anchor=\"middle\" x=\"2241\" y=\"-245.8\" font-family=\"Helvetica,sans-Serif\" font-size=\"14.00\" fill=\"#000000\">X[15] &lt;= 0.5</text>\n<text text-anchor=\"middle\" x=\"2241\" y=\"-230.8\" font-family=\"Helvetica,sans-Serif\" font-size=\"14.00\" fill=\"#000000\">entropy = 0.85</text>\n<text text-anchor=\"middle\" x=\"2241\" y=\"-215.8\" font-family=\"Helvetica,sans-Serif\" font-size=\"14.00\" fill=\"#000000\">samples = 228</text>\n<text text-anchor=\"middle\" x=\"2241\" y=\"-200.8\" font-family=\"Helvetica,sans-Serif\" font-size=\"14.00\" fill=\"#000000\">value = [165, 63]</text>\n</g>\n<!-- 65&#45;&gt;68 -->\n<g id=\"edge95\" class=\"edge\">\n<title>65&#45;&gt;68</title>\n<path fill=\"none\" stroke=\"#000000\" d=\"M2194.5932,-296.9465C2200.3714,-288.2373 2206.6575,-278.7626 2212.6834,-269.6801\"/>\n<polygon fill=\"#000000\" stroke=\"#000000\" points=\"2215.744,-271.3978 2218.3561,-261.13 2209.911,-267.5278 2215.744,-271.3978\"/>\n</g>\n<!-- 73 -->\n<g id=\"node97\" class=\"node\">\n<title>73</title>\n<path fill=\"#f5ccaf\" stroke=\"#000000\" d=\"M2220,-149.5C2220,-149.5 2126,-149.5 2126,-149.5 2120,-149.5 2114,-143.5 2114,-137.5 2114,-137.5 2114,-108.5 2114,-108.5 2114,-102.5 2120,-96.5 2126,-96.5 2126,-96.5 2220,-96.5 2220,-96.5 2226,-96.5 2232,-102.5 2232,-108.5 2232,-108.5 2232,-137.5 2232,-137.5 2232,-143.5 2226,-149.5 2220,-149.5\"/>\n<text text-anchor=\"middle\" x=\"2173\" y=\"-134.3\" font-family=\"Helvetica,sans-Serif\" font-size=\"14.00\" fill=\"#000000\">entropy = 0.954</text>\n<text text-anchor=\"middle\" x=\"2173\" y=\"-119.3\" font-family=\"Helvetica,sans-Serif\" font-size=\"14.00\" fill=\"#000000\">samples = 139</text>\n<text text-anchor=\"middle\" x=\"2173\" y=\"-104.3\" font-family=\"Helvetica,sans-Serif\" font-size=\"14.00\" fill=\"#000000\">value = [87, 52]</text>\n</g>\n<!-- 68&#45;&gt;73 -->\n<g id=\"edge96\" class=\"edge\">\n<title>68&#45;&gt;73</title>\n<path fill=\"none\" stroke=\"#000000\" d=\"M2218.7343,-192.9465C2211.4602,-181.8215 2203.3694,-169.4473 2196.0396,-158.237\"/>\n<polygon fill=\"#000000\" stroke=\"#000000\" points=\"2198.7564,-155.9965 2190.3545,-149.5422 2192.8976,-159.8273 2198.7564,-155.9965\"/>\n</g>\n<!-- 74 -->\n<g id=\"node98\" class=\"node\">\n<title>74</title>\n<path fill=\"#e99355\" stroke=\"#000000\" d=\"M2354,-157C2354,-157 2262,-157 2262,-157 2256,-157 2250,-151 2250,-145 2250,-145 2250,-101 2250,-101 2250,-95 2256,-89 2262,-89 2262,-89 2354,-89 2354,-89 2360,-89 2366,-95 2366,-101 2366,-101 2366,-145 2366,-145 2366,-151 2360,-157 2354,-157\"/>\n<text text-anchor=\"middle\" x=\"2308\" y=\"-141.8\" font-family=\"Helvetica,sans-Serif\" font-size=\"14.00\" fill=\"#000000\">X[0] &lt;= 59.5</text>\n<text text-anchor=\"middle\" x=\"2308\" y=\"-126.8\" font-family=\"Helvetica,sans-Serif\" font-size=\"14.00\" fill=\"#000000\">entropy = 0.54</text>\n<text text-anchor=\"middle\" x=\"2308\" y=\"-111.8\" font-family=\"Helvetica,sans-Serif\" font-size=\"14.00\" fill=\"#000000\">samples = 89</text>\n<text text-anchor=\"middle\" x=\"2308\" y=\"-96.8\" font-family=\"Helvetica,sans-Serif\" font-size=\"14.00\" fill=\"#000000\">value = [78, 11]</text>\n</g>\n<!-- 68&#45;&gt;74 -->\n<g id=\"edge97\" class=\"edge\">\n<title>68&#45;&gt;74</title>\n<path fill=\"none\" stroke=\"#000000\" d=\"M2262.9383,-192.9465C2268.549,-184.2373 2274.6529,-174.7626 2280.5042,-165.6801\"/>\n<polygon fill=\"#000000\" stroke=\"#000000\" points=\"2283.5389,-167.4321 2286.0124,-157.13 2277.6543,-163.641 2283.5389,-167.4321\"/>\n</g>\n<!-- 115 -->\n<g id=\"node99\" class=\"node\">\n<title>115</title>\n<path fill=\"#e88e4d\" stroke=\"#000000\" d=\"M2291,-53C2291,-53 2197,-53 2197,-53 2191,-53 2185,-47 2185,-41 2185,-41 2185,-12 2185,-12 2185,-6 2191,0 2197,0 2197,0 2291,0 2291,0 2297,0 2303,-6 2303,-12 2303,-12 2303,-41 2303,-41 2303,-47 2297,-53 2291,-53\"/>\n<text text-anchor=\"middle\" x=\"2244\" y=\"-37.8\" font-family=\"Helvetica,sans-Serif\" font-size=\"14.00\" fill=\"#000000\">entropy = 0.446</text>\n<text text-anchor=\"middle\" x=\"2244\" y=\"-22.8\" font-family=\"Helvetica,sans-Serif\" font-size=\"14.00\" fill=\"#000000\">samples = 86</text>\n<text text-anchor=\"middle\" x=\"2244\" y=\"-7.8\" font-family=\"Helvetica,sans-Serif\" font-size=\"14.00\" fill=\"#000000\">value = [78, 8]</text>\n</g>\n<!-- 74&#45;&gt;115 -->\n<g id=\"edge98\" class=\"edge\">\n<title>74&#45;&gt;115</title>\n<path fill=\"none\" stroke=\"#000000\" d=\"M2285.436,-88.9777C2279.6059,-80.187 2273.3169,-70.7044 2267.443,-61.8477\"/>\n<polygon fill=\"#000000\" stroke=\"#000000\" points=\"2270.1838,-59.6478 2261.7399,-53.2485 2264.3502,-63.5167 2270.1838,-59.6478\"/>\n</g>\n<!-- 116 -->\n<g id=\"node100\" class=\"node\">\n<title>116</title>\n<path fill=\"#399de5\" stroke=\"#000000\" d=\"M2410.5,-53C2410.5,-53 2333.5,-53 2333.5,-53 2327.5,-53 2321.5,-47 2321.5,-41 2321.5,-41 2321.5,-12 2321.5,-12 2321.5,-6 2327.5,0 2333.5,0 2333.5,0 2410.5,0 2410.5,0 2416.5,0 2422.5,-6 2422.5,-12 2422.5,-12 2422.5,-41 2422.5,-41 2422.5,-47 2416.5,-53 2410.5,-53\"/>\n<text text-anchor=\"middle\" x=\"2372\" y=\"-37.8\" font-family=\"Helvetica,sans-Serif\" font-size=\"14.00\" fill=\"#000000\">entropy = 0.0</text>\n<text text-anchor=\"middle\" x=\"2372\" y=\"-22.8\" font-family=\"Helvetica,sans-Serif\" font-size=\"14.00\" fill=\"#000000\">samples = 3</text>\n<text text-anchor=\"middle\" x=\"2372\" y=\"-7.8\" font-family=\"Helvetica,sans-Serif\" font-size=\"14.00\" fill=\"#000000\">value = [0, 3]</text>\n</g>\n<!-- 74&#45;&gt;116 -->\n<g id=\"edge99\" class=\"edge\">\n<title>74&#45;&gt;116</title>\n<path fill=\"none\" stroke=\"#000000\" d=\"M2330.564,-88.9777C2336.3941,-80.187 2342.6831,-70.7044 2348.557,-61.8477\"/>\n<polygon fill=\"#000000\" stroke=\"#000000\" points=\"2351.6498,-63.5167 2354.2601,-53.2485 2345.8162,-59.6478 2351.6498,-63.5167\"/>\n</g>\n<!-- 93 -->\n<g id=\"node104\" class=\"node\">\n<title>93</title>\n<path fill=\"#3ea0e6\" stroke=\"#000000\" d=\"M2364,-669.5C2364,-669.5 2270,-669.5 2270,-669.5 2264,-669.5 2258,-663.5 2258,-657.5 2258,-657.5 2258,-628.5 2258,-628.5 2258,-622.5 2264,-616.5 2270,-616.5 2270,-616.5 2364,-616.5 2364,-616.5 2370,-616.5 2376,-622.5 2376,-628.5 2376,-628.5 2376,-657.5 2376,-657.5 2376,-663.5 2370,-669.5 2364,-669.5\"/>\n<text text-anchor=\"middle\" x=\"2317\" y=\"-654.3\" font-family=\"Helvetica,sans-Serif\" font-size=\"14.00\" fill=\"#000000\">entropy = 0.174</text>\n<text text-anchor=\"middle\" x=\"2317\" y=\"-639.3\" font-family=\"Helvetica,sans-Serif\" font-size=\"14.00\" fill=\"#000000\">samples = 77</text>\n<text text-anchor=\"middle\" x=\"2317\" y=\"-624.3\" font-family=\"Helvetica,sans-Serif\" font-size=\"14.00\" fill=\"#000000\">value = [2, 75]</text>\n</g>\n<!-- 28&#45;&gt;93 -->\n<g id=\"edge103\" class=\"edge\">\n<title>28&#45;&gt;93</title>\n<path fill=\"none\" stroke=\"#000000\" d=\"M2317,-712.9465C2317,-702.2621 2317,-690.4254 2317,-679.5742\"/>\n<polygon fill=\"#000000\" stroke=\"#000000\" points=\"2320.5001,-679.5421 2317,-669.5422 2313.5001,-679.5422 2320.5001,-679.5421\"/>\n</g>\n<!-- 94 -->\n<g id=\"node105\" class=\"node\">\n<title>94</title>\n<path fill=\"#96cbf1\" stroke=\"#000000\" d=\"M2500,-669.5C2500,-669.5 2406,-669.5 2406,-669.5 2400,-669.5 2394,-663.5 2394,-657.5 2394,-657.5 2394,-628.5 2394,-628.5 2394,-622.5 2400,-616.5 2406,-616.5 2406,-616.5 2500,-616.5 2500,-616.5 2506,-616.5 2512,-622.5 2512,-628.5 2512,-628.5 2512,-657.5 2512,-657.5 2512,-663.5 2506,-669.5 2500,-669.5\"/>\n<text text-anchor=\"middle\" x=\"2453\" y=\"-654.3\" font-family=\"Helvetica,sans-Serif\" font-size=\"14.00\" fill=\"#000000\">entropy = 0.904</text>\n<text text-anchor=\"middle\" x=\"2453\" y=\"-639.3\" font-family=\"Helvetica,sans-Serif\" font-size=\"14.00\" fill=\"#000000\">samples = 25</text>\n<text text-anchor=\"middle\" x=\"2453\" y=\"-624.3\" font-family=\"Helvetica,sans-Serif\" font-size=\"14.00\" fill=\"#000000\">value = [8, 17]</text>\n</g>\n<!-- 28&#45;&gt;94 -->\n<g id=\"edge104\" class=\"edge\">\n<title>28&#45;&gt;94</title>\n<path fill=\"none\" stroke=\"#000000\" d=\"M2361.5315,-712.9465C2377.0879,-701.0504 2394.5121,-687.726 2409.9459,-675.9237\"/>\n<polygon fill=\"#000000\" stroke=\"#000000\" points=\"2412.4735,-678.397 2418.291,-669.5422 2408.2213,-672.8364 2412.4735,-678.397\"/>\n</g>\n<!-- 17 -->\n<g id=\"node108\" class=\"node\">\n<title>17</title>\n<path fill=\"#f3c6a5\" stroke=\"#000000\" d=\"M2672,-989C2672,-989 2564,-989 2564,-989 2558,-989 2552,-983 2552,-977 2552,-977 2552,-933 2552,-933 2552,-927 2558,-921 2564,-921 2564,-921 2672,-921 2672,-921 2678,-921 2684,-927 2684,-933 2684,-933 2684,-977 2684,-977 2684,-983 2678,-989 2672,-989\"/>\n<text text-anchor=\"middle\" x=\"2618\" y=\"-973.8\" font-family=\"Helvetica,sans-Serif\" font-size=\"14.00\" fill=\"#000000\">X[5] &lt;= 345.5</text>\n<text text-anchor=\"middle\" x=\"2618\" y=\"-958.8\" font-family=\"Helvetica,sans-Serif\" font-size=\"14.00\" fill=\"#000000\">entropy = 0.937</text>\n<text text-anchor=\"middle\" x=\"2618\" y=\"-943.8\" font-family=\"Helvetica,sans-Serif\" font-size=\"14.00\" fill=\"#000000\">samples = 633</text>\n<text text-anchor=\"middle\" x=\"2618\" y=\"-928.8\" font-family=\"Helvetica,sans-Serif\" font-size=\"14.00\" fill=\"#000000\">value = [409, 224]</text>\n</g>\n<!-- 8&#45;&gt;17 -->\n<g id=\"edge107\" class=\"edge\">\n<title>8&#45;&gt;17</title>\n<path fill=\"none\" stroke=\"#000000\" d=\"M2618,-1024.9465C2618,-1016.776 2618,-1007.9318 2618,-999.3697\"/>\n<polygon fill=\"#000000\" stroke=\"#000000\" points=\"2621.5001,-999.13 2618,-989.13 2614.5001,-999.13 2621.5001,-999.13\"/>\n</g>\n<!-- 18 -->\n<g id=\"node125\" class=\"node\">\n<title>18</title>\n<path fill=\"#e99355\" stroke=\"#000000\" d=\"M2882,-989C2882,-989 2782,-989 2782,-989 2776,-989 2770,-983 2770,-977 2770,-977 2770,-933 2770,-933 2770,-927 2776,-921 2782,-921 2782,-921 2882,-921 2882,-921 2888,-921 2894,-927 2894,-933 2894,-933 2894,-977 2894,-977 2894,-983 2888,-989 2882,-989\"/>\n<text text-anchor=\"middle\" x=\"2832\" y=\"-973.8\" font-family=\"Helvetica,sans-Serif\" font-size=\"14.00\" fill=\"#000000\">X[3] &lt;= 386.5</text>\n<text text-anchor=\"middle\" x=\"2832\" y=\"-958.8\" font-family=\"Helvetica,sans-Serif\" font-size=\"14.00\" fill=\"#000000\">entropy = 0.542</text>\n<text text-anchor=\"middle\" x=\"2832\" y=\"-943.8\" font-family=\"Helvetica,sans-Serif\" font-size=\"14.00\" fill=\"#000000\">samples = 562</text>\n<text text-anchor=\"middle\" x=\"2832\" y=\"-928.8\" font-family=\"Helvetica,sans-Serif\" font-size=\"14.00\" fill=\"#000000\">value = [492, 70]</text>\n</g>\n<!-- 8&#45;&gt;18 -->\n<g id=\"edge124\" class=\"edge\">\n<title>8&#45;&gt;18</title>\n<path fill=\"none\" stroke=\"#000000\" d=\"M2684.2454,-1026.806C2708.4095,-1015.0627 2735.8339,-1001.7349 2760.4397,-989.777\"/>\n<polygon fill=\"#000000\" stroke=\"#000000\" points=\"2762.2551,-992.7862 2769.7193,-985.2672 2759.1953,-986.4903 2762.2551,-992.7862\"/>\n</g>\n<!-- 35 -->\n<g id=\"node109\" class=\"node\">\n<title>35</title>\n<path fill=\"#f2be99\" stroke=\"#000000\" d=\"M2648,-885C2648,-885 2540,-885 2540,-885 2534,-885 2528,-879 2528,-873 2528,-873 2528,-829 2528,-829 2528,-823 2534,-817 2540,-817 2540,-817 2648,-817 2648,-817 2654,-817 2660,-823 2660,-829 2660,-829 2660,-873 2660,-873 2660,-879 2654,-885 2648,-885\"/>\n<text text-anchor=\"middle\" x=\"2594\" y=\"-869.8\" font-family=\"Helvetica,sans-Serif\" font-size=\"14.00\" fill=\"#000000\">X[21] &lt;= 0.5</text>\n<text text-anchor=\"middle\" x=\"2594\" y=\"-854.8\" font-family=\"Helvetica,sans-Serif\" font-size=\"14.00\" fill=\"#000000\">entropy = 0.911</text>\n<text text-anchor=\"middle\" x=\"2594\" y=\"-839.8\" font-family=\"Helvetica,sans-Serif\" font-size=\"14.00\" fill=\"#000000\">samples = 604</text>\n<text text-anchor=\"middle\" x=\"2594\" y=\"-824.8\" font-family=\"Helvetica,sans-Serif\" font-size=\"14.00\" fill=\"#000000\">value = [407, 197]</text>\n</g>\n<!-- 17&#45;&gt;35 -->\n<g id=\"edge108\" class=\"edge\">\n<title>17&#45;&gt;35</title>\n<path fill=\"none\" stroke=\"#000000\" d=\"M2610.1415,-920.9465C2608.2353,-912.6863 2606.1702,-903.7374 2604.174,-895.0875\"/>\n<polygon fill=\"#000000\" stroke=\"#000000\" points=\"2607.5352,-894.0869 2601.8762,-885.13 2600.7145,-895.6609 2607.5352,-894.0869\"/>\n</g>\n<!-- 36 -->\n<g id=\"node124\" class=\"node\">\n<title>36</title>\n<path fill=\"#48a4e7\" stroke=\"#000000\" d=\"M2784,-877.5C2784,-877.5 2690,-877.5 2690,-877.5 2684,-877.5 2678,-871.5 2678,-865.5 2678,-865.5 2678,-836.5 2678,-836.5 2678,-830.5 2684,-824.5 2690,-824.5 2690,-824.5 2784,-824.5 2784,-824.5 2790,-824.5 2796,-830.5 2796,-836.5 2796,-836.5 2796,-865.5 2796,-865.5 2796,-871.5 2790,-877.5 2784,-877.5\"/>\n<text text-anchor=\"middle\" x=\"2737\" y=\"-862.3\" font-family=\"Helvetica,sans-Serif\" font-size=\"14.00\" fill=\"#000000\">entropy = 0.362</text>\n<text text-anchor=\"middle\" x=\"2737\" y=\"-847.3\" font-family=\"Helvetica,sans-Serif\" font-size=\"14.00\" fill=\"#000000\">samples = 29</text>\n<text text-anchor=\"middle\" x=\"2737\" y=\"-832.3\" font-family=\"Helvetica,sans-Serif\" font-size=\"14.00\" fill=\"#000000\">value = [2, 27]</text>\n</g>\n<!-- 17&#45;&gt;36 -->\n<g id=\"edge123\" class=\"edge\">\n<title>17&#45;&gt;36</title>\n<path fill=\"none\" stroke=\"#000000\" d=\"M2656.9651,-920.9465C2670.4509,-909.1606 2685.5409,-895.9726 2698.9521,-884.2519\"/>\n<polygon fill=\"#000000\" stroke=\"#000000\" points=\"2701.4031,-886.7582 2706.6296,-877.5422 2696.7967,-881.4874 2701.4031,-886.7582\"/>\n</g>\n<!-- 37 -->\n<g id=\"node110\" class=\"node\">\n<title>37</title>\n<path fill=\"#f0b890\" stroke=\"#000000\" d=\"M2650,-781C2650,-781 2542,-781 2542,-781 2536,-781 2530,-775 2530,-769 2530,-769 2530,-725 2530,-725 2530,-719 2536,-713 2542,-713 2542,-713 2650,-713 2650,-713 2656,-713 2662,-719 2662,-725 2662,-725 2662,-769 2662,-769 2662,-775 2656,-781 2650,-781\"/>\n<text text-anchor=\"middle\" x=\"2596\" y=\"-765.8\" font-family=\"Helvetica,sans-Serif\" font-size=\"14.00\" fill=\"#000000\">X[25] &lt;= 0.5</text>\n<text text-anchor=\"middle\" x=\"2596\" y=\"-750.8\" font-family=\"Helvetica,sans-Serif\" font-size=\"14.00\" fill=\"#000000\">entropy = 0.886</text>\n<text text-anchor=\"middle\" x=\"2596\" y=\"-735.8\" font-family=\"Helvetica,sans-Serif\" font-size=\"14.00\" fill=\"#000000\">samples = 585</text>\n<text text-anchor=\"middle\" x=\"2596\" y=\"-720.8\" font-family=\"Helvetica,sans-Serif\" font-size=\"14.00\" fill=\"#000000\">value = [407, 178]</text>\n</g>\n<!-- 35&#45;&gt;37 -->\n<g id=\"edge109\" class=\"edge\">\n<title>35&#45;&gt;37</title>\n<path fill=\"none\" stroke=\"#000000\" d=\"M2594.6549,-816.9465C2594.812,-808.776 2594.9821,-799.9318 2595.1467,-791.3697\"/>\n<polygon fill=\"#000000\" stroke=\"#000000\" points=\"2598.6506,-791.1955 2595.3437,-781.13 2591.6519,-791.0608 2598.6506,-791.1955\"/>\n</g>\n<!-- 38 -->\n<g id=\"node123\" class=\"node\">\n<title>38</title>\n<path fill=\"#399de5\" stroke=\"#000000\" d=\"M2775.5,-773.5C2775.5,-773.5 2692.5,-773.5 2692.5,-773.5 2686.5,-773.5 2680.5,-767.5 2680.5,-761.5 2680.5,-761.5 2680.5,-732.5 2680.5,-732.5 2680.5,-726.5 2686.5,-720.5 2692.5,-720.5 2692.5,-720.5 2775.5,-720.5 2775.5,-720.5 2781.5,-720.5 2787.5,-726.5 2787.5,-732.5 2787.5,-732.5 2787.5,-761.5 2787.5,-761.5 2787.5,-767.5 2781.5,-773.5 2775.5,-773.5\"/>\n<text text-anchor=\"middle\" x=\"2734\" y=\"-758.3\" font-family=\"Helvetica,sans-Serif\" font-size=\"14.00\" fill=\"#000000\">entropy = 0.0</text>\n<text text-anchor=\"middle\" x=\"2734\" y=\"-743.3\" font-family=\"Helvetica,sans-Serif\" font-size=\"14.00\" fill=\"#000000\">samples = 19</text>\n<text text-anchor=\"middle\" x=\"2734\" y=\"-728.3\" font-family=\"Helvetica,sans-Serif\" font-size=\"14.00\" fill=\"#000000\">value = [0, 19]</text>\n</g>\n<!-- 35&#45;&gt;38 -->\n<g id=\"edge122\" class=\"edge\">\n<title>35&#45;&gt;38</title>\n<path fill=\"none\" stroke=\"#000000\" d=\"M2639.8412,-816.9465C2656.0035,-804.9403 2674.1242,-791.4791 2690.1205,-779.5962\"/>\n<polygon fill=\"#000000\" stroke=\"#000000\" points=\"2692.3299,-782.3151 2698.2702,-773.5422 2688.1556,-776.6958 2692.3299,-782.3151\"/>\n</g>\n<!-- 39 -->\n<g id=\"node111\" class=\"node\">\n<title>39</title>\n<path fill=\"#efb488\" stroke=\"#000000\" d=\"M2651,-677C2651,-677 2543,-677 2543,-677 2537,-677 2531,-671 2531,-665 2531,-665 2531,-621 2531,-621 2531,-615 2537,-609 2543,-609 2543,-609 2651,-609 2651,-609 2657,-609 2663,-615 2663,-621 2663,-621 2663,-665 2663,-665 2663,-671 2657,-677 2651,-677\"/>\n<text text-anchor=\"middle\" x=\"2597\" y=\"-661.8\" font-family=\"Helvetica,sans-Serif\" font-size=\"14.00\" fill=\"#000000\">X[3] &lt;= 400.5</text>\n<text text-anchor=\"middle\" x=\"2597\" y=\"-646.8\" font-family=\"Helvetica,sans-Serif\" font-size=\"14.00\" fill=\"#000000\">entropy = 0.864</text>\n<text text-anchor=\"middle\" x=\"2597\" y=\"-631.8\" font-family=\"Helvetica,sans-Serif\" font-size=\"14.00\" fill=\"#000000\">samples = 569</text>\n<text text-anchor=\"middle\" x=\"2597\" y=\"-616.8\" font-family=\"Helvetica,sans-Serif\" font-size=\"14.00\" fill=\"#000000\">value = [406, 163]</text>\n</g>\n<!-- 37&#45;&gt;39 -->\n<g id=\"edge110\" class=\"edge\">\n<title>37&#45;&gt;39</title>\n<path fill=\"none\" stroke=\"#000000\" d=\"M2596.3274,-712.9465C2596.406,-704.776 2596.491,-695.9318 2596.5734,-687.3697\"/>\n<polygon fill=\"#000000\" stroke=\"#000000\" points=\"2600.0754,-687.1632 2596.6718,-677.13 2593.0757,-687.0958 2600.0754,-687.1632\"/>\n</g>\n<!-- 40 -->\n<g id=\"node122\" class=\"node\">\n<title>40</title>\n<path fill=\"#46a4e7\" stroke=\"#000000\" d=\"M2787,-669.5C2787,-669.5 2693,-669.5 2693,-669.5 2687,-669.5 2681,-663.5 2681,-657.5 2681,-657.5 2681,-628.5 2681,-628.5 2681,-622.5 2687,-616.5 2693,-616.5 2693,-616.5 2787,-616.5 2787,-616.5 2793,-616.5 2799,-622.5 2799,-628.5 2799,-628.5 2799,-657.5 2799,-657.5 2799,-663.5 2793,-669.5 2787,-669.5\"/>\n<text text-anchor=\"middle\" x=\"2740\" y=\"-654.3\" font-family=\"Helvetica,sans-Serif\" font-size=\"14.00\" fill=\"#000000\">entropy = 0.337</text>\n<text text-anchor=\"middle\" x=\"2740\" y=\"-639.3\" font-family=\"Helvetica,sans-Serif\" font-size=\"14.00\" fill=\"#000000\">samples = 16</text>\n<text text-anchor=\"middle\" x=\"2740\" y=\"-624.3\" font-family=\"Helvetica,sans-Serif\" font-size=\"14.00\" fill=\"#000000\">value = [1, 15]</text>\n</g>\n<!-- 37&#45;&gt;40 -->\n<g id=\"edge121\" class=\"edge\">\n<title>37&#45;&gt;40</title>\n<path fill=\"none\" stroke=\"#000000\" d=\"M2643.151,-712.9465C2659.775,-700.9403 2678.4135,-687.4791 2694.8667,-675.5962\"/>\n<polygon fill=\"#000000\" stroke=\"#000000\" points=\"2697.1917,-678.2345 2703.2493,-669.5422 2693.0933,-672.5597 2697.1917,-678.2345\"/>\n</g>\n<!-- 79 -->\n<g id=\"node112\" class=\"node\">\n<title>79</title>\n<path fill=\"#eeac7d\" stroke=\"#000000\" d=\"M2652,-573C2652,-573 2544,-573 2544,-573 2538,-573 2532,-567 2532,-561 2532,-561 2532,-517 2532,-517 2532,-511 2538,-505 2544,-505 2544,-505 2652,-505 2652,-505 2658,-505 2664,-511 2664,-517 2664,-517 2664,-561 2664,-561 2664,-567 2658,-573 2652,-573\"/>\n<text text-anchor=\"middle\" x=\"2598\" y=\"-557.8\" font-family=\"Helvetica,sans-Serif\" font-size=\"14.00\" fill=\"#000000\">X[1] &lt;= 1132.0</text>\n<text text-anchor=\"middle\" x=\"2598\" y=\"-542.8\" font-family=\"Helvetica,sans-Serif\" font-size=\"14.00\" fill=\"#000000\">entropy = 0.821</text>\n<text text-anchor=\"middle\" x=\"2598\" y=\"-527.8\" font-family=\"Helvetica,sans-Serif\" font-size=\"14.00\" fill=\"#000000\">samples = 503</text>\n<text text-anchor=\"middle\" x=\"2598\" y=\"-512.8\" font-family=\"Helvetica,sans-Serif\" font-size=\"14.00\" fill=\"#000000\">value = [374, 129]</text>\n</g>\n<!-- 39&#45;&gt;79 -->\n<g id=\"edge111\" class=\"edge\">\n<title>39&#45;&gt;79</title>\n<path fill=\"none\" stroke=\"#000000\" d=\"M2597.3274,-608.9465C2597.406,-600.776 2597.491,-591.9318 2597.5734,-583.3697\"/>\n<polygon fill=\"#000000\" stroke=\"#000000\" points=\"2601.0754,-583.1632 2597.6718,-573.13 2594.0757,-583.0958 2601.0754,-583.1632\"/>\n</g>\n<!-- 80 -->\n<g id=\"node121\" class=\"node\">\n<title>80</title>\n<path fill=\"#f3f9fd\" stroke=\"#000000\" d=\"M2788,-565.5C2788,-565.5 2694,-565.5 2694,-565.5 2688,-565.5 2682,-559.5 2682,-553.5 2682,-553.5 2682,-524.5 2682,-524.5 2682,-518.5 2688,-512.5 2694,-512.5 2694,-512.5 2788,-512.5 2788,-512.5 2794,-512.5 2800,-518.5 2800,-524.5 2800,-524.5 2800,-553.5 2800,-553.5 2800,-559.5 2794,-565.5 2788,-565.5\"/>\n<text text-anchor=\"middle\" x=\"2741\" y=\"-550.3\" font-family=\"Helvetica,sans-Serif\" font-size=\"14.00\" fill=\"#000000\">entropy = 0.999</text>\n<text text-anchor=\"middle\" x=\"2741\" y=\"-535.3\" font-family=\"Helvetica,sans-Serif\" font-size=\"14.00\" fill=\"#000000\">samples = 66</text>\n<text text-anchor=\"middle\" x=\"2741\" y=\"-520.3\" font-family=\"Helvetica,sans-Serif\" font-size=\"14.00\" fill=\"#000000\">value = [32, 34]</text>\n</g>\n<!-- 39&#45;&gt;80 -->\n<g id=\"edge120\" class=\"edge\">\n<title>39&#45;&gt;80</title>\n<path fill=\"none\" stroke=\"#000000\" d=\"M2644.151,-608.9465C2660.775,-596.9403 2679.4135,-583.4791 2695.8667,-571.5962\"/>\n<polygon fill=\"#000000\" stroke=\"#000000\" points=\"2698.1917,-574.2345 2704.2493,-565.5422 2694.0933,-568.5597 2698.1917,-574.2345\"/>\n</g>\n<!-- 81 -->\n<g id=\"node113\" class=\"node\">\n<title>81</title>\n<path fill=\"#eba06a\" stroke=\"#000000\" d=\"M2650,-469C2650,-469 2550,-469 2550,-469 2544,-469 2538,-463 2538,-457 2538,-457 2538,-413 2538,-413 2538,-407 2544,-401 2550,-401 2550,-401 2650,-401 2650,-401 2656,-401 2662,-407 2662,-413 2662,-413 2662,-457 2662,-457 2662,-463 2656,-469 2650,-469\"/>\n<text text-anchor=\"middle\" x=\"2600\" y=\"-453.8\" font-family=\"Helvetica,sans-Serif\" font-size=\"14.00\" fill=\"#000000\">X[34] &lt;= 0.5</text>\n<text text-anchor=\"middle\" x=\"2600\" y=\"-438.8\" font-family=\"Helvetica,sans-Serif\" font-size=\"14.00\" fill=\"#000000\">entropy = 0.72</text>\n<text text-anchor=\"middle\" x=\"2600\" y=\"-423.8\" font-family=\"Helvetica,sans-Serif\" font-size=\"14.00\" fill=\"#000000\">samples = 347</text>\n<text text-anchor=\"middle\" x=\"2600\" y=\"-408.8\" font-family=\"Helvetica,sans-Serif\" font-size=\"14.00\" fill=\"#000000\">value = [278, 69]</text>\n</g>\n<!-- 79&#45;&gt;81 -->\n<g id=\"edge112\" class=\"edge\">\n<title>79&#45;&gt;81</title>\n<path fill=\"none\" stroke=\"#000000\" d=\"M2598.6549,-504.9465C2598.812,-496.776 2598.9821,-487.9318 2599.1467,-479.3697\"/>\n<polygon fill=\"#000000\" stroke=\"#000000\" points=\"2602.6506,-479.1955 2599.3437,-469.13 2595.6519,-479.0608 2602.6506,-479.1955\"/>\n</g>\n<!-- 82 -->\n<g id=\"node116\" class=\"node\">\n<title>82</title>\n<path fill=\"#f5d0b5\" stroke=\"#000000\" d=\"M2786,-469C2786,-469 2692,-469 2692,-469 2686,-469 2680,-463 2680,-457 2680,-457 2680,-413 2680,-413 2680,-407 2686,-401 2692,-401 2692,-401 2786,-401 2786,-401 2792,-401 2798,-407 2798,-413 2798,-413 2798,-457 2798,-457 2798,-463 2792,-469 2786,-469\"/>\n<text text-anchor=\"middle\" x=\"2739\" y=\"-453.8\" font-family=\"Helvetica,sans-Serif\" font-size=\"14.00\" fill=\"#000000\">X[17] &lt;= 0.5</text>\n<text text-anchor=\"middle\" x=\"2739\" y=\"-438.8\" font-family=\"Helvetica,sans-Serif\" font-size=\"14.00\" fill=\"#000000\">entropy = 0.961</text>\n<text text-anchor=\"middle\" x=\"2739\" y=\"-423.8\" font-family=\"Helvetica,sans-Serif\" font-size=\"14.00\" fill=\"#000000\">samples = 156</text>\n<text text-anchor=\"middle\" x=\"2739\" y=\"-408.8\" font-family=\"Helvetica,sans-Serif\" font-size=\"14.00\" fill=\"#000000\">value = [96, 60]</text>\n</g>\n<!-- 79&#45;&gt;82 -->\n<g id=\"edge115\" class=\"edge\">\n<title>79&#45;&gt;82</title>\n<path fill=\"none\" stroke=\"#000000\" d=\"M2644.1687,-504.9465C2657.0719,-495.4293 2671.2145,-484.9978 2684.5483,-475.163\"/>\n<polygon fill=\"#000000\" stroke=\"#000000\" points=\"2686.7575,-477.8826 2692.7276,-469.13 2682.6023,-472.2492 2686.7575,-477.8826\"/>\n</g>\n<!-- 95 -->\n<g id=\"node114\" class=\"node\">\n<title>95</title>\n<path fill=\"#e99558\" stroke=\"#000000\" d=\"M2512,-357.5C2512,-357.5 2412,-357.5 2412,-357.5 2406,-357.5 2400,-351.5 2400,-345.5 2400,-345.5 2400,-316.5 2400,-316.5 2400,-310.5 2406,-304.5 2412,-304.5 2412,-304.5 2512,-304.5 2512,-304.5 2518,-304.5 2524,-310.5 2524,-316.5 2524,-316.5 2524,-345.5 2524,-345.5 2524,-351.5 2518,-357.5 2512,-357.5\"/>\n<text text-anchor=\"middle\" x=\"2462\" y=\"-342.3\" font-family=\"Helvetica,sans-Serif\" font-size=\"14.00\" fill=\"#000000\">entropy = 0.577</text>\n<text text-anchor=\"middle\" x=\"2462\" y=\"-327.3\" font-family=\"Helvetica,sans-Serif\" font-size=\"14.00\" fill=\"#000000\">samples = 226</text>\n<text text-anchor=\"middle\" x=\"2462\" y=\"-312.3\" font-family=\"Helvetica,sans-Serif\" font-size=\"14.00\" fill=\"#000000\">value = [195, 31]</text>\n</g>\n<!-- 81&#45;&gt;95 -->\n<g id=\"edge113\" class=\"edge\">\n<title>81&#45;&gt;95</title>\n<path fill=\"none\" stroke=\"#000000\" d=\"M2554.8136,-400.9465C2538.8823,-388.9403 2521.0204,-375.4791 2505.2527,-363.5962\"/>\n<polygon fill=\"#000000\" stroke=\"#000000\" points=\"2507.312,-360.7656 2497.2194,-357.5422 2503.099,-366.3558 2507.312,-360.7656\"/>\n</g>\n<!-- 96 -->\n<g id=\"node115\" class=\"node\">\n<title>96</title>\n<path fill=\"#f1bb94\" stroke=\"#000000\" d=\"M2648,-357.5C2648,-357.5 2554,-357.5 2554,-357.5 2548,-357.5 2542,-351.5 2542,-345.5 2542,-345.5 2542,-316.5 2542,-316.5 2542,-310.5 2548,-304.5 2554,-304.5 2554,-304.5 2648,-304.5 2648,-304.5 2654,-304.5 2660,-310.5 2660,-316.5 2660,-316.5 2660,-345.5 2660,-345.5 2660,-351.5 2654,-357.5 2648,-357.5\"/>\n<text text-anchor=\"middle\" x=\"2601\" y=\"-342.3\" font-family=\"Helvetica,sans-Serif\" font-size=\"14.00\" fill=\"#000000\">entropy = 0.898</text>\n<text text-anchor=\"middle\" x=\"2601\" y=\"-327.3\" font-family=\"Helvetica,sans-Serif\" font-size=\"14.00\" fill=\"#000000\">samples = 121</text>\n<text text-anchor=\"middle\" x=\"2601\" y=\"-312.3\" font-family=\"Helvetica,sans-Serif\" font-size=\"14.00\" fill=\"#000000\">value = [83, 38]</text>\n</g>\n<!-- 81&#45;&gt;96 -->\n<g id=\"edge114\" class=\"edge\">\n<title>81&#45;&gt;96</title>\n<path fill=\"none\" stroke=\"#000000\" d=\"M2600.3274,-400.9465C2600.4302,-390.2621 2600.544,-378.4254 2600.6483,-367.5742\"/>\n<polygon fill=\"#000000\" stroke=\"#000000\" points=\"2604.1484,-367.5754 2600.7448,-357.5422 2597.1487,-367.508 2604.1484,-367.5754\"/>\n</g>\n<!-- 89 -->\n<g id=\"node117\" class=\"node\">\n<title>89</title>\n<path fill=\"#f2c09c\" stroke=\"#000000\" d=\"M2785,-365C2785,-365 2691,-365 2691,-365 2685,-365 2679,-359 2679,-353 2679,-353 2679,-309 2679,-309 2679,-303 2685,-297 2691,-297 2691,-297 2785,-297 2785,-297 2791,-297 2797,-303 2797,-309 2797,-309 2797,-353 2797,-353 2797,-359 2791,-365 2785,-365\"/>\n<text text-anchor=\"middle\" x=\"2738\" y=\"-349.8\" font-family=\"Helvetica,sans-Serif\" font-size=\"14.00\" fill=\"#000000\">X[6] &lt;= 6.0</text>\n<text text-anchor=\"middle\" x=\"2738\" y=\"-334.8\" font-family=\"Helvetica,sans-Serif\" font-size=\"14.00\" fill=\"#000000\">entropy = 0.918</text>\n<text text-anchor=\"middle\" x=\"2738\" y=\"-319.8\" font-family=\"Helvetica,sans-Serif\" font-size=\"14.00\" fill=\"#000000\">samples = 141</text>\n<text text-anchor=\"middle\" x=\"2738\" y=\"-304.8\" font-family=\"Helvetica,sans-Serif\" font-size=\"14.00\" fill=\"#000000\">value = [94, 47]</text>\n</g>\n<!-- 82&#45;&gt;89 -->\n<g id=\"edge116\" class=\"edge\">\n<title>82&#45;&gt;89</title>\n<path fill=\"none\" stroke=\"#000000\" d=\"M2738.6726,-400.9465C2738.594,-392.776 2738.509,-383.9318 2738.4266,-375.3697\"/>\n<polygon fill=\"#000000\" stroke=\"#000000\" points=\"2741.9243,-375.0958 2738.3282,-365.13 2734.9246,-375.1632 2741.9243,-375.0958\"/>\n</g>\n<!-- 90 -->\n<g id=\"node120\" class=\"node\">\n<title>90</title>\n<path fill=\"#57ace9\" stroke=\"#000000\" d=\"M2921,-357.5C2921,-357.5 2827,-357.5 2827,-357.5 2821,-357.5 2815,-351.5 2815,-345.5 2815,-345.5 2815,-316.5 2815,-316.5 2815,-310.5 2821,-304.5 2827,-304.5 2827,-304.5 2921,-304.5 2921,-304.5 2927,-304.5 2933,-310.5 2933,-316.5 2933,-316.5 2933,-345.5 2933,-345.5 2933,-351.5 2927,-357.5 2921,-357.5\"/>\n<text text-anchor=\"middle\" x=\"2874\" y=\"-342.3\" font-family=\"Helvetica,sans-Serif\" font-size=\"14.00\" fill=\"#000000\">entropy = 0.567</text>\n<text text-anchor=\"middle\" x=\"2874\" y=\"-327.3\" font-family=\"Helvetica,sans-Serif\" font-size=\"14.00\" fill=\"#000000\">samples = 15</text>\n<text text-anchor=\"middle\" x=\"2874\" y=\"-312.3\" font-family=\"Helvetica,sans-Serif\" font-size=\"14.00\" fill=\"#000000\">value = [2, 13]</text>\n</g>\n<!-- 82&#45;&gt;90 -->\n<g id=\"edge119\" class=\"edge\">\n<title>82&#45;&gt;90</title>\n<path fill=\"none\" stroke=\"#000000\" d=\"M2783.204,-400.9465C2798.6461,-389.0504 2815.9422,-375.726 2831.2625,-363.9237\"/>\n<polygon fill=\"#000000\" stroke=\"#000000\" points=\"2833.7603,-366.4176 2839.5462,-357.5422 2829.4883,-360.8723 2833.7603,-366.4176\"/>\n</g>\n<!-- 121 -->\n<g id=\"node118\" class=\"node\">\n<title>121</title>\n<path fill=\"#f0b68c\" stroke=\"#000000\" d=\"M2717,-253.5C2717,-253.5 2623,-253.5 2623,-253.5 2617,-253.5 2611,-247.5 2611,-241.5 2611,-241.5 2611,-212.5 2611,-212.5 2611,-206.5 2617,-200.5 2623,-200.5 2623,-200.5 2717,-200.5 2717,-200.5 2723,-200.5 2729,-206.5 2729,-212.5 2729,-212.5 2729,-241.5 2729,-241.5 2729,-247.5 2723,-253.5 2717,-253.5\"/>\n<text text-anchor=\"middle\" x=\"2670\" y=\"-238.3\" font-family=\"Helvetica,sans-Serif\" font-size=\"14.00\" fill=\"#000000\">entropy = 0.876</text>\n<text text-anchor=\"middle\" x=\"2670\" y=\"-223.3\" font-family=\"Helvetica,sans-Serif\" font-size=\"14.00\" fill=\"#000000\">samples = 132</text>\n<text text-anchor=\"middle\" x=\"2670\" y=\"-208.3\" font-family=\"Helvetica,sans-Serif\" font-size=\"14.00\" fill=\"#000000\">value = [93, 39]</text>\n</g>\n<!-- 89&#45;&gt;121 -->\n<g id=\"edge117\" class=\"edge\">\n<title>89&#45;&gt;121</title>\n<path fill=\"none\" stroke=\"#000000\" d=\"M2715.7343,-296.9465C2708.4602,-285.8215 2700.3694,-273.4473 2693.0396,-262.237\"/>\n<polygon fill=\"#000000\" stroke=\"#000000\" points=\"2695.7564,-259.9965 2687.3545,-253.5422 2689.8976,-263.8273 2695.7564,-259.9965\"/>\n</g>\n<!-- 122 -->\n<g id=\"node119\" class=\"node\">\n<title>122</title>\n<path fill=\"#52a9e8\" stroke=\"#000000\" d=\"M2853,-253.5C2853,-253.5 2759,-253.5 2759,-253.5 2753,-253.5 2747,-247.5 2747,-241.5 2747,-241.5 2747,-212.5 2747,-212.5 2747,-206.5 2753,-200.5 2759,-200.5 2759,-200.5 2853,-200.5 2853,-200.5 2859,-200.5 2865,-206.5 2865,-212.5 2865,-212.5 2865,-241.5 2865,-241.5 2865,-247.5 2859,-253.5 2853,-253.5\"/>\n<text text-anchor=\"middle\" x=\"2806\" y=\"-238.3\" font-family=\"Helvetica,sans-Serif\" font-size=\"14.00\" fill=\"#000000\">entropy = 0.503</text>\n<text text-anchor=\"middle\" x=\"2806\" y=\"-223.3\" font-family=\"Helvetica,sans-Serif\" font-size=\"14.00\" fill=\"#000000\">samples = 9</text>\n<text text-anchor=\"middle\" x=\"2806\" y=\"-208.3\" font-family=\"Helvetica,sans-Serif\" font-size=\"14.00\" fill=\"#000000\">value = [1, 8]</text>\n</g>\n<!-- 89&#45;&gt;122 -->\n<g id=\"edge118\" class=\"edge\">\n<title>89&#45;&gt;122</title>\n<path fill=\"none\" stroke=\"#000000\" d=\"M2760.2657,-296.9465C2767.5398,-285.8215 2775.6306,-273.4473 2782.9604,-262.237\"/>\n<polygon fill=\"#000000\" stroke=\"#000000\" points=\"2786.1024,-263.8273 2788.6455,-253.5422 2780.2436,-259.9965 2786.1024,-263.8273\"/>\n</g>\n<!-- 29 -->\n<g id=\"node126\" class=\"node\">\n<title>29</title>\n<path fill=\"#e78b49\" stroke=\"#000000\" d=\"M2926,-885C2926,-885 2826,-885 2826,-885 2820,-885 2814,-879 2814,-873 2814,-873 2814,-829 2814,-829 2814,-823 2820,-817 2826,-817 2826,-817 2926,-817 2926,-817 2932,-817 2938,-823 2938,-829 2938,-829 2938,-873 2938,-873 2938,-879 2932,-885 2926,-885\"/>\n<text text-anchor=\"middle\" x=\"2876\" y=\"-869.8\" font-family=\"Helvetica,sans-Serif\" font-size=\"14.00\" fill=\"#000000\">X[2] &lt;= 4.5</text>\n<text text-anchor=\"middle\" x=\"2876\" y=\"-854.8\" font-family=\"Helvetica,sans-Serif\" font-size=\"14.00\" fill=\"#000000\">entropy = 0.376</text>\n<text text-anchor=\"middle\" x=\"2876\" y=\"-839.8\" font-family=\"Helvetica,sans-Serif\" font-size=\"14.00\" fill=\"#000000\">samples = 467</text>\n<text text-anchor=\"middle\" x=\"2876\" y=\"-824.8\" font-family=\"Helvetica,sans-Serif\" font-size=\"14.00\" fill=\"#000000\">value = [433, 34]</text>\n</g>\n<!-- 18&#45;&gt;29 -->\n<g id=\"edge125\" class=\"edge\">\n<title>18&#45;&gt;29</title>\n<path fill=\"none\" stroke=\"#000000\" d=\"M2846.4072,-920.9465C2849.9779,-912.5067 2853.8528,-903.3479 2857.5861,-894.5239\"/>\n<polygon fill=\"#000000\" stroke=\"#000000\" points=\"2860.8873,-895.7034 2861.5604,-885.13 2854.4405,-892.9759 2860.8873,-895.7034\"/>\n</g>\n<!-- 30 -->\n<g id=\"node133\" class=\"node\">\n<title>30</title>\n<path fill=\"#f5ceb2\" stroke=\"#000000\" d=\"M3062,-877.5C3062,-877.5 2968,-877.5 2968,-877.5 2962,-877.5 2956,-871.5 2956,-865.5 2956,-865.5 2956,-836.5 2956,-836.5 2956,-830.5 2962,-824.5 2968,-824.5 2968,-824.5 3062,-824.5 3062,-824.5 3068,-824.5 3074,-830.5 3074,-836.5 3074,-836.5 3074,-865.5 3074,-865.5 3074,-871.5 3068,-877.5 3062,-877.5\"/>\n<text text-anchor=\"middle\" x=\"3015\" y=\"-862.3\" font-family=\"Helvetica,sans-Serif\" font-size=\"14.00\" fill=\"#000000\">entropy = 0.957</text>\n<text text-anchor=\"middle\" x=\"3015\" y=\"-847.3\" font-family=\"Helvetica,sans-Serif\" font-size=\"14.00\" fill=\"#000000\">samples = 95</text>\n<text text-anchor=\"middle\" x=\"3015\" y=\"-832.3\" font-family=\"Helvetica,sans-Serif\" font-size=\"14.00\" fill=\"#000000\">value = [59, 36]</text>\n</g>\n<!-- 18&#45;&gt;30 -->\n<g id=\"edge132\" class=\"edge\">\n<title>18&#45;&gt;30</title>\n<path fill=\"none\" stroke=\"#000000\" d=\"M2891.921,-920.9465C2913.6289,-908.6098 2938.0396,-894.7371 2959.3632,-882.6187\"/>\n<polygon fill=\"#000000\" stroke=\"#000000\" points=\"2961.3312,-885.5261 2968.296,-877.5422 2957.8725,-879.4402 2961.3312,-885.5261\"/>\n</g>\n<!-- 59 -->\n<g id=\"node127\" class=\"node\">\n<title>59</title>\n<path fill=\"#61b1ea\" stroke=\"#000000\" d=\"M2912,-773.5C2912,-773.5 2826,-773.5 2826,-773.5 2820,-773.5 2814,-767.5 2814,-761.5 2814,-761.5 2814,-732.5 2814,-732.5 2814,-726.5 2820,-720.5 2826,-720.5 2826,-720.5 2912,-720.5 2912,-720.5 2918,-720.5 2924,-726.5 2924,-732.5 2924,-732.5 2924,-761.5 2924,-761.5 2924,-767.5 2918,-773.5 2912,-773.5\"/>\n<text text-anchor=\"middle\" x=\"2869\" y=\"-758.3\" font-family=\"Helvetica,sans-Serif\" font-size=\"14.00\" fill=\"#000000\">entropy = 0.65</text>\n<text text-anchor=\"middle\" x=\"2869\" y=\"-743.3\" font-family=\"Helvetica,sans-Serif\" font-size=\"14.00\" fill=\"#000000\">samples = 6</text>\n<text text-anchor=\"middle\" x=\"2869\" y=\"-728.3\" font-family=\"Helvetica,sans-Serif\" font-size=\"14.00\" fill=\"#000000\">value = [1, 5]</text>\n</g>\n<!-- 29&#45;&gt;59 -->\n<g id=\"edge126\" class=\"edge\">\n<title>29&#45;&gt;59</title>\n<path fill=\"none\" stroke=\"#000000\" d=\"M2873.7079,-816.9465C2872.9888,-806.2621 2872.1921,-794.4254 2871.4617,-783.5742\"/>\n<polygon fill=\"#000000\" stroke=\"#000000\" points=\"2874.9502,-783.2845 2870.7865,-773.5422 2867.966,-783.7547 2874.9502,-783.2845\"/>\n</g>\n<!-- 60 -->\n<g id=\"node128\" class=\"node\">\n<title>60</title>\n<path fill=\"#e78946\" stroke=\"#000000\" d=\"M3054,-781C3054,-781 2954,-781 2954,-781 2948,-781 2942,-775 2942,-769 2942,-769 2942,-725 2942,-725 2942,-719 2948,-713 2954,-713 2954,-713 3054,-713 3054,-713 3060,-713 3066,-719 3066,-725 3066,-725 3066,-769 3066,-769 3066,-775 3060,-781 3054,-781\"/>\n<text text-anchor=\"middle\" x=\"3004\" y=\"-765.8\" font-family=\"Helvetica,sans-Serif\" font-size=\"14.00\" fill=\"#000000\">X[0] &lt;= 37.5</text>\n<text text-anchor=\"middle\" x=\"3004\" y=\"-750.8\" font-family=\"Helvetica,sans-Serif\" font-size=\"14.00\" fill=\"#000000\">entropy = 0.339</text>\n<text text-anchor=\"middle\" x=\"3004\" y=\"-735.8\" font-family=\"Helvetica,sans-Serif\" font-size=\"14.00\" fill=\"#000000\">samples = 461</text>\n<text text-anchor=\"middle\" x=\"3004\" y=\"-720.8\" font-family=\"Helvetica,sans-Serif\" font-size=\"14.00\" fill=\"#000000\">value = [432, 29]</text>\n</g>\n<!-- 29&#45;&gt;60 -->\n<g id=\"edge127\" class=\"edge\">\n<title>29&#45;&gt;60</title>\n<path fill=\"none\" stroke=\"#000000\" d=\"M2917.912,-816.9465C2929.515,-807.519 2942.2221,-797.1946 2954.2259,-787.4415\"/>\n<polygon fill=\"#000000\" stroke=\"#000000\" points=\"2956.4398,-790.1524 2961.9939,-781.13 2952.0256,-784.7196 2956.4398,-790.1524\"/>\n</g>\n<!-- 71 -->\n<g id=\"node129\" class=\"node\">\n<title>71</title>\n<path fill=\"#e89050\" stroke=\"#000000\" d=\"M2985,-677C2985,-677 2885,-677 2885,-677 2879,-677 2873,-671 2873,-665 2873,-665 2873,-621 2873,-621 2873,-615 2879,-609 2885,-609 2885,-609 2985,-609 2985,-609 2991,-609 2997,-615 2997,-621 2997,-621 2997,-665 2997,-665 2997,-671 2991,-677 2985,-677\"/>\n<text text-anchor=\"middle\" x=\"2935\" y=\"-661.8\" font-family=\"Helvetica,sans-Serif\" font-size=\"14.00\" fill=\"#000000\">X[2] &lt;= 11.5</text>\n<text text-anchor=\"middle\" x=\"2935\" y=\"-646.8\" font-family=\"Helvetica,sans-Serif\" font-size=\"14.00\" fill=\"#000000\">entropy = 0.484</text>\n<text text-anchor=\"middle\" x=\"2935\" y=\"-631.8\" font-family=\"Helvetica,sans-Serif\" font-size=\"14.00\" fill=\"#000000\">samples = 248</text>\n<text text-anchor=\"middle\" x=\"2935\" y=\"-616.8\" font-family=\"Helvetica,sans-Serif\" font-size=\"14.00\" fill=\"#000000\">value = [222, 26]</text>\n</g>\n<!-- 60&#45;&gt;71 -->\n<g id=\"edge128\" class=\"edge\">\n<title>60&#45;&gt;71</title>\n<path fill=\"none\" stroke=\"#000000\" d=\"M2981.4068,-712.9465C2975.6286,-704.2373 2969.3425,-694.7626 2963.3166,-685.6801\"/>\n<polygon fill=\"#000000\" stroke=\"#000000\" points=\"2966.089,-683.5278 2957.6439,-677.13 2960.256,-687.3978 2966.089,-683.5278\"/>\n</g>\n<!-- 72 -->\n<g id=\"node132\" class=\"node\">\n<title>72</title>\n<path fill=\"#e5833c\" stroke=\"#000000\" d=\"M3121,-669.5C3121,-669.5 3027,-669.5 3027,-669.5 3021,-669.5 3015,-663.5 3015,-657.5 3015,-657.5 3015,-628.5 3015,-628.5 3015,-622.5 3021,-616.5 3027,-616.5 3027,-616.5 3121,-616.5 3121,-616.5 3127,-616.5 3133,-622.5 3133,-628.5 3133,-628.5 3133,-657.5 3133,-657.5 3133,-663.5 3127,-669.5 3121,-669.5\"/>\n<text text-anchor=\"middle\" x=\"3074\" y=\"-654.3\" font-family=\"Helvetica,sans-Serif\" font-size=\"14.00\" fill=\"#000000\">entropy = 0.107</text>\n<text text-anchor=\"middle\" x=\"3074\" y=\"-639.3\" font-family=\"Helvetica,sans-Serif\" font-size=\"14.00\" fill=\"#000000\">samples = 213</text>\n<text text-anchor=\"middle\" x=\"3074\" y=\"-624.3\" font-family=\"Helvetica,sans-Serif\" font-size=\"14.00\" fill=\"#000000\">value = [210, 3]</text>\n</g>\n<!-- 60&#45;&gt;72 -->\n<g id=\"edge131\" class=\"edge\">\n<title>60&#45;&gt;72</title>\n<path fill=\"none\" stroke=\"#000000\" d=\"M3026.9206,-712.9465C3034.4828,-701.7113 3042.9024,-689.2021 3050.5067,-677.9043\"/>\n<polygon fill=\"#000000\" stroke=\"#000000\" points=\"3053.4548,-679.7924 3056.1351,-669.5422 3047.6477,-675.8837 3053.4548,-679.7924\"/>\n</g>\n<!-- 129 -->\n<g id=\"node130\" class=\"node\">\n<title>129</title>\n<path fill=\"#e5833c\" stroke=\"#000000\" d=\"M2953,-565.5C2953,-565.5 2859,-565.5 2859,-565.5 2853,-565.5 2847,-559.5 2847,-553.5 2847,-553.5 2847,-524.5 2847,-524.5 2847,-518.5 2853,-512.5 2859,-512.5 2859,-512.5 2953,-512.5 2953,-512.5 2959,-512.5 2965,-518.5 2965,-524.5 2965,-524.5 2965,-553.5 2965,-553.5 2965,-559.5 2959,-565.5 2953,-565.5\"/>\n<text text-anchor=\"middle\" x=\"2906\" y=\"-550.3\" font-family=\"Helvetica,sans-Serif\" font-size=\"14.00\" fill=\"#000000\">entropy = 0.104</text>\n<text text-anchor=\"middle\" x=\"2906\" y=\"-535.3\" font-family=\"Helvetica,sans-Serif\" font-size=\"14.00\" fill=\"#000000\">samples = 73</text>\n<text text-anchor=\"middle\" x=\"2906\" y=\"-520.3\" font-family=\"Helvetica,sans-Serif\" font-size=\"14.00\" fill=\"#000000\">value = [72, 1]</text>\n</g>\n<!-- 71&#45;&gt;129 -->\n<g id=\"edge129\" class=\"edge\">\n<title>71&#45;&gt;129</title>\n<path fill=\"none\" stroke=\"#000000\" d=\"M2925.5043,-608.9465C2922.4943,-598.1519 2919.1563,-586.1813 2916.1051,-575.2389\"/>\n<polygon fill=\"#000000\" stroke=\"#000000\" points=\"2919.4586,-574.2346 2913.4012,-565.5422 2912.7159,-576.1148 2919.4586,-574.2346\"/>\n</g>\n<!-- 130 -->\n<g id=\"node131\" class=\"node\">\n<title>130</title>\n<path fill=\"#e9965a\" stroke=\"#000000\" d=\"M3095,-565.5C3095,-565.5 2995,-565.5 2995,-565.5 2989,-565.5 2983,-559.5 2983,-553.5 2983,-553.5 2983,-524.5 2983,-524.5 2983,-518.5 2989,-512.5 2995,-512.5 2995,-512.5 3095,-512.5 3095,-512.5 3101,-512.5 3107,-518.5 3107,-524.5 3107,-524.5 3107,-553.5 3107,-553.5 3107,-559.5 3101,-565.5 3095,-565.5\"/>\n<text text-anchor=\"middle\" x=\"3045\" y=\"-550.3\" font-family=\"Helvetica,sans-Serif\" font-size=\"14.00\" fill=\"#000000\">entropy = 0.592</text>\n<text text-anchor=\"middle\" x=\"3045\" y=\"-535.3\" font-family=\"Helvetica,sans-Serif\" font-size=\"14.00\" fill=\"#000000\">samples = 175</text>\n<text text-anchor=\"middle\" x=\"3045\" y=\"-520.3\" font-family=\"Helvetica,sans-Serif\" font-size=\"14.00\" fill=\"#000000\">value = [150, 25]</text>\n</g>\n<!-- 71&#45;&gt;130 -->\n<g id=\"edge130\" class=\"edge\">\n<title>71&#45;&gt;130</title>\n<path fill=\"none\" stroke=\"#000000\" d=\"M2971.0181,-608.9465C2983.3675,-597.2707 2997.1722,-584.219 3009.4817,-572.5809\"/>\n<polygon fill=\"#000000\" stroke=\"#000000\" points=\"3012.0646,-574.9556 3016.9266,-565.5422 3007.2555,-569.869 3012.0646,-574.9556\"/>\n</g>\n<!-- 23 -->\n<g id=\"node136\" class=\"node\">\n<title>23</title>\n<path fill=\"#81c1ee\" stroke=\"#000000\" d=\"M3242,-1197C3242,-1197 3134,-1197 3134,-1197 3128,-1197 3122,-1191 3122,-1185 3122,-1185 3122,-1141 3122,-1141 3122,-1135 3128,-1129 3134,-1129 3134,-1129 3242,-1129 3242,-1129 3248,-1129 3254,-1135 3254,-1141 3254,-1141 3254,-1185 3254,-1185 3254,-1191 3248,-1197 3242,-1197\"/>\n<text text-anchor=\"middle\" x=\"3188\" y=\"-1181.8\" font-family=\"Helvetica,sans-Serif\" font-size=\"14.00\" fill=\"#000000\">X[13] &lt;= 0.5</text>\n<text text-anchor=\"middle\" x=\"3188\" y=\"-1166.8\" font-family=\"Helvetica,sans-Serif\" font-size=\"14.00\" fill=\"#000000\">entropy = 0.838</text>\n<text text-anchor=\"middle\" x=\"3188\" y=\"-1151.8\" font-family=\"Helvetica,sans-Serif\" font-size=\"14.00\" fill=\"#000000\">samples = 782</text>\n<text text-anchor=\"middle\" x=\"3188\" y=\"-1136.8\" font-family=\"Helvetica,sans-Serif\" font-size=\"14.00\" fill=\"#000000\">value = [209, 573]</text>\n</g>\n<!-- 4&#45;&gt;23 -->\n<g id=\"edge135\" class=\"edge\">\n<title>4&#45;&gt;23</title>\n<path fill=\"none\" stroke=\"#000000\" d=\"M3188,-1232.9465C3188,-1224.776 3188,-1215.9318 3188,-1207.3697\"/>\n<polygon fill=\"#000000\" stroke=\"#000000\" points=\"3191.5001,-1207.13 3188,-1197.13 3184.5001,-1207.13 3191.5001,-1207.13\"/>\n</g>\n<!-- 24 -->\n<g id=\"node143\" class=\"node\">\n<title>24</title>\n<path fill=\"#57ace9\" stroke=\"#000000\" d=\"M3468,-1197C3468,-1197 3352,-1197 3352,-1197 3346,-1197 3340,-1191 3340,-1185 3340,-1185 3340,-1141 3340,-1141 3340,-1135 3346,-1129 3352,-1129 3352,-1129 3468,-1129 3468,-1129 3474,-1129 3480,-1135 3480,-1141 3480,-1141 3480,-1185 3480,-1185 3480,-1191 3474,-1197 3468,-1197\"/>\n<text text-anchor=\"middle\" x=\"3410\" y=\"-1181.8\" font-family=\"Helvetica,sans-Serif\" font-size=\"14.00\" fill=\"#000000\">X[13] &lt;= 0.5</text>\n<text text-anchor=\"middle\" x=\"3410\" y=\"-1166.8\" font-family=\"Helvetica,sans-Serif\" font-size=\"14.00\" fill=\"#000000\">entropy = 0.566</text>\n<text text-anchor=\"middle\" x=\"3410\" y=\"-1151.8\" font-family=\"Helvetica,sans-Serif\" font-size=\"14.00\" fill=\"#000000\">samples = 1268</text>\n<text text-anchor=\"middle\" x=\"3410\" y=\"-1136.8\" font-family=\"Helvetica,sans-Serif\" font-size=\"14.00\" fill=\"#000000\">value = [169, 1099]</text>\n</g>\n<!-- 4&#45;&gt;24 -->\n<g id=\"edge142\" class=\"edge\">\n<title>4&#45;&gt;24</title>\n<path fill=\"none\" stroke=\"#000000\" d=\"M3258.2422,-1234.0938C3281.2315,-1223.324 3306.9296,-1211.2852 3330.5491,-1200.2202\"/>\n<polygon fill=\"#000000\" stroke=\"#000000\" points=\"3332.2632,-1203.2823 3339.834,-1195.8705 3329.2936,-1196.9434 3332.2632,-1203.2823\"/>\n</g>\n<!-- 45 -->\n<g id=\"node137\" class=\"node\">\n<title>45</title>\n<path fill=\"#8bc5f0\" stroke=\"#000000\" d=\"M3174,-1093C3174,-1093 3066,-1093 3066,-1093 3060,-1093 3054,-1087 3054,-1081 3054,-1081 3054,-1037 3054,-1037 3054,-1031 3060,-1025 3066,-1025 3066,-1025 3174,-1025 3174,-1025 3180,-1025 3186,-1031 3186,-1037 3186,-1037 3186,-1081 3186,-1081 3186,-1087 3180,-1093 3174,-1093\"/>\n<text text-anchor=\"middle\" x=\"3120\" y=\"-1077.8\" font-family=\"Helvetica,sans-Serif\" font-size=\"14.00\" fill=\"#000000\">X[8] &lt;= 0.5</text>\n<text text-anchor=\"middle\" x=\"3120\" y=\"-1062.8\" font-family=\"Helvetica,sans-Serif\" font-size=\"14.00\" fill=\"#000000\">entropy = 0.871</text>\n<text text-anchor=\"middle\" x=\"3120\" y=\"-1047.8\" font-family=\"Helvetica,sans-Serif\" font-size=\"14.00\" fill=\"#000000\">samples = 702</text>\n<text text-anchor=\"middle\" x=\"3120\" y=\"-1032.8\" font-family=\"Helvetica,sans-Serif\" font-size=\"14.00\" fill=\"#000000\">value = [205, 497]</text>\n</g>\n<!-- 23&#45;&gt;45 -->\n<g id=\"edge136\" class=\"edge\">\n<title>23&#45;&gt;45</title>\n<path fill=\"none\" stroke=\"#000000\" d=\"M3165.7343,-1128.9465C3160.0398,-1120.2373 3153.8448,-1110.7626 3147.9062,-1101.6801\"/>\n<polygon fill=\"#000000\" stroke=\"#000000\" points=\"3150.7177,-1099.5843 3142.3158,-1093.13 3144.8589,-1103.4151 3150.7177,-1099.5843\"/>\n</g>\n<!-- 46 -->\n<g id=\"node140\" class=\"node\">\n<title>46</title>\n<path fill=\"#43a2e6\" stroke=\"#000000\" d=\"M3310,-1093C3310,-1093 3216,-1093 3216,-1093 3210,-1093 3204,-1087 3204,-1081 3204,-1081 3204,-1037 3204,-1037 3204,-1031 3210,-1025 3216,-1025 3216,-1025 3310,-1025 3310,-1025 3316,-1025 3322,-1031 3322,-1037 3322,-1037 3322,-1081 3322,-1081 3322,-1087 3316,-1093 3310,-1093\"/>\n<text text-anchor=\"middle\" x=\"3263\" y=\"-1077.8\" font-family=\"Helvetica,sans-Serif\" font-size=\"14.00\" fill=\"#000000\">X[31] &lt;= 0.5</text>\n<text text-anchor=\"middle\" x=\"3263\" y=\"-1062.8\" font-family=\"Helvetica,sans-Serif\" font-size=\"14.00\" fill=\"#000000\">entropy = 0.286</text>\n<text text-anchor=\"middle\" x=\"3263\" y=\"-1047.8\" font-family=\"Helvetica,sans-Serif\" font-size=\"14.00\" fill=\"#000000\">samples = 80</text>\n<text text-anchor=\"middle\" x=\"3263\" y=\"-1032.8\" font-family=\"Helvetica,sans-Serif\" font-size=\"14.00\" fill=\"#000000\">value = [4, 76]</text>\n</g>\n<!-- 23&#45;&gt;46 -->\n<g id=\"edge139\" class=\"edge\">\n<title>23&#45;&gt;46</title>\n<path fill=\"none\" stroke=\"#000000\" d=\"M3212.5578,-1128.9465C3218.9032,-1120.1475 3225.8121,-1110.5672 3232.4236,-1101.3993\"/>\n<polygon fill=\"#000000\" stroke=\"#000000\" points=\"3235.3766,-1103.2882 3238.387,-1093.13 3229.6989,-1099.1937 3235.3766,-1103.2882\"/>\n</g>\n<!-- 117 -->\n<g id=\"node138\" class=\"node\">\n<title>117</title>\n<path fill=\"#9dcef2\" stroke=\"#000000\" d=\"M3032,-981.5C3032,-981.5 2924,-981.5 2924,-981.5 2918,-981.5 2912,-975.5 2912,-969.5 2912,-969.5 2912,-940.5 2912,-940.5 2912,-934.5 2918,-928.5 2924,-928.5 2924,-928.5 3032,-928.5 3032,-928.5 3038,-928.5 3044,-934.5 3044,-940.5 3044,-940.5 3044,-969.5 3044,-969.5 3044,-975.5 3038,-981.5 3032,-981.5\"/>\n<text text-anchor=\"middle\" x=\"2978\" y=\"-966.3\" font-family=\"Helvetica,sans-Serif\" font-size=\"14.00\" fill=\"#000000\">entropy = 0.92</text>\n<text text-anchor=\"middle\" x=\"2978\" y=\"-951.3\" font-family=\"Helvetica,sans-Serif\" font-size=\"14.00\" fill=\"#000000\">samples = 472</text>\n<text text-anchor=\"middle\" x=\"2978\" y=\"-936.3\" font-family=\"Helvetica,sans-Serif\" font-size=\"14.00\" fill=\"#000000\">value = [158, 314]</text>\n</g>\n<!-- 45&#45;&gt;117 -->\n<g id=\"edge137\" class=\"edge\">\n<title>45&#45;&gt;117</title>\n<path fill=\"none\" stroke=\"#000000\" d=\"M3073.5039,-1024.9465C3057.1107,-1012.9403 3038.7311,-999.4791 3022.5064,-987.5962\"/>\n<polygon fill=\"#000000\" stroke=\"#000000\" points=\"3024.376,-984.6272 3014.2403,-981.5422 3020.2399,-990.2746 3024.376,-984.6272\"/>\n</g>\n<!-- 118 -->\n<g id=\"node139\" class=\"node\">\n<title>118</title>\n<path fill=\"#6cb6ec\" stroke=\"#000000\" d=\"M3174,-981.5C3174,-981.5 3074,-981.5 3074,-981.5 3068,-981.5 3062,-975.5 3062,-969.5 3062,-969.5 3062,-940.5 3062,-940.5 3062,-934.5 3068,-928.5 3074,-928.5 3074,-928.5 3174,-928.5 3174,-928.5 3180,-928.5 3186,-934.5 3186,-940.5 3186,-940.5 3186,-969.5 3186,-969.5 3186,-975.5 3180,-981.5 3174,-981.5\"/>\n<text text-anchor=\"middle\" x=\"3124\" y=\"-966.3\" font-family=\"Helvetica,sans-Serif\" font-size=\"14.00\" fill=\"#000000\">entropy = 0.731</text>\n<text text-anchor=\"middle\" x=\"3124\" y=\"-951.3\" font-family=\"Helvetica,sans-Serif\" font-size=\"14.00\" fill=\"#000000\">samples = 230</text>\n<text text-anchor=\"middle\" x=\"3124\" y=\"-936.3\" font-family=\"Helvetica,sans-Serif\" font-size=\"14.00\" fill=\"#000000\">value = [47, 183]</text>\n</g>\n<!-- 45&#45;&gt;118 -->\n<g id=\"edge138\" class=\"edge\">\n<title>45&#45;&gt;118</title>\n<path fill=\"none\" stroke=\"#000000\" d=\"M3121.3097,-1024.9465C3121.7207,-1014.2621 3122.1759,-1002.4254 3122.5933,-991.5742\"/>\n<polygon fill=\"#000000\" stroke=\"#000000\" points=\"3126.0921,-991.6693 3122.9791,-981.5422 3119.0973,-991.4002 3126.0921,-991.6693\"/>\n</g>\n<!-- 97 -->\n<g id=\"node141\" class=\"node\">\n<title>97</title>\n<path fill=\"#3c9ee5\" stroke=\"#000000\" d=\"M3310,-981.5C3310,-981.5 3216,-981.5 3216,-981.5 3210,-981.5 3204,-975.5 3204,-969.5 3204,-969.5 3204,-940.5 3204,-940.5 3204,-934.5 3210,-928.5 3216,-928.5 3216,-928.5 3310,-928.5 3310,-928.5 3316,-928.5 3322,-934.5 3322,-940.5 3322,-940.5 3322,-969.5 3322,-969.5 3322,-975.5 3316,-981.5 3310,-981.5\"/>\n<text text-anchor=\"middle\" x=\"3263\" y=\"-966.3\" font-family=\"Helvetica,sans-Serif\" font-size=\"14.00\" fill=\"#000000\">entropy = 0.102</text>\n<text text-anchor=\"middle\" x=\"3263\" y=\"-951.3\" font-family=\"Helvetica,sans-Serif\" font-size=\"14.00\" fill=\"#000000\">samples = 75</text>\n<text text-anchor=\"middle\" x=\"3263\" y=\"-936.3\" font-family=\"Helvetica,sans-Serif\" font-size=\"14.00\" fill=\"#000000\">value = [1, 74]</text>\n</g>\n<!-- 46&#45;&gt;97 -->\n<g id=\"edge140\" class=\"edge\">\n<title>46&#45;&gt;97</title>\n<path fill=\"none\" stroke=\"#000000\" d=\"M3263,-1024.9465C3263,-1014.2621 3263,-1002.4254 3263,-991.5742\"/>\n<polygon fill=\"#000000\" stroke=\"#000000\" points=\"3266.5001,-991.5421 3263,-981.5422 3259.5001,-991.5422 3266.5001,-991.5421\"/>\n</g>\n<!-- 98 -->\n<g id=\"node142\" class=\"node\">\n<title>98</title>\n<path fill=\"#f6d5bd\" stroke=\"#000000\" d=\"M3446,-981.5C3446,-981.5 3352,-981.5 3352,-981.5 3346,-981.5 3340,-975.5 3340,-969.5 3340,-969.5 3340,-940.5 3340,-940.5 3340,-934.5 3346,-928.5 3352,-928.5 3352,-928.5 3446,-928.5 3446,-928.5 3452,-928.5 3458,-934.5 3458,-940.5 3458,-940.5 3458,-969.5 3458,-969.5 3458,-975.5 3452,-981.5 3446,-981.5\"/>\n<text text-anchor=\"middle\" x=\"3399\" y=\"-966.3\" font-family=\"Helvetica,sans-Serif\" font-size=\"14.00\" fill=\"#000000\">entropy = 0.971</text>\n<text text-anchor=\"middle\" x=\"3399\" y=\"-951.3\" font-family=\"Helvetica,sans-Serif\" font-size=\"14.00\" fill=\"#000000\">samples = 5</text>\n<text text-anchor=\"middle\" x=\"3399\" y=\"-936.3\" font-family=\"Helvetica,sans-Serif\" font-size=\"14.00\" fill=\"#000000\">value = [3, 2]</text>\n</g>\n<!-- 46&#45;&gt;98 -->\n<g id=\"edge141\" class=\"edge\">\n<title>46&#45;&gt;98</title>\n<path fill=\"none\" stroke=\"#000000\" d=\"M3307.5315,-1024.9465C3323.0879,-1013.0504 3340.5121,-999.726 3355.9459,-987.9237\"/>\n<polygon fill=\"#000000\" stroke=\"#000000\" points=\"3358.4735,-990.397 3364.291,-981.5422 3354.2213,-984.8364 3358.4735,-990.397\"/>\n</g>\n<!-- 125 -->\n<g id=\"node144\" class=\"node\">\n<title>125</title>\n<path fill=\"#59ade9\" stroke=\"#000000\" d=\"M3468,-1085.5C3468,-1085.5 3352,-1085.5 3352,-1085.5 3346,-1085.5 3340,-1079.5 3340,-1073.5 3340,-1073.5 3340,-1044.5 3340,-1044.5 3340,-1038.5 3346,-1032.5 3352,-1032.5 3352,-1032.5 3468,-1032.5 3468,-1032.5 3474,-1032.5 3480,-1038.5 3480,-1044.5 3480,-1044.5 3480,-1073.5 3480,-1073.5 3480,-1079.5 3474,-1085.5 3468,-1085.5\"/>\n<text text-anchor=\"middle\" x=\"3410\" y=\"-1070.3\" font-family=\"Helvetica,sans-Serif\" font-size=\"14.00\" fill=\"#000000\">entropy = 0.584</text>\n<text text-anchor=\"middle\" x=\"3410\" y=\"-1055.3\" font-family=\"Helvetica,sans-Serif\" font-size=\"14.00\" fill=\"#000000\">samples = 1201</text>\n<text text-anchor=\"middle\" x=\"3410\" y=\"-1040.3\" font-family=\"Helvetica,sans-Serif\" font-size=\"14.00\" fill=\"#000000\">value = [168, 1033]</text>\n</g>\n<!-- 24&#45;&gt;125 -->\n<g id=\"edge143\" class=\"edge\">\n<title>24&#45;&gt;125</title>\n<path fill=\"none\" stroke=\"#000000\" d=\"M3410,-1128.9465C3410,-1118.2621 3410,-1106.4254 3410,-1095.5742\"/>\n<polygon fill=\"#000000\" stroke=\"#000000\" points=\"3413.5001,-1095.5421 3410,-1085.5422 3406.5001,-1095.5422 3413.5001,-1095.5421\"/>\n</g>\n<!-- 126 -->\n<g id=\"node145\" class=\"node\">\n<title>126</title>\n<path fill=\"#3c9ee5\" stroke=\"#000000\" d=\"M3604,-1085.5C3604,-1085.5 3510,-1085.5 3510,-1085.5 3504,-1085.5 3498,-1079.5 3498,-1073.5 3498,-1073.5 3498,-1044.5 3498,-1044.5 3498,-1038.5 3504,-1032.5 3510,-1032.5 3510,-1032.5 3604,-1032.5 3604,-1032.5 3610,-1032.5 3616,-1038.5 3616,-1044.5 3616,-1044.5 3616,-1073.5 3616,-1073.5 3616,-1079.5 3610,-1085.5 3604,-1085.5\"/>\n<text text-anchor=\"middle\" x=\"3557\" y=\"-1070.3\" font-family=\"Helvetica,sans-Serif\" font-size=\"14.00\" fill=\"#000000\">entropy = 0.112</text>\n<text text-anchor=\"middle\" x=\"3557\" y=\"-1055.3\" font-family=\"Helvetica,sans-Serif\" font-size=\"14.00\" fill=\"#000000\">samples = 67</text>\n<text text-anchor=\"middle\" x=\"3557\" y=\"-1040.3\" font-family=\"Helvetica,sans-Serif\" font-size=\"14.00\" fill=\"#000000\">value = [1, 66]</text>\n</g>\n<!-- 24&#45;&gt;126 -->\n<g id=\"edge144\" class=\"edge\">\n<title>24&#45;&gt;126</title>\n<path fill=\"none\" stroke=\"#000000\" d=\"M3458.1333,-1128.9465C3475.1037,-1116.9403 3494.1304,-1103.4791 3510.9265,-1091.5962\"/>\n<polygon fill=\"#000000\" stroke=\"#000000\" points=\"3513.3416,-1094.175 3519.4837,-1085.5422 3509.2987,-1088.4605 3513.3416,-1094.175\"/>\n</g>\n</g>\n</svg>\n"
          },
          "metadata": {
            "tags": []
          },
          "execution_count": 23
        }
      ]
    },
    {
      "cell_type": "code",
      "metadata": {
        "id": "iTzRLek_SQaq",
        "colab_type": "code",
        "colab": {}
      },
      "source": [
        "prediction=model_decisiontree.predict(X_test)\n",
        "prediction2=model_decisiontree2.predict(X_test)\n",
        "prediction3=model_decisiontree3.predict(X_test)\n",
        "prediction4=model_decisiontree4.predict(X_test)"
      ],
      "execution_count": 0,
      "outputs": []
    },
    {
      "cell_type": "code",
      "metadata": {
        "id": "ihQRu99eSVMy",
        "colab_type": "code",
        "colab": {
          "base_uri": "https://localhost:8080/",
          "height": 204
        },
        "outputId": "fe5d237a-8606-4db8-bd01-b8853afa4b88"
      },
      "source": [
        "from sklearn.metrics import classification_report\n",
        "from sklearn.metrics import confusion_matrix\n",
        "\n",
        "print(classification_report(Y_test, prediction))\n",
        "print(confusion_matrix(Y_test, prediction))"
      ],
      "execution_count": 25,
      "outputs": [
        {
          "output_type": "stream",
          "text": [
            "              precision    recall  f1-score   support\n",
            "\n",
            "           0       0.86      0.79      0.82      1742\n",
            "           1       0.79      0.86      0.83      1607\n",
            "\n",
            "    accuracy                           0.83      3349\n",
            "   macro avg       0.83      0.83      0.83      3349\n",
            "weighted avg       0.83      0.83      0.83      3349\n",
            "\n",
            "[[1375  367]\n",
            " [ 217 1390]]\n"
          ],
          "name": "stdout"
        }
      ]
    },
    {
      "cell_type": "code",
      "metadata": {
        "id": "sGZiXHWdSWlD",
        "colab_type": "code",
        "colab": {
          "base_uri": "https://localhost:8080/",
          "height": 204
        },
        "outputId": "a312d2ef-b051-4c37-bbdb-19a01baddbd9"
      },
      "source": [
        "print(classification_report(Y_test, prediction2))\n",
        "print(confusion_matrix(Y_test, prediction2))"
      ],
      "execution_count": 26,
      "outputs": [
        {
          "output_type": "stream",
          "text": [
            "              precision    recall  f1-score   support\n",
            "\n",
            "           0       0.86      0.79      0.82      1742\n",
            "           1       0.79      0.86      0.83      1607\n",
            "\n",
            "    accuracy                           0.83      3349\n",
            "   macro avg       0.83      0.83      0.83      3349\n",
            "weighted avg       0.83      0.83      0.83      3349\n",
            "\n",
            "[[1375  367]\n",
            " [ 217 1390]]\n"
          ],
          "name": "stdout"
        }
      ]
    },
    {
      "cell_type": "code",
      "metadata": {
        "id": "P2trkYTgSZ9c",
        "colab_type": "code",
        "colab": {
          "base_uri": "https://localhost:8080/",
          "height": 204
        },
        "outputId": "4d76caf3-9817-418b-d9ad-7d25610f6105"
      },
      "source": [
        "print(classification_report(Y_test, prediction3))\n",
        "print(confusion_matrix(Y_test, prediction3))"
      ],
      "execution_count": 27,
      "outputs": [
        {
          "output_type": "stream",
          "text": [
            "              precision    recall  f1-score   support\n",
            "\n",
            "           0       0.86      0.79      0.83      1742\n",
            "           1       0.79      0.86      0.83      1607\n",
            "\n",
            "    accuracy                           0.83      3349\n",
            "   macro avg       0.83      0.83      0.83      3349\n",
            "weighted avg       0.83      0.83      0.83      3349\n",
            "\n",
            "[[1378  364]\n",
            " [ 220 1387]]\n"
          ],
          "name": "stdout"
        }
      ]
    },
    {
      "cell_type": "code",
      "metadata": {
        "id": "Y8xq4NxBSdIj",
        "colab_type": "code",
        "colab": {
          "base_uri": "https://localhost:8080/",
          "height": 204
        },
        "outputId": "1ac8dbbf-7db9-4ceb-86a6-165aeb722c59"
      },
      "source": [
        "print(classification_report(Y_test, prediction4))\n",
        "print(confusion_matrix(Y_test, prediction4))"
      ],
      "execution_count": 28,
      "outputs": [
        {
          "output_type": "stream",
          "text": [
            "              precision    recall  f1-score   support\n",
            "\n",
            "           0       0.86      0.79      0.83      1742\n",
            "           1       0.79      0.86      0.83      1607\n",
            "\n",
            "    accuracy                           0.83      3349\n",
            "   macro avg       0.83      0.83      0.83      3349\n",
            "weighted avg       0.83      0.83      0.83      3349\n",
            "\n",
            "[[1378  364]\n",
            " [ 220 1387]]\n"
          ],
          "name": "stdout"
        }
      ]
    },
    {
      "cell_type": "markdown",
      "metadata": {
        "id": "2EZ_tWbaSgW6",
        "colab_type": "text"
      },
      "source": [
        "# **TO IMPROVE THE PREDICTION A RANDOM FOREST IS GOING TO BE IMPLEMENTED, IN ORDER TO IMPROVE THE CAPABILITY OF THE MODEL TO REDUCE BIAS AND GENERALIZE ON NEW (UNSEEN) DATA**"
      ]
    },
    {
      "cell_type": "code",
      "metadata": {
        "id": "0QQVEoG9SoqS",
        "colab_type": "code",
        "colab": {}
      },
      "source": [
        "cat_variables = [x for x in categorical_variables if x != 'deposit']\n",
        "bank_final= pd.get_dummies(bank,columns=cat_variables,drop_first=True)"
      ],
      "execution_count": 0,
      "outputs": []
    },
    {
      "cell_type": "code",
      "metadata": {
        "id": "tw75ehymSsTa",
        "colab_type": "code",
        "colab": {
          "base_uri": "https://localhost:8080/",
          "height": 241
        },
        "outputId": "204f5caf-6e8b-4d2c-da65-05c02c721b39"
      },
      "source": [
        "bank_final.head()"
      ],
      "execution_count": 30,
      "outputs": [
        {
          "output_type": "execute_result",
          "data": {
            "text/html": [
              "<div>\n",
              "<style scoped>\n",
              "    .dataframe tbody tr th:only-of-type {\n",
              "        vertical-align: middle;\n",
              "    }\n",
              "\n",
              "    .dataframe tbody tr th {\n",
              "        vertical-align: top;\n",
              "    }\n",
              "\n",
              "    .dataframe thead th {\n",
              "        text-align: right;\n",
              "    }\n",
              "</style>\n",
              "<table border=\"1\" class=\"dataframe\">\n",
              "  <thead>\n",
              "    <tr style=\"text-align: right;\">\n",
              "      <th></th>\n",
              "      <th>age</th>\n",
              "      <th>balance</th>\n",
              "      <th>day</th>\n",
              "      <th>duration</th>\n",
              "      <th>campaign</th>\n",
              "      <th>pdays</th>\n",
              "      <th>previous</th>\n",
              "      <th>deposit</th>\n",
              "      <th>marital_married</th>\n",
              "      <th>marital_single</th>\n",
              "      <th>education_secondary</th>\n",
              "      <th>education_tertiary</th>\n",
              "      <th>education_unknown</th>\n",
              "      <th>housing_yes</th>\n",
              "      <th>poutcome_success</th>\n",
              "      <th>poutcome_unknown</th>\n",
              "      <th>month_aug</th>\n",
              "      <th>month_dec</th>\n",
              "      <th>month_feb</th>\n",
              "      <th>month_jan</th>\n",
              "      <th>month_jul</th>\n",
              "      <th>month_jun</th>\n",
              "      <th>month_mar</th>\n",
              "      <th>month_may</th>\n",
              "      <th>month_nov</th>\n",
              "      <th>month_oct</th>\n",
              "      <th>month_sep</th>\n",
              "      <th>default_yes</th>\n",
              "      <th>job_entrepreneur</th>\n",
              "      <th>job_other</th>\n",
              "      <th>job_retired</th>\n",
              "      <th>job_self-employed</th>\n",
              "      <th>job_student</th>\n",
              "      <th>job_technician</th>\n",
              "      <th>job_unemployed</th>\n",
              "      <th>job_white-collar</th>\n",
              "      <th>loan_yes</th>\n",
              "    </tr>\n",
              "  </thead>\n",
              "  <tbody>\n",
              "    <tr>\n",
              "      <th>0</th>\n",
              "      <td>59</td>\n",
              "      <td>2343</td>\n",
              "      <td>5</td>\n",
              "      <td>1042</td>\n",
              "      <td>1</td>\n",
              "      <td>-1</td>\n",
              "      <td>0</td>\n",
              "      <td>1</td>\n",
              "      <td>1</td>\n",
              "      <td>0</td>\n",
              "      <td>1</td>\n",
              "      <td>0</td>\n",
              "      <td>0</td>\n",
              "      <td>1</td>\n",
              "      <td>0</td>\n",
              "      <td>1</td>\n",
              "      <td>0</td>\n",
              "      <td>0</td>\n",
              "      <td>0</td>\n",
              "      <td>0</td>\n",
              "      <td>0</td>\n",
              "      <td>0</td>\n",
              "      <td>0</td>\n",
              "      <td>1</td>\n",
              "      <td>0</td>\n",
              "      <td>0</td>\n",
              "      <td>0</td>\n",
              "      <td>0</td>\n",
              "      <td>0</td>\n",
              "      <td>0</td>\n",
              "      <td>0</td>\n",
              "      <td>0</td>\n",
              "      <td>0</td>\n",
              "      <td>0</td>\n",
              "      <td>0</td>\n",
              "      <td>1</td>\n",
              "      <td>0</td>\n",
              "    </tr>\n",
              "    <tr>\n",
              "      <th>1</th>\n",
              "      <td>56</td>\n",
              "      <td>45</td>\n",
              "      <td>5</td>\n",
              "      <td>1467</td>\n",
              "      <td>1</td>\n",
              "      <td>-1</td>\n",
              "      <td>0</td>\n",
              "      <td>1</td>\n",
              "      <td>1</td>\n",
              "      <td>0</td>\n",
              "      <td>1</td>\n",
              "      <td>0</td>\n",
              "      <td>0</td>\n",
              "      <td>0</td>\n",
              "      <td>0</td>\n",
              "      <td>1</td>\n",
              "      <td>0</td>\n",
              "      <td>0</td>\n",
              "      <td>0</td>\n",
              "      <td>0</td>\n",
              "      <td>0</td>\n",
              "      <td>0</td>\n",
              "      <td>0</td>\n",
              "      <td>1</td>\n",
              "      <td>0</td>\n",
              "      <td>0</td>\n",
              "      <td>0</td>\n",
              "      <td>0</td>\n",
              "      <td>0</td>\n",
              "      <td>0</td>\n",
              "      <td>0</td>\n",
              "      <td>0</td>\n",
              "      <td>0</td>\n",
              "      <td>0</td>\n",
              "      <td>0</td>\n",
              "      <td>1</td>\n",
              "      <td>0</td>\n",
              "    </tr>\n",
              "    <tr>\n",
              "      <th>2</th>\n",
              "      <td>41</td>\n",
              "      <td>1270</td>\n",
              "      <td>5</td>\n",
              "      <td>1389</td>\n",
              "      <td>1</td>\n",
              "      <td>-1</td>\n",
              "      <td>0</td>\n",
              "      <td>1</td>\n",
              "      <td>1</td>\n",
              "      <td>0</td>\n",
              "      <td>1</td>\n",
              "      <td>0</td>\n",
              "      <td>0</td>\n",
              "      <td>1</td>\n",
              "      <td>0</td>\n",
              "      <td>1</td>\n",
              "      <td>0</td>\n",
              "      <td>0</td>\n",
              "      <td>0</td>\n",
              "      <td>0</td>\n",
              "      <td>0</td>\n",
              "      <td>0</td>\n",
              "      <td>0</td>\n",
              "      <td>1</td>\n",
              "      <td>0</td>\n",
              "      <td>0</td>\n",
              "      <td>0</td>\n",
              "      <td>0</td>\n",
              "      <td>0</td>\n",
              "      <td>0</td>\n",
              "      <td>0</td>\n",
              "      <td>0</td>\n",
              "      <td>0</td>\n",
              "      <td>1</td>\n",
              "      <td>0</td>\n",
              "      <td>0</td>\n",
              "      <td>0</td>\n",
              "    </tr>\n",
              "    <tr>\n",
              "      <th>3</th>\n",
              "      <td>55</td>\n",
              "      <td>2476</td>\n",
              "      <td>5</td>\n",
              "      <td>579</td>\n",
              "      <td>1</td>\n",
              "      <td>-1</td>\n",
              "      <td>0</td>\n",
              "      <td>1</td>\n",
              "      <td>1</td>\n",
              "      <td>0</td>\n",
              "      <td>1</td>\n",
              "      <td>0</td>\n",
              "      <td>0</td>\n",
              "      <td>1</td>\n",
              "      <td>0</td>\n",
              "      <td>1</td>\n",
              "      <td>0</td>\n",
              "      <td>0</td>\n",
              "      <td>0</td>\n",
              "      <td>0</td>\n",
              "      <td>0</td>\n",
              "      <td>0</td>\n",
              "      <td>0</td>\n",
              "      <td>1</td>\n",
              "      <td>0</td>\n",
              "      <td>0</td>\n",
              "      <td>0</td>\n",
              "      <td>0</td>\n",
              "      <td>0</td>\n",
              "      <td>1</td>\n",
              "      <td>0</td>\n",
              "      <td>0</td>\n",
              "      <td>0</td>\n",
              "      <td>0</td>\n",
              "      <td>0</td>\n",
              "      <td>0</td>\n",
              "      <td>0</td>\n",
              "    </tr>\n",
              "    <tr>\n",
              "      <th>4</th>\n",
              "      <td>54</td>\n",
              "      <td>184</td>\n",
              "      <td>5</td>\n",
              "      <td>673</td>\n",
              "      <td>2</td>\n",
              "      <td>-1</td>\n",
              "      <td>0</td>\n",
              "      <td>1</td>\n",
              "      <td>1</td>\n",
              "      <td>0</td>\n",
              "      <td>0</td>\n",
              "      <td>1</td>\n",
              "      <td>0</td>\n",
              "      <td>0</td>\n",
              "      <td>0</td>\n",
              "      <td>1</td>\n",
              "      <td>0</td>\n",
              "      <td>0</td>\n",
              "      <td>0</td>\n",
              "      <td>0</td>\n",
              "      <td>0</td>\n",
              "      <td>0</td>\n",
              "      <td>0</td>\n",
              "      <td>1</td>\n",
              "      <td>0</td>\n",
              "      <td>0</td>\n",
              "      <td>0</td>\n",
              "      <td>0</td>\n",
              "      <td>0</td>\n",
              "      <td>0</td>\n",
              "      <td>0</td>\n",
              "      <td>0</td>\n",
              "      <td>0</td>\n",
              "      <td>0</td>\n",
              "      <td>0</td>\n",
              "      <td>1</td>\n",
              "      <td>0</td>\n",
              "    </tr>\n",
              "  </tbody>\n",
              "</table>\n",
              "</div>"
            ],
            "text/plain": [
              "   age  balance  day  ...  job_unemployed  job_white-collar  loan_yes\n",
              "0   59     2343    5  ...               0                 1         0\n",
              "1   56       45    5  ...               0                 1         0\n",
              "2   41     1270    5  ...               0                 0         0\n",
              "3   55     2476    5  ...               0                 0         0\n",
              "4   54      184    5  ...               0                 1         0\n",
              "\n",
              "[5 rows x 37 columns]"
            ]
          },
          "metadata": {
            "tags": []
          },
          "execution_count": 30
        }
      ]
    },
    {
      "cell_type": "code",
      "metadata": {
        "id": "0pDjcPavSvYZ",
        "colab_type": "code",
        "colab": {}
      },
      "source": [
        "y = bank_categorical['deposit']\n",
        "X= bank_categorical.drop('deposit', axis = 1)"
      ],
      "execution_count": 0,
      "outputs": []
    },
    {
      "cell_type": "code",
      "metadata": {
        "id": "0y4U_ByjS2Rb",
        "colab_type": "code",
        "colab": {}
      },
      "source": [
        "X_train, X_test, Y_train, Y_test =  train_test_split(X, y, test_size = 0.3, random_state=5)"
      ],
      "execution_count": 0,
      "outputs": []
    },
    {
      "cell_type": "code",
      "metadata": {
        "id": "HjJxCcIJS5Ao",
        "colab_type": "code",
        "colab": {}
      },
      "source": [
        "from sklearn.ensemble import RandomForestClassifier"
      ],
      "execution_count": 0,
      "outputs": []
    },
    {
      "cell_type": "code",
      "metadata": {
        "id": "KSQqpcEoS7dP",
        "colab_type": "code",
        "colab": {}
      },
      "source": [
        "#use Gridsearchcv to find the best parameters\n",
        "\n",
        "params = {'max_depth': [10,30,50, 70,100, None],\n",
        "          'max_features': ['auto', 'sqrt'],\n",
        "          'min_samples_leaf': [1, 2, 4],\n",
        "          'n_estimators': [100,500,1000, 1500, 2000]}\n",
        "          \n",
        "grid_search_cv = GridSearchCV(RandomForestClassifier(random_state=42), params, verbose=1, cv=3)"
      ],
      "execution_count": 0,
      "outputs": []
    },
    {
      "cell_type": "code",
      "metadata": {
        "id": "onX39GTyS-co",
        "colab_type": "code",
        "colab": {
          "base_uri": "https://localhost:8080/",
          "height": 442
        },
        "outputId": "3ac29ce3-9031-45ab-d57e-5225b9fb1538"
      },
      "source": [
        "grid_search_cv.fit(X, y)"
      ],
      "execution_count": 50,
      "outputs": [
        {
          "output_type": "stream",
          "text": [
            "Fitting 3 folds for each of 180 candidates, totalling 540 fits\n"
          ],
          "name": "stdout"
        },
        {
          "output_type": "stream",
          "text": [
            "[Parallel(n_jobs=1)]: Using backend SequentialBackend with 1 concurrent workers.\n",
            "[Parallel(n_jobs=1)]: Done 540 out of 540 | elapsed: 88.2min finished\n"
          ],
          "name": "stderr"
        },
        {
          "output_type": "execute_result",
          "data": {
            "text/plain": [
              "GridSearchCV(cv=3, error_score=nan,\n",
              "             estimator=RandomForestClassifier(bootstrap=True, ccp_alpha=0.0,\n",
              "                                              class_weight=None,\n",
              "                                              criterion='gini', max_depth=None,\n",
              "                                              max_features='auto',\n",
              "                                              max_leaf_nodes=None,\n",
              "                                              max_samples=None,\n",
              "                                              min_impurity_decrease=0.0,\n",
              "                                              min_impurity_split=None,\n",
              "                                              min_samples_leaf=1,\n",
              "                                              min_samples_split=2,\n",
              "                                              min_weight_fraction_leaf=0.0,\n",
              "                                              n_estimators=100, n_jobs=None,\n",
              "                                              oob_score=False, random_state=42,\n",
              "                                              verbose=0, warm_start=False),\n",
              "             iid='deprecated', n_jobs=None,\n",
              "             param_grid={'max_depth': [10, 30, 50, 70, 100, None],\n",
              "                         'max_features': ['auto', 'sqrt'],\n",
              "                         'min_samples_leaf': [1, 2, 4],\n",
              "                         'n_estimators': [100, 500, 1000, 1500, 2000]},\n",
              "             pre_dispatch='2*n_jobs', refit=True, return_train_score=False,\n",
              "             scoring=None, verbose=1)"
            ]
          },
          "metadata": {
            "tags": []
          },
          "execution_count": 50
        }
      ]
    },
    {
      "cell_type": "code",
      "metadata": {
        "id": "Hy84iW5CnYf1",
        "colab_type": "code",
        "colab": {
          "base_uri": "https://localhost:8080/",
          "height": 153
        },
        "outputId": "1e473a2a-b88a-41bb-9e18-71a2feb0a547"
      },
      "source": [
        "grid_search_cv.best_estimator_"
      ],
      "execution_count": 51,
      "outputs": [
        {
          "output_type": "execute_result",
          "data": {
            "text/plain": [
              "RandomForestClassifier(bootstrap=True, ccp_alpha=0.0, class_weight=None,\n",
              "                       criterion='gini', max_depth=30, max_features='auto',\n",
              "                       max_leaf_nodes=None, max_samples=None,\n",
              "                       min_impurity_decrease=0.0, min_impurity_split=None,\n",
              "                       min_samples_leaf=1, min_samples_split=2,\n",
              "                       min_weight_fraction_leaf=0.0, n_estimators=2000,\n",
              "                       n_jobs=None, oob_score=False, random_state=42, verbose=0,\n",
              "                       warm_start=False)"
            ]
          },
          "metadata": {
            "tags": []
          },
          "execution_count": 51
        }
      ]
    },
    {
      "cell_type": "code",
      "metadata": {
        "id": "36Hxe4SknhmB",
        "colab_type": "code",
        "colab": {
          "base_uri": "https://localhost:8080/",
          "height": 85
        },
        "outputId": "ba513208-86f9-416c-de05-7e18d7507e84"
      },
      "source": [
        "grid_search_cv.best_params_"
      ],
      "execution_count": 52,
      "outputs": [
        {
          "output_type": "execute_result",
          "data": {
            "text/plain": [
              "{'max_depth': 30,\n",
              " 'max_features': 'auto',\n",
              " 'min_samples_leaf': 1,\n",
              " 'n_estimators': 2000}"
            ]
          },
          "metadata": {
            "tags": []
          },
          "execution_count": 52
        }
      ]
    },
    {
      "cell_type": "code",
      "metadata": {
        "id": "9GyrVvTynxq8",
        "colab_type": "code",
        "colab": {}
      },
      "source": [
        "rf = RandomForestClassifier(bootstrap=True, ccp_alpha=0.0, class_weight=None,\n",
        "                       criterion='gini', max_depth=30, max_features='auto',\n",
        "                       max_leaf_nodes=None, max_samples=None,\n",
        "                       min_impurity_decrease=0.0, min_impurity_split=None,\n",
        "                       min_samples_leaf=1, min_samples_split=2,\n",
        "                       min_weight_fraction_leaf=0.0, n_estimators=2000,\n",
        "                       n_jobs=None, oob_score=False, random_state=42, verbose=0,\n",
        "                       warm_start=False)"
      ],
      "execution_count": 0,
      "outputs": []
    },
    {
      "cell_type": "code",
      "metadata": {
        "id": "yWdI3TUhBecV",
        "colab_type": "code",
        "colab": {
          "base_uri": "https://localhost:8080/",
          "height": 153
        },
        "outputId": "50e94f23-d3a1-4ec5-c0ff-a24fc0ed5745"
      },
      "source": [
        "rf.fit(X_train, Y_train)"
      ],
      "execution_count": 35,
      "outputs": [
        {
          "output_type": "execute_result",
          "data": {
            "text/plain": [
              "RandomForestClassifier(bootstrap=True, ccp_alpha=0.0, class_weight=None,\n",
              "                       criterion='gini', max_depth=30, max_features='auto',\n",
              "                       max_leaf_nodes=None, max_samples=None,\n",
              "                       min_impurity_decrease=0.0, min_impurity_split=None,\n",
              "                       min_samples_leaf=1, min_samples_split=2,\n",
              "                       min_weight_fraction_leaf=0.0, n_estimators=2000,\n",
              "                       n_jobs=None, oob_score=False, random_state=42, verbose=0,\n",
              "                       warm_start=False)"
            ]
          },
          "metadata": {
            "tags": []
          },
          "execution_count": 35
        }
      ]
    },
    {
      "cell_type": "code",
      "metadata": {
        "id": "r8TCvSiXBwZT",
        "colab_type": "code",
        "colab": {}
      },
      "source": [
        "predictions = rf.predict(X_test)"
      ],
      "execution_count": 0,
      "outputs": []
    },
    {
      "cell_type": "code",
      "metadata": {
        "id": "5us5lWjlB9Fl",
        "colab_type": "code",
        "colab": {
          "base_uri": "https://localhost:8080/",
          "height": 204
        },
        "outputId": "6980742f-2da5-42af-b741-283286f52835"
      },
      "source": [
        "from sklearn.metrics import classification_report\n",
        "from sklearn.metrics import confusion_matrix\n",
        "\n",
        "print(classification_report(Y_test, predictions))\n",
        "print(confusion_matrix(Y_test, predictions))"
      ],
      "execution_count": 37,
      "outputs": [
        {
          "output_type": "stream",
          "text": [
            "              precision    recall  f1-score   support\n",
            "\n",
            "           0       0.90      0.82      0.85      1742\n",
            "           1       0.82      0.90      0.86      1607\n",
            "\n",
            "    accuracy                           0.86      3349\n",
            "   macro avg       0.86      0.86      0.86      3349\n",
            "weighted avg       0.86      0.86      0.86      3349\n",
            "\n",
            "[[1424  318]\n",
            " [ 166 1441]]\n"
          ],
          "name": "stdout"
        }
      ]
    },
    {
      "cell_type": "code",
      "metadata": {
        "id": "soT4x_gUCLdc",
        "colab_type": "code",
        "colab": {}
      },
      "source": [
        "from sklearn.metrics import roc_curve\n",
        "from sklearn.metrics import roc_auc_score"
      ],
      "execution_count": 0,
      "outputs": []
    },
    {
      "cell_type": "code",
      "metadata": {
        "id": "90CnfS5wHJhp",
        "colab_type": "code",
        "colab": {
          "base_uri": "https://localhost:8080/",
          "height": 268
        },
        "outputId": "83cc66d9-d059-4ce5-b02f-84b6bd684548"
      },
      "source": [
        "from sklearn import metrics\n",
        "y_pred_proba = rf.predict_proba(X_test)[::,1]\n",
        "fpr, tpr, _ = metrics.roc_curve(Y_test,  y_pred_proba)\n",
        "auc = metrics.roc_auc_score(Y_test, y_pred_proba)\n",
        "plt.plot(fpr,tpr,label=\"data 1, auc=\"+str(auc))\n",
        "plt.legend(loc=4)\n",
        "plt.show()"
      ],
      "execution_count": 43,
      "outputs": [
        {
          "output_type": "display_data",
          "data": {
            "image/png": "[encoded data removed]",
            "text/plain": [
              "<Figure size 432x288 with 1 Axes>"
            ]
          },
          "metadata": {
            "tags": []
          }
        }
      ]
    },
    {
      "cell_type": "code",
      "metadata": {
        "id": "lQgHYtk4D9r4",
        "colab_type": "code",
        "colab": {
          "base_uri": "https://localhost:8080/",
          "height": 34
        },
        "outputId": "69261cb7-f8e2-4334-9e1c-f71234a58146"
      },
      "source": [
        "print(\"Area under the curve:\", round(auc,2))"
      ],
      "execution_count": 45,
      "outputs": [
        {
          "output_type": "stream",
          "text": [
            "Area under the curve: 0.92\n"
          ],
          "name": "stdout"
        }
      ]
    }
  ]
}